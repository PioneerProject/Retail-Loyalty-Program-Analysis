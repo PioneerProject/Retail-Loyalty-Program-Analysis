{
 "cells": [
  {
   "cell_type": "markdown",
   "id": "20189587",
   "metadata": {},
   "source": [
    "# Проект: \"Ритейл — Анализ программы лояльности\""
   ]
  },
  {
   "cell_type": "markdown",
   "id": "38095686",
   "metadata": {},
   "source": [
    "**Цель проведения проекта:**\\\n",
    "Изучить все собранные данные по продажам за период с 01.12.2016 8:26 по 28.02.2017 17:44, и определить эффективность внедренной программы лояльности. Показатели для оценки программы необходимо выбрать самостоятельно."
   ]
  },
  {
   "cell_type": "markdown",
   "id": "fab43a75",
   "metadata": {},
   "source": [
    "**Задачи проекта:**\n",
    "1.\tПроизвести декомпозицию задач.\n",
    "2.\tИзучить полученные данные.\n",
    "3.\tПровести предобработку данных.\n",
    "4.\tПровести исследовательский анализ данных.\n",
    "5.\tОпределить метрики для оценки бизнес показателей и провести их анализ.\n",
    "6.\tСформулировать вывод об эффективности программы лояльности.\n",
    "    - Если программа окажется эффективной, то предложить способы повышения ее эффективности и обосновать внедрение других программ;\n",
    "    - Если программа окажется не эффективной, то предложить каких еще клиентов стоит подключить к программе лояльности.\n",
    "7.\tСформулировать и проверить статистические гипотезы\n",
    "8.\tПодготовить презентацию.\n"
   ]
  },
  {
   "cell_type": "markdown",
   "id": "c5940113",
   "metadata": {},
   "source": [
    "## План проведения проекта:\n",
    "\n",
    "1.\tЗагрузка и знакомство с данными\\\n",
    "    1.1 Подключить необходимые библиотеки\\\n",
    "    1.2 Загрузить данные из полученных файлов формата .csv\\\n",
    "    1.3 Обзор датасетов\\\n",
    "    1.3.1 Обзор первых десяти строк датасета retail_dataset\\\n",
    "    1.3.2 Обзор общей информации датасета retail_dataset\\\n",
    "    1.3.3 Обзор статистических данных retail_dataset\\\n",
    "    1.3.4 Обзор первых десяти строк датасета product_codes\\\n",
    "    1.3.5 Обзор общей статистической информации датасета product_codes\n",
    "    \n",
    "2.\tПредобработка данных\\\n",
    "    2.1 Поиск и обработка явных и неявных дубликатов в product_codes\\\n",
    "    2.2 Изменение форматов значений в retail_dataset\\\n",
    "    2.3 Объединение двух датасетов\\\n",
    "    2.4 Приведение значений к формату правил хорошего тона\\\n",
    "    2.5 Поиск, обзор и удаление явных дубликатов\\\n",
    "    2.6 Заполнение пропусков\\\n",
    "    2.7 Обзор значений в столбце с данными о количестве товара (quantity)\\\n",
    "    2.8 Проверка и обработка аномальных значений количества покупок (quantity)\\\n",
    "    2.9 Добавление значений месяца формирования чека\\\n",
    "    2.10 Расчет суммы покупки\\\n",
    "    2.11 Выводы по разделу\\\n",
    "    \n",
    "    \n",
    "3.\tИсследовательский анализ данных\\\n",
    "    3.1 Обзор периода исследования\\\n",
    "    3.2 Обзор уникальных значений магазинов\\\n",
    "    3.3 Обзор уникальных значений программ лояльности\\\n",
    "    3.2 Количество покупателей в разрезе категорий по признаку участия в программе лояльности\\\n",
    "    3.3 Обзор суммы покупок в разрезе категорий покупателей по признаку участия в программе лояльности\\\n",
    "    3.4 Количество товаров в покупках каждой из категории покупателей\\\n",
    "    3.5 Рейтинг популярности товаров по каждой категории покупателей\\\n",
    "    3.6 Выводы по разделу\n",
    "    \n",
    "4.\tРабота с метриками и бизнес-показателями\\\n",
    "    4.1 Рассчет среднего чека покупателей в разрезе категорий по признаку участия в программе лояльности\\\n",
    "    4.2 Рассчет среднего количества покупателей в день по признаку участия в программе лояльности\\\n",
    "    4.3 Рассчет пожизненной ценности клиента LTV в зависимости от участия в программе лояльности\\\n",
    "    4.3.1 Формирование профилей покупателей\\\n",
    "    4.3.2 Формирования продаж в разрезе покупателей\\\n",
    "    4.3.3 Формирование функции для расчтеа LTV\\\n",
    "    4.3.4 Ввод начальных расчетных параметров\\\n",
    "    4.3.5 Вызов функции расчета LTV\\\n",
    "    4.3.6 Построение графиков LTV и динамики LTV покупателей\\\n",
    "    4.4 Выводы по разделу\n",
    "    \n",
    "5.\tПроверка гипотез\\\n",
    "    5.1 Средний чек участников программы лояльности выше, чем у остальных покупателей\\\n",
    "    5.2 Среднее количество купленного товара у посетителей одинаково, не зависимо от участия в программе лояльности\\\n",
    "    5.3 Выводы по разделу\n",
    "    \n",
    "6.\tВыводы и рекомендации для заказчика"
   ]
  },
  {
   "cell_type": "markdown",
   "id": "d4fecf28",
   "metadata": {},
   "source": [
    "## Загрузка и ознакомление с данными"
   ]
  },
  {
   "cell_type": "markdown",
   "id": "cbb01cdc",
   "metadata": {},
   "source": [
    "### Подключение необходимых библиотек"
   ]
  },
  {
   "cell_type": "code",
   "execution_count": 1,
   "id": "d7d2ee1c",
   "metadata": {},
   "outputs": [],
   "source": [
    "import pandas as pd\n",
    "import numpy as np\n",
    "import seaborn as sns\n",
    "import matplotlib.pyplot as plt\n",
    "%matplotlib inline\n",
    "from datetime import datetime, timedelta\n",
    "from scipy import stats as st\n",
    "from scipy.stats import mannwhitneyu"
   ]
  },
  {
   "cell_type": "markdown",
   "id": "1c3c4ada",
   "metadata": {},
   "source": [
    "### Загрузка данных из полученных файлов формата .csv"
   ]
  },
  {
   "cell_type": "code",
   "execution_count": 2,
   "id": "c0e9ad10",
   "metadata": {},
   "outputs": [],
   "source": [
    "# Используем метод try except на случай раличий в размешении исходных данных\n",
    "try:\n",
    "    retail_dataset = pd.read_csv('./datasets/retail_dataset.csv')\n",
    "    product_codes=pd.read_csv('./datasets/product_codes.csv')\n",
    "except:\n",
    "    retail_dataset = pd.read_csv('/datasets/retail_dataset.csv')\n",
    "    product_codes=pd.read_csv('/datasets/product_codes.csv')"
   ]
  },
  {
   "cell_type": "markdown",
   "id": "6973ca27",
   "metadata": {},
   "source": [
    "Полученные данные из файлов retail_dataset.csv и product_codes.csv были подгружены в следующие датасеты:\n",
    "- retail_dataset.csv выгружен в датасет retail_dataset и содержит данные о продажах товаров в разрезе покупателей, магазинах и статусе участия в программе лояльности покупателей\n",
    "- product_codes.csv выгружен в датасет product_codes и содержит данные о товарах и их стоимости"
   ]
  },
  {
   "cell_type": "markdown",
   "id": "bc260d74",
   "metadata": {},
   "source": [
    "### Обзор датасетов"
   ]
  },
  {
   "cell_type": "markdown",
   "id": "9ee1868e",
   "metadata": {},
   "source": [
    "#### Обзор первых десяти строк датасета retail_dataset"
   ]
  },
  {
   "cell_type": "code",
   "execution_count": 3,
   "id": "844e89b1",
   "metadata": {},
   "outputs": [
    {
     "data": {
      "text/html": [
       "<div>\n",
       "<style scoped>\n",
       "    .dataframe tbody tr th:only-of-type {\n",
       "        vertical-align: middle;\n",
       "    }\n",
       "\n",
       "    .dataframe tbody tr th {\n",
       "        vertical-align: top;\n",
       "    }\n",
       "\n",
       "    .dataframe thead th {\n",
       "        text-align: right;\n",
       "    }\n",
       "</style>\n",
       "<table border=\"1\" class=\"dataframe\">\n",
       "  <thead>\n",
       "    <tr style=\"text-align: right;\">\n",
       "      <th></th>\n",
       "      <th>purchaseid</th>\n",
       "      <th>item_ID</th>\n",
       "      <th>Quantity</th>\n",
       "      <th>purchasedate</th>\n",
       "      <th>CustomerID</th>\n",
       "      <th>ShopID</th>\n",
       "      <th>loyalty_program</th>\n",
       "    </tr>\n",
       "  </thead>\n",
       "  <tbody>\n",
       "    <tr>\n",
       "      <th>0</th>\n",
       "      <td>538280</td>\n",
       "      <td>21873</td>\n",
       "      <td>11</td>\n",
       "      <td>2016-12-10 12:50:00</td>\n",
       "      <td>18427.0</td>\n",
       "      <td>Shop 0</td>\n",
       "      <td>0.0</td>\n",
       "    </tr>\n",
       "    <tr>\n",
       "      <th>1</th>\n",
       "      <td>538862</td>\n",
       "      <td>22195</td>\n",
       "      <td>0</td>\n",
       "      <td>2016-12-14 14:11:00</td>\n",
       "      <td>22389.0</td>\n",
       "      <td>Shop 0</td>\n",
       "      <td>1.0</td>\n",
       "    </tr>\n",
       "    <tr>\n",
       "      <th>2</th>\n",
       "      <td>538855</td>\n",
       "      <td>21239</td>\n",
       "      <td>7</td>\n",
       "      <td>2016-12-14 13:50:00</td>\n",
       "      <td>22182.0</td>\n",
       "      <td>Shop 0</td>\n",
       "      <td>1.0</td>\n",
       "    </tr>\n",
       "    <tr>\n",
       "      <th>3</th>\n",
       "      <td>543543</td>\n",
       "      <td>22271</td>\n",
       "      <td>0</td>\n",
       "      <td>2017-02-09 15:33:00</td>\n",
       "      <td>23522.0</td>\n",
       "      <td>Shop 0</td>\n",
       "      <td>1.0</td>\n",
       "    </tr>\n",
       "    <tr>\n",
       "      <th>4</th>\n",
       "      <td>543812</td>\n",
       "      <td>79321</td>\n",
       "      <td>0</td>\n",
       "      <td>2017-02-13 14:40:00</td>\n",
       "      <td>23151.0</td>\n",
       "      <td>Shop 0</td>\n",
       "      <td>1.0</td>\n",
       "    </tr>\n",
       "    <tr>\n",
       "      <th>5</th>\n",
       "      <td>538379</td>\n",
       "      <td>22965</td>\n",
       "      <td>0</td>\n",
       "      <td>2016-12-12 11:26:00</td>\n",
       "      <td>22805.0</td>\n",
       "      <td>Shop 0</td>\n",
       "      <td>1.0</td>\n",
       "    </tr>\n",
       "    <tr>\n",
       "      <th>6</th>\n",
       "      <td>540468</td>\n",
       "      <td>22189</td>\n",
       "      <td>0</td>\n",
       "      <td>2017-01-07 13:55:00</td>\n",
       "      <td>NaN</td>\n",
       "      <td>Shop 0</td>\n",
       "      <td>0.0</td>\n",
       "    </tr>\n",
       "    <tr>\n",
       "      <th>7</th>\n",
       "      <td>541424</td>\n",
       "      <td>79321</td>\n",
       "      <td>1</td>\n",
       "      <td>2017-01-17 17:57:00</td>\n",
       "      <td>NaN</td>\n",
       "      <td>Shop 0</td>\n",
       "      <td>0.0</td>\n",
       "    </tr>\n",
       "    <tr>\n",
       "      <th>8</th>\n",
       "      <td>538883</td>\n",
       "      <td>22891</td>\n",
       "      <td>0</td>\n",
       "      <td>2016-12-14 15:56:00</td>\n",
       "      <td>NaN</td>\n",
       "      <td>Shop 0</td>\n",
       "      <td>0.0</td>\n",
       "    </tr>\n",
       "    <tr>\n",
       "      <th>9</th>\n",
       "      <td>539501</td>\n",
       "      <td>22372</td>\n",
       "      <td>0</td>\n",
       "      <td>2016-12-20 11:08:00</td>\n",
       "      <td>22764.0</td>\n",
       "      <td>Shop 0</td>\n",
       "      <td>1.0</td>\n",
       "    </tr>\n",
       "  </tbody>\n",
       "</table>\n",
       "</div>"
      ],
      "text/plain": [
       "  purchaseid item_ID  Quantity         purchasedate  CustomerID  ShopID  \\\n",
       "0     538280   21873        11  2016-12-10 12:50:00     18427.0  Shop 0   \n",
       "1     538862   22195         0  2016-12-14 14:11:00     22389.0  Shop 0   \n",
       "2     538855   21239         7  2016-12-14 13:50:00     22182.0  Shop 0   \n",
       "3     543543   22271         0  2017-02-09 15:33:00     23522.0  Shop 0   \n",
       "4     543812   79321         0  2017-02-13 14:40:00     23151.0  Shop 0   \n",
       "5     538379   22965         0  2016-12-12 11:26:00     22805.0  Shop 0   \n",
       "6     540468   22189         0  2017-01-07 13:55:00         NaN  Shop 0   \n",
       "7     541424   79321         1  2017-01-17 17:57:00         NaN  Shop 0   \n",
       "8     538883   22891         0  2016-12-14 15:56:00         NaN  Shop 0   \n",
       "9     539501   22372         0  2016-12-20 11:08:00     22764.0  Shop 0   \n",
       "\n",
       "   loyalty_program  \n",
       "0              0.0  \n",
       "1              1.0  \n",
       "2              1.0  \n",
       "3              1.0  \n",
       "4              1.0  \n",
       "5              1.0  \n",
       "6              0.0  \n",
       "7              0.0  \n",
       "8              0.0  \n",
       "9              1.0  "
      ]
     },
     "execution_count": 3,
     "metadata": {},
     "output_type": "execute_result"
    }
   ],
   "source": [
    "retail_dataset.head(10)"
   ]
  },
  {
   "cell_type": "markdown",
   "id": "762f8d81",
   "metadata": {},
   "source": [
    "Датасет содержит следующие значения стобцов данных:\n",
    "\n",
    "- `purchaseId` — id чека;\n",
    "- `item_ID` — id товара;\n",
    "- `purchasedate` — дата покупки;\n",
    "- `Quantity` — количество товара;\n",
    "- `CustomerID` — id покупателя;\n",
    "- `ShopID` — id магазина;\n",
    "- `loyalty_program` — участвует ли покупатель в программе лояльности;"
   ]
  },
  {
   "cell_type": "markdown",
   "id": "46d9709a",
   "metadata": {},
   "source": [
    "#### Обзор общей информации датасета retail_dataset"
   ]
  },
  {
   "cell_type": "code",
   "execution_count": 4,
   "id": "69d0f265",
   "metadata": {
    "scrolled": false
   },
   "outputs": [
    {
     "name": "stdout",
     "output_type": "stream",
     "text": [
      "<class 'pandas.core.frame.DataFrame'>\n",
      "RangeIndex: 105335 entries, 0 to 105334\n",
      "Data columns (total 7 columns):\n",
      " #   Column           Non-Null Count   Dtype  \n",
      "---  ------           --------------   -----  \n",
      " 0   purchaseid       105335 non-null  object \n",
      " 1   item_ID          105335 non-null  object \n",
      " 2   Quantity         105335 non-null  int64  \n",
      " 3   purchasedate     105335 non-null  object \n",
      " 4   CustomerID       69125 non-null   float64\n",
      " 5   ShopID           105335 non-null  object \n",
      " 6   loyalty_program  105335 non-null  float64\n",
      "dtypes: float64(2), int64(1), object(4)\n",
      "memory usage: 5.6+ MB\n"
     ]
    }
   ],
   "source": [
    "retail_dataset.info()"
   ]
  },
  {
   "cell_type": "markdown",
   "id": "29a1babb",
   "metadata": {},
   "source": [
    "Из общих сведений о датасете можно сделать следующие выводы:\n",
    "1. Всего 7 столбцов вместе с индексным\n",
    "2. Наименования столбцов не соответствуют \"правилам хорошего тона\" при оформлении\n",
    "3. Датасет содержит 10535 строк данных\n",
    "4. В столбце CustomerID содержатся пропуски значений\n",
    "5. Формат данных в столбце purchasedate не соответствует формату даты и времени\n",
    "6. Формат данных в столбце CustomerID не соответствует назначению и требует переформатирования\n",
    "7. Формат столбца loyalty_program целесообразней привести к формату int64"
   ]
  },
  {
   "cell_type": "markdown",
   "id": "ce35261b",
   "metadata": {},
   "source": [
    "####  Обзор статистических данных retail_dataset"
   ]
  },
  {
   "cell_type": "code",
   "execution_count": 5,
   "id": "44ac07ab",
   "metadata": {
    "scrolled": false
   },
   "outputs": [
    {
     "data": {
      "text/html": [
       "<div>\n",
       "<style scoped>\n",
       "    .dataframe tbody tr th:only-of-type {\n",
       "        vertical-align: middle;\n",
       "    }\n",
       "\n",
       "    .dataframe tbody tr th {\n",
       "        vertical-align: top;\n",
       "    }\n",
       "\n",
       "    .dataframe thead th {\n",
       "        text-align: right;\n",
       "    }\n",
       "</style>\n",
       "<table border=\"1\" class=\"dataframe\">\n",
       "  <thead>\n",
       "    <tr style=\"text-align: right;\">\n",
       "      <th></th>\n",
       "      <th>Quantity</th>\n",
       "      <th>CustomerID</th>\n",
       "      <th>loyalty_program</th>\n",
       "    </tr>\n",
       "  </thead>\n",
       "  <tbody>\n",
       "    <tr>\n",
       "      <th>count</th>\n",
       "      <td>105335.000000</td>\n",
       "      <td>69125.000000</td>\n",
       "      <td>105335.000000</td>\n",
       "    </tr>\n",
       "    <tr>\n",
       "      <th>mean</th>\n",
       "      <td>7.821218</td>\n",
       "      <td>21019.302047</td>\n",
       "      <td>0.226345</td>\n",
       "    </tr>\n",
       "    <tr>\n",
       "      <th>std</th>\n",
       "      <td>327.946695</td>\n",
       "      <td>1765.444679</td>\n",
       "      <td>0.418467</td>\n",
       "    </tr>\n",
       "    <tr>\n",
       "      <th>min</th>\n",
       "      <td>-74216.000000</td>\n",
       "      <td>18025.000000</td>\n",
       "      <td>0.000000</td>\n",
       "    </tr>\n",
       "    <tr>\n",
       "      <th>25%</th>\n",
       "      <td>0.000000</td>\n",
       "      <td>19544.000000</td>\n",
       "      <td>0.000000</td>\n",
       "    </tr>\n",
       "    <tr>\n",
       "      <th>50%</th>\n",
       "      <td>2.000000</td>\n",
       "      <td>20990.000000</td>\n",
       "      <td>0.000000</td>\n",
       "    </tr>\n",
       "    <tr>\n",
       "      <th>75%</th>\n",
       "      <td>7.000000</td>\n",
       "      <td>22659.000000</td>\n",
       "      <td>0.000000</td>\n",
       "    </tr>\n",
       "    <tr>\n",
       "      <th>max</th>\n",
       "      <td>74214.000000</td>\n",
       "      <td>23962.000000</td>\n",
       "      <td>1.000000</td>\n",
       "    </tr>\n",
       "  </tbody>\n",
       "</table>\n",
       "</div>"
      ],
      "text/plain": [
       "            Quantity    CustomerID  loyalty_program\n",
       "count  105335.000000  69125.000000    105335.000000\n",
       "mean        7.821218  21019.302047         0.226345\n",
       "std       327.946695   1765.444679         0.418467\n",
       "min    -74216.000000  18025.000000         0.000000\n",
       "25%         0.000000  19544.000000         0.000000\n",
       "50%         2.000000  20990.000000         0.000000\n",
       "75%         7.000000  22659.000000         0.000000\n",
       "max     74214.000000  23962.000000         1.000000"
      ]
     },
     "execution_count": 5,
     "metadata": {},
     "output_type": "execute_result"
    }
   ],
   "source": [
    "retail_dataset.describe()"
   ]
  },
  {
   "cell_type": "markdown",
   "id": "210d234f",
   "metadata": {},
   "source": [
    "Статистический анализ данных столбца Quantity говорит о большом разбросе значений, что требует детального анализа на выбросы. Столбец CustomerID в дальнейшем будет переведен в формат object. Столбец loyalty_program имеет только два значения 0 и 1, что определяет участие покупателя в программе лояльности или нет."
   ]
  },
  {
   "cell_type": "markdown",
   "id": "3e9b3aa7",
   "metadata": {},
   "source": [
    "#### Обзор первых десяти строк датасета product_codes"
   ]
  },
  {
   "cell_type": "code",
   "execution_count": 6,
   "id": "eea84393",
   "metadata": {},
   "outputs": [
    {
     "data": {
      "text/html": [
       "<div>\n",
       "<style scoped>\n",
       "    .dataframe tbody tr th:only-of-type {\n",
       "        vertical-align: middle;\n",
       "    }\n",
       "\n",
       "    .dataframe tbody tr th {\n",
       "        vertical-align: top;\n",
       "    }\n",
       "\n",
       "    .dataframe thead th {\n",
       "        text-align: right;\n",
       "    }\n",
       "</style>\n",
       "<table border=\"1\" class=\"dataframe\">\n",
       "  <thead>\n",
       "    <tr style=\"text-align: right;\">\n",
       "      <th></th>\n",
       "      <th>productID</th>\n",
       "      <th>price_per_one</th>\n",
       "    </tr>\n",
       "  </thead>\n",
       "  <tbody>\n",
       "    <tr>\n",
       "      <th>0</th>\n",
       "      <td>85123A</td>\n",
       "      <td>2.55</td>\n",
       "    </tr>\n",
       "    <tr>\n",
       "      <th>1</th>\n",
       "      <td>71053</td>\n",
       "      <td>3.39</td>\n",
       "    </tr>\n",
       "    <tr>\n",
       "      <th>2</th>\n",
       "      <td>84406B</td>\n",
       "      <td>2.75</td>\n",
       "    </tr>\n",
       "    <tr>\n",
       "      <th>3</th>\n",
       "      <td>84029G</td>\n",
       "      <td>3.39</td>\n",
       "    </tr>\n",
       "    <tr>\n",
       "      <th>4</th>\n",
       "      <td>84029E</td>\n",
       "      <td>3.39</td>\n",
       "    </tr>\n",
       "    <tr>\n",
       "      <th>5</th>\n",
       "      <td>22752</td>\n",
       "      <td>7.65</td>\n",
       "    </tr>\n",
       "    <tr>\n",
       "      <th>6</th>\n",
       "      <td>21730</td>\n",
       "      <td>4.25</td>\n",
       "    </tr>\n",
       "    <tr>\n",
       "      <th>7</th>\n",
       "      <td>22633</td>\n",
       "      <td>1.85</td>\n",
       "    </tr>\n",
       "    <tr>\n",
       "      <th>8</th>\n",
       "      <td>22632</td>\n",
       "      <td>1.85</td>\n",
       "    </tr>\n",
       "    <tr>\n",
       "      <th>9</th>\n",
       "      <td>84879</td>\n",
       "      <td>1.69</td>\n",
       "    </tr>\n",
       "  </tbody>\n",
       "</table>\n",
       "</div>"
      ],
      "text/plain": [
       "  productID  price_per_one\n",
       "0    85123A           2.55\n",
       "1     71053           3.39\n",
       "2    84406B           2.75\n",
       "3    84029G           3.39\n",
       "4    84029E           3.39\n",
       "5     22752           7.65\n",
       "6     21730           4.25\n",
       "7     22633           1.85\n",
       "8     22632           1.85\n",
       "9     84879           1.69"
      ]
     },
     "execution_count": 6,
     "metadata": {},
     "output_type": "execute_result"
    }
   ],
   "source": [
    "product_codes.head(10)"
   ]
  },
  {
   "cell_type": "markdown",
   "id": "2c70b8e4",
   "metadata": {},
   "source": [
    "Датасет содержит следующие данные:\n",
    "- `productID` — id товара;\n",
    "- `price_per_one` — стоимость одной единицы товара;"
   ]
  },
  {
   "cell_type": "markdown",
   "id": "0e623e56",
   "metadata": {},
   "source": [
    "#### Обзор общей информации датасета product_codes"
   ]
  },
  {
   "cell_type": "code",
   "execution_count": 7,
   "id": "5ad010e1",
   "metadata": {},
   "outputs": [
    {
     "name": "stdout",
     "output_type": "stream",
     "text": [
      "<class 'pandas.core.frame.DataFrame'>\n",
      "RangeIndex: 9969 entries, 0 to 9968\n",
      "Data columns (total 2 columns):\n",
      " #   Column         Non-Null Count  Dtype  \n",
      "---  ------         --------------  -----  \n",
      " 0   productID      9969 non-null   object \n",
      " 1   price_per_one  9969 non-null   float64\n",
      "dtypes: float64(1), object(1)\n",
      "memory usage: 155.9+ KB\n"
     ]
    }
   ],
   "source": [
    "product_codes.info()"
   ]
  },
  {
   "cell_type": "markdown",
   "id": "c531ed36",
   "metadata": {},
   "source": [
    "При обзоре можно сделать следующие заключения:\n",
    "1. Датасет содержит два столбца с данными\n",
    "2. Датасет содержит 9969 строк данных\n",
    "3. Пропуски в данных не обнаружены\n",
    "4. Наименование столбцов привести к соотвестивию правилу хорошего тона\n",
    "5. Тип данных соответствует назначению"
   ]
  },
  {
   "cell_type": "markdown",
   "id": "9291e3f9",
   "metadata": {},
   "source": [
    "#### Обзор общей статистической информации датасета product_codes"
   ]
  },
  {
   "cell_type": "code",
   "execution_count": 8,
   "id": "e440b520",
   "metadata": {},
   "outputs": [
    {
     "data": {
      "text/html": [
       "<div>\n",
       "<style scoped>\n",
       "    .dataframe tbody tr th:only-of-type {\n",
       "        vertical-align: middle;\n",
       "    }\n",
       "\n",
       "    .dataframe tbody tr th {\n",
       "        vertical-align: top;\n",
       "    }\n",
       "\n",
       "    .dataframe thead th {\n",
       "        text-align: right;\n",
       "    }\n",
       "</style>\n",
       "<table border=\"1\" class=\"dataframe\">\n",
       "  <thead>\n",
       "    <tr style=\"text-align: right;\">\n",
       "      <th></th>\n",
       "      <th>price_per_one</th>\n",
       "    </tr>\n",
       "  </thead>\n",
       "  <tbody>\n",
       "    <tr>\n",
       "      <th>count</th>\n",
       "      <td>9969.000000</td>\n",
       "    </tr>\n",
       "    <tr>\n",
       "      <th>mean</th>\n",
       "      <td>19.503697</td>\n",
       "    </tr>\n",
       "    <tr>\n",
       "      <th>std</th>\n",
       "      <td>330.880754</td>\n",
       "    </tr>\n",
       "    <tr>\n",
       "      <th>min</th>\n",
       "      <td>0.000000</td>\n",
       "    </tr>\n",
       "    <tr>\n",
       "      <th>25%</th>\n",
       "      <td>1.250000</td>\n",
       "    </tr>\n",
       "    <tr>\n",
       "      <th>50%</th>\n",
       "      <td>2.550000</td>\n",
       "    </tr>\n",
       "    <tr>\n",
       "      <th>75%</th>\n",
       "      <td>5.510000</td>\n",
       "    </tr>\n",
       "    <tr>\n",
       "      <th>max</th>\n",
       "      <td>16888.020000</td>\n",
       "    </tr>\n",
       "  </tbody>\n",
       "</table>\n",
       "</div>"
      ],
      "text/plain": [
       "       price_per_one\n",
       "count    9969.000000\n",
       "mean       19.503697\n",
       "std       330.880754\n",
       "min         0.000000\n",
       "25%         1.250000\n",
       "50%         2.550000\n",
       "75%         5.510000\n",
       "max     16888.020000"
      ]
     },
     "execution_count": 8,
     "metadata": {},
     "output_type": "execute_result"
    }
   ],
   "source": [
    "product_codes.describe()"
   ]
  },
  {
   "cell_type": "markdown",
   "id": "8b6b8340",
   "metadata": {},
   "source": [
    "Статистические сведения цифровых данных показывает большой разброс значений, что требует дополнительного изучения и обработки"
   ]
  },
  {
   "cell_type": "markdown",
   "id": "ec4ebea2",
   "metadata": {},
   "source": [
    "## Предобработка данных"
   ]
  },
  {
   "cell_type": "markdown",
   "id": "ddd056e5",
   "metadata": {},
   "source": [
    "### Поиск и обработка явных и неявных дубликатов в product_codes"
   ]
  },
  {
   "cell_type": "markdown",
   "id": "59cd3155",
   "metadata": {},
   "source": [
    "Т.к. в предыдущем разделе при обзоре данных не было обнаружено пропусков, а так же типы данных соответствуют назначению, в данном разделе произведем только поиск и обработку явных и неявных дубликатов. Приведение наименований столбцов к правилам хорошего тона произведем после объединения датасета, с целью экономии строк кода.\n",
    "Для начала посчитаем количество уникальных значений товаров"
   ]
  },
  {
   "cell_type": "markdown",
   "id": "23327430",
   "metadata": {},
   "source": [
    "Для начала посчитаем количество уникальных значений товаров"
   ]
  },
  {
   "cell_type": "code",
   "execution_count": 9,
   "id": "c2c50f5d",
   "metadata": {},
   "outputs": [
    {
     "data": {
      "text/plain": [
       "3159"
      ]
     },
     "execution_count": 9,
     "metadata": {},
     "output_type": "execute_result"
    }
   ],
   "source": [
    "# По данным из столбца 'productID' методом 'nunique' подсчитаем уникальные значения\n",
    "product_codes['productID'].nunique()"
   ]
  },
  {
   "cell_type": "markdown",
   "id": "c7a0afc2",
   "metadata": {},
   "source": [
    "Таким образом из 9969 строк датасета только 3159 являются уникальными. Это говорит о том, что значения о товарах в датасете повторяются и необходимо избавиться от дубликатов, но перед этим изучить какие уникальные значения дубликатов имеют частые повторы. Для этого применим группировку данных, сделаем срез по повторяющимся значениям более одного повтора и отсортируем по уменьшению."
   ]
  },
  {
   "cell_type": "code",
   "execution_count": 10,
   "id": "c3c1f388",
   "metadata": {},
   "outputs": [
    {
     "data": {
      "text/html": [
       "<div>\n",
       "<style scoped>\n",
       "    .dataframe tbody tr th:only-of-type {\n",
       "        vertical-align: middle;\n",
       "    }\n",
       "\n",
       "    .dataframe tbody tr th {\n",
       "        vertical-align: top;\n",
       "    }\n",
       "\n",
       "    .dataframe thead th {\n",
       "        text-align: right;\n",
       "    }\n",
       "</style>\n",
       "<table border=\"1\" class=\"dataframe\">\n",
       "  <thead>\n",
       "    <tr style=\"text-align: right;\">\n",
       "      <th></th>\n",
       "      <th>productID</th>\n",
       "      <th>price_per_one</th>\n",
       "    </tr>\n",
       "  </thead>\n",
       "  <tbody>\n",
       "    <tr>\n",
       "      <th>3150</th>\n",
       "      <td>DOT</td>\n",
       "      <td>174</td>\n",
       "    </tr>\n",
       "    <tr>\n",
       "      <th>3151</th>\n",
       "      <td>M</td>\n",
       "      <td>59</td>\n",
       "    </tr>\n",
       "    <tr>\n",
       "      <th>3153</th>\n",
       "      <td>S</td>\n",
       "      <td>29</td>\n",
       "    </tr>\n",
       "    <tr>\n",
       "      <th>3152</th>\n",
       "      <td>POST</td>\n",
       "      <td>15</td>\n",
       "    </tr>\n",
       "    <tr>\n",
       "      <th>3139</th>\n",
       "      <td>D</td>\n",
       "      <td>13</td>\n",
       "    </tr>\n",
       "    <tr>\n",
       "      <th>...</th>\n",
       "      <td>...</td>\n",
       "      <td>...</td>\n",
       "    </tr>\n",
       "    <tr>\n",
       "      <th>729</th>\n",
       "      <td>21705</td>\n",
       "      <td>2</td>\n",
       "    </tr>\n",
       "    <tr>\n",
       "      <th>2345</th>\n",
       "      <td>84584</td>\n",
       "      <td>2</td>\n",
       "    </tr>\n",
       "    <tr>\n",
       "      <th>723</th>\n",
       "      <td>21695</td>\n",
       "      <td>2</td>\n",
       "    </tr>\n",
       "    <tr>\n",
       "      <th>720</th>\n",
       "      <td>21692</td>\n",
       "      <td>2</td>\n",
       "    </tr>\n",
       "    <tr>\n",
       "      <th>3155</th>\n",
       "      <td>gift_0001_30</td>\n",
       "      <td>2</td>\n",
       "    </tr>\n",
       "  </tbody>\n",
       "</table>\n",
       "<p>2494 rows × 2 columns</p>\n",
       "</div>"
      ],
      "text/plain": [
       "         productID  price_per_one\n",
       "3150           DOT            174\n",
       "3151             M             59\n",
       "3153             S             29\n",
       "3152          POST             15\n",
       "3139             D             13\n",
       "...            ...            ...\n",
       "729          21705              2\n",
       "2345         84584              2\n",
       "723          21695              2\n",
       "720          21692              2\n",
       "3155  gift_0001_30              2\n",
       "\n",
       "[2494 rows x 2 columns]"
      ]
     },
     "execution_count": 10,
     "metadata": {},
     "output_type": "execute_result"
    }
   ],
   "source": [
    "# Используем метод 'groupby' в котором посчитаем количество повторов уникальных значений методом 'nuinque', после чего,\n",
    "# по полученной группировке сделаем срез методом 'query' и отсортируем методом 'sort_values' по убыванию значений повторов\n",
    "product_codes.groupby('productID', as_index=False).nunique()\\\n",
    "    .query('price_per_one > 1').sort_values(by='price_per_one', ascending=False)"
   ]
  },
  {
   "cell_type": "markdown",
   "id": "a2200755",
   "metadata": {},
   "source": [
    "По результатам полученного среза, при котором были выведены результаты фиксации уникального значения id продукта, более чем один раз. Т.о. в 2494 строках из 9969, дублирование цены происходит более одного раза, что само по себе некорректно в отрыве от даты.\\\n",
    "Посмотрим, сколько повторов значений цены у 5% датасета."
   ]
  },
  {
   "cell_type": "code",
   "execution_count": 11,
   "id": "3a3ae414",
   "metadata": {
    "scrolled": true
   },
   "outputs": [
    {
     "data": {
      "text/plain": [
       "6.0"
      ]
     },
     "execution_count": 11,
     "metadata": {},
     "output_type": "execute_result"
    }
   ],
   "source": [
    "# Используем функцию percentile с аргументом 95 (или 5% от общего количества) из библиотеки numpy \n",
    "# к столбцу 'price_per_one', полученному в результате группировки.\n",
    "np.percentile((product_codes.groupby('productID', as_index=False).nunique()['price_per_one']), 95)"
   ]
  },
  {
   "cell_type": "markdown",
   "id": "72d7093f",
   "metadata": {},
   "source": [
    "В 5% случаев, повтор цены происходит чаще 6-ти и более раз. Это еще раз говорит о том, что в данных много дубликатов, при этом значения могут иметь и не одинаковую цену. Проверим это:"
   ]
  },
  {
   "cell_type": "code",
   "execution_count": 12,
   "id": "0e98b515",
   "metadata": {},
   "outputs": [
    {
     "data": {
      "text/html": [
       "<div>\n",
       "<style scoped>\n",
       "    .dataframe tbody tr th:only-of-type {\n",
       "        vertical-align: middle;\n",
       "    }\n",
       "\n",
       "    .dataframe tbody tr th {\n",
       "        vertical-align: top;\n",
       "    }\n",
       "\n",
       "    .dataframe thead th {\n",
       "        text-align: right;\n",
       "    }\n",
       "</style>\n",
       "<table border=\"1\" class=\"dataframe\">\n",
       "  <thead>\n",
       "    <tr style=\"text-align: right;\">\n",
       "      <th></th>\n",
       "      <th>productID</th>\n",
       "      <th>min</th>\n",
       "      <th>mean</th>\n",
       "      <th>max</th>\n",
       "    </tr>\n",
       "  </thead>\n",
       "  <tbody>\n",
       "    <tr>\n",
       "      <th>0</th>\n",
       "      <td>AMAZONFEE</td>\n",
       "      <td>1.00</td>\n",
       "      <td>9268.762222</td>\n",
       "      <td>16888.02</td>\n",
       "    </tr>\n",
       "    <tr>\n",
       "      <th>1</th>\n",
       "      <td>M</td>\n",
       "      <td>0.19</td>\n",
       "      <td>253.765932</td>\n",
       "      <td>1715.85</td>\n",
       "    </tr>\n",
       "    <tr>\n",
       "      <th>2</th>\n",
       "      <td>BANK CHARGES</td>\n",
       "      <td>15.00</td>\n",
       "      <td>385.947500</td>\n",
       "      <td>1050.15</td>\n",
       "    </tr>\n",
       "    <tr>\n",
       "      <th>3</th>\n",
       "      <td>DOT</td>\n",
       "      <td>2.51</td>\n",
       "      <td>278.734425</td>\n",
       "      <td>950.99</td>\n",
       "    </tr>\n",
       "    <tr>\n",
       "      <th>4</th>\n",
       "      <td>22655</td>\n",
       "      <td>125.00</td>\n",
       "      <td>228.500000</td>\n",
       "      <td>295.00</td>\n",
       "    </tr>\n",
       "    <tr>\n",
       "      <th>...</th>\n",
       "      <td>...</td>\n",
       "      <td>...</td>\n",
       "      <td>...</td>\n",
       "      <td>...</td>\n",
       "    </tr>\n",
       "    <tr>\n",
       "      <th>3154</th>\n",
       "      <td>35951</td>\n",
       "      <td>0.00</td>\n",
       "      <td>0.000000</td>\n",
       "      <td>0.00</td>\n",
       "    </tr>\n",
       "    <tr>\n",
       "      <th>3155</th>\n",
       "      <td>72814</td>\n",
       "      <td>0.00</td>\n",
       "      <td>0.000000</td>\n",
       "      <td>0.00</td>\n",
       "    </tr>\n",
       "    <tr>\n",
       "      <th>3156</th>\n",
       "      <td>84612B</td>\n",
       "      <td>0.00</td>\n",
       "      <td>0.000000</td>\n",
       "      <td>0.00</td>\n",
       "    </tr>\n",
       "    <tr>\n",
       "      <th>3157</th>\n",
       "      <td>35969</td>\n",
       "      <td>0.00</td>\n",
       "      <td>0.000000</td>\n",
       "      <td>0.00</td>\n",
       "    </tr>\n",
       "    <tr>\n",
       "      <th>3158</th>\n",
       "      <td>84509F</td>\n",
       "      <td>0.00</td>\n",
       "      <td>0.000000</td>\n",
       "      <td>0.00</td>\n",
       "    </tr>\n",
       "  </tbody>\n",
       "</table>\n",
       "<p>3159 rows × 4 columns</p>\n",
       "</div>"
      ],
      "text/plain": [
       "         productID     min         mean       max\n",
       "0        AMAZONFEE    1.00  9268.762222  16888.02\n",
       "1                M    0.19   253.765932   1715.85\n",
       "2     BANK CHARGES   15.00   385.947500   1050.15\n",
       "3              DOT    2.51   278.734425    950.99\n",
       "4            22655  125.00   228.500000    295.00\n",
       "...            ...     ...          ...       ...\n",
       "3154         35951    0.00     0.000000      0.00\n",
       "3155         72814    0.00     0.000000      0.00\n",
       "3156        84612B    0.00     0.000000      0.00\n",
       "3157         35969    0.00     0.000000      0.00\n",
       "3158        84509F    0.00     0.000000      0.00\n",
       "\n",
       "[3159 rows x 4 columns]"
      ]
     },
     "execution_count": 12,
     "metadata": {},
     "output_type": "execute_result"
    }
   ],
   "source": [
    "# Сгруппируем данные по столбцу 'productID'. Используем метод 'agg' с аргументами 'min', 'mean', 'max' \n",
    "# для обзора разброса значений стоимости товара в столбце 'price_per_one'. После чего используем сортировку \n",
    "# по значениям в столбце max. И в заключении сделаем сбор индексов методом 'reset_index'\n",
    "product_codes.groupby('productID')['price_per_one']\\\n",
    "    .agg({'min', 'mean','max'})\\\n",
    "    .sort_values(by='max', ascending=False)\\\n",
    "    .reset_index()"
   ]
  },
  {
   "cell_type": "markdown",
   "id": "5af35789",
   "metadata": {},
   "source": [
    "Наше предположение было верное. Разброс значений цены в ряде случаев носит колоссальный характер. Различие в ценах может достигать 16888 раз, как видно их строки 0 по товару AMAZONFEE. Возможно в лог данных записывались все значения цены на один и тот же товар.\\\n",
    "В данном случае целесообразно привести все цены к медианному значению, что позволит в дальнейшем, боле менее корректно, рассчитать сумму покупки по чекам покупателей обеих когорт.\\\n",
    "Рассчитаем медианное значение цен по уникальным товарам и запишем их в переменную price.\n"
   ]
  },
  {
   "cell_type": "code",
   "execution_count": 13,
   "id": "209e9aab",
   "metadata": {},
   "outputs": [
    {
     "data": {
      "text/html": [
       "<div>\n",
       "<style scoped>\n",
       "    .dataframe tbody tr th:only-of-type {\n",
       "        vertical-align: middle;\n",
       "    }\n",
       "\n",
       "    .dataframe tbody tr th {\n",
       "        vertical-align: top;\n",
       "    }\n",
       "\n",
       "    .dataframe thead th {\n",
       "        text-align: right;\n",
       "    }\n",
       "</style>\n",
       "<table border=\"1\" class=\"dataframe\">\n",
       "  <thead>\n",
       "    <tr style=\"text-align: right;\">\n",
       "      <th></th>\n",
       "      <th>productID</th>\n",
       "      <th>median</th>\n",
       "    </tr>\n",
       "  </thead>\n",
       "  <tbody>\n",
       "    <tr>\n",
       "      <th>0</th>\n",
       "      <td>AMAZONFEE</td>\n",
       "      <td>6706.71</td>\n",
       "    </tr>\n",
       "    <tr>\n",
       "      <th>1</th>\n",
       "      <td>22655</td>\n",
       "      <td>265.50</td>\n",
       "    </tr>\n",
       "    <tr>\n",
       "      <th>2</th>\n",
       "      <td>DOT</td>\n",
       "      <td>198.19</td>\n",
       "    </tr>\n",
       "    <tr>\n",
       "      <th>3</th>\n",
       "      <td>22826</td>\n",
       "      <td>175.00</td>\n",
       "    </tr>\n",
       "    <tr>\n",
       "      <th>4</th>\n",
       "      <td>22827</td>\n",
       "      <td>155.00</td>\n",
       "    </tr>\n",
       "    <tr>\n",
       "      <th>...</th>\n",
       "      <td>...</td>\n",
       "      <td>...</td>\n",
       "    </tr>\n",
       "    <tr>\n",
       "      <th>3154</th>\n",
       "      <td>84227</td>\n",
       "      <td>0.00</td>\n",
       "    </tr>\n",
       "    <tr>\n",
       "      <th>3155</th>\n",
       "      <td>85110</td>\n",
       "      <td>0.00</td>\n",
       "    </tr>\n",
       "    <tr>\n",
       "      <th>3156</th>\n",
       "      <td>84509F</td>\n",
       "      <td>0.00</td>\n",
       "    </tr>\n",
       "    <tr>\n",
       "      <th>3157</th>\n",
       "      <td>35991</td>\n",
       "      <td>0.00</td>\n",
       "    </tr>\n",
       "    <tr>\n",
       "      <th>3158</th>\n",
       "      <td>84247C</td>\n",
       "      <td>0.00</td>\n",
       "    </tr>\n",
       "  </tbody>\n",
       "</table>\n",
       "<p>3159 rows × 2 columns</p>\n",
       "</div>"
      ],
      "text/plain": [
       "      productID   median\n",
       "0     AMAZONFEE  6706.71\n",
       "1         22655   265.50\n",
       "2           DOT   198.19\n",
       "3         22826   175.00\n",
       "4         22827   155.00\n",
       "...         ...      ...\n",
       "3154      84227     0.00\n",
       "3155      85110     0.00\n",
       "3156     84509F     0.00\n",
       "3157      35991     0.00\n",
       "3158     84247C     0.00\n",
       "\n",
       "[3159 rows x 2 columns]"
      ]
     },
     "execution_count": 13,
     "metadata": {},
     "output_type": "execute_result"
    }
   ],
   "source": [
    "# В переменную 'price' запишем сгруппированные данные из 'product_codes' методом 'groupby' с применением метода agg \n",
    "# с аргументом 'median' и сортировкой по полученным значениям методом 'sort_values' с аргументом 'ascending=False'\n",
    "\n",
    "price = product_codes.groupby('productID')['price_per_one']\\\n",
    "    .agg({'median'})\\\n",
    "    .sort_values(by='median', ascending=False)\\\n",
    "    .reset_index()\n",
    "price"
   ]
  },
  {
   "cell_type": "code",
   "execution_count": 14,
   "id": "197239e8",
   "metadata": {},
   "outputs": [
    {
     "data": {
      "text/html": [
       "<div>\n",
       "<style scoped>\n",
       "    .dataframe tbody tr th:only-of-type {\n",
       "        vertical-align: middle;\n",
       "    }\n",
       "\n",
       "    .dataframe tbody tr th {\n",
       "        vertical-align: top;\n",
       "    }\n",
       "\n",
       "    .dataframe thead th {\n",
       "        text-align: right;\n",
       "    }\n",
       "</style>\n",
       "<table border=\"1\" class=\"dataframe\">\n",
       "  <thead>\n",
       "    <tr style=\"text-align: right;\">\n",
       "      <th></th>\n",
       "      <th>item_ID</th>\n",
       "      <th>price_per_one</th>\n",
       "    </tr>\n",
       "  </thead>\n",
       "  <tbody>\n",
       "    <tr>\n",
       "      <th>0</th>\n",
       "      <td>AMAZONFEE</td>\n",
       "      <td>6706.71</td>\n",
       "    </tr>\n",
       "    <tr>\n",
       "      <th>1</th>\n",
       "      <td>22655</td>\n",
       "      <td>265.50</td>\n",
       "    </tr>\n",
       "    <tr>\n",
       "      <th>2</th>\n",
       "      <td>DOT</td>\n",
       "      <td>198.19</td>\n",
       "    </tr>\n",
       "    <tr>\n",
       "      <th>3</th>\n",
       "      <td>22826</td>\n",
       "      <td>175.00</td>\n",
       "    </tr>\n",
       "    <tr>\n",
       "      <th>4</th>\n",
       "      <td>22827</td>\n",
       "      <td>155.00</td>\n",
       "    </tr>\n",
       "  </tbody>\n",
       "</table>\n",
       "</div>"
      ],
      "text/plain": [
       "     item_ID  price_per_one\n",
       "0  AMAZONFEE        6706.71\n",
       "1      22655         265.50\n",
       "2        DOT         198.19\n",
       "3      22826         175.00\n",
       "4      22827         155.00"
      ]
     },
     "execution_count": 14,
     "metadata": {},
     "output_type": "execute_result"
    }
   ],
   "source": [
    "# Переименуем столбцы в таблице 'price' методом 'columns'. Переименование 'productID' в 'item_ID' необходимо для\n",
    "# последующего объединения датасетов:\n",
    "\n",
    "price.columns=['item_ID', 'price_per_one']\n",
    "price.head(5)"
   ]
  },
  {
   "cell_type": "markdown",
   "id": "1af5d1c2",
   "metadata": {},
   "source": [
    "### Изменение форматов значений в retail_dataset"
   ]
  },
  {
   "cell_type": "markdown",
   "id": "188f68fd",
   "metadata": {},
   "source": [
    "В соответствии с назначением данных, приведем их к нужному формату:\n",
    "1. purchasedate приведем к формату datetime\n",
    "2. CustomerID приведем к формату object\n",
    "3. loyalty_program приведем к формату int64"
   ]
  },
  {
   "cell_type": "code",
   "execution_count": 15,
   "id": "3b7b72c6",
   "metadata": {},
   "outputs": [],
   "source": [
    "# Применим функцию 'to_datetime' из библиотеки 'pandas' с аргументом 'format' которому зададим \n",
    "# формат год-месяц-день час:минуты:секунды\n",
    "retail_dataset['purchasedate'] = pd.to_datetime(retail_dataset['purchasedate'], format='%Y-%m-%d %H:%M:%S')"
   ]
  },
  {
   "cell_type": "code",
   "execution_count": 16,
   "id": "81ce6ad2",
   "metadata": {},
   "outputs": [],
   "source": [
    "# Используем метод 'astype' и зададим значение 'object', чтобы конвертировать значения в столбце 'CustomerID',\\\n",
    "# в советующий тип:\n",
    "retail_dataset['CustomerID'] = retail_dataset['CustomerID'].astype('object')"
   ]
  },
  {
   "cell_type": "code",
   "execution_count": 17,
   "id": "bccc4003",
   "metadata": {},
   "outputs": [],
   "source": [
    "# Используем тот же метод astype к столбцу 'loyalty_program', но уже со значением 'init64', \n",
    "# что сковертирует данные в целочисленный фломат:\n",
    "retail_dataset['loyalty_program'] = retail_dataset['loyalty_program'].astype('int64')"
   ]
  },
  {
   "cell_type": "markdown",
   "id": "e0b5b0e4",
   "metadata": {},
   "source": [
    "### Объединение двух датасетов"
   ]
  },
  {
   "cell_type": "markdown",
   "id": "d980d07a",
   "metadata": {},
   "source": [
    "Объединим данные из датасета *retail_dataset* и *price* в один и запишем все в переменную *data*."
   ]
  },
  {
   "cell_type": "code",
   "execution_count": 18,
   "id": "1759e6e1",
   "metadata": {},
   "outputs": [
    {
     "data": {
      "text/html": [
       "<div>\n",
       "<style scoped>\n",
       "    .dataframe tbody tr th:only-of-type {\n",
       "        vertical-align: middle;\n",
       "    }\n",
       "\n",
       "    .dataframe tbody tr th {\n",
       "        vertical-align: top;\n",
       "    }\n",
       "\n",
       "    .dataframe thead th {\n",
       "        text-align: right;\n",
       "    }\n",
       "</style>\n",
       "<table border=\"1\" class=\"dataframe\">\n",
       "  <thead>\n",
       "    <tr style=\"text-align: right;\">\n",
       "      <th></th>\n",
       "      <th>purchaseid</th>\n",
       "      <th>item_ID</th>\n",
       "      <th>Quantity</th>\n",
       "      <th>purchasedate</th>\n",
       "      <th>CustomerID</th>\n",
       "      <th>ShopID</th>\n",
       "      <th>loyalty_program</th>\n",
       "      <th>price_per_one</th>\n",
       "    </tr>\n",
       "  </thead>\n",
       "  <tbody>\n",
       "    <tr>\n",
       "      <th>0</th>\n",
       "      <td>538280</td>\n",
       "      <td>21873</td>\n",
       "      <td>11</td>\n",
       "      <td>2016-12-10 12:50:00</td>\n",
       "      <td>18427.0</td>\n",
       "      <td>Shop 0</td>\n",
       "      <td>0</td>\n",
       "      <td>1.63</td>\n",
       "    </tr>\n",
       "    <tr>\n",
       "      <th>1</th>\n",
       "      <td>541104</td>\n",
       "      <td>21873</td>\n",
       "      <td>0</td>\n",
       "      <td>2017-01-13 14:29:00</td>\n",
       "      <td>NaN</td>\n",
       "      <td>Shop 0</td>\n",
       "      <td>0</td>\n",
       "      <td>1.63</td>\n",
       "    </tr>\n",
       "    <tr>\n",
       "      <th>2</th>\n",
       "      <td>540418</td>\n",
       "      <td>21873</td>\n",
       "      <td>1</td>\n",
       "      <td>2017-01-07 11:04:00</td>\n",
       "      <td>NaN</td>\n",
       "      <td>Shop 0</td>\n",
       "      <td>0</td>\n",
       "      <td>1.63</td>\n",
       "    </tr>\n",
       "    <tr>\n",
       "      <th>3</th>\n",
       "      <td>541516</td>\n",
       "      <td>21873</td>\n",
       "      <td>2</td>\n",
       "      <td>2017-01-18 17:34:00</td>\n",
       "      <td>NaN</td>\n",
       "      <td>Shop 0</td>\n",
       "      <td>0</td>\n",
       "      <td>1.63</td>\n",
       "    </tr>\n",
       "    <tr>\n",
       "      <th>4</th>\n",
       "      <td>541566</td>\n",
       "      <td>21873</td>\n",
       "      <td>35</td>\n",
       "      <td>2017-01-19 11:50:00</td>\n",
       "      <td>23401.0</td>\n",
       "      <td>Shop 0</td>\n",
       "      <td>1</td>\n",
       "      <td>1.63</td>\n",
       "    </tr>\n",
       "    <tr>\n",
       "      <th>5</th>\n",
       "      <td>538843</td>\n",
       "      <td>21873</td>\n",
       "      <td>1</td>\n",
       "      <td>2016-12-14 13:18:00</td>\n",
       "      <td>21712.0</td>\n",
       "      <td>Shop 0</td>\n",
       "      <td>0</td>\n",
       "      <td>1.63</td>\n",
       "    </tr>\n",
       "    <tr>\n",
       "      <th>6</th>\n",
       "      <td>540838</td>\n",
       "      <td>21873</td>\n",
       "      <td>11</td>\n",
       "      <td>2017-01-11 15:13:00</td>\n",
       "      <td>19541.0</td>\n",
       "      <td>Shop 0</td>\n",
       "      <td>0</td>\n",
       "      <td>1.63</td>\n",
       "    </tr>\n",
       "    <tr>\n",
       "      <th>7</th>\n",
       "      <td>543592</td>\n",
       "      <td>21873</td>\n",
       "      <td>5</td>\n",
       "      <td>2017-02-10 11:57:00</td>\n",
       "      <td>22922.0</td>\n",
       "      <td>Shop 0</td>\n",
       "      <td>1</td>\n",
       "      <td>1.63</td>\n",
       "    </tr>\n",
       "    <tr>\n",
       "      <th>8</th>\n",
       "      <td>544651</td>\n",
       "      <td>21873</td>\n",
       "      <td>71</td>\n",
       "      <td>2017-02-22 12:51:00</td>\n",
       "      <td>19373.0</td>\n",
       "      <td>Shop 0</td>\n",
       "      <td>0</td>\n",
       "      <td>1.63</td>\n",
       "    </tr>\n",
       "    <tr>\n",
       "      <th>9</th>\n",
       "      <td>545062</td>\n",
       "      <td>21873</td>\n",
       "      <td>0</td>\n",
       "      <td>2017-02-27 14:07:00</td>\n",
       "      <td>18427.0</td>\n",
       "      <td>Shop 0</td>\n",
       "      <td>0</td>\n",
       "      <td>1.63</td>\n",
       "    </tr>\n",
       "  </tbody>\n",
       "</table>\n",
       "</div>"
      ],
      "text/plain": [
       "  purchaseid item_ID  Quantity        purchasedate CustomerID  ShopID  \\\n",
       "0     538280   21873        11 2016-12-10 12:50:00    18427.0  Shop 0   \n",
       "1     541104   21873         0 2017-01-13 14:29:00        NaN  Shop 0   \n",
       "2     540418   21873         1 2017-01-07 11:04:00        NaN  Shop 0   \n",
       "3     541516   21873         2 2017-01-18 17:34:00        NaN  Shop 0   \n",
       "4     541566   21873        35 2017-01-19 11:50:00    23401.0  Shop 0   \n",
       "5     538843   21873         1 2016-12-14 13:18:00    21712.0  Shop 0   \n",
       "6     540838   21873        11 2017-01-11 15:13:00    19541.0  Shop 0   \n",
       "7     543592   21873         5 2017-02-10 11:57:00    22922.0  Shop 0   \n",
       "8     544651   21873        71 2017-02-22 12:51:00    19373.0  Shop 0   \n",
       "9     545062   21873         0 2017-02-27 14:07:00    18427.0  Shop 0   \n",
       "\n",
       "   loyalty_program  price_per_one  \n",
       "0                0           1.63  \n",
       "1                0           1.63  \n",
       "2                0           1.63  \n",
       "3                0           1.63  \n",
       "4                1           1.63  \n",
       "5                0           1.63  \n",
       "6                0           1.63  \n",
       "7                1           1.63  \n",
       "8                0           1.63  \n",
       "9                0           1.63  "
      ]
     },
     "execution_count": 18,
     "metadata": {},
     "output_type": "execute_result"
    }
   ],
   "source": [
    "# Для объединения датасетов используем метод 'merge'.\n",
    "# В качестве элемента по которому будет это буде производится, выберем общее значение 'item_ID':\n",
    "\n",
    "data = retail_dataset.merge(price, on='item_ID')\n",
    "\n",
    "# Выведем первые 10 строк полученного результата\n",
    "data.head(10)"
   ]
  },
  {
   "cell_type": "markdown",
   "id": "af2c88c5",
   "metadata": {},
   "source": [
    "### Приведение значений к формату правил хорошего тона"
   ]
  },
  {
   "cell_type": "code",
   "execution_count": 19,
   "id": "94e9abcf",
   "metadata": {
    "scrolled": true
   },
   "outputs": [
    {
     "data": {
      "text/html": [
       "<div>\n",
       "<style scoped>\n",
       "    .dataframe tbody tr th:only-of-type {\n",
       "        vertical-align: middle;\n",
       "    }\n",
       "\n",
       "    .dataframe tbody tr th {\n",
       "        vertical-align: top;\n",
       "    }\n",
       "\n",
       "    .dataframe thead th {\n",
       "        text-align: right;\n",
       "    }\n",
       "</style>\n",
       "<table border=\"1\" class=\"dataframe\">\n",
       "  <thead>\n",
       "    <tr style=\"text-align: right;\">\n",
       "      <th></th>\n",
       "      <th>purchaseid</th>\n",
       "      <th>item_id</th>\n",
       "      <th>quantity</th>\n",
       "      <th>purchasedate</th>\n",
       "      <th>customerid</th>\n",
       "      <th>shopid</th>\n",
       "      <th>loyalty_program</th>\n",
       "      <th>price_per_one</th>\n",
       "    </tr>\n",
       "  </thead>\n",
       "  <tbody>\n",
       "    <tr>\n",
       "      <th>0</th>\n",
       "      <td>538280</td>\n",
       "      <td>21873</td>\n",
       "      <td>11</td>\n",
       "      <td>2016-12-10 12:50:00</td>\n",
       "      <td>18427.0</td>\n",
       "      <td>Shop 0</td>\n",
       "      <td>0</td>\n",
       "      <td>1.63</td>\n",
       "    </tr>\n",
       "    <tr>\n",
       "      <th>1</th>\n",
       "      <td>541104</td>\n",
       "      <td>21873</td>\n",
       "      <td>0</td>\n",
       "      <td>2017-01-13 14:29:00</td>\n",
       "      <td>NaN</td>\n",
       "      <td>Shop 0</td>\n",
       "      <td>0</td>\n",
       "      <td>1.63</td>\n",
       "    </tr>\n",
       "    <tr>\n",
       "      <th>2</th>\n",
       "      <td>540418</td>\n",
       "      <td>21873</td>\n",
       "      <td>1</td>\n",
       "      <td>2017-01-07 11:04:00</td>\n",
       "      <td>NaN</td>\n",
       "      <td>Shop 0</td>\n",
       "      <td>0</td>\n",
       "      <td>1.63</td>\n",
       "    </tr>\n",
       "    <tr>\n",
       "      <th>3</th>\n",
       "      <td>541516</td>\n",
       "      <td>21873</td>\n",
       "      <td>2</td>\n",
       "      <td>2017-01-18 17:34:00</td>\n",
       "      <td>NaN</td>\n",
       "      <td>Shop 0</td>\n",
       "      <td>0</td>\n",
       "      <td>1.63</td>\n",
       "    </tr>\n",
       "    <tr>\n",
       "      <th>4</th>\n",
       "      <td>541566</td>\n",
       "      <td>21873</td>\n",
       "      <td>35</td>\n",
       "      <td>2017-01-19 11:50:00</td>\n",
       "      <td>23401.0</td>\n",
       "      <td>Shop 0</td>\n",
       "      <td>1</td>\n",
       "      <td>1.63</td>\n",
       "    </tr>\n",
       "    <tr>\n",
       "      <th>5</th>\n",
       "      <td>538843</td>\n",
       "      <td>21873</td>\n",
       "      <td>1</td>\n",
       "      <td>2016-12-14 13:18:00</td>\n",
       "      <td>21712.0</td>\n",
       "      <td>Shop 0</td>\n",
       "      <td>0</td>\n",
       "      <td>1.63</td>\n",
       "    </tr>\n",
       "    <tr>\n",
       "      <th>6</th>\n",
       "      <td>540838</td>\n",
       "      <td>21873</td>\n",
       "      <td>11</td>\n",
       "      <td>2017-01-11 15:13:00</td>\n",
       "      <td>19541.0</td>\n",
       "      <td>Shop 0</td>\n",
       "      <td>0</td>\n",
       "      <td>1.63</td>\n",
       "    </tr>\n",
       "    <tr>\n",
       "      <th>7</th>\n",
       "      <td>543592</td>\n",
       "      <td>21873</td>\n",
       "      <td>5</td>\n",
       "      <td>2017-02-10 11:57:00</td>\n",
       "      <td>22922.0</td>\n",
       "      <td>Shop 0</td>\n",
       "      <td>1</td>\n",
       "      <td>1.63</td>\n",
       "    </tr>\n",
       "    <tr>\n",
       "      <th>8</th>\n",
       "      <td>544651</td>\n",
       "      <td>21873</td>\n",
       "      <td>71</td>\n",
       "      <td>2017-02-22 12:51:00</td>\n",
       "      <td>19373.0</td>\n",
       "      <td>Shop 0</td>\n",
       "      <td>0</td>\n",
       "      <td>1.63</td>\n",
       "    </tr>\n",
       "    <tr>\n",
       "      <th>9</th>\n",
       "      <td>545062</td>\n",
       "      <td>21873</td>\n",
       "      <td>0</td>\n",
       "      <td>2017-02-27 14:07:00</td>\n",
       "      <td>18427.0</td>\n",
       "      <td>Shop 0</td>\n",
       "      <td>0</td>\n",
       "      <td>1.63</td>\n",
       "    </tr>\n",
       "  </tbody>\n",
       "</table>\n",
       "</div>"
      ],
      "text/plain": [
       "  purchaseid item_id  quantity        purchasedate customerid  shopid  \\\n",
       "0     538280   21873        11 2016-12-10 12:50:00    18427.0  Shop 0   \n",
       "1     541104   21873         0 2017-01-13 14:29:00        NaN  Shop 0   \n",
       "2     540418   21873         1 2017-01-07 11:04:00        NaN  Shop 0   \n",
       "3     541516   21873         2 2017-01-18 17:34:00        NaN  Shop 0   \n",
       "4     541566   21873        35 2017-01-19 11:50:00    23401.0  Shop 0   \n",
       "5     538843   21873         1 2016-12-14 13:18:00    21712.0  Shop 0   \n",
       "6     540838   21873        11 2017-01-11 15:13:00    19541.0  Shop 0   \n",
       "7     543592   21873         5 2017-02-10 11:57:00    22922.0  Shop 0   \n",
       "8     544651   21873        71 2017-02-22 12:51:00    19373.0  Shop 0   \n",
       "9     545062   21873         0 2017-02-27 14:07:00    18427.0  Shop 0   \n",
       "\n",
       "   loyalty_program  price_per_one  \n",
       "0                0           1.63  \n",
       "1                0           1.63  \n",
       "2                0           1.63  \n",
       "3                0           1.63  \n",
       "4                1           1.63  \n",
       "5                0           1.63  \n",
       "6                0           1.63  \n",
       "7                1           1.63  \n",
       "8                0           1.63  \n",
       "9                0           1.63  "
      ]
     },
     "execution_count": 19,
     "metadata": {},
     "output_type": "execute_result"
    }
   ],
   "source": [
    "# Используем метод 'columns' совместно с с методом 'str.lower' к датасету 'data'. \n",
    "# Что переведет все буквы в наименованиях всех колонок к нижнему регистру, что соответствует правилам хорошего тона.\n",
    "\n",
    "data.columns = data.columns.str.lower()\n",
    "data.head(10)"
   ]
  },
  {
   "cell_type": "markdown",
   "id": "762d792f",
   "metadata": {},
   "source": [
    "###  Поиск, обзор и удаление явных дубликатов"
   ]
  },
  {
   "cell_type": "markdown",
   "id": "5f2b0426",
   "metadata": {},
   "source": [
    "Сделаем обзор данных на предмет явных дубликатов"
   ]
  },
  {
   "cell_type": "code",
   "execution_count": 20,
   "id": "76ac1e0b",
   "metadata": {},
   "outputs": [
    {
     "data": {
      "text/plain": [
       "1033"
      ]
     },
     "execution_count": 20,
     "metadata": {},
     "output_type": "execute_result"
    }
   ],
   "source": [
    "# используем метод 'duplicated' и sum к датасету 'data': \n",
    "\n",
    "data.duplicated().sum()"
   ]
  },
  {
   "cell_type": "markdown",
   "id": "a4310e2a",
   "metadata": {},
   "source": [
    "В датасете оказалось 1033 строки с полностью совпадающими данными. Возможно это ошибочные регистрации дублей чеков при сбоях обработки банковских транзакций.  Это менее 1% от всех данных. Необходимо удалить данные строки."
   ]
  },
  {
   "cell_type": "code",
   "execution_count": 21,
   "id": "f8f40407",
   "metadata": {},
   "outputs": [],
   "source": [
    "# Функция 'drop_duplicates' позволяем обнаружить и удалить полные дубли строк в датасете.\n",
    "# После чего необходимо будет перестроить индексы методом 'reset_index':\n",
    "\n",
    "data=data.drop_duplicates().reset_index(drop=True)"
   ]
  },
  {
   "cell_type": "markdown",
   "id": "4408ab43",
   "metadata": {},
   "source": [
    "Произведем обзор полученного датасета *data* после проведенных трансформаций"
   ]
  },
  {
   "cell_type": "code",
   "execution_count": 22,
   "id": "46a15e5e",
   "metadata": {
    "scrolled": true
   },
   "outputs": [
    {
     "name": "stdout",
     "output_type": "stream",
     "text": [
      "<class 'pandas.core.frame.DataFrame'>\n",
      "RangeIndex: 104302 entries, 0 to 104301\n",
      "Data columns (total 8 columns):\n",
      " #   Column           Non-Null Count   Dtype         \n",
      "---  ------           --------------   -----         \n",
      " 0   purchaseid       104302 non-null  object        \n",
      " 1   item_id          104302 non-null  object        \n",
      " 2   quantity         104302 non-null  int64         \n",
      " 3   purchasedate     104302 non-null  datetime64[ns]\n",
      " 4   customerid       68154 non-null   object        \n",
      " 5   shopid           104302 non-null  object        \n",
      " 6   loyalty_program  104302 non-null  int64         \n",
      " 7   price_per_one    104302 non-null  float64       \n",
      "dtypes: datetime64[ns](1), float64(1), int64(2), object(4)\n",
      "memory usage: 6.4+ MB\n"
     ]
    }
   ],
   "source": [
    "data.info()"
   ]
  },
  {
   "cell_type": "markdown",
   "id": "cac51b23",
   "metadata": {},
   "source": [
    "Очистка данных прошла успешно. В датасете осталась основная масса строк, при этом были удалены полные дубли строк."
   ]
  },
  {
   "cell_type": "markdown",
   "id": "4e4c74b8",
   "metadata": {},
   "source": [
    "### Заполнение пропусков"
   ]
  },
  {
   "cell_type": "markdown",
   "id": "9a8e49b1",
   "metadata": {},
   "source": [
    "Датасет содержит один столбец с данными в которых наблюдаются пропуски, это customerid (id покупателя)."
   ]
  },
  {
   "cell_type": "code",
   "execution_count": 23,
   "id": "0c4bd768",
   "metadata": {},
   "outputs": [
    {
     "data": {
      "text/plain": [
       "'Количество срок с пропусками: 36148'"
      ]
     },
     "execution_count": 23,
     "metadata": {},
     "output_type": "execute_result"
    }
   ],
   "source": [
    "# Используем методы 'isna' и sum к столбцу 'customerid', что позволит подсчитать количество пропусков в даннм столбце.\n",
    "# Вывод сделаем в формате 'f-строки':\n",
    "\n",
    "f'Количество срок с пропусками: {data[\"customerid\"].isna().sum()}'"
   ]
  },
  {
   "cell_type": "markdown",
   "id": "9142c1a6",
   "metadata": {},
   "source": [
    "Такое количество срок с пропусками игнорировать нельзя, т.к. это составляет почти 35% датасета. В данном случае пропуски возможны по причине особенности настройки регистрационной системы, позволяющей без регистрации оформлять покупки, что повышает привлекательность магазина со стороны ряда покупателей. Из этого следует оставить данные строки, а для идентификации запишем в id покупателя значение \"not_reg\""
   ]
  },
  {
   "cell_type": "code",
   "execution_count": 24,
   "id": "9d59c655",
   "metadata": {},
   "outputs": [
    {
     "data": {
      "text/plain": [
       "'Количество зарегистрированных уникальных пользователей: 1749'"
      ]
     },
     "execution_count": 24,
     "metadata": {},
     "output_type": "execute_result"
    }
   ],
   "source": [
    "# для подсчета уникальных пользователей используем метод 'nunique'. Вывод сделаем также 'f-строкой'\n",
    "f'Количество зарегистрированных уникальных пользователей: {data[\"customerid\"].nunique()}'"
   ]
  },
  {
   "cell_type": "code",
   "execution_count": 25,
   "id": "484ff70d",
   "metadata": {},
   "outputs": [
    {
     "data": {
      "text/plain": [
       "array([18427.0, 'not_reg', 23401.0, ..., 22417.0, 18025.0, 22258.0],\n",
       "      dtype=object)"
      ]
     },
     "execution_count": 25,
     "metadata": {},
     "output_type": "execute_result"
    }
   ],
   "source": [
    "# Для заполнения пропусков используем метод 'fillna' со значением 'not_reg' и выведем уникальные записи методом 'unique':\n",
    "\n",
    "data['customerid'] = data['customerid'].fillna('not_reg')\n",
    "data['customerid'].unique()"
   ]
  },
  {
   "cell_type": "markdown",
   "id": "2d8b3347",
   "metadata": {},
   "source": [
    "Как видно, в столбце customerid датасета появилось уникальное значение 'not_reg', которое обозначает, что покупка была совершена не зарегистрированным пользователем.\n",
    "Далее проверим результат по всем проведенным операциям над датасетом:"
   ]
  },
  {
   "cell_type": "code",
   "execution_count": 26,
   "id": "9ca626e1",
   "metadata": {},
   "outputs": [
    {
     "name": "stdout",
     "output_type": "stream",
     "text": [
      "<class 'pandas.core.frame.DataFrame'>\n",
      "RangeIndex: 104302 entries, 0 to 104301\n",
      "Data columns (total 8 columns):\n",
      " #   Column           Non-Null Count   Dtype         \n",
      "---  ------           --------------   -----         \n",
      " 0   purchaseid       104302 non-null  object        \n",
      " 1   item_id          104302 non-null  object        \n",
      " 2   quantity         104302 non-null  int64         \n",
      " 3   purchasedate     104302 non-null  datetime64[ns]\n",
      " 4   customerid       104302 non-null  object        \n",
      " 5   shopid           104302 non-null  object        \n",
      " 6   loyalty_program  104302 non-null  int64         \n",
      " 7   price_per_one    104302 non-null  float64       \n",
      "dtypes: datetime64[ns](1), float64(1), int64(2), object(4)\n",
      "memory usage: 6.4+ MB\n"
     ]
    }
   ],
   "source": [
    "data.info()"
   ]
  },
  {
   "cell_type": "markdown",
   "id": "8d208a58",
   "metadata": {},
   "source": [
    "В датасете пропусков нет."
   ]
  },
  {
   "cell_type": "markdown",
   "id": "5feca75a",
   "metadata": {},
   "source": [
    "### Обзор значений в столбце с данными о количестве товара (quantity)"
   ]
  },
  {
   "cell_type": "markdown",
   "id": "7493f2b4",
   "metadata": {},
   "source": [
    "Проверим, имеются ли чеки в которых количество товаров = 0"
   ]
  },
  {
   "cell_type": "code",
   "execution_count": 27,
   "id": "b404b433",
   "metadata": {},
   "outputs": [
    {
     "data": {
      "text/plain": [
       "32362"
      ]
     },
     "execution_count": 27,
     "metadata": {},
     "output_type": "execute_result"
    }
   ],
   "source": [
    "# Используем логическую фильтрацию и подсчитаем количество значений методом 'count', удовлетворяющих условию фильтра:\n",
    "data[data['quantity']==0]['quantity'].count()"
   ]
  },
  {
   "cell_type": "markdown",
   "id": "a7b7734e",
   "metadata": {},
   "source": [
    "Таким образом видим, что во всех зарегистрированных чеках имеется 32362 позиций товаров с количеством равным нулю.\\\n",
    "Далее проверим каков процент таких строк в датасете:"
   ]
  },
  {
   "cell_type": "code",
   "execution_count": 28,
   "id": "0088a5f8",
   "metadata": {},
   "outputs": [
    {
     "data": {
      "text/plain": [
       "count    104302.000000\n",
       "mean          7.883003\n",
       "std         329.565540\n",
       "min      -74216.000000\n",
       "25%           0.000000\n",
       "50%           2.000000\n",
       "75%           7.000000\n",
       "max       74214.000000\n",
       "Name: quantity, dtype: float64"
      ]
     },
     "execution_count": 28,
     "metadata": {},
     "output_type": "execute_result"
    }
   ],
   "source": [
    "# К столбцу 'quantity' применим метод 'describe':\n",
    "\n",
    "data['quantity'].describe()"
   ]
  },
  {
   "cell_type": "markdown",
   "id": "dc34ba96",
   "metadata": {},
   "source": [
    "Как видим, в 25% строк присутствуют позиции, в которых проданных товаров равно нулю. Это достаточно большой процент данных, чтобы можно было без ущерба от них избавиться. Но и заменить, на какие-либо произвольные данные, мы тоже не можем, т.к. это все повлияет на конечный результат исследования.\\\n",
    "Был сделан запрос к заказчику о статусе данных значений в чеках. На это был получен ответ, что эти сведения ошибочны. Значит, эти ошибочные данные необходимо удалить, не смотря на их количество.\n",
    "\n",
    "Также, обращают на себя внимание отрицательные значения по количеству купленных товаров. Информации о назначении такого рода значений от заказчика не поступало. Можно предположить, что они могут означать возврат товаров по причине брака или несоответствия. Это необходимо проверить.\n",
    "\n",
    "Т.о. отрицательные значения требуют изучения, а вот от нулевых значений стоит избавиться.\n",
    "\n"
   ]
  },
  {
   "cell_type": "markdown",
   "id": "2a30d6d3",
   "metadata": {},
   "source": [
    "#### Проверка гипотезы отрицательных значений количества товаров, зарегистрированных в чеках."
   ]
  },
  {
   "cell_type": "markdown",
   "id": "5f362a44",
   "metadata": {},
   "source": [
    "Сформируем отдельные тестовые датафреймы для изучения гипотезы о назначении отрицательных значений. Цели исследования состоит в том, что будет проведено ранжирование количества товаров по их формату, далее составим сводные данные в котрых сгруппируем id покупателя и купленные им id товары в количественном выражении, а также id товаров, котрые данный покупатель вернул. И если разница между id покупок и id возвратов будет равна нулю, то тогда это и будет списком, сооветсвующим гипотезе. Если такой список будет содержать большинство строк по возвратам, то гипотезу примем, в противном случае ее отвегнем. В случае не подтверждении выдвеннутой гипотезы, все отрицательные значения будут удалены из основного датасета."
   ]
  },
  {
   "cell_type": "code",
   "execution_count": 29,
   "id": "5bad331c",
   "metadata": {},
   "outputs": [
    {
     "name": "stderr",
     "output_type": "stream",
     "text": [
      "D:\\TMP\\ipykernel_2268\\2891545958.py:8: SettingWithCopyWarning: \n",
      "A value is trying to be set on a copy of a slice from a DataFrame.\n",
      "Try using .loc[row_indexer,col_indexer] = value instead\n",
      "\n",
      "See the caveats in the documentation: https://pandas.pydata.org/pandas-docs/stable/user_guide/indexing.html#returning-a-view-versus-a-copy\n",
      "  test['sale_ststus']=True\n",
      "D:\\TMP\\ipykernel_2268\\2891545958.py:11: SettingWithCopyWarning: \n",
      "A value is trying to be set on a copy of a slice from a DataFrame.\n",
      "Try using .loc[row_indexer,col_indexer] = value instead\n",
      "\n",
      "See the caveats in the documentation: https://pandas.pydata.org/pandas-docs/stable/user_guide/indexing.html#returning-a-view-versus-a-copy\n",
      "  test['sale_ststus']=test.query('quantity > 0')['sale_ststus'].replace(to_replace=True, value=\"sales_item\")\n",
      "D:\\TMP\\ipykernel_2268\\2891545958.py:14: SettingWithCopyWarning: \n",
      "A value is trying to be set on a copy of a slice from a DataFrame.\n",
      "Try using .loc[row_indexer,col_indexer] = value instead\n",
      "\n",
      "See the caveats in the documentation: https://pandas.pydata.org/pandas-docs/stable/user_guide/indexing.html#returning-a-view-versus-a-copy\n",
      "  test['sale_ststus']=test['sale_ststus'].fillna('return_item')\n"
     ]
    },
    {
     "data": {
      "text/plain": [
       "array(['sales_item', 'return_item'], dtype=object)"
      ]
     },
     "execution_count": 29,
     "metadata": {},
     "output_type": "execute_result"
    }
   ],
   "source": [
    "# Формируем новый датафрейм для проведения анализа\n",
    "test=data\n",
    "\n",
    "# Отбрасываем ошибки, связанные с нулевым количеством товара в чеке методом 'query', задав логическое 'НЕ равное' нулю\n",
    "test=test.query('quantity !=0')\n",
    "\n",
    "# Создадим пустой столбец под будующее ранжирование \n",
    "test['sale_ststus']=True\n",
    "\n",
    "# Отранжируем все положительные значения и запишем в столбец 'sale_ststu' статус 'sales_item'\n",
    "test['sale_ststus']=test.query('quantity > 0')['sale_ststus'].replace(to_replace=True, value=\"sales_item\")\n",
    "\n",
    "# Все оставшиеся пустые значения это возвраты и придадим им статус 'return_item'\n",
    "test['sale_ststus']=test['sale_ststus'].fillna('return_item')\n",
    "\n",
    "# Проверим, нет ли посторонних значений статусов в столбце 'sale_ststus'\n",
    "test['sale_ststus'].unique()"
   ]
  },
  {
   "cell_type": "code",
   "execution_count": 30,
   "id": "612189ed",
   "metadata": {},
   "outputs": [
    {
     "data": {
      "text/plain": [
       "sales_item     69864\n",
       "return_item     2076\n",
       "Name: sale_ststus, dtype: int64"
      ]
     },
     "execution_count": 30,
     "metadata": {},
     "output_type": "execute_result"
    }
   ],
   "source": [
    "# Подсчитаем количественные значения статусов по продажам и возвратам методом 'value_counts'\n",
    "test['sale_ststus'].value_counts()"
   ]
  },
  {
   "cell_type": "markdown",
   "id": "8c2cf74e",
   "metadata": {},
   "source": [
    "В датасете 69864 ед. товаров купленных каждым покупателем и 2076 ед. ими, условно, возвращенных покупок.\n",
    "Далее сгруппируем датасет по уникальному пользователю, id товаров, которые он купил после чего подсчитаем это количество товара и количество его возвратов. В отельном столбце *control_column* высчитаем разницу межу покупками и модулем возвратов. И в заключении отфильтруем только нулевые значения в столбце *control_column*:"
   ]
  },
  {
   "cell_type": "code",
   "execution_count": 31,
   "id": "6ce3f150",
   "metadata": {},
   "outputs": [
    {
     "name": "stdout",
     "output_type": "stream",
     "text": [
      "sale_ststus         return_item  sales_item  control_column\n",
      "customerid item_id                                         \n",
      "18141.0    21730           -2.0         2.0             0.0\n",
      "18173.0    21843           -2.0         2.0             0.0\n",
      "18180.0    22138           -2.0         2.0             0.0\n",
      "           22654           -2.0         2.0             0.0\n",
      "18219.0    21843           -7.0         7.0             0.0\n",
      "18305.0    37495           -3.0         3.0             0.0\n",
      "18326.0    21452           -5.0         5.0             0.0\n",
      "18533.0    22189           -2.0         2.0             0.0\n",
      "18757.0    21463           -2.0         2.0             0.0\n",
      "18768.0    84078A         -13.0        13.0             0.0\n",
      "\n",
      "Количество строк id купленных товаров совпавшими с возвратами :    56\n"
     ]
    }
   ],
   "source": [
    "# Сводную таблицу данных из датасета 'test' создаем методом 'pivot_table' по столбцам 'customerid' и 'item_id'. \n",
    "# Значения берем из столбца 'quantity' и применяем агрегирующую функцию 'aggfunc' с аргументом 'sum'.\n",
    "# Полученный результат запишем в переменную 'test_group':\n",
    "test_group=test.pivot_table(index=['customerid', 'item_id'], columns='sale_ststus', values='quantity', aggfunc=('sum'))\n",
    "\n",
    "# Вычислим разность между купленными товарами 'sales_item' и возвращенными товарами 'return_item':\n",
    "test_group['control_column'] = test_group['sales_item'] - abs(test_group['return_item'])\n",
    "\n",
    "# Выведем полученный результат, предварительно отфильтровав методом 'query' по значениям в контрольной колонке \n",
    "# 'control_column', в которой значения будут равны 0 \n",
    "print(test_group.query('control_column == 0').head(10))\n",
    "\n",
    "# Для разделения предыдущего вывода и последующего, выведем пустую строку:\n",
    "print()\n",
    "\n",
    "# Выведем подсчет количества строк, в которых значения 'control_column' будут равны нулю:\n",
    "print(f'Количество строк id купленных товаров совпавшими с возвратами :\\\n",
    "    {test_group.query(\"control_column == 0\")[\"control_column\"].count()}')"
   ]
  },
  {
   "cell_type": "markdown",
   "id": "3744b929",
   "metadata": {},
   "source": [
    "Как видим, всего 56 id возвращенных товаров совпало с купленными конкретными покупателями. С определенной долей вероятности можно предположить, что отрицательные значения, также ошибочны и их стоит также удалить из исходного датасета."
   ]
  },
  {
   "cell_type": "markdown",
   "id": "f4d7d50a",
   "metadata": {},
   "source": [
    "Подсчитаем количество строк со значениями равным нулю и меньше его."
   ]
  },
  {
   "cell_type": "code",
   "execution_count": 32,
   "id": "eb1aee39",
   "metadata": {},
   "outputs": [
    {
     "data": {
      "text/plain": [
       "'Количество строк с нулевым значением количества товаров : 34438'"
      ]
     },
     "execution_count": 32,
     "metadata": {},
     "output_type": "execute_result"
    }
   ],
   "source": [
    "# Подсчет строк производим методом 'count', предварительно выполнив фильтрацию в столбке 'quantity',\n",
    "# где значения будут меньше или равны нулю. Вывод сделаем с помощью 'f-строки':\n",
    "f'Количество строк с нулевым значением количества товаров : {data.query(\"quantity <= 0\")[\"purchaseid\"].count()}'"
   ]
  },
  {
   "cell_type": "markdown",
   "id": "a7e1e4ab",
   "metadata": {},
   "source": [
    "#### Удаление строк в датасете *data* с нулевыми и отрицательными значениями количества товара"
   ]
  },
  {
   "cell_type": "markdown",
   "id": "fe524f7d",
   "metadata": {},
   "source": [
    "Для избавления от строк с отрицательным и нулевым значениям количества проданного товара, используем метод логической фильтрации, но только выберем все строки, в которых значения будут больше нуля, и перезапишем полученный результат в *data*. Т.о. в датасет попадут строки только с положительными значениями столбца 'quantity', а ошибочные данные будут отброшены, благодаря логической фильтрации."
   ]
  },
  {
   "cell_type": "code",
   "execution_count": 33,
   "id": "deed4a95",
   "metadata": {
    "scrolled": true
   },
   "outputs": [
    {
     "name": "stdout",
     "output_type": "stream",
     "text": [
      "<class 'pandas.core.frame.DataFrame'>\n",
      "Int64Index: 69864 entries, 0 to 104300\n",
      "Data columns (total 8 columns):\n",
      " #   Column           Non-Null Count  Dtype         \n",
      "---  ------           --------------  -----         \n",
      " 0   purchaseid       69864 non-null  object        \n",
      " 1   item_id          69864 non-null  object        \n",
      " 2   quantity         69864 non-null  int64         \n",
      " 3   purchasedate     69864 non-null  datetime64[ns]\n",
      " 4   customerid       69864 non-null  object        \n",
      " 5   shopid           69864 non-null  object        \n",
      " 6   loyalty_program  69864 non-null  int64         \n",
      " 7   price_per_one    69864 non-null  float64       \n",
      "dtypes: datetime64[ns](1), float64(1), int64(2), object(4)\n",
      "memory usage: 4.8+ MB\n"
     ]
    }
   ],
   "source": [
    "# Для удаления строк используем метод 'query' с аргуметном больше 0:\n",
    "data = data.query(\"quantity > 0\")\n",
    "\n",
    "# Полученный результат выведем функцией 'info'\n",
    "data.info()"
   ]
  },
  {
   "cell_type": "markdown",
   "id": "7b2f308c",
   "metadata": {},
   "source": [
    "В данном разделе проведена очистка данных от ошибочных значений по количеству товаров. Были удалены строки с нулевыми и отрицательными значениями, что обеспечит более качественный результат исследований. Заказчику необходимо дать рекомендации по качеству ведения отчетов с данными."
   ]
  },
  {
   "cell_type": "markdown",
   "id": "e26d3101",
   "metadata": {},
   "source": [
    "### Проверка и обработка аномальных значений количества покупок (quantity)"
   ]
  },
  {
   "cell_type": "markdown",
   "id": "cd1d991c",
   "metadata": {},
   "source": [
    "Для начала делаем обзор статистической нформации датасета data по столбцу quantity"
   ]
  },
  {
   "cell_type": "code",
   "execution_count": 34,
   "id": "95063d0b",
   "metadata": {},
   "outputs": [
    {
     "data": {
      "text/plain": [
       "count    69864.000000\n",
       "mean        13.480004\n",
       "std        285.884978\n",
       "min          1.000000\n",
       "25%          2.000000\n",
       "50%          5.000000\n",
       "75%         11.000000\n",
       "max      74214.000000\n",
       "Name: quantity, dtype: float64"
      ]
     },
     "execution_count": 34,
     "metadata": {},
     "output_type": "execute_result"
    }
   ],
   "source": [
    "data['quantity'].describe()"
   ]
  },
  {
   "cell_type": "markdown",
   "id": "35c95d5d",
   "metadata": {},
   "source": [
    "Как видим, разброс значений достаточно большой, причем 75% значений лежит в пределах от 1 до 11, при этом максимальное значение в данном наборе 74214. Это говорит о наличии выбросов. Теперь выведем эту информацию на графике, чтобы оценить масштабы разброса значений."
   ]
  },
  {
   "cell_type": "code",
   "execution_count": 35,
   "id": "2f57b359",
   "metadata": {},
   "outputs": [
    {
     "data": {
      "image/png": "[encoded data removed]",
      "text/plain": [
       "<Figure size 1400x800 with 1 Axes>"
      ]
     },
     "metadata": {},
     "output_type": "display_data"
    }
   ],
   "source": [
    "# Для вывода графика используем 'boxplot' из библиотеки 'seaborn' с настройками размера вывода графика 'figure'\n",
    "# с аригументами 'figsize 14х8':\n",
    "plt.figure(figsize=(14, 8))\n",
    "sns.boxplot(data=data['quantity'])\n",
    "plt.title('Диаграмма boxplot значений количества покупок')\n",
    "plt.ylabel('Значение количества товаров в чеке')\n",
    "plt.show()"
   ]
  },
  {
   "cell_type": "markdown",
   "id": "0b1bf500",
   "metadata": {},
   "source": [
    "Из диаграммы абсолютно не возможно сделать какие-либо выводы, из-за большого по своему значению единичного выброса. Определим 5%  значений, котрые явно выбиваются из общего датасета."
   ]
  },
  {
   "cell_type": "code",
   "execution_count": 36,
   "id": "f0cbdd4c",
   "metadata": {},
   "outputs": [
    {
     "data": {
      "text/plain": [
       "39.0"
      ]
     },
     "execution_count": 36,
     "metadata": {},
     "output_type": "execute_result"
    }
   ],
   "source": [
    "# Для оценики значения попадающих в обозначеную выборку выше границы 95% значений, используем метод 'percentile' \n",
    "# из библиотеки numpy. Полученные данные запишем в переменную 'percentile_quantity'\n",
    "percentile_quantity = np.percentile(data['quantity'], 95)\n",
    "percentile_quantity"
   ]
  },
  {
   "cell_type": "markdown",
   "id": "50f2b2e3",
   "metadata": {},
   "source": [
    "Из анализа перцентелей можно сделать вывод, что лишь 5% датсета имеют значения количества товара выше 39 единиц.\\\n",
    "Отсечем выпадающие значения, для дальнейших исследований"
   ]
  },
  {
   "cell_type": "code",
   "execution_count": 37,
   "id": "7bc6688f",
   "metadata": {},
   "outputs": [
    {
     "name": "stdout",
     "output_type": "stream",
     "text": [
      "<class 'pandas.core.frame.DataFrame'>\n",
      "Int64Index: 66357 entries, 0 to 104300\n",
      "Data columns (total 8 columns):\n",
      " #   Column           Non-Null Count  Dtype         \n",
      "---  ------           --------------  -----         \n",
      " 0   purchaseid       66357 non-null  object        \n",
      " 1   item_id          66357 non-null  object        \n",
      " 2   quantity         66357 non-null  int64         \n",
      " 3   purchasedate     66357 non-null  datetime64[ns]\n",
      " 4   customerid       66357 non-null  object        \n",
      " 5   shopid           66357 non-null  object        \n",
      " 6   loyalty_program  66357 non-null  int64         \n",
      " 7   price_per_one    66357 non-null  float64       \n",
      "dtypes: datetime64[ns](1), float64(1), int64(2), object(4)\n",
      "memory usage: 4.6+ MB\n"
     ]
    }
   ],
   "source": [
    "# Используем логическую фильтрацию методом 'query', в котором зададим выбор значений столбца 'quantity' меньше \n",
    "# переменной 'percentile_quantity' и перезапишем получившуюся выборку в 'data'\n",
    "\n",
    "data=data.query('quantity < @percentile_quantity')\n",
    "data.info()"
   ]
  },
  {
   "cell_type": "markdown",
   "id": "f1f6f58d",
   "metadata": {},
   "source": [
    "После урезания датафрейма осталось 66357 строк, но остались только качественные значения, которые способствуют корректным и правильным результатам, именно по ним будут приниматься корректные решения.\\\n",
    "Проверим статистические данные из quantity."
   ]
  },
  {
   "cell_type": "code",
   "execution_count": 38,
   "id": "cc2b04b8",
   "metadata": {
    "scrolled": true
   },
   "outputs": [
    {
     "data": {
      "text/plain": [
       "count    66357.000000\n",
       "mean         6.964570\n",
       "std          7.225377\n",
       "min          1.000000\n",
       "25%          2.000000\n",
       "50%          5.000000\n",
       "75%         11.000000\n",
       "max         38.000000\n",
       "Name: quantity, dtype: float64"
      ]
     },
     "execution_count": 38,
     "metadata": {},
     "output_type": "execute_result"
    }
   ],
   "source": [
    "# Для проверки повторно используем метод 'describe'\n",
    "data['quantity'].describe()"
   ]
  },
  {
   "cell_type": "markdown",
   "id": "01bde11c",
   "metadata": {},
   "source": [
    "Как видно из полученного вывода, отсечка значений больше 39 прошла успешно.\\\n",
    "Повторно выведем график разброса значений quantity."
   ]
  },
  {
   "cell_type": "code",
   "execution_count": 39,
   "id": "86e8a1e1",
   "metadata": {},
   "outputs": [
    {
     "data": {
      "image/png": "[encoded data removed]",
      "text/plain": [
       "<Figure size 1400x800 with 1 Axes>"
      ]
     },
     "metadata": {},
     "output_type": "display_data"
    }
   ],
   "source": [
    "# Повтороно используем график 'boxplot' из библиотеки 'seaborn':\n",
    "plt.figure(figsize=(14, 8))\n",
    "sns.boxplot(data=data['quantity'])\n",
    "plt.title('Диаграмма boxplot значений количества покупок')\n",
    "plt.ylabel('Значение количества товаров в чеке')\n",
    "plt.show()"
   ]
  },
  {
   "cell_type": "markdown",
   "id": "989bcf6e",
   "metadata": {},
   "source": [
    "Таким образом на диаграмме boxplot лучше стало видно основную массу значений, медиану и часть выбросов, которые оказались выше третьего квартиля.\\\n",
    "Из диаграммы видно, что основная масса покупателей оформляют от 2-х до 11-ти товаров. И только 35% всех покупателей оформляет от 12-ти до 38-ми единиц товаров."
   ]
  },
  {
   "cell_type": "markdown",
   "id": "68e7e196",
   "metadata": {},
   "source": [
    "### Добавление значений месяца формирования чека"
   ]
  },
  {
   "cell_type": "markdown",
   "id": "6ab5954c",
   "metadata": {},
   "source": [
    "Для упрощения дальнейшей работы по фильтрации данных создадим столбец с месяцем формирования чека purchase_month"
   ]
  },
  {
   "cell_type": "code",
   "execution_count": 40,
   "id": "98c3728b",
   "metadata": {},
   "outputs": [
    {
     "data": {
      "text/html": [
       "<div>\n",
       "<style scoped>\n",
       "    .dataframe tbody tr th:only-of-type {\n",
       "        vertical-align: middle;\n",
       "    }\n",
       "\n",
       "    .dataframe tbody tr th {\n",
       "        vertical-align: top;\n",
       "    }\n",
       "\n",
       "    .dataframe thead th {\n",
       "        text-align: right;\n",
       "    }\n",
       "</style>\n",
       "<table border=\"1\" class=\"dataframe\">\n",
       "  <thead>\n",
       "    <tr style=\"text-align: right;\">\n",
       "      <th></th>\n",
       "      <th>purchaseid</th>\n",
       "      <th>item_id</th>\n",
       "      <th>quantity</th>\n",
       "      <th>purchasedate</th>\n",
       "      <th>customerid</th>\n",
       "      <th>shopid</th>\n",
       "      <th>loyalty_program</th>\n",
       "      <th>price_per_one</th>\n",
       "      <th>purchase_month</th>\n",
       "    </tr>\n",
       "  </thead>\n",
       "  <tbody>\n",
       "    <tr>\n",
       "      <th>0</th>\n",
       "      <td>538280</td>\n",
       "      <td>21873</td>\n",
       "      <td>11</td>\n",
       "      <td>2016-12-10 12:50:00</td>\n",
       "      <td>18427.0</td>\n",
       "      <td>Shop 0</td>\n",
       "      <td>0</td>\n",
       "      <td>1.63</td>\n",
       "      <td>12</td>\n",
       "    </tr>\n",
       "    <tr>\n",
       "      <th>2</th>\n",
       "      <td>540418</td>\n",
       "      <td>21873</td>\n",
       "      <td>1</td>\n",
       "      <td>2017-01-07 11:04:00</td>\n",
       "      <td>not_reg</td>\n",
       "      <td>Shop 0</td>\n",
       "      <td>0</td>\n",
       "      <td>1.63</td>\n",
       "      <td>1</td>\n",
       "    </tr>\n",
       "    <tr>\n",
       "      <th>3</th>\n",
       "      <td>541516</td>\n",
       "      <td>21873</td>\n",
       "      <td>2</td>\n",
       "      <td>2017-01-18 17:34:00</td>\n",
       "      <td>not_reg</td>\n",
       "      <td>Shop 0</td>\n",
       "      <td>0</td>\n",
       "      <td>1.63</td>\n",
       "      <td>1</td>\n",
       "    </tr>\n",
       "    <tr>\n",
       "      <th>4</th>\n",
       "      <td>541566</td>\n",
       "      <td>21873</td>\n",
       "      <td>35</td>\n",
       "      <td>2017-01-19 11:50:00</td>\n",
       "      <td>23401.0</td>\n",
       "      <td>Shop 0</td>\n",
       "      <td>1</td>\n",
       "      <td>1.63</td>\n",
       "      <td>1</td>\n",
       "    </tr>\n",
       "    <tr>\n",
       "      <th>5</th>\n",
       "      <td>538843</td>\n",
       "      <td>21873</td>\n",
       "      <td>1</td>\n",
       "      <td>2016-12-14 13:18:00</td>\n",
       "      <td>21712.0</td>\n",
       "      <td>Shop 0</td>\n",
       "      <td>0</td>\n",
       "      <td>1.63</td>\n",
       "      <td>12</td>\n",
       "    </tr>\n",
       "    <tr>\n",
       "      <th>6</th>\n",
       "      <td>540838</td>\n",
       "      <td>21873</td>\n",
       "      <td>11</td>\n",
       "      <td>2017-01-11 15:13:00</td>\n",
       "      <td>19541.0</td>\n",
       "      <td>Shop 0</td>\n",
       "      <td>0</td>\n",
       "      <td>1.63</td>\n",
       "      <td>1</td>\n",
       "    </tr>\n",
       "    <tr>\n",
       "      <th>7</th>\n",
       "      <td>543592</td>\n",
       "      <td>21873</td>\n",
       "      <td>5</td>\n",
       "      <td>2017-02-10 11:57:00</td>\n",
       "      <td>22922.0</td>\n",
       "      <td>Shop 0</td>\n",
       "      <td>1</td>\n",
       "      <td>1.63</td>\n",
       "      <td>2</td>\n",
       "    </tr>\n",
       "    <tr>\n",
       "      <th>10</th>\n",
       "      <td>540480</td>\n",
       "      <td>21873</td>\n",
       "      <td>11</td>\n",
       "      <td>2017-01-07 15:27:00</td>\n",
       "      <td>18159.0</td>\n",
       "      <td>Shop 4</td>\n",
       "      <td>0</td>\n",
       "      <td>1.63</td>\n",
       "      <td>1</td>\n",
       "    </tr>\n",
       "    <tr>\n",
       "      <th>17</th>\n",
       "      <td>539252</td>\n",
       "      <td>21873</td>\n",
       "      <td>35</td>\n",
       "      <td>2016-12-16 14:17:00</td>\n",
       "      <td>23423.0</td>\n",
       "      <td>Shop 0</td>\n",
       "      <td>1</td>\n",
       "      <td>1.63</td>\n",
       "      <td>12</td>\n",
       "    </tr>\n",
       "    <tr>\n",
       "      <th>18</th>\n",
       "      <td>543984</td>\n",
       "      <td>21873</td>\n",
       "      <td>11</td>\n",
       "      <td>2017-02-15 09:35:00</td>\n",
       "      <td>21280.0</td>\n",
       "      <td>Shop 0</td>\n",
       "      <td>0</td>\n",
       "      <td>1.63</td>\n",
       "      <td>2</td>\n",
       "    </tr>\n",
       "  </tbody>\n",
       "</table>\n",
       "</div>"
      ],
      "text/plain": [
       "   purchaseid item_id  quantity        purchasedate customerid  shopid  \\\n",
       "0      538280   21873        11 2016-12-10 12:50:00    18427.0  Shop 0   \n",
       "2      540418   21873         1 2017-01-07 11:04:00    not_reg  Shop 0   \n",
       "3      541516   21873         2 2017-01-18 17:34:00    not_reg  Shop 0   \n",
       "4      541566   21873        35 2017-01-19 11:50:00    23401.0  Shop 0   \n",
       "5      538843   21873         1 2016-12-14 13:18:00    21712.0  Shop 0   \n",
       "6      540838   21873        11 2017-01-11 15:13:00    19541.0  Shop 0   \n",
       "7      543592   21873         5 2017-02-10 11:57:00    22922.0  Shop 0   \n",
       "10     540480   21873        11 2017-01-07 15:27:00    18159.0  Shop 4   \n",
       "17     539252   21873        35 2016-12-16 14:17:00    23423.0  Shop 0   \n",
       "18     543984   21873        11 2017-02-15 09:35:00    21280.0  Shop 0   \n",
       "\n",
       "    loyalty_program  price_per_one  purchase_month  \n",
       "0                 0           1.63              12  \n",
       "2                 0           1.63               1  \n",
       "3                 0           1.63               1  \n",
       "4                 1           1.63               1  \n",
       "5                 0           1.63              12  \n",
       "6                 0           1.63               1  \n",
       "7                 1           1.63               2  \n",
       "10                0           1.63               1  \n",
       "17                1           1.63              12  \n",
       "18                0           1.63               2  "
      ]
     },
     "execution_count": 40,
     "metadata": {},
     "output_type": "execute_result"
    }
   ],
   "source": [
    "# Используем метод 'DatetimeIndex' из библиотеки 'pandas', к столбцу 'purchasedate' с аргументом 'month'.\n",
    "# Полученные значения запишем в новый столбец 'purchase_month'\n",
    "data['purchase_month']=pd.DatetimeIndex(data['purchasedate']).month\n",
    "# Выведем первые 10 строк датасета.\n",
    "data.head(10)"
   ]
  },
  {
   "cell_type": "markdown",
   "id": "5e1b67b8",
   "metadata": {},
   "source": [
    "При осмотре полученных данных видим новый столбец purchase_month в котором выделены значения месяца совершения покупки."
   ]
  },
  {
   "cell_type": "markdown",
   "id": "5f9a87ed",
   "metadata": {},
   "source": [
    "### Расчет суммы покупки"
   ]
  },
  {
   "cell_type": "markdown",
   "id": "11612741",
   "metadata": {},
   "source": [
    "Для расчета стоимости покупки добавим столбец purchase_amount. Для этого, перемножим значения количества товара *quantity* с ценой, по полученному прайсу *price_per_one*"
   ]
  },
  {
   "cell_type": "code",
   "execution_count": 41,
   "id": "63a4606f",
   "metadata": {
    "scrolled": true
   },
   "outputs": [
    {
     "data": {
      "text/html": [
       "<div>\n",
       "<style scoped>\n",
       "    .dataframe tbody tr th:only-of-type {\n",
       "        vertical-align: middle;\n",
       "    }\n",
       "\n",
       "    .dataframe tbody tr th {\n",
       "        vertical-align: top;\n",
       "    }\n",
       "\n",
       "    .dataframe thead th {\n",
       "        text-align: right;\n",
       "    }\n",
       "</style>\n",
       "<table border=\"1\" class=\"dataframe\">\n",
       "  <thead>\n",
       "    <tr style=\"text-align: right;\">\n",
       "      <th></th>\n",
       "      <th>purchaseid</th>\n",
       "      <th>item_id</th>\n",
       "      <th>quantity</th>\n",
       "      <th>purchasedate</th>\n",
       "      <th>customerid</th>\n",
       "      <th>shopid</th>\n",
       "      <th>loyalty_program</th>\n",
       "      <th>price_per_one</th>\n",
       "      <th>purchase_month</th>\n",
       "      <th>purchase_amount</th>\n",
       "    </tr>\n",
       "  </thead>\n",
       "  <tbody>\n",
       "    <tr>\n",
       "      <th>0</th>\n",
       "      <td>538280</td>\n",
       "      <td>21873</td>\n",
       "      <td>11</td>\n",
       "      <td>2016-12-10 12:50:00</td>\n",
       "      <td>18427.0</td>\n",
       "      <td>Shop 0</td>\n",
       "      <td>0</td>\n",
       "      <td>1.63</td>\n",
       "      <td>12</td>\n",
       "      <td>17.93</td>\n",
       "    </tr>\n",
       "    <tr>\n",
       "      <th>2</th>\n",
       "      <td>540418</td>\n",
       "      <td>21873</td>\n",
       "      <td>1</td>\n",
       "      <td>2017-01-07 11:04:00</td>\n",
       "      <td>not_reg</td>\n",
       "      <td>Shop 0</td>\n",
       "      <td>0</td>\n",
       "      <td>1.63</td>\n",
       "      <td>1</td>\n",
       "      <td>1.63</td>\n",
       "    </tr>\n",
       "    <tr>\n",
       "      <th>3</th>\n",
       "      <td>541516</td>\n",
       "      <td>21873</td>\n",
       "      <td>2</td>\n",
       "      <td>2017-01-18 17:34:00</td>\n",
       "      <td>not_reg</td>\n",
       "      <td>Shop 0</td>\n",
       "      <td>0</td>\n",
       "      <td>1.63</td>\n",
       "      <td>1</td>\n",
       "      <td>3.26</td>\n",
       "    </tr>\n",
       "    <tr>\n",
       "      <th>4</th>\n",
       "      <td>541566</td>\n",
       "      <td>21873</td>\n",
       "      <td>35</td>\n",
       "      <td>2017-01-19 11:50:00</td>\n",
       "      <td>23401.0</td>\n",
       "      <td>Shop 0</td>\n",
       "      <td>1</td>\n",
       "      <td>1.63</td>\n",
       "      <td>1</td>\n",
       "      <td>57.05</td>\n",
       "    </tr>\n",
       "    <tr>\n",
       "      <th>5</th>\n",
       "      <td>538843</td>\n",
       "      <td>21873</td>\n",
       "      <td>1</td>\n",
       "      <td>2016-12-14 13:18:00</td>\n",
       "      <td>21712.0</td>\n",
       "      <td>Shop 0</td>\n",
       "      <td>0</td>\n",
       "      <td>1.63</td>\n",
       "      <td>12</td>\n",
       "      <td>1.63</td>\n",
       "    </tr>\n",
       "    <tr>\n",
       "      <th>6</th>\n",
       "      <td>540838</td>\n",
       "      <td>21873</td>\n",
       "      <td>11</td>\n",
       "      <td>2017-01-11 15:13:00</td>\n",
       "      <td>19541.0</td>\n",
       "      <td>Shop 0</td>\n",
       "      <td>0</td>\n",
       "      <td>1.63</td>\n",
       "      <td>1</td>\n",
       "      <td>17.93</td>\n",
       "    </tr>\n",
       "    <tr>\n",
       "      <th>7</th>\n",
       "      <td>543592</td>\n",
       "      <td>21873</td>\n",
       "      <td>5</td>\n",
       "      <td>2017-02-10 11:57:00</td>\n",
       "      <td>22922.0</td>\n",
       "      <td>Shop 0</td>\n",
       "      <td>1</td>\n",
       "      <td>1.63</td>\n",
       "      <td>2</td>\n",
       "      <td>8.15</td>\n",
       "    </tr>\n",
       "    <tr>\n",
       "      <th>10</th>\n",
       "      <td>540480</td>\n",
       "      <td>21873</td>\n",
       "      <td>11</td>\n",
       "      <td>2017-01-07 15:27:00</td>\n",
       "      <td>18159.0</td>\n",
       "      <td>Shop 4</td>\n",
       "      <td>0</td>\n",
       "      <td>1.63</td>\n",
       "      <td>1</td>\n",
       "      <td>17.93</td>\n",
       "    </tr>\n",
       "    <tr>\n",
       "      <th>17</th>\n",
       "      <td>539252</td>\n",
       "      <td>21873</td>\n",
       "      <td>35</td>\n",
       "      <td>2016-12-16 14:17:00</td>\n",
       "      <td>23423.0</td>\n",
       "      <td>Shop 0</td>\n",
       "      <td>1</td>\n",
       "      <td>1.63</td>\n",
       "      <td>12</td>\n",
       "      <td>57.05</td>\n",
       "    </tr>\n",
       "    <tr>\n",
       "      <th>18</th>\n",
       "      <td>543984</td>\n",
       "      <td>21873</td>\n",
       "      <td>11</td>\n",
       "      <td>2017-02-15 09:35:00</td>\n",
       "      <td>21280.0</td>\n",
       "      <td>Shop 0</td>\n",
       "      <td>0</td>\n",
       "      <td>1.63</td>\n",
       "      <td>2</td>\n",
       "      <td>17.93</td>\n",
       "    </tr>\n",
       "  </tbody>\n",
       "</table>\n",
       "</div>"
      ],
      "text/plain": [
       "   purchaseid item_id  quantity        purchasedate customerid  shopid  \\\n",
       "0      538280   21873        11 2016-12-10 12:50:00    18427.0  Shop 0   \n",
       "2      540418   21873         1 2017-01-07 11:04:00    not_reg  Shop 0   \n",
       "3      541516   21873         2 2017-01-18 17:34:00    not_reg  Shop 0   \n",
       "4      541566   21873        35 2017-01-19 11:50:00    23401.0  Shop 0   \n",
       "5      538843   21873         1 2016-12-14 13:18:00    21712.0  Shop 0   \n",
       "6      540838   21873        11 2017-01-11 15:13:00    19541.0  Shop 0   \n",
       "7      543592   21873         5 2017-02-10 11:57:00    22922.0  Shop 0   \n",
       "10     540480   21873        11 2017-01-07 15:27:00    18159.0  Shop 4   \n",
       "17     539252   21873        35 2016-12-16 14:17:00    23423.0  Shop 0   \n",
       "18     543984   21873        11 2017-02-15 09:35:00    21280.0  Shop 0   \n",
       "\n",
       "    loyalty_program  price_per_one  purchase_month  purchase_amount  \n",
       "0                 0           1.63              12            17.93  \n",
       "2                 0           1.63               1             1.63  \n",
       "3                 0           1.63               1             3.26  \n",
       "4                 1           1.63               1            57.05  \n",
       "5                 0           1.63              12             1.63  \n",
       "6                 0           1.63               1            17.93  \n",
       "7                 1           1.63               2             8.15  \n",
       "10                0           1.63               1            17.93  \n",
       "17                1           1.63              12            57.05  \n",
       "18                0           1.63               2            17.93  "
      ]
     },
     "execution_count": 41,
     "metadata": {},
     "output_type": "execute_result"
    }
   ],
   "source": [
    "# Создаем колонку 'purchase_amount', в которую попадет произведение 'quantity' и 'price_per_one':\n",
    "data['purchase_amount'] = data['quantity'] * data['price_per_one']\n",
    "# Выведем первые 10 строк методом 'head'\n",
    "data.head(10)"
   ]
  },
  {
   "cell_type": "code",
   "execution_count": 42,
   "id": "9528d103",
   "metadata": {},
   "outputs": [
    {
     "name": "stdout",
     "output_type": "stream",
     "text": [
      "<class 'pandas.core.frame.DataFrame'>\n",
      "Int64Index: 66357 entries, 0 to 104300\n",
      "Data columns (total 10 columns):\n",
      " #   Column           Non-Null Count  Dtype         \n",
      "---  ------           --------------  -----         \n",
      " 0   purchaseid       66357 non-null  object        \n",
      " 1   item_id          66357 non-null  object        \n",
      " 2   quantity         66357 non-null  int64         \n",
      " 3   purchasedate     66357 non-null  datetime64[ns]\n",
      " 4   customerid       66357 non-null  object        \n",
      " 5   shopid           66357 non-null  object        \n",
      " 6   loyalty_program  66357 non-null  int64         \n",
      " 7   price_per_one    66357 non-null  float64       \n",
      " 8   purchase_month   66357 non-null  int64         \n",
      " 9   purchase_amount  66357 non-null  float64       \n",
      "dtypes: datetime64[ns](1), float64(2), int64(3), object(4)\n",
      "memory usage: 7.6+ MB\n"
     ]
    }
   ],
   "source": [
    "data.info()"
   ]
  },
  {
   "cell_type": "markdown",
   "id": "837d45f7",
   "metadata": {},
   "source": [
    "### Выводы по разделу"
   ]
  },
  {
   "cell_type": "markdown",
   "id": "41ad2b34",
   "metadata": {},
   "source": [
    "На начальном этапе были подключены необходимые библиотеки по обработке данных и построению графиков.\\\n",
    "После чего в переменные retail_dataset и product_codes были загружены полученные данные выгрузок в формате csv.\\\n",
    "Проведена работа по обзору данных и получение первых сведений о их составе, формате и качеству.\\\n",
    "Далее в работе были перемены инструменты и методы позволившие привести наименование строк и столбцов к форме хорошего тона.\n",
    "Также датасет product_codes был очищен от дубликатов и заменены значения цен на расценки, рассчитанные по медиане.\\\n",
    "После чего датасеты был объединены в единый информационный датафрейм data.\\\n",
    "В дальнейшем, данные были очищены от дубликатов, заполнены пропуски, усечены аномальные выбросы.\\\n",
    "И в заключении добавлены данные по месяцу формирования чека, а также суммы покупки.\n",
    "\n",
    "По итогу проделанной работы из 105335 строк первоначальных данных были получены 66357 строк без дубликатов, пропусков и ошибочных данных. Потери данных составили 37.02%, это весьма существенно. Основная потеря данных произошла на этапе очистки датасета от ошибочного значения количества товаров, которое было равно нулю.\\\n",
    "Несмотря на это, решение об очисте от ошибочных данных позволит более качественно сделать анализ и оценить результаты.\n"
   ]
  },
  {
   "cell_type": "markdown",
   "id": "9f6c6fc9",
   "metadata": {},
   "source": [
    "##  Исследовательский анализ данных"
   ]
  },
  {
   "cell_type": "markdown",
   "id": "c348c53a",
   "metadata": {},
   "source": [
    "###  Обзор периода исследования"
   ]
  },
  {
   "cell_type": "markdown",
   "id": "4f50dc47",
   "metadata": {},
   "source": [
    "Обзор периода исследования проведем методом построения гистограммы всего временного отрезка, из чего можно будет увидеть равномерность данных и наличие или отсутствие в них пробелов."
   ]
  },
  {
   "cell_type": "code",
   "execution_count": 43,
   "id": "8a1d3e8e",
   "metadata": {
    "scrolled": false
   },
   "outputs": [
    {
     "data": {
      "image/png": "[encoded data removed]",
      "text/plain": [
       "<Figure size 1400x800 with 1 Axes>"
      ]
     },
     "metadata": {},
     "output_type": "display_data"
    }
   ],
   "source": [
    "# Ипользуем тип графика 'hist' с параметром количества корзин равноым 30.\n",
    "# Дополнительно из библиотеки 'matplotlib.pyplot' возьмем настройки размера выводимого графика 'figure' с аргументом \n",
    "# 'figsize' в котором зададим значения 14х8. Текст повернем на 45° методом 'xticks' с аргументом 'rotation',\n",
    "# в которое передадим нужное значение:\n",
    "\n",
    "plt.figure(figsize=(14, 8))\n",
    "data['purchasedate'].hist(bins=30)\n",
    "plt.xticks(rotation=45)\n",
    "plt.show();"
   ]
  },
  {
   "cell_type": "markdown",
   "id": "87286be5",
   "metadata": {},
   "source": [
    "Выведем начальные и конечные даты исследуемого периода."
   ]
  },
  {
   "cell_type": "code",
   "execution_count": 44,
   "id": "10f32782",
   "metadata": {
    "scrolled": true
   },
   "outputs": [
    {
     "name": "stdout",
     "output_type": "stream",
     "text": [
      " Минимальная дата данных: 2016-12-01 08:26:00\n",
      " Максимальная дата данных: 2017-02-28 17:01:00\n"
     ]
    }
   ],
   "source": [
    "# Используем 'f-строки' для вывода значений, передав в них вычисляемые поля 'purchasedate.min' и 'purchasedate.max'\n",
    "print(f' Минимальная дата данных: {data.purchasedate.min()}')\n",
    "print(f' Максимальная дата данных: {data.purchasedate.max()}')"
   ]
  },
  {
   "cell_type": "markdown",
   "id": "57e76135",
   "metadata": {},
   "source": [
    "Таким образом обозреваемый период находится в пределах с 2016-12-01 08:26:00 по 2017-02-28 17:01:00"
   ]
  },
  {
   "cell_type": "markdown",
   "id": "2c6304dd",
   "metadata": {},
   "source": [
    "Также на графике замечен пробел данных в период с 23.12.2016 по 04.01.2017. Проверим наличие данных за этот период.\\\n",
    "Для этого сделаем срез обследуемого периода и выведем информацию о наличии данных в нем."
   ]
  },
  {
   "cell_type": "code",
   "execution_count": 45,
   "id": "3cd14da2",
   "metadata": {},
   "outputs": [
    {
     "name": "stdout",
     "output_type": "stream",
     "text": [
      "<class 'pandas.core.frame.DataFrame'>\n",
      "Int64Index: 0 entries\n",
      "Data columns (total 10 columns):\n",
      " #   Column           Non-Null Count  Dtype         \n",
      "---  ------           --------------  -----         \n",
      " 0   purchaseid       0 non-null      object        \n",
      " 1   item_id          0 non-null      object        \n",
      " 2   quantity         0 non-null      int64         \n",
      " 3   purchasedate     0 non-null      datetime64[ns]\n",
      " 4   customerid       0 non-null      object        \n",
      " 5   shopid           0 non-null      object        \n",
      " 6   loyalty_program  0 non-null      int64         \n",
      " 7   price_per_one    0 non-null      float64       \n",
      " 8   purchase_month   0 non-null      int64         \n",
      " 9   purchase_amount  0 non-null      float64       \n",
      "dtypes: datetime64[ns](1), float64(2), int64(3), object(4)\n",
      "memory usage: 0.0+ bytes\n"
     ]
    }
   ],
   "source": [
    "# Используем срез методом 'query' с логически отбором по иследуемым датам, после чего,\n",
    "# выведем информацию методом 'info' по полученному срезу\n",
    "data.query('purchasedate > \"2016-12-24 00:00:00\" and purchasedate < \"2017-1-4 00:00:00\"').info()"
   ]
  },
  {
   "cell_type": "markdown",
   "id": "d8c3f943",
   "metadata": {},
   "source": [
    "В полученном срезе действительно нет данных. Возможно, был сбой системы регистрации продаж, но также возможно предприятие в предновогодний и новогодний период просто прекратило продажи по хозяйственным причинам. Данное обстоятельство требует уточнения у заказчика, с целью выяснения причин, а возможно и недопущения основы возникновения пробелов в данных."
   ]
  },
  {
   "cell_type": "markdown",
   "id": "ef2e5640",
   "metadata": {},
   "source": [
    "### Обзор уникальных значений магазинов"
   ]
  },
  {
   "cell_type": "markdown",
   "id": "a8e65fdc",
   "metadata": {},
   "source": [
    "С целью изучения информации о магазинах, которые осуществляют продажи, сделаем обзор их перечня."
   ]
  },
  {
   "cell_type": "code",
   "execution_count": 46,
   "id": "c94de90e",
   "metadata": {
    "scrolled": true
   },
   "outputs": [
    {
     "name": "stdout",
     "output_type": "stream",
     "text": [
      "Список уникальных магазинов: ['Shop 0' 'Shop 4' 'Shop 5' 'Shop 15' 'Shop 2' 'Shop 10' 'Shop 8' 'Shop 9'\n",
      " 'Shop 6' 'Shop 28' 'Shop 12' 'Shop 22' 'Shop 1' 'Shop 11' 'Shop 19'\n",
      " 'Shop 18' 'Shop 7' 'Shop 27' 'Shop 3' 'Shop 13' 'Shop 26' 'Shop 17'\n",
      " 'Shop 16' 'Shop 14' 'Shop 24' 'Shop 20' 'Shop 25' 'Shop 30' 'Shop 21'\n",
      " 'Shop 29']\n"
     ]
    }
   ],
   "source": [
    "# В метод 'print' передадим выборку уникальных значений столбца 'shopid' с методом 'unique':\n",
    "print ('Список уникальных магазинов: ''{}'.format(data['shopid'].unique()))"
   ]
  },
  {
   "cell_type": "code",
   "execution_count": 47,
   "id": "e32c7f55",
   "metadata": {
    "scrolled": true
   },
   "outputs": [
    {
     "name": "stdout",
     "output_type": "stream",
     "text": [
      "Всего в дадасете уникальных магазинов: 30\n"
     ]
    }
   ],
   "source": [
    "# Вывод количества уникальных значений 'shopid' сделаем используя сочетания методов 'format' и 'nunique'\n",
    "print ('Всего в дадасете уникальных магазинов: ''{}'.format(data['shopid'].nunique()))"
   ]
  },
  {
   "cell_type": "markdown",
   "id": "161224df",
   "metadata": {},
   "source": [
    "Построим график по суммам продаж каждого магазина."
   ]
  },
  {
   "cell_type": "code",
   "execution_count": 48,
   "id": "b9467cce",
   "metadata": {},
   "outputs": [
    {
     "data": {
      "image/png": "[encoded data removed]",
      "text/plain": [
       "<Figure size 1400x800 with 1 Axes>"
      ]
     },
     "metadata": {},
     "output_type": "display_data"
    }
   ],
   "source": [
    "# Используем метод группировки данных 'groupby' к датасету 'data'. Группировку проведем по столбцу 'shopid',\n",
    "# а метод sum  применим к данным из столбца 'purchase_amount'. После чего используем группировку 'sort_values'\n",
    "# по сгруппированным данным с аргументом 'by='purchase_amount' и сортировкой по возрастанию 'ascending=False'\n",
    "# Полученную сгруппированную таблицу запишем в переменную 'store_sales_amounts'\n",
    "store_sales_amounts = data.groupby('shopid', as_index=False)['purchase_amount']\\\n",
    "    .sum().sort_values(by='purchase_amount', ascending=False)\n",
    "\n",
    "# Полученные сгруппированные данные из переменной 'store_sales_amounts' выведем в виде столбчатой дираграммы 'barplot' из\n",
    "# библиотеки 'seaborn', где по \"y\" задаются занчения purchase_amount, а по оси \"х\" задаются значения 'shopid'.\n",
    "plt.figure(figsize=(14, 8))\n",
    "ax=sns.barplot(y='purchase_amount', x=\"shopid\",  data=store_sales_amounts, palette='Spectral', ec=\"gray\")\n",
    "\n",
    "# Напришем заголовок графика методом 'title'. Ось х полпишем методом 'xlabel', а y методом 'ylabel'. \n",
    "# Подписи значений оси х зададим методом 'xticks' с агрументом 'rotation=90'\n",
    "plt.title('Суммы продаж магазинов')\n",
    "plt.xlabel('Магазины')\n",
    "plt.ylabel('Суммы продаж')\n",
    "plt.xticks(rotation=90)\n",
    "plt.show()\n"
   ]
  },
  {
   "cell_type": "markdown",
   "id": "72024b88",
   "metadata": {},
   "source": [
    "Из графика видно что в основные продажи идут через магазин \"shop 0\". Это говорит о наличии не диверсифицированных каналах реализации, на что стоит обратить внимание."
   ]
  },
  {
   "cell_type": "markdown",
   "id": "4b2dfde8",
   "metadata": {},
   "source": [
    "###  Обзор уникальных значений программ лояльности"
   ]
  },
  {
   "cell_type": "markdown",
   "id": "d13b8183",
   "metadata": {},
   "source": [
    "Для дальнейшего изучения имеющейся информации необходимо сделать обзор о количестве уникальных программ лояльности в обозреваемом периоде."
   ]
  },
  {
   "cell_type": "code",
   "execution_count": 49,
   "id": "37d48191",
   "metadata": {
    "scrolled": true
   },
   "outputs": [
    {
     "name": "stdout",
     "output_type": "stream",
     "text": [
      "Зарегистрированные уникальные программы лояльности: [0 1]\n"
     ]
    }
   ],
   "source": [
    "# В метод 'print' добавим функцию 'format', в которую в свою очередь, с  помощью функции 'unique'\n",
    "# проверим столбец 'loyalty_program' на наличие уникальных данных.\n",
    "print('Зарегистрированные уникальные программы лояльности: ' '{}'.format(data.loyalty_program.unique()))"
   ]
  },
  {
   "cell_type": "markdown",
   "id": "4094d0f5",
   "metadata": {},
   "source": [
    "В датасете есть только две программы, причем они закодированы цифровыми значениями. По полученной информации от заказчика, 0 обозначен признак не участие в программе лояльности покупателем, а 1 это участие в в ней покупателем."
   ]
  },
  {
   "cell_type": "markdown",
   "id": "a2685fcf",
   "metadata": {},
   "source": [
    "### Количество покупателей в разрезе категорий по признаку участия в программе лояльности"
   ]
  },
  {
   "cell_type": "markdown",
   "id": "8b69bfe6",
   "metadata": {},
   "source": [
    "Для дальнейшего исследования произведем подсчет покупателей, которые принимают и не принимают участия в программе лояльности."
   ]
  },
  {
   "cell_type": "code",
   "execution_count": 50,
   "id": "66afbfef",
   "metadata": {
    "scrolled": true
   },
   "outputs": [
    {
     "name": "stdout",
     "output_type": "stream",
     "text": [
      "Количество уникальных пользователей не принимающих участие в программе лояльности: 1070\n",
      "Количество уникальных пользователей принимающих участие в программе лояльности: 544\n"
     ]
    }
   ],
   "source": [
    "# Делаем срез данных методом 'query', которому передаем логическое выражение столбца 'loyalty_program' соответствующее 0.\n",
    "# После чего применим метод 'nunique' к столбцу 'customerid', которое позволит подсчитать \n",
    "# уникальные значения из полученного среза\n",
    "# Одновременно сделаем вывод полученного подсчета функцией 'print':\n",
    "print('Количество уникальных пользователей не принимающих участие в программе лояльности: ''{}'\\\n",
    "      .format(data.query('loyalty_program == 0')['customerid'].nunique()))\n",
    "# Тем же методом полсчитаем количество уникальных польщователей, но уже по срезу где 'loyalty_program' будет \n",
    "# соответствовать 1\n",
    "print('Количество уникальных пользователей принимающих участие в программе лояльности: ''{}'\\\n",
    "      .format(data.query('loyalty_program == 1')['customerid'].nunique()))"
   ]
  },
  {
   "cell_type": "markdown",
   "id": "5506e53c",
   "metadata": {},
   "source": [
    "Из полученного подсчета видно, что количество пользователей, которые не принимают участие в программе лояльности в 1,96 раза больше, чем покупателей, которые используют эту программу и составляет 33,7% от всего количества."
   ]
  },
  {
   "cell_type": "markdown",
   "id": "396a2d10",
   "metadata": {},
   "source": [
    "#### Проверим количество уникальных пользователей совершавших покупки в разрезе каждого месяца по группам лояльности:"
   ]
  },
  {
   "cell_type": "code",
   "execution_count": 51,
   "id": "217ced41",
   "metadata": {},
   "outputs": [
    {
     "data": {
      "text/html": [
       "<div>\n",
       "<style scoped>\n",
       "    .dataframe tbody tr th:only-of-type {\n",
       "        vertical-align: middle;\n",
       "    }\n",
       "\n",
       "    .dataframe tbody tr th {\n",
       "        vertical-align: top;\n",
       "    }\n",
       "\n",
       "    .dataframe thead th {\n",
       "        text-align: right;\n",
       "    }\n",
       "</style>\n",
       "<table border=\"1\" class=\"dataframe\">\n",
       "  <thead>\n",
       "    <tr style=\"text-align: right;\">\n",
       "      <th>purchase_month</th>\n",
       "      <th>12</th>\n",
       "      <th>1</th>\n",
       "      <th>2</th>\n",
       "      <th>sum</th>\n",
       "    </tr>\n",
       "    <tr>\n",
       "      <th>loyalty_program</th>\n",
       "      <th></th>\n",
       "      <th></th>\n",
       "      <th></th>\n",
       "      <th></th>\n",
       "    </tr>\n",
       "  </thead>\n",
       "  <tbody>\n",
       "    <tr>\n",
       "      <th>0</th>\n",
       "      <td>539</td>\n",
       "      <td>488</td>\n",
       "      <td>471</td>\n",
       "      <td>1070</td>\n",
       "    </tr>\n",
       "    <tr>\n",
       "      <th>1</th>\n",
       "      <td>311</td>\n",
       "      <td>222</td>\n",
       "      <td>245</td>\n",
       "      <td>544</td>\n",
       "    </tr>\n",
       "    <tr>\n",
       "      <th>sum</th>\n",
       "      <td>850</td>\n",
       "      <td>710</td>\n",
       "      <td>716</td>\n",
       "      <td>1614</td>\n",
       "    </tr>\n",
       "  </tbody>\n",
       "</table>\n",
       "</div>"
      ],
      "text/plain": [
       "purchase_month    12    1    2   sum\n",
       "loyalty_program                     \n",
       "0                539  488  471  1070\n",
       "1                311  222  245   544\n",
       "sum              850  710  716  1614"
      ]
     },
     "execution_count": 51,
     "metadata": {},
     "output_type": "execute_result"
    }
   ],
   "source": [
    "# Сформируем сводные данные методом 'pivot_table', где индексами будт уникальные значения 'loyalty_program',\n",
    "# а подсчёт произведем агрегирующей функцией 'aggfunc', которой передадим метод 'nunique',\n",
    "# по данным из столбца 'customerid'. В завершении подведем итоги методом 'margins'\n",
    "# и переименуем полученные столбец и строки методом margins_name в 'sum'\n",
    "data.pivot_table(index='loyalty_program', columns='purchase_month', values='customerid'\n",
    "                 , aggfunc='nunique', margins= True , margins_name='sum')[[12, 1, 2, 'sum']]"
   ]
  },
  {
   "cell_type": "markdown",
   "id": "2b73c89e",
   "metadata": {},
   "source": [
    "Как видно из данных, у когорты не принимающих участие в программе лояльности, от месяца к месяцу количество покупателей снижается. Так в январе количество покупателей снизилось на 51, по отношению к декабрю. В феврале убытие составлю еще 17 пользователей. Суммарно за период магазин по данной когорте потерял 68 пользователей, что составляет 4% от всего количества пользователей обеих когорт.\n",
    "\n",
    "В когорте покупателей, принимающих участие в программе лояльности, убыток пользователей в январе составил 89 ед. по отношению к декабрю. В феврале прирост в 23 покупателя по отношению к январю. Общие потери составили 66 пользователей за период, что составляет те же 4% от общего количества покупателей.\n"
   ]
  },
  {
   "cell_type": "markdown",
   "id": "0c945693",
   "metadata": {},
   "source": [
    "#### Проверим, сколько чеков оформила каждая когорта пользователей за каждый месяц обозреваемого периода:"
   ]
  },
  {
   "cell_type": "code",
   "execution_count": 52,
   "id": "afc18cf2",
   "metadata": {
    "scrolled": true
   },
   "outputs": [
    {
     "data": {
      "text/html": [
       "<div>\n",
       "<style scoped>\n",
       "    .dataframe tbody tr th:only-of-type {\n",
       "        vertical-align: middle;\n",
       "    }\n",
       "\n",
       "    .dataframe tbody tr th {\n",
       "        vertical-align: top;\n",
       "    }\n",
       "\n",
       "    .dataframe thead th {\n",
       "        text-align: right;\n",
       "    }\n",
       "</style>\n",
       "<table border=\"1\" class=\"dataframe\">\n",
       "  <thead>\n",
       "    <tr style=\"text-align: right;\">\n",
       "      <th>purchase_month</th>\n",
       "      <th>12</th>\n",
       "      <th>1</th>\n",
       "      <th>2</th>\n",
       "      <th>sum</th>\n",
       "    </tr>\n",
       "    <tr>\n",
       "      <th>loyalty_program</th>\n",
       "      <th></th>\n",
       "      <th></th>\n",
       "      <th></th>\n",
       "      <th></th>\n",
       "    </tr>\n",
       "  </thead>\n",
       "  <tbody>\n",
       "    <tr>\n",
       "      <th>0</th>\n",
       "      <td>971</td>\n",
       "      <td>745</td>\n",
       "      <td>703</td>\n",
       "      <td>2419</td>\n",
       "    </tr>\n",
       "    <tr>\n",
       "      <th>1</th>\n",
       "      <td>480</td>\n",
       "      <td>274</td>\n",
       "      <td>308</td>\n",
       "      <td>1062</td>\n",
       "    </tr>\n",
       "    <tr>\n",
       "      <th>sum</th>\n",
       "      <td>1451</td>\n",
       "      <td>1019</td>\n",
       "      <td>1011</td>\n",
       "      <td>3481</td>\n",
       "    </tr>\n",
       "  </tbody>\n",
       "</table>\n",
       "</div>"
      ],
      "text/plain": [
       "purchase_month     12     1     2   sum\n",
       "loyalty_program                        \n",
       "0                 971   745   703  2419\n",
       "1                 480   274   308  1062\n",
       "sum              1451  1019  1011  3481"
      ]
     },
     "execution_count": 52,
     "metadata": {},
     "output_type": "execute_result"
    }
   ],
   "source": [
    "# Сформируем сводные данные темже методом, как и по пользователям в предыдущей строке, только данные для подсчета \n",
    "# берем из 'purchaseid'\n",
    "data.pivot_table(index='loyalty_program', columns='purchase_month', values='purchaseid'\n",
    "                 , aggfunc='nunique', margins= True , margins_name='sum')[[12, 1, 2, 'sum']]"
   ]
  },
  {
   "cell_type": "markdown",
   "id": "e30cd148",
   "metadata": {},
   "source": [
    "Из полученных агрегированных данных видно, что количество уникальных чеков внутри каждого месяца в когорте не принимающих участия в программе лояльности, постепенно снижается с декабря по февраль. Снижение в январе составило 226 чека (по отношению к декабрю), в феврале 42 чека (по отношению к январю). Общий уровень снижения за рассматриваемый период составил 268 чека.\n",
    "Тренд на уменьшения количества чеков присущ и когорте покупателей, которые приняли участие в программе лояльности. В декабре потери составили 206 чеков, в феврале небольшой прирост на 34 чека, но при этом общий уровень потерь составил 172 единицы чеков за период.\\\n",
    "Суммарно магазин в январе теряет 432 чеков и 8 в феврале. Суммарные потери магазина в количестве чеков составило 440 единицы. Это 30% потерь от декабрьской базы.\\\n",
    "Интересным было бы посмотреть посетителей, не принимающих участие в программе лояльности, которые не регистрировались в магазине.\n"
   ]
  },
  {
   "cell_type": "code",
   "execution_count": 53,
   "id": "04dfdd4e",
   "metadata": {},
   "outputs": [
    {
     "data": {
      "text/html": [
       "<div>\n",
       "<style scoped>\n",
       "    .dataframe tbody tr th:only-of-type {\n",
       "        vertical-align: middle;\n",
       "    }\n",
       "\n",
       "    .dataframe tbody tr th {\n",
       "        vertical-align: top;\n",
       "    }\n",
       "\n",
       "    .dataframe thead th {\n",
       "        text-align: right;\n",
       "    }\n",
       "</style>\n",
       "<table border=\"1\" class=\"dataframe\">\n",
       "  <thead>\n",
       "    <tr style=\"text-align: right;\">\n",
       "      <th>purchase_month</th>\n",
       "      <th>12</th>\n",
       "      <th>1</th>\n",
       "      <th>2</th>\n",
       "      <th>sum</th>\n",
       "    </tr>\n",
       "    <tr>\n",
       "      <th>loyalty_program</th>\n",
       "      <th></th>\n",
       "      <th></th>\n",
       "      <th></th>\n",
       "      <th></th>\n",
       "    </tr>\n",
       "  </thead>\n",
       "  <tbody>\n",
       "    <tr>\n",
       "      <th>0</th>\n",
       "      <td>154</td>\n",
       "      <td>103</td>\n",
       "      <td>95</td>\n",
       "      <td>352</td>\n",
       "    </tr>\n",
       "    <tr>\n",
       "      <th>sum</th>\n",
       "      <td>154</td>\n",
       "      <td>103</td>\n",
       "      <td>95</td>\n",
       "      <td>352</td>\n",
       "    </tr>\n",
       "  </tbody>\n",
       "</table>\n",
       "</div>"
      ],
      "text/plain": [
       "purchase_month    12    1   2  sum\n",
       "loyalty_program                   \n",
       "0                154  103  95  352\n",
       "sum              154  103  95  352"
      ]
     },
     "execution_count": 53,
     "metadata": {},
     "output_type": "execute_result"
    }
   ],
   "source": [
    "# Сделаем срез методом 'query' с логическим значением 'customerid' соотвествующим 'not_reg', а затем, по полученным данным\n",
    "# сформируем сводную таблицу, также как и в редыдущем шаге.\n",
    "data.query('customerid == \"not_reg\"').pivot_table(index='loyalty_program', columns='purchase_month', values='purchaseid'\n",
    "                                                  , aggfunc='nunique', margins= True , margins_name='sum')\\\n",
    "                                                    [[12, 1, 2, 'sum']]"
   ]
  },
  {
   "cell_type": "markdown",
   "id": "d301538c",
   "metadata": {},
   "source": [
    "В данном срезе также присутствует тренд на уменьшение количества чеков. Причем, незарегистрированные пользователи осуществляют покупки в 10% от всего объёма, что немало и эта категория требует дополнительного внимания.\n",
    "\n",
    "Однако, сам по себе показатель количество чеков не совсем информативен. Ведь чеков может быть мало, а сумма покупки в них огромная. Важно посмотреть на финансовую составлявшую в рассматриваемом периоде по когортам.\n"
   ]
  },
  {
   "cell_type": "markdown",
   "id": "4d42391d",
   "metadata": {},
   "source": [
    "### Обзор суммы покупок в разрезе категорий покупателей по признаку участия в программе лояльности"
   ]
  },
  {
   "cell_type": "markdown",
   "id": "915e0280",
   "metadata": {},
   "source": [
    "Потери в количестве чеков еще не означают финансовые потери. Суммы продаж являются более критичным показателем. Агрегируем данные по этому показателю."
   ]
  },
  {
   "cell_type": "code",
   "execution_count": 54,
   "id": "8f4790bd",
   "metadata": {
    "scrolled": false
   },
   "outputs": [
    {
     "data": {
      "text/html": [
       "<div>\n",
       "<style scoped>\n",
       "    .dataframe tbody tr th:only-of-type {\n",
       "        vertical-align: middle;\n",
       "    }\n",
       "\n",
       "    .dataframe tbody tr th {\n",
       "        vertical-align: top;\n",
       "    }\n",
       "\n",
       "    .dataframe thead th {\n",
       "        text-align: right;\n",
       "    }\n",
       "</style>\n",
       "<table border=\"1\" class=\"dataframe\">\n",
       "  <thead>\n",
       "    <tr style=\"text-align: right;\">\n",
       "      <th>purchase_month</th>\n",
       "      <th>12</th>\n",
       "      <th>1</th>\n",
       "      <th>2</th>\n",
       "      <th>sum</th>\n",
       "    </tr>\n",
       "    <tr>\n",
       "      <th>loyalty_program</th>\n",
       "      <th></th>\n",
       "      <th></th>\n",
       "      <th></th>\n",
       "      <th></th>\n",
       "    </tr>\n",
       "  </thead>\n",
       "  <tbody>\n",
       "    <tr>\n",
       "      <th>0</th>\n",
       "      <td>417020.265</td>\n",
       "      <td>355444.755</td>\n",
       "      <td>271507.275</td>\n",
       "      <td>1043972.295</td>\n",
       "    </tr>\n",
       "    <tr>\n",
       "      <th>1</th>\n",
       "      <td>139010.385</td>\n",
       "      <td>96479.795</td>\n",
       "      <td>109614.795</td>\n",
       "      <td>345104.975</td>\n",
       "    </tr>\n",
       "    <tr>\n",
       "      <th>sum</th>\n",
       "      <td>556030.650</td>\n",
       "      <td>451924.550</td>\n",
       "      <td>381122.070</td>\n",
       "      <td>1389077.270</td>\n",
       "    </tr>\n",
       "  </tbody>\n",
       "</table>\n",
       "</div>"
      ],
      "text/plain": [
       "purchase_month           12           1           2          sum\n",
       "loyalty_program                                                 \n",
       "0                417020.265  355444.755  271507.275  1043972.295\n",
       "1                139010.385   96479.795  109614.795   345104.975\n",
       "sum              556030.650  451924.550  381122.070  1389077.270"
      ]
     },
     "execution_count": 54,
     "metadata": {},
     "output_type": "execute_result"
    }
   ],
   "source": [
    "# Используем сводные данные методом 'pivot_table' с индексами из уникальных значений 'loyalty_program', \n",
    "# а значения берем из столбца 'purchase_amount', к которому применим аггрегирующую функцию 'aggfunc' с аргумегтом 'sum'.\n",
    "# И в заключении подведем итоги методом 'margins'\n",
    "data.pivot_table(index='loyalty_program', columns='purchase_month', values='purchase_amount'\n",
    "                 , aggfunc='sum', margins= True , margins_name='sum')[[12, 1, 2, 'sum']]"
   ]
  },
  {
   "cell_type": "markdown",
   "id": "dcc02f35",
   "metadata": {},
   "source": [
    "Из данного обзора можно сделать следующие выводы\n",
    "\n",
    "    По когорте покупателей, не принимающих участия в программе лояльности:\n",
    "    1. Сумма продаж в январе, по сравнению с декабрем, снизилась на -61575.51 руб., что составило 15% от базы декабря.\n",
    "    2. Сумма продаж в феврале существенно упала на -83937.48 руб. к январю, что составило уже -24% падения.\n",
    "    3. В общей структуре продаж по итогам исследуемого периода, объем покупок данными пользователями составила 75%.\n",
    "\n",
    "    По когорте покупателей, участвующих в программе лояльности:\n",
    "    1. Падение продаж в январе, по отношению к базовому декабрю на -42530.59 руб. в абсолюте, и -31% в относительном выражении.\n",
    "    2. Не большой прирост продаж в феврале на +13135.00 руб., что составило +14% к базе января.\n",
    "    3. В общей структуре продаж по итогам исследуемого периода, объем покупок данными пользователями составила 25%.\n",
    "\n",
    "    Итоговые показатели:\n",
    "    1. Падение общих продаж в январе, по отношению к базе декабря, составили -104106.10 руб. Потери составили -19%.\n",
    "    2. Усугубление падения суммы продаж в феврале по отношению к базе января -70820.48 руб, что составило еще -16%.\n",
    "Общий намечающийся тренд не оптимистичен. В поисках точки роста, стоит обратить внимание на количество реализуемого товара."
   ]
  },
  {
   "cell_type": "markdown",
   "id": "6d1202cd",
   "metadata": {},
   "source": [
    "### Количество товаров в покупках каждой из категории покупателей"
   ]
  },
  {
   "cell_type": "markdown",
   "id": "b5c819c1",
   "metadata": {},
   "source": [
    "Обратим внимание на объемы продаж в количественном выражении. Возможно здесь можно найти оптимистичные точки роста."
   ]
  },
  {
   "cell_type": "code",
   "execution_count": 55,
   "id": "45c37b1b",
   "metadata": {
    "scrolled": true
   },
   "outputs": [
    {
     "data": {
      "text/html": [
       "<div>\n",
       "<style scoped>\n",
       "    .dataframe tbody tr th:only-of-type {\n",
       "        vertical-align: middle;\n",
       "    }\n",
       "\n",
       "    .dataframe tbody tr th {\n",
       "        vertical-align: top;\n",
       "    }\n",
       "\n",
       "    .dataframe thead th {\n",
       "        text-align: right;\n",
       "    }\n",
       "</style>\n",
       "<table border=\"1\" class=\"dataframe\">\n",
       "  <thead>\n",
       "    <tr style=\"text-align: right;\">\n",
       "      <th>purchase_month</th>\n",
       "      <th>12</th>\n",
       "      <th>1</th>\n",
       "      <th>2</th>\n",
       "      <th>sum</th>\n",
       "    </tr>\n",
       "    <tr>\n",
       "      <th>loyalty_program</th>\n",
       "      <th></th>\n",
       "      <th></th>\n",
       "      <th></th>\n",
       "      <th></th>\n",
       "    </tr>\n",
       "  </thead>\n",
       "  <tbody>\n",
       "    <tr>\n",
       "      <th>0</th>\n",
       "      <td>130902</td>\n",
       "      <td>123077</td>\n",
       "      <td>92327</td>\n",
       "      <td>346306</td>\n",
       "    </tr>\n",
       "    <tr>\n",
       "      <th>1</th>\n",
       "      <td>42353</td>\n",
       "      <td>34118</td>\n",
       "      <td>39371</td>\n",
       "      <td>115842</td>\n",
       "    </tr>\n",
       "    <tr>\n",
       "      <th>sum</th>\n",
       "      <td>173255</td>\n",
       "      <td>157195</td>\n",
       "      <td>131698</td>\n",
       "      <td>462148</td>\n",
       "    </tr>\n",
       "  </tbody>\n",
       "</table>\n",
       "</div>"
      ],
      "text/plain": [
       "purchase_month       12       1       2     sum\n",
       "loyalty_program                                \n",
       "0                130902  123077   92327  346306\n",
       "1                 42353   34118   39371  115842\n",
       "sum              173255  157195  131698  462148"
      ]
     },
     "execution_count": 55,
     "metadata": {},
     "output_type": "execute_result"
    }
   ],
   "source": [
    "# Используем теже методы формироваия сводных данных, как и в педыдущих расчетах.\n",
    "# Только значенме для анализа выберем столбец 'quantity'\n",
    "data.pivot_table(index='loyalty_program', columns='purchase_month', values='quantity'\n",
    "                 , aggfunc='sum', margins= True , margins_name='sum')[[12, 1, 2, 'sum']]"
   ]
  },
  {
   "cell_type": "markdown",
   "id": "f5b950e1",
   "metadata": {},
   "source": [
    "Из данного обзора можно сделать следующие выводы\n",
    "\n",
    "    По когорте покупателей, не принимающих участия в программе лояльности:\n",
    "    1. Объем продаж в январе, относительно базы декабря, падают в абсолюте на -7825 ед. товара, что составляет -6% от базы декабря.\n",
    "    2. Падение объемов продаж в этой группе, продолжается в феврале на -30750 ед. товара, что составляет -25% к базе января\n",
    "    3. В общей структуре объемов продаж данная категория покупателей приобрела 75% всего товарооборота в магазинах.\n",
    "\n",
    "    По когорте покупателей, участвующих в программе лояльности:\n",
    "    1. Объем продаж в январе, относительно базы декабря, падают в абсолюте на -8235 ед. товара, что составляет -19% в категории\n",
    "    2. Не значительный прирост объемов продаж +5253 ед. товара отиграло падение января на +15%\n",
    "    3. В общей структуре объемов продаж данная категория покупателей приобрела 25% всего товара в магазинах. \n",
    "\n",
    "    Итоговые показатели:\n",
    "    1. Падение общих продаж в январе, по отношению к базе декабря, составили -16060 ед. товара. Потери составили -9%.\n",
    "    2. Рецессия объемов продаж продолжилась в феврале и составила к базе января -25497 ед. товара, что составило еще -16%.\n"
   ]
  },
  {
   "cell_type": "markdown",
   "id": "b7f1ec74",
   "metadata": {},
   "source": [
    "### Рейтинг популярности товаров по каждой категории покупателей"
   ]
  },
  {
   "cell_type": "markdown",
   "id": "9ccf54ad",
   "metadata": {},
   "source": [
    "Проверим общий топ-10 популярных товаров за весь период по обеим категориям покупателей"
   ]
  },
  {
   "cell_type": "code",
   "execution_count": 56,
   "id": "31390adb",
   "metadata": {},
   "outputs": [
    {
     "data": {
      "text/html": [
       "<div>\n",
       "<style scoped>\n",
       "    .dataframe tbody tr th:only-of-type {\n",
       "        vertical-align: middle;\n",
       "    }\n",
       "\n",
       "    .dataframe tbody tr th {\n",
       "        vertical-align: top;\n",
       "    }\n",
       "\n",
       "    .dataframe thead th {\n",
       "        text-align: right;\n",
       "    }\n",
       "</style>\n",
       "<table border=\"1\" class=\"dataframe\">\n",
       "  <thead>\n",
       "    <tr style=\"text-align: right;\">\n",
       "      <th>purchase_month</th>\n",
       "      <th>12</th>\n",
       "      <th>1</th>\n",
       "      <th>2</th>\n",
       "      <th>sum</th>\n",
       "    </tr>\n",
       "    <tr>\n",
       "      <th>item_id</th>\n",
       "      <th></th>\n",
       "      <th></th>\n",
       "      <th></th>\n",
       "      <th></th>\n",
       "    </tr>\n",
       "  </thead>\n",
       "  <tbody>\n",
       "    <tr>\n",
       "      <th>85123A</th>\n",
       "      <td>1915.0</td>\n",
       "      <td>1585.0</td>\n",
       "      <td>1138.0</td>\n",
       "      <td>4638.0</td>\n",
       "    </tr>\n",
       "    <tr>\n",
       "      <th>21212</th>\n",
       "      <td>903.0</td>\n",
       "      <td>932.0</td>\n",
       "      <td>1191.0</td>\n",
       "      <td>3026.0</td>\n",
       "    </tr>\n",
       "    <tr>\n",
       "      <th>22961</th>\n",
       "      <td>1224.0</td>\n",
       "      <td>706.0</td>\n",
       "      <td>722.0</td>\n",
       "      <td>2652.0</td>\n",
       "    </tr>\n",
       "    <tr>\n",
       "      <th>84879</th>\n",
       "      <td>1001.0</td>\n",
       "      <td>707.0</td>\n",
       "      <td>873.0</td>\n",
       "      <td>2581.0</td>\n",
       "    </tr>\n",
       "    <tr>\n",
       "      <th>85099B</th>\n",
       "      <td>693.0</td>\n",
       "      <td>693.0</td>\n",
       "      <td>902.0</td>\n",
       "      <td>2288.0</td>\n",
       "    </tr>\n",
       "    <tr>\n",
       "      <th>22469</th>\n",
       "      <td>786.0</td>\n",
       "      <td>698.0</td>\n",
       "      <td>772.0</td>\n",
       "      <td>2256.0</td>\n",
       "    </tr>\n",
       "    <tr>\n",
       "      <th>22197</th>\n",
       "      <td>1228.0</td>\n",
       "      <td>502.0</td>\n",
       "      <td>503.0</td>\n",
       "      <td>2233.0</td>\n",
       "    </tr>\n",
       "    <tr>\n",
       "      <th>22423</th>\n",
       "      <td>872.0</td>\n",
       "      <td>651.0</td>\n",
       "      <td>525.0</td>\n",
       "      <td>2048.0</td>\n",
       "    </tr>\n",
       "    <tr>\n",
       "      <th>22969</th>\n",
       "      <td>842.0</td>\n",
       "      <td>605.0</td>\n",
       "      <td>575.0</td>\n",
       "      <td>2022.0</td>\n",
       "    </tr>\n",
       "    <tr>\n",
       "      <th>84946</th>\n",
       "      <td>1101.0</td>\n",
       "      <td>299.0</td>\n",
       "      <td>344.0</td>\n",
       "      <td>1744.0</td>\n",
       "    </tr>\n",
       "  </tbody>\n",
       "</table>\n",
       "</div>"
      ],
      "text/plain": [
       "purchase_month      12       1       2     sum\n",
       "item_id                                       \n",
       "85123A          1915.0  1585.0  1138.0  4638.0\n",
       "21212            903.0   932.0  1191.0  3026.0\n",
       "22961           1224.0   706.0   722.0  2652.0\n",
       "84879           1001.0   707.0   873.0  2581.0\n",
       "85099B           693.0   693.0   902.0  2288.0\n",
       "22469            786.0   698.0   772.0  2256.0\n",
       "22197           1228.0   502.0   503.0  2233.0\n",
       "22423            872.0   651.0   525.0  2048.0\n",
       "22969            842.0   605.0   575.0  2022.0\n",
       "84946           1101.0   299.0   344.0  1744.0"
      ]
     },
     "execution_count": 56,
     "metadata": {},
     "output_type": "execute_result"
    }
   ],
   "source": [
    "# Используем те же методы формирования сводных данных, что и в предыдущих шагах.\n",
    "# В качестве индекса сводной таблицы возьмем 'item_id', значения для подсчета берем из столбца 'quantity'\n",
    "# Полученные данные запишем в переменную 'top10_product'\n",
    "top10_product=data.pivot_table(index='item_id',columns='purchase_month', values='quantity', aggfunc='sum')\n",
    "\n",
    "# Просуммируем количество проданного товара за каждый месяц методом 'sum' с аргументом 'axis=1'\n",
    "top10_product['sum']=top10_product.sum(axis=1)\n",
    "top10_product=top10_product[[12, 1, 2, 'sum']]\n",
    "\n",
    "# Произведем сортировку полученных данных от большего к меньшему по столбцу 'sum' с аргументом 'ascending=False'/\n",
    "# И выведем 10 первых значений методом head c аргументом 10\n",
    "top10_product.sort_values(by='sum', ascending=False).head(10)"
   ]
  },
  {
   "cell_type": "markdown",
   "id": "1b1d786f",
   "metadata": {},
   "source": [
    "Подготовим Топ-10 товаров покупателей не участвующих в программе лояльности:"
   ]
  },
  {
   "cell_type": "code",
   "execution_count": 57,
   "id": "1c42963e",
   "metadata": {
    "scrolled": true
   },
   "outputs": [
    {
     "data": {
      "text/html": [
       "<div>\n",
       "<style scoped>\n",
       "    .dataframe tbody tr th:only-of-type {\n",
       "        vertical-align: middle;\n",
       "    }\n",
       "\n",
       "    .dataframe tbody tr th {\n",
       "        vertical-align: top;\n",
       "    }\n",
       "\n",
       "    .dataframe thead th {\n",
       "        text-align: right;\n",
       "    }\n",
       "</style>\n",
       "<table border=\"1\" class=\"dataframe\">\n",
       "  <thead>\n",
       "    <tr style=\"text-align: right;\">\n",
       "      <th>purchase_month</th>\n",
       "      <th>12</th>\n",
       "      <th>1</th>\n",
       "      <th>2</th>\n",
       "      <th>sum</th>\n",
       "    </tr>\n",
       "    <tr>\n",
       "      <th>item_id</th>\n",
       "      <th></th>\n",
       "      <th></th>\n",
       "      <th></th>\n",
       "      <th></th>\n",
       "    </tr>\n",
       "  </thead>\n",
       "  <tbody>\n",
       "    <tr>\n",
       "      <th>85123A</th>\n",
       "      <td>1289.0</td>\n",
       "      <td>1184.0</td>\n",
       "      <td>779.0</td>\n",
       "      <td>3252.0</td>\n",
       "    </tr>\n",
       "    <tr>\n",
       "      <th>21212</th>\n",
       "      <td>802.0</td>\n",
       "      <td>796.0</td>\n",
       "      <td>888.0</td>\n",
       "      <td>2486.0</td>\n",
       "    </tr>\n",
       "    <tr>\n",
       "      <th>22961</th>\n",
       "      <td>905.0</td>\n",
       "      <td>529.0</td>\n",
       "      <td>575.0</td>\n",
       "      <td>2009.0</td>\n",
       "    </tr>\n",
       "    <tr>\n",
       "      <th>84879</th>\n",
       "      <td>691.0</td>\n",
       "      <td>481.0</td>\n",
       "      <td>595.0</td>\n",
       "      <td>1767.0</td>\n",
       "    </tr>\n",
       "    <tr>\n",
       "      <th>22197</th>\n",
       "      <td>1023.0</td>\n",
       "      <td>348.0</td>\n",
       "      <td>332.0</td>\n",
       "      <td>1703.0</td>\n",
       "    </tr>\n",
       "    <tr>\n",
       "      <th>85099B</th>\n",
       "      <td>548.0</td>\n",
       "      <td>538.0</td>\n",
       "      <td>606.0</td>\n",
       "      <td>1692.0</td>\n",
       "    </tr>\n",
       "    <tr>\n",
       "      <th>22469</th>\n",
       "      <td>593.0</td>\n",
       "      <td>507.0</td>\n",
       "      <td>558.0</td>\n",
       "      <td>1658.0</td>\n",
       "    </tr>\n",
       "    <tr>\n",
       "      <th>22423</th>\n",
       "      <td>671.0</td>\n",
       "      <td>580.0</td>\n",
       "      <td>367.0</td>\n",
       "      <td>1618.0</td>\n",
       "    </tr>\n",
       "    <tr>\n",
       "      <th>22969</th>\n",
       "      <td>607.0</td>\n",
       "      <td>380.0</td>\n",
       "      <td>395.0</td>\n",
       "      <td>1382.0</td>\n",
       "    </tr>\n",
       "    <tr>\n",
       "      <th>84991</th>\n",
       "      <td>521.0</td>\n",
       "      <td>454.0</td>\n",
       "      <td>391.0</td>\n",
       "      <td>1366.0</td>\n",
       "    </tr>\n",
       "  </tbody>\n",
       "</table>\n",
       "</div>"
      ],
      "text/plain": [
       "purchase_month      12       1      2     sum\n",
       "item_id                                      \n",
       "85123A          1289.0  1184.0  779.0  3252.0\n",
       "21212            802.0   796.0  888.0  2486.0\n",
       "22961            905.0   529.0  575.0  2009.0\n",
       "84879            691.0   481.0  595.0  1767.0\n",
       "22197           1023.0   348.0  332.0  1703.0\n",
       "85099B           548.0   538.0  606.0  1692.0\n",
       "22469            593.0   507.0  558.0  1658.0\n",
       "22423            671.0   580.0  367.0  1618.0\n",
       "22969            607.0   380.0  395.0  1382.0\n",
       "84991            521.0   454.0  391.0  1366.0"
      ]
     },
     "execution_count": 57,
     "metadata": {},
     "output_type": "execute_result"
    }
   ],
   "source": [
    "# Для формирования данных сначала сделаем логический срез методом 'query' в котором сделаем отбор по 'loyalty_program == 0'\n",
    "# И данные запишем в переменную 'top10_product_lp0'\n",
    "# Остальные действия будут как в предыдущем шаге\n",
    "top10_product_lp0 = data.query('loyalty_program == 0')\\\n",
    "    .pivot_table(index='item_id',columns='purchase_month', values='quantity', aggfunc='sum')[[12, 1, 2]]\n",
    "top10_product_lp0['sum']=top10_product_lp0.sum(axis=1)\n",
    "top10_product_lp0.sort_values(by='sum', ascending=False).head(10)"
   ]
  },
  {
   "cell_type": "markdown",
   "id": "b0d57960",
   "metadata": {},
   "source": [
    "Выбор ТОП-10 товаров покупателей, не принимающих участия в программе лояльности, в значительной части совпал с общим рейтингом ТОП-10 обеих когорт."
   ]
  },
  {
   "cell_type": "markdown",
   "id": "6c1a7bf4",
   "metadata": {},
   "source": [
    "Топ-10 товаров покупателей участвующих в программе лояльности:"
   ]
  },
  {
   "cell_type": "code",
   "execution_count": 58,
   "id": "56fbebe9",
   "metadata": {},
   "outputs": [
    {
     "data": {
      "text/html": [
       "<div>\n",
       "<style scoped>\n",
       "    .dataframe tbody tr th:only-of-type {\n",
       "        vertical-align: middle;\n",
       "    }\n",
       "\n",
       "    .dataframe tbody tr th {\n",
       "        vertical-align: top;\n",
       "    }\n",
       "\n",
       "    .dataframe thead th {\n",
       "        text-align: right;\n",
       "    }\n",
       "</style>\n",
       "<table border=\"1\" class=\"dataframe\">\n",
       "  <thead>\n",
       "    <tr style=\"text-align: right;\">\n",
       "      <th>purchase_month</th>\n",
       "      <th>12</th>\n",
       "      <th>1</th>\n",
       "      <th>2</th>\n",
       "      <th>sum</th>\n",
       "    </tr>\n",
       "    <tr>\n",
       "      <th>item_id</th>\n",
       "      <th></th>\n",
       "      <th></th>\n",
       "      <th></th>\n",
       "      <th></th>\n",
       "    </tr>\n",
       "  </thead>\n",
       "  <tbody>\n",
       "    <tr>\n",
       "      <th>85123A</th>\n",
       "      <td>626.0</td>\n",
       "      <td>401.0</td>\n",
       "      <td>359.0</td>\n",
       "      <td>1386.0</td>\n",
       "    </tr>\n",
       "    <tr>\n",
       "      <th>84879</th>\n",
       "      <td>310.0</td>\n",
       "      <td>226.0</td>\n",
       "      <td>278.0</td>\n",
       "      <td>814.0</td>\n",
       "    </tr>\n",
       "    <tr>\n",
       "      <th>22961</th>\n",
       "      <td>319.0</td>\n",
       "      <td>177.0</td>\n",
       "      <td>147.0</td>\n",
       "      <td>643.0</td>\n",
       "    </tr>\n",
       "    <tr>\n",
       "      <th>22969</th>\n",
       "      <td>235.0</td>\n",
       "      <td>225.0</td>\n",
       "      <td>180.0</td>\n",
       "      <td>640.0</td>\n",
       "    </tr>\n",
       "    <tr>\n",
       "      <th>79321</th>\n",
       "      <td>276.0</td>\n",
       "      <td>212.0</td>\n",
       "      <td>117.0</td>\n",
       "      <td>605.0</td>\n",
       "    </tr>\n",
       "    <tr>\n",
       "      <th>21985</th>\n",
       "      <td>17.0</td>\n",
       "      <td>424.0</td>\n",
       "      <td>161.0</td>\n",
       "      <td>602.0</td>\n",
       "    </tr>\n",
       "    <tr>\n",
       "      <th>22469</th>\n",
       "      <td>193.0</td>\n",
       "      <td>191.0</td>\n",
       "      <td>214.0</td>\n",
       "      <td>598.0</td>\n",
       "    </tr>\n",
       "    <tr>\n",
       "      <th>85099B</th>\n",
       "      <td>145.0</td>\n",
       "      <td>155.0</td>\n",
       "      <td>296.0</td>\n",
       "      <td>596.0</td>\n",
       "    </tr>\n",
       "    <tr>\n",
       "      <th>22492</th>\n",
       "      <td>149.0</td>\n",
       "      <td>140.0</td>\n",
       "      <td>280.0</td>\n",
       "      <td>569.0</td>\n",
       "    </tr>\n",
       "    <tr>\n",
       "      <th>21212</th>\n",
       "      <td>101.0</td>\n",
       "      <td>136.0</td>\n",
       "      <td>303.0</td>\n",
       "      <td>540.0</td>\n",
       "    </tr>\n",
       "  </tbody>\n",
       "</table>\n",
       "</div>"
      ],
      "text/plain": [
       "purchase_month     12      1      2     sum\n",
       "item_id                                    \n",
       "85123A          626.0  401.0  359.0  1386.0\n",
       "84879           310.0  226.0  278.0   814.0\n",
       "22961           319.0  177.0  147.0   643.0\n",
       "22969           235.0  225.0  180.0   640.0\n",
       "79321           276.0  212.0  117.0   605.0\n",
       "21985            17.0  424.0  161.0   602.0\n",
       "22469           193.0  191.0  214.0   598.0\n",
       "85099B          145.0  155.0  296.0   596.0\n",
       "22492           149.0  140.0  280.0   569.0\n",
       "21212           101.0  136.0  303.0   540.0"
      ]
     },
     "execution_count": 58,
     "metadata": {},
     "output_type": "execute_result"
    }
   ],
   "source": [
    "# Используем туже конструкцию, как в предыдущем шаге, но 'loyalty_program' поставим соответствие 1\n",
    "# И данные запишем в переменную 'top10_product_lp1':\n",
    "top10_product_lp1 = data.query('loyalty_program == 1')\\\n",
    "    .pivot_table(index='item_id',columns='purchase_month', values='quantity', aggfunc='sum')[[12, 1, 2]]\n",
    "top10_product_lp1['sum']=top10_product_lp1.sum(axis=1)\n",
    "top10_product_lp1.sort_values(by='sum', ascending=False).head(10)"
   ]
  },
  {
   "cell_type": "markdown",
   "id": "8568d14f",
   "metadata": {},
   "source": [
    "Не все предпочтения товаров, покупаемых пользователями программы лояльности, совпадают с покупателями, не принявших участие в этой программе. "
   ]
  },
  {
   "cell_type": "markdown",
   "id": "2f1d3c5f",
   "metadata": {},
   "source": [
    "### Выводы по разделу"
   ]
  },
  {
   "cell_type": "markdown",
   "id": "466a273c",
   "metadata": {},
   "source": [
    "Исследовательский анализ данных показал следующие результаты:\n",
    "1.\tОбозреваемый период составляет с 01.12.2016 08:26:00 по 28.02.2017 17:04:00 В которм обнаружен пробел данных в период с 23.12.2016 по 04.01.2017\n",
    "2.\tВ обзоре учувствует 30 магазинов сети, из которых один shop 0 наиболее популярен\n",
    "3.\tВсего действует одна программа лояльности, которая кодируется в столбце loyalty_program значением 1. Значение 0 означает, что покупатель не принимает участие в программе лояльности\n",
    "4.\tКоличество пользователей не участвующих в программе 1070 пользователей. Количество пользователей из программы лояльности составляет 544.\n",
    "5.  Количество покупателей снижается в январе по обеим когортам и суммарно составляет -140 пользователей. В феврале количество покупателей в когорте участников программы лояльности дало небольшой прирост в 4%, что несущественно  компенсировало потери января и февраля по когорте нелояльных пользователей. Суммарно потери по обеим когортам за обозреваемый период составило 134 покупателя, что составляет 8% от всей численности.\n",
    "6.\tКоличество чеков каждый месяц становится меньше. Общие потери составили 440 еденицы. Однако в феврале был небольшой прирост в когорте лояльных пользователей +34, что последствии положительно повлияло на финансовые показатели в данной группе. Причины локального роста необходимо дополнительно изучить, для возможного примера точки роста продаж.\n",
    "7.\tСуммы продаж от месяца к месяцу также снижаются, что должно насторожить руководство магазина. Потери в выручке составили -174908.58 руб. к базе декабря, накопительным способом. Также как и с количеством прироста пользователей с картами лояльности, в феврале был небольшой рост выручки. Это также необходимо включать в анализ причин.\n",
    "8.\tКоличество реализованного товара также снижается от месяца к месяцу и суммарно составили -41557 ед. товара, по отношению к базе декабря. Также в группе лояльных клиентов был локальный прирост в феврале, который коррелирует с приростом покупателей в этом месяце.\n",
    "9.\tТоп-10 товаров, покупаемых обеими когортами покупателей, почти не совпадают друг с другом.\n",
    "\n",
    "\n",
    "Т.о. можно сделать предварительные выводы о том, что магазин теряет в пользователях, в выручке и объемах продаж. Однако есть локальный положительный пример в феврале в группе покупателей с картами лояльности, который необходимо изучить, с целью повышения продаж сети магазинов. Также необходимо изучить практику продаж магазина shop 0 который в сотни раз продает больше остальных магазинов сети.\n"
   ]
  },
  {
   "cell_type": "markdown",
   "id": "6c7a5750",
   "metadata": {},
   "source": [
    "## Работа с метриками и бизнес-показателями"
   ]
  },
  {
   "cell_type": "markdown",
   "id": "380dc7df",
   "metadata": {},
   "source": [
    "###  Расчёт среднего чека покупателей в разрезе категорий по признаку участия в программе лояльности"
   ]
  },
  {
   "cell_type": "markdown",
   "id": "5afed686",
   "metadata": {},
   "source": [
    "Для расчета среднего чека агрегируем данные по продажам в переменную аverage_check, из data."
   ]
  },
  {
   "cell_type": "code",
   "execution_count": 59,
   "id": "2e67e51e",
   "metadata": {},
   "outputs": [
    {
     "data": {
      "text/html": [
       "<div>\n",
       "<style scoped>\n",
       "    .dataframe tbody tr th:only-of-type {\n",
       "        vertical-align: middle;\n",
       "    }\n",
       "\n",
       "    .dataframe tbody tr th {\n",
       "        vertical-align: top;\n",
       "    }\n",
       "\n",
       "    .dataframe thead th {\n",
       "        text-align: right;\n",
       "    }\n",
       "</style>\n",
       "<table border=\"1\" class=\"dataframe\">\n",
       "  <thead>\n",
       "    <tr style=\"text-align: right;\">\n",
       "      <th></th>\n",
       "      <th>декабрь 2016</th>\n",
       "      <th>январь 2017</th>\n",
       "      <th>февраль 2017</th>\n",
       "    </tr>\n",
       "    <tr>\n",
       "      <th>loyalty_program</th>\n",
       "      <th></th>\n",
       "      <th></th>\n",
       "      <th></th>\n",
       "    </tr>\n",
       "  </thead>\n",
       "  <tbody>\n",
       "    <tr>\n",
       "      <th>0</th>\n",
       "      <td>429.48</td>\n",
       "      <td>477.11</td>\n",
       "      <td>386.21</td>\n",
       "    </tr>\n",
       "    <tr>\n",
       "      <th>1</th>\n",
       "      <td>289.60</td>\n",
       "      <td>352.12</td>\n",
       "      <td>355.89</td>\n",
       "    </tr>\n",
       "  </tbody>\n",
       "</table>\n",
       "</div>"
      ],
      "text/plain": [
       "                 декабрь 2016  январь 2017  февраль 2017\n",
       "loyalty_program                                         \n",
       "0                      429.48       477.11        386.21\n",
       "1                      289.60       352.12        355.89"
      ]
     },
     "execution_count": 59,
     "metadata": {},
     "output_type": "execute_result"
    }
   ],
   "source": [
    "# Используем метод группировки данных 'groupby', в котором группировку произведем по 'loyalty_program', 'purchase_month',\n",
    "# 'purchaseid'  просуммируем продажи 'purchase_amount' методом 'agg' с аргументом 'sum'\n",
    "аverage_check=data.groupby(['loyalty_program', 'purchase_month', 'purchaseid'], as_index=False)['purchase_amount']\\\n",
    "    .agg({'sum'})\n",
    "\n",
    "# Создадим сводную таблицу методом 'pivot_table', с индексом 'loyalty_program', столбцами месяцев 'purchase_month' и \n",
    "# применим агрегирующую функцию 'agg' с аргументом 'sum'\n",
    "аverage_check=round(аverage_check.pivot_table(\n",
    "    index='loyalty_program', columns='purchase_month', values='sum', aggfunc='mean'),2)\n",
    "\n",
    "# Переименуем названия месяцев в удобный вид методом 'columns'\n",
    "аverage_check.columns=('январь 2017','февраль 2017','декабрь 2016')\n",
    "\n",
    "# Изменим порядок расстановки месяцев в датасете\n",
    "аverage_check=аverage_check[['декабрь 2016','январь 2017','февраль 2017']]\n",
    "\n",
    "# Выведем результат\n",
    "аverage_check"
   ]
  },
  {
   "cell_type": "markdown",
   "id": "a075e681",
   "metadata": {},
   "source": [
    "Выведем диаграмму средних чеков по сгруппированным данным в аverage_check"
   ]
  },
  {
   "cell_type": "code",
   "execution_count": 60,
   "id": "06d92254",
   "metadata": {},
   "outputs": [
    {
     "data": {
      "image/png": "[encoded data removed]",
      "text/plain": [
       "<Figure size 1400x800 with 1 Axes>"
      ]
     },
     "metadata": {},
     "output_type": "display_data"
    }
   ],
   "source": [
    "# Используем метод 'plot' библиотеки 'Pandas', в котом зададим аргумент 'kind=bar', зададим параметр наличия сетки\n",
    "# на поле диаграммы 'grid=True', параметр размера диаграммы установим figsize=(14, 8) \n",
    "# и добавим наличие легенды 'legend = True'\n",
    "аverage_check.plot(kind='bar', grid=True, figsize=(14, 8), legend = True,)\n",
    "\n",
    "# Добавим подпись заголовка диаграммы\n",
    "plt.title ('Диаграмма средних чеков по месяцам в разрезе участия в программе лояльности', fontsize=13)\n",
    "\n",
    "# Подпишем ось Х\n",
    "plt.xlabel('Категория покупателей')\n",
    "\n",
    "# Подпишем ось Y\n",
    "plt.ylabel('Размер среднего чека')\n",
    "\n",
    "# Установим поворот подписи значений оси Х\n",
    "plt.xticks(rotation=0)\n",
    "\n",
    "# Выведем получившийся результат на экран\n",
    "plt.show();"
   ]
  },
  {
   "cell_type": "markdown",
   "id": "2222c19f",
   "metadata": {},
   "source": [
    "Как видно из результатов агрегации и графика, уровень среднего чека у покупателей программы лояльности на протяжении трех месяцев, ниже чем у покупателей еще не вступивших в нее. Возможно здесь сказывается короткий тестовый период и на более длительном временном лаге картина поменяется, но за прошедшие месяцы внедрения программы, результаты такие, как есть.\n",
    "\n",
    "    Результаты среднего чека покупателей без карты лояльности:\n",
    "    1. Примечательно, что средний чек декабря уступает по уровню, такому же показателю января на 11%, что скорее всего объяснимо новогодними каникулами, выплатами премий и наличия свободного времени у розничного покупателя.\n",
    "    2. Снижение уровня февраля по отношению к январю на 19%, а также по отношению к декабрю на 10%, объяснимо снижением деловой активности конца предыдущего года, а также тратами розничного посетителя в январе.\n",
    "        \n",
    "    Результаты среднего чека покупателей с картой лояльности:\n",
    "    1. После внедрения программы лояльности в декабре, заметен рост среднего чека в январе на 22%, по сравнению с декабрем. На это могли повлиять те же факторы, как в случае с покупателями без карт лояльности.\n",
    "    2. В феврале небольшой рост на 1% выглядит лучше, чем спад у покупателей не участвующих в программе лояльности.\n",
    "\n"
   ]
  },
  {
   "cell_type": "markdown",
   "id": "2700f313",
   "metadata": {},
   "source": [
    "###  Расчёт среднего количества покупателей в день по признаку участия в программе лояльности"
   ]
  },
  {
   "cell_type": "markdown",
   "id": "f7e9b157",
   "metadata": {},
   "source": [
    "Изучим среднее количество покупателей в день в декабре 2016, январе 2017 и феврале 2017. А также сравним между собой данные по месяцам и в разрезе участия в программе лояльности."
   ]
  },
  {
   "cell_type": "code",
   "execution_count": 61,
   "id": "fd942922",
   "metadata": {},
   "outputs": [
    {
     "data": {
      "text/html": [
       "<div>\n",
       "<style scoped>\n",
       "    .dataframe tbody tr th:only-of-type {\n",
       "        vertical-align: middle;\n",
       "    }\n",
       "\n",
       "    .dataframe tbody tr th {\n",
       "        vertical-align: top;\n",
       "    }\n",
       "\n",
       "    .dataframe thead th {\n",
       "        text-align: right;\n",
       "    }\n",
       "</style>\n",
       "<table border=\"1\" class=\"dataframe\">\n",
       "  <thead>\n",
       "    <tr style=\"text-align: right;\">\n",
       "      <th></th>\n",
       "      <th>декабрь 2016</th>\n",
       "      <th>январь 2017</th>\n",
       "      <th>февраль 2017</th>\n",
       "    </tr>\n",
       "    <tr>\n",
       "      <th>loyalty_program</th>\n",
       "      <th></th>\n",
       "      <th></th>\n",
       "      <th></th>\n",
       "    </tr>\n",
       "  </thead>\n",
       "  <tbody>\n",
       "    <tr>\n",
       "      <th>0</th>\n",
       "      <td>17.39</td>\n",
       "      <td>15.74</td>\n",
       "      <td>16.82</td>\n",
       "    </tr>\n",
       "    <tr>\n",
       "      <th>1</th>\n",
       "      <td>10.03</td>\n",
       "      <td>7.16</td>\n",
       "      <td>8.75</td>\n",
       "    </tr>\n",
       "  </tbody>\n",
       "</table>\n",
       "</div>"
      ],
      "text/plain": [
       "                 декабрь 2016  январь 2017  февраль 2017\n",
       "loyalty_program                                         \n",
       "0                       17.39        15.74         16.82\n",
       "1                       10.03         7.16          8.75"
      ]
     },
     "execution_count": 61,
     "metadata": {},
     "output_type": "execute_result"
    }
   ],
   "source": [
    "# Произведем подсчет количества уникальных покупателей в каждый месяц.\n",
    "# Для этого сформируем сводные данные методом 'pivot_table', где индексом будет участие\n",
    "# в программе лояльности 'index=loyalty_program', месяцы будут установлены в колонках 'columns='purchase_month'',\n",
    "# Значения возьмём из столбца 'values=customerid' и агрегируем с помощью 'aggfunc' и аргументом 'nunique'\n",
    "mdile_visitors =  data.pivot_table(index='loyalty_program', columns='purchase_month', values='customerid', aggfunc='nunique')\n",
    "\n",
    "# Разделим каждое значение сводных данных на количество дней в месяце.\n",
    "# Для этого берем каждую колонку сводных данных, делим каждое значение на количество дней и округляем до\n",
    "# двух знаков дробную часть числа методом 'round' с аргументом '2':\n",
    "mdile_visitors[1] = round(mdile_visitors[1]/31, 2)\n",
    "mdile_visitors[2] = round(mdile_visitors[2]/28, 2)\n",
    "mdile_visitors[12] = round(mdile_visitors[12]/31, 2)\n",
    "\n",
    "# Переименуем названия столбцов в удобный вид:\n",
    "mdile_visitors.columns = ('январь 2017','февраль 2017','декабрь 2016')\n",
    "\n",
    "# Изменим порядок расположения столбцов:\n",
    "mdile_visitors = mdile_visitors[['декабрь 2016','январь 2017','февраль 2017']]\n",
    "\n",
    "# Выведем на экран полученные данные\n",
    "mdile_visitors"
   ]
  },
  {
   "cell_type": "markdown",
   "id": "345b51b0",
   "metadata": {},
   "source": [
    "Далее произведём построение гистограммы по данным о среднем количестве покупателей"
   ]
  },
  {
   "cell_type": "code",
   "execution_count": 62,
   "id": "89552666",
   "metadata": {},
   "outputs": [
    {
     "data": {
      "image/png": "[encoded data removed]",
      "text/plain": [
       "<Figure size 1400x800 with 1 Axes>"
      ]
     },
     "metadata": {},
     "output_type": "display_data"
    }
   ],
   "source": [
    "# Используем метод 'plot' из библиотеки 'mathplotlib' для построения графика. Аргументу 'kind' присвоим значение 'bar',\n",
    "# что даст при построении графика столбчатую диаграмму. Также отрисуем сетку, задав аргументу 'grid' значение 'True'. \n",
    "# Размеры графика определим аргументом 'figsize' и добавим легенду, присвоив аргументу 'legend' значение 'True'.\n",
    "mdile_visitors.plot(kind='bar', grid=True, figsize=(14, 8), legend = True,)\n",
    "\n",
    "# Добавим подпись графику с помощью метода 'title'\n",
    "plt.title ('Диаграмма среднего количества покупателей в день в разрезе участия в программе лояльности', fontsize=13)\n",
    "\n",
    "# Подпишем ось Х методом 'xlabel'\n",
    "plt.xlabel('Категория покупателей')\n",
    "\n",
    "# Подпишем ось Y методом 'ylabel'\n",
    "plt.ylabel('Среднее  количество покупателей')\n",
    "\n",
    "# Зададим отсутствие поворота подписей оси X методом 'xticks', предав ему значение аргумента 'rotation' равным нулю\n",
    "plt.xticks(rotation=0)\n",
    "\n",
    "# Выведем график на экран методом 'show'\n",
    "plt.show();"
   ]
  },
  {
   "cell_type": "markdown",
   "id": "ffe773ee",
   "metadata": {},
   "source": [
    "Из диаграммы среднего количества покупателей в день в разрезе участия в программе лояльности можно сделать следующие заключения:\n",
    "\n",
    "    В группе покупателей не участвующих в программе лояльности:\n",
    "    1. Общий средний уровень покупателей в день, не участвующих в программе лояльности, значительно больше\n",
    "    2. В декабре 2016 в среднем покупателей в день было больше чем в остальные месяцы.\n",
    "    3. В январе 2017 покупателей было меньше, что скорее всего обусловлено охлаждением спроса и покупательской способности после предновогодних трат.\n",
    "    4. В феврале 2017 произошел рост среднего количества клиентов, до уровня предновогоднего декабря 2016 не дошел.\n",
    "\n",
    "    В группе покупателей, пользующихся программой лояльности:\n",
    "    1. Общий уровень среднего посещения в день, почти в два раза меньше покупателей без карт лояльности.\n",
    "    2. Декабрь 2016 в данной когорте, был лучше последующих месяцев\n",
    "    3. Январь 2017, также как и в противоположной когорте, оказался провальным и посетителей было существенно меньше. Причем разрыв с декабрем 2016 был существеннее, чем в группе без карт лояльности.\n",
    "    4. В феврале 2017 произошел рост, но до уровня декабря не поднялся. Скорее всего это обусловлено коротким месяцем (28 дней) и еще не окрепшим спросом после новогоднего января.\n",
    "\n",
    "В общем можно сказать, что программа лояльности еще не набрала своей популярности за короткий промежуток времени. Хотя предновогодние траты лояльных покупателей выше, чем в остальные месяцы, при наблюдении этой же категории, однако в феврале видим тренд на восстановление покупательской способности."
   ]
  },
  {
   "cell_type": "markdown",
   "id": "247b398f",
   "metadata": {},
   "source": [
    "###  Расчёт пожизненной ценности клиента LTV в зависимости от участия в программе лояльности"
   ]
  },
  {
   "cell_type": "markdown",
   "id": "f60c551f",
   "metadata": {},
   "source": [
    "Порядок расчета LTV:\n",
    "1.\tПолучить пользовательские профили и данные о покупках. (profiles и purchases)\n",
    "2.\tДобавить данные о покупках в профили.\n",
    "3.\tРассчитать лайфтайм пользователя для каждой покупки.\n",
    "4.\tПостроить таблицу выручки. То есть сводную таблицу, в которой названия строк — это даты первого посещения пользователей, названия столбцов — лайфтайм, а значения в «ячейках» — выручка.\n",
    "5.\tПосчитать сумму с накоплением для каждой строки таблицы выручки.\n",
    "6.\tВычислить размеры когорт и занести результаты в отдельную таблицу.\n",
    "7.\tОбъединить таблицы размеров когорт и выручки.\n",
    "8.\tПосчитать LTV: разделить каждую «ячейку» таблицы выручки на соответствующий размер когорты.\n"
   ]
  },
  {
   "cell_type": "markdown",
   "id": "1e789de0",
   "metadata": {},
   "source": [
    "#### Формирование профилей покупателей"
   ]
  },
  {
   "cell_type": "markdown",
   "id": "5128beb3",
   "metadata": {},
   "source": [
    "Для расчета LTV необходимо сформировать профили пользователей с данными первого посещения. Результат запишем в переменную profiles"
   ]
  },
  {
   "cell_type": "code",
   "execution_count": 63,
   "id": "e441d330",
   "metadata": {},
   "outputs": [
    {
     "data": {
      "text/html": [
       "<div>\n",
       "<style scoped>\n",
       "    .dataframe tbody tr th:only-of-type {\n",
       "        vertical-align: middle;\n",
       "    }\n",
       "\n",
       "    .dataframe tbody tr th {\n",
       "        vertical-align: top;\n",
       "    }\n",
       "\n",
       "    .dataframe thead th {\n",
       "        text-align: right;\n",
       "    }\n",
       "</style>\n",
       "<table border=\"1\" class=\"dataframe\">\n",
       "  <thead>\n",
       "    <tr style=\"text-align: right;\">\n",
       "      <th></th>\n",
       "      <th>user_id</th>\n",
       "      <th>cohort</th>\n",
       "      <th>first_ts</th>\n",
       "      <th>dt</th>\n",
       "      <th>month</th>\n",
       "    </tr>\n",
       "  </thead>\n",
       "  <tbody>\n",
       "    <tr>\n",
       "      <th>0</th>\n",
       "      <td>18026.0</td>\n",
       "      <td>0</td>\n",
       "      <td>2016-12-07 14:57:00</td>\n",
       "      <td>2016-12-07</td>\n",
       "      <td>2016-12-01</td>\n",
       "    </tr>\n",
       "    <tr>\n",
       "      <th>1</th>\n",
       "      <td>18027.0</td>\n",
       "      <td>0</td>\n",
       "      <td>2016-12-16 19:09:00</td>\n",
       "      <td>2016-12-16</td>\n",
       "      <td>2016-12-01</td>\n",
       "    </tr>\n",
       "    <tr>\n",
       "      <th>2</th>\n",
       "      <td>18029.0</td>\n",
       "      <td>0</td>\n",
       "      <td>2017-02-02 16:01:00</td>\n",
       "      <td>2017-02-02</td>\n",
       "      <td>2017-02-01</td>\n",
       "    </tr>\n",
       "    <tr>\n",
       "      <th>3</th>\n",
       "      <td>18031.0</td>\n",
       "      <td>0</td>\n",
       "      <td>2017-02-16 12:33:00</td>\n",
       "      <td>2017-02-16</td>\n",
       "      <td>2017-02-01</td>\n",
       "    </tr>\n",
       "    <tr>\n",
       "      <th>4</th>\n",
       "      <td>18035.0</td>\n",
       "      <td>0</td>\n",
       "      <td>2017-01-18 09:50:00</td>\n",
       "      <td>2017-01-18</td>\n",
       "      <td>2017-01-01</td>\n",
       "    </tr>\n",
       "    <tr>\n",
       "      <th>5</th>\n",
       "      <td>18038.0</td>\n",
       "      <td>0</td>\n",
       "      <td>2017-01-12 12:43:00</td>\n",
       "      <td>2017-01-12</td>\n",
       "      <td>2017-01-01</td>\n",
       "    </tr>\n",
       "    <tr>\n",
       "      <th>6</th>\n",
       "      <td>18040.0</td>\n",
       "      <td>0</td>\n",
       "      <td>2017-02-25 13:51:00</td>\n",
       "      <td>2017-02-25</td>\n",
       "      <td>2017-02-01</td>\n",
       "    </tr>\n",
       "    <tr>\n",
       "      <th>7</th>\n",
       "      <td>18041.0</td>\n",
       "      <td>0</td>\n",
       "      <td>2017-02-17 10:30:00</td>\n",
       "      <td>2017-02-17</td>\n",
       "      <td>2017-02-01</td>\n",
       "    </tr>\n",
       "    <tr>\n",
       "      <th>8</th>\n",
       "      <td>18044.0</td>\n",
       "      <td>0</td>\n",
       "      <td>2017-02-21 13:51:00</td>\n",
       "      <td>2017-02-21</td>\n",
       "      <td>2017-02-01</td>\n",
       "    </tr>\n",
       "    <tr>\n",
       "      <th>9</th>\n",
       "      <td>18049.0</td>\n",
       "      <td>0</td>\n",
       "      <td>2016-12-14 12:58:00</td>\n",
       "      <td>2016-12-14</td>\n",
       "      <td>2016-12-01</td>\n",
       "    </tr>\n",
       "  </tbody>\n",
       "</table>\n",
       "</div>"
      ],
      "text/plain": [
       "   user_id  cohort            first_ts          dt      month\n",
       "0  18026.0       0 2016-12-07 14:57:00  2016-12-07 2016-12-01\n",
       "1  18027.0       0 2016-12-16 19:09:00  2016-12-16 2016-12-01\n",
       "2  18029.0       0 2017-02-02 16:01:00  2017-02-02 2017-02-01\n",
       "3  18031.0       0 2017-02-16 12:33:00  2017-02-16 2017-02-01\n",
       "4  18035.0       0 2017-01-18 09:50:00  2017-01-18 2017-01-01\n",
       "5  18038.0       0 2017-01-12 12:43:00  2017-01-12 2017-01-01\n",
       "6  18040.0       0 2017-02-25 13:51:00  2017-02-25 2017-02-01\n",
       "7  18041.0       0 2017-02-17 10:30:00  2017-02-17 2017-02-01\n",
       "8  18044.0       0 2017-02-21 13:51:00  2017-02-21 2017-02-01\n",
       "9  18049.0       0 2016-12-14 12:58:00  2016-12-14 2016-12-01"
      ]
     },
     "execution_count": 63,
     "metadata": {},
     "output_type": "execute_result"
    }
   ],
   "source": [
    "# Перед группировкой произведем сортировку данных по 'customerid' и 'purchasedate'. Это даст датасет в котором \n",
    "# id покупателя будет повторятся столько раз, пока не закончатся строки с его значением. Также вторая сортировка\n",
    "# будет по дате, что поможет в дальнейшем вычленить первую покупку пользователя и определить его дату.\n",
    "# После сортировки сгруппируем данные по 'customerid' и принадлежащих к когорте участников 'loyalty_program'\n",
    "# Сгруппируем данные из data и методом first найдем первые строки с id покупателя, а  т.к . сортировка была еще и по\n",
    "# 'purchasedate', то первая строка с id будет содержать первую дату совершения покупки.\n",
    "# У сгруппированных данных перестроим индексы и запишем ы переменную 'profiles':\n",
    "profiles = data.sort_values(by=['customerid', 'purchasedate']).groupby(['customerid', 'loyalty_program'])\\\n",
    "        .agg({'purchasedate': 'first'})\\\n",
    "        .reset_index()\n",
    "\n",
    "# Для удобства переименуем названия столбцов в 'profiles' методом 'rename', передав аргументу 'columns' значения \n",
    "# исходного и нового наименования:\n",
    "profiles = profiles.rename(columns={'customerid':'user_id', 'purchasedate': 'first_ts', 'loyalty_program':'cohort'})\n",
    "\n",
    "# Выделим дату первого посещения в отдельный столбец, отформатировав в удобный вид:\n",
    "profiles['dt'] = profiles['first_ts'].dt.date\n",
    "\n",
    "# Определяем первый день месяца, в который произошла покупка методом 'astype' передав аргументу 'datetime64' значение 'M'\n",
    "profiles['month'] = profiles['first_ts'].astype('datetime64[M]')\n",
    "\n",
    "# Выведем первые десять строк:\n",
    "profiles.head(10)"
   ]
  },
  {
   "cell_type": "markdown",
   "id": "1a6407e3",
   "metadata": {},
   "source": [
    "#### Формирования продаж в разрезе покупателей"
   ]
  },
  {
   "cell_type": "markdown",
   "id": "52e2ba1e",
   "metadata": {},
   "source": [
    "Также для расчёта LTV необходимо сформировать данные о покупках посетителей. Данные также возьмем из датафрейма data и запишем в переменную purchases"
   ]
  },
  {
   "cell_type": "code",
   "execution_count": 64,
   "id": "bb287650",
   "metadata": {
    "scrolled": false
   },
   "outputs": [
    {
     "data": {
      "text/html": [
       "<div>\n",
       "<style scoped>\n",
       "    .dataframe tbody tr th:only-of-type {\n",
       "        vertical-align: middle;\n",
       "    }\n",
       "\n",
       "    .dataframe tbody tr th {\n",
       "        vertical-align: top;\n",
       "    }\n",
       "\n",
       "    .dataframe thead th {\n",
       "        text-align: right;\n",
       "    }\n",
       "</style>\n",
       "<table border=\"1\" class=\"dataframe\">\n",
       "  <thead>\n",
       "    <tr style=\"text-align: right;\">\n",
       "      <th></th>\n",
       "      <th>user_id</th>\n",
       "      <th>event_dt</th>\n",
       "      <th>revenue</th>\n",
       "    </tr>\n",
       "  </thead>\n",
       "  <tbody>\n",
       "    <tr>\n",
       "      <th>0</th>\n",
       "      <td>18026.0</td>\n",
       "      <td>2016-12-07 14:57:00</td>\n",
       "      <td>955.350</td>\n",
       "    </tr>\n",
       "    <tr>\n",
       "      <th>1</th>\n",
       "      <td>18026.0</td>\n",
       "      <td>2017-01-26 14:30:00</td>\n",
       "      <td>781.170</td>\n",
       "    </tr>\n",
       "    <tr>\n",
       "      <th>2</th>\n",
       "      <td>18027.0</td>\n",
       "      <td>2016-12-16 19:09:00</td>\n",
       "      <td>171.900</td>\n",
       "    </tr>\n",
       "    <tr>\n",
       "      <th>3</th>\n",
       "      <td>18027.0</td>\n",
       "      <td>2017-01-25 10:42:00</td>\n",
       "      <td>28.865</td>\n",
       "    </tr>\n",
       "    <tr>\n",
       "      <th>4</th>\n",
       "      <td>18029.0</td>\n",
       "      <td>2017-02-02 16:01:00</td>\n",
       "      <td>386.180</td>\n",
       "    </tr>\n",
       "    <tr>\n",
       "      <th>...</th>\n",
       "      <td>...</td>\n",
       "      <td>...</td>\n",
       "      <td>...</td>\n",
       "    </tr>\n",
       "    <tr>\n",
       "      <th>3430</th>\n",
       "      <td>not_reg</td>\n",
       "      <td>2017-02-28 10:15:00</td>\n",
       "      <td>144.225</td>\n",
       "    </tr>\n",
       "    <tr>\n",
       "      <th>3431</th>\n",
       "      <td>not_reg</td>\n",
       "      <td>2017-02-28 14:19:00</td>\n",
       "      <td>197.785</td>\n",
       "    </tr>\n",
       "    <tr>\n",
       "      <th>3432</th>\n",
       "      <td>not_reg</td>\n",
       "      <td>2017-02-28 16:47:00</td>\n",
       "      <td>621.325</td>\n",
       "    </tr>\n",
       "    <tr>\n",
       "      <th>3433</th>\n",
       "      <td>not_reg</td>\n",
       "      <td>2017-02-28 16:50:00</td>\n",
       "      <td>539.410</td>\n",
       "    </tr>\n",
       "    <tr>\n",
       "      <th>3434</th>\n",
       "      <td>not_reg</td>\n",
       "      <td>2017-02-28 16:59:00</td>\n",
       "      <td>479.605</td>\n",
       "    </tr>\n",
       "  </tbody>\n",
       "</table>\n",
       "<p>3435 rows × 3 columns</p>\n",
       "</div>"
      ],
      "text/plain": [
       "      user_id            event_dt  revenue\n",
       "0     18026.0 2016-12-07 14:57:00  955.350\n",
       "1     18026.0 2017-01-26 14:30:00  781.170\n",
       "2     18027.0 2016-12-16 19:09:00  171.900\n",
       "3     18027.0 2017-01-25 10:42:00   28.865\n",
       "4     18029.0 2017-02-02 16:01:00  386.180\n",
       "...       ...                 ...      ...\n",
       "3430  not_reg 2017-02-28 10:15:00  144.225\n",
       "3431  not_reg 2017-02-28 14:19:00  197.785\n",
       "3432  not_reg 2017-02-28 16:47:00  621.325\n",
       "3433  not_reg 2017-02-28 16:50:00  539.410\n",
       "3434  not_reg 2017-02-28 16:59:00  479.605\n",
       "\n",
       "[3435 rows x 3 columns]"
      ]
     },
     "execution_count": 64,
     "metadata": {},
     "output_type": "execute_result"
    }
   ],
   "source": [
    "# Для начала делаем срез по покупкам 'purchase_amount', уберем данные, в которых значение было равно нулю.\n",
    "# Далее проведем группировку из 'data' по id покупателя и дате покупки, а значения 'purchase_amount' посчитаем \n",
    "# агрегирующей функцией 'agg' со значением 'sum'\n",
    "purchases =  data.query('purchase_amount > 0').groupby(['customerid', 'purchasedate'], as_index=False)['purchase_amount']\\\n",
    "    .agg('sum')\n",
    "\n",
    "# Добавим данные с первым днем месяца совершения покупки:\n",
    "#purchases['month'] = purchases['purchasedate'].astype('datetime64[M]')\n",
    "purchases = purchases.rename(columns={'customerid':'user_id', 'purchasedate': 'event_dt', 'purchase_amount': 'revenue'})\n",
    "\n",
    "# Выведем полученные данные:\n",
    "purchases"
   ]
  },
  {
   "cell_type": "markdown",
   "id": "0a2f6a9a",
   "metadata": {},
   "source": [
    "Добавим к данным информацию о покупках карт лояльности соответствующим пользователям, для этого сформируем отельную таблицу в которую войдут id покупателей, дата совершения первой покупки и стоимость карты лояльности в размере 200 руб.\\\n",
    "В последствии, полученные данные присоединим к таблице purchases"
   ]
  },
  {
   "cell_type": "code",
   "execution_count": 65,
   "id": "fe89d2a7",
   "metadata": {},
   "outputs": [],
   "source": [
    "# Используем логическую фильтрацию методом 'loc', который применим к данным 'purchases['user_id']'.\n",
    "# Условием для фильтрации будет вхождение (isin) 'user_id' в список уникальных значений из среза 'profiles', \n",
    "# c использованием 'query', где 'cohort' соответствует  '1'.\n",
    "# Далее полученные данные будут сгруппированы методом 'groupby' по 'user_id' и найдена первая строка всех значений.\n",
    "# В заключении будет перестроен индекс таблицы 'reset_index'\n",
    "loyalty_card = purchases.loc[purchases['user_id'].isin(profiles.query('cohort == 1')['user_id'].unique())]\\\n",
    "   .groupby('user_id').agg({'first'}).reset_index()\n",
    "\n",
    "#Переименуем наименования колонок в 'loyalty_card', методом 'columns', где по порядку будут \n",
    "loyalty_card.columns=('user_id', 'event_dt', 'revenue')\n",
    "\n",
    "#Создадим столбец со стоимостью карт лояльности равной 200 ру\n",
    "loyalty_card['revenue']=200"
   ]
  },
  {
   "cell_type": "code",
   "execution_count": 66,
   "id": "7fec442b",
   "metadata": {},
   "outputs": [
    {
     "data": {
      "text/html": [
       "<div>\n",
       "<style scoped>\n",
       "    .dataframe tbody tr th:only-of-type {\n",
       "        vertical-align: middle;\n",
       "    }\n",
       "\n",
       "    .dataframe tbody tr th {\n",
       "        vertical-align: top;\n",
       "    }\n",
       "\n",
       "    .dataframe thead th {\n",
       "        text-align: right;\n",
       "    }\n",
       "</style>\n",
       "<table border=\"1\" class=\"dataframe\">\n",
       "  <thead>\n",
       "    <tr style=\"text-align: right;\">\n",
       "      <th></th>\n",
       "      <th>user_id</th>\n",
       "      <th>event_dt</th>\n",
       "      <th>revenue</th>\n",
       "    </tr>\n",
       "  </thead>\n",
       "  <tbody>\n",
       "    <tr>\n",
       "      <th>0</th>\n",
       "      <td>22005.0</td>\n",
       "      <td>2017-01-09 12:01:00</td>\n",
       "      <td>200</td>\n",
       "    </tr>\n",
       "    <tr>\n",
       "      <th>1</th>\n",
       "      <td>22006.0</td>\n",
       "      <td>2016-12-05 12:43:00</td>\n",
       "      <td>200</td>\n",
       "    </tr>\n",
       "    <tr>\n",
       "      <th>2</th>\n",
       "      <td>22011.0</td>\n",
       "      <td>2017-02-07 14:16:00</td>\n",
       "      <td>200</td>\n",
       "    </tr>\n",
       "    <tr>\n",
       "      <th>3</th>\n",
       "      <td>22018.0</td>\n",
       "      <td>2017-02-28 13:41:00</td>\n",
       "      <td>200</td>\n",
       "    </tr>\n",
       "    <tr>\n",
       "      <th>4</th>\n",
       "      <td>22029.0</td>\n",
       "      <td>2017-01-10 09:44:00</td>\n",
       "      <td>200</td>\n",
       "    </tr>\n",
       "    <tr>\n",
       "      <th>...</th>\n",
       "      <td>...</td>\n",
       "      <td>...</td>\n",
       "      <td>...</td>\n",
       "    </tr>\n",
       "    <tr>\n",
       "      <th>539</th>\n",
       "      <td>23936.0</td>\n",
       "      <td>2017-02-16 15:13:00</td>\n",
       "      <td>200</td>\n",
       "    </tr>\n",
       "    <tr>\n",
       "      <th>540</th>\n",
       "      <td>23938.0</td>\n",
       "      <td>2016-12-08 13:38:00</td>\n",
       "      <td>200</td>\n",
       "    </tr>\n",
       "    <tr>\n",
       "      <th>541</th>\n",
       "      <td>23939.0</td>\n",
       "      <td>2016-12-16 18:23:00</td>\n",
       "      <td>200</td>\n",
       "    </tr>\n",
       "    <tr>\n",
       "      <th>542</th>\n",
       "      <td>23948.0</td>\n",
       "      <td>2016-12-08 13:53:00</td>\n",
       "      <td>200</td>\n",
       "    </tr>\n",
       "    <tr>\n",
       "      <th>543</th>\n",
       "      <td>23962.0</td>\n",
       "      <td>2017-01-06 14:14:00</td>\n",
       "      <td>200</td>\n",
       "    </tr>\n",
       "  </tbody>\n",
       "</table>\n",
       "<p>544 rows × 3 columns</p>\n",
       "</div>"
      ],
      "text/plain": [
       "     user_id            event_dt  revenue\n",
       "0    22005.0 2017-01-09 12:01:00      200\n",
       "1    22006.0 2016-12-05 12:43:00      200\n",
       "2    22011.0 2017-02-07 14:16:00      200\n",
       "3    22018.0 2017-02-28 13:41:00      200\n",
       "4    22029.0 2017-01-10 09:44:00      200\n",
       "..       ...                 ...      ...\n",
       "539  23936.0 2017-02-16 15:13:00      200\n",
       "540  23938.0 2016-12-08 13:38:00      200\n",
       "541  23939.0 2016-12-16 18:23:00      200\n",
       "542  23948.0 2016-12-08 13:53:00      200\n",
       "543  23962.0 2017-01-06 14:14:00      200\n",
       "\n",
       "[544 rows x 3 columns]"
      ]
     },
     "execution_count": 66,
     "metadata": {},
     "output_type": "execute_result"
    }
   ],
   "source": [
    "# Выведем полученные значения\n",
    "loyalty_card"
   ]
  },
  {
   "cell_type": "code",
   "execution_count": 67,
   "id": "60131b02",
   "metadata": {},
   "outputs": [
    {
     "data": {
      "text/html": [
       "<div>\n",
       "<style scoped>\n",
       "    .dataframe tbody tr th:only-of-type {\n",
       "        vertical-align: middle;\n",
       "    }\n",
       "\n",
       "    .dataframe tbody tr th {\n",
       "        vertical-align: top;\n",
       "    }\n",
       "\n",
       "    .dataframe thead th {\n",
       "        text-align: right;\n",
       "    }\n",
       "</style>\n",
       "<table border=\"1\" class=\"dataframe\">\n",
       "  <thead>\n",
       "    <tr style=\"text-align: right;\">\n",
       "      <th></th>\n",
       "      <th>user_id</th>\n",
       "      <th>event_dt</th>\n",
       "      <th>revenue</th>\n",
       "    </tr>\n",
       "  </thead>\n",
       "  <tbody>\n",
       "    <tr>\n",
       "      <th>425</th>\n",
       "      <td>23529.0</td>\n",
       "      <td>2016-12-01 08:26:00</td>\n",
       "      <td>200.000</td>\n",
       "    </tr>\n",
       "    <tr>\n",
       "      <th>2869</th>\n",
       "      <td>23529.0</td>\n",
       "      <td>2016-12-01 08:26:00</td>\n",
       "      <td>186.515</td>\n",
       "    </tr>\n",
       "    <tr>\n",
       "      <th>2870</th>\n",
       "      <td>23529.0</td>\n",
       "      <td>2016-12-01 08:28:00</td>\n",
       "      <td>19.750</td>\n",
       "    </tr>\n",
       "    <tr>\n",
       "      <th>405</th>\n",
       "      <td>18726.0</td>\n",
       "      <td>2016-12-01 08:34:00</td>\n",
       "      <td>381.485</td>\n",
       "    </tr>\n",
       "    <tr>\n",
       "      <th>406</th>\n",
       "      <td>18726.0</td>\n",
       "      <td>2016-12-01 08:35:00</td>\n",
       "      <td>13.200</td>\n",
       "    </tr>\n",
       "    <tr>\n",
       "      <th>...</th>\n",
       "      <td>...</td>\n",
       "      <td>...</td>\n",
       "      <td>...</td>\n",
       "    </tr>\n",
       "    <tr>\n",
       "      <th>3432</th>\n",
       "      <td>not_reg</td>\n",
       "      <td>2017-02-28 16:47:00</td>\n",
       "      <td>621.325</td>\n",
       "    </tr>\n",
       "    <tr>\n",
       "      <th>3433</th>\n",
       "      <td>not_reg</td>\n",
       "      <td>2017-02-28 16:50:00</td>\n",
       "      <td>539.410</td>\n",
       "    </tr>\n",
       "    <tr>\n",
       "      <th>3434</th>\n",
       "      <td>not_reg</td>\n",
       "      <td>2017-02-28 16:59:00</td>\n",
       "      <td>479.605</td>\n",
       "    </tr>\n",
       "    <tr>\n",
       "      <th>2643</th>\n",
       "      <td>23141.0</td>\n",
       "      <td>2017-02-28 17:01:00</td>\n",
       "      <td>720.415</td>\n",
       "    </tr>\n",
       "    <tr>\n",
       "      <th>319</th>\n",
       "      <td>23141.0</td>\n",
       "      <td>2017-02-28 17:01:00</td>\n",
       "      <td>200.000</td>\n",
       "    </tr>\n",
       "  </tbody>\n",
       "</table>\n",
       "<p>3979 rows × 3 columns</p>\n",
       "</div>"
      ],
      "text/plain": [
       "      user_id            event_dt  revenue\n",
       "425   23529.0 2016-12-01 08:26:00  200.000\n",
       "2869  23529.0 2016-12-01 08:26:00  186.515\n",
       "2870  23529.0 2016-12-01 08:28:00   19.750\n",
       "405   18726.0 2016-12-01 08:34:00  381.485\n",
       "406   18726.0 2016-12-01 08:35:00   13.200\n",
       "...       ...                 ...      ...\n",
       "3432  not_reg 2017-02-28 16:47:00  621.325\n",
       "3433  not_reg 2017-02-28 16:50:00  539.410\n",
       "3434  not_reg 2017-02-28 16:59:00  479.605\n",
       "2643  23141.0 2017-02-28 17:01:00  720.415\n",
       "319   23141.0 2017-02-28 17:01:00  200.000\n",
       "\n",
       "[3979 rows x 3 columns]"
      ]
     },
     "execution_count": 67,
     "metadata": {},
     "output_type": "execute_result"
    }
   ],
   "source": [
    "# Объеденим два датасета с помощю медода 'concat', которая добавит в конец датасета 'purchases' покупку карты лояльности\n",
    "# пользователей из 'loyalty_card'\n",
    "\n",
    "purchases=pd.concat([purchases,loyalty_card])\n",
    "purchases.sort_values(by='event_dt')"
   ]
  },
  {
   "cell_type": "markdown",
   "id": "bbde4146",
   "metadata": {},
   "source": [
    "#### Формирование функции для расчтеа LTV\n",
    "Для автоматизации процесса, а также экономии кода, напишем фунцию для расчета LTV, с группировкой по когортам и динамикой."
   ]
  },
  {
   "cell_type": "code",
   "execution_count": 68,
   "id": "37b5bc97",
   "metadata": {},
   "outputs": [],
   "source": [
    "def get_ltv( # Шаг 1. \n",
    "    profiles,  # Получаем профили, \n",
    "    purchases, # данные о покупках,\n",
    "    observation_date, # период наблюдения,\n",
    "    horizon_days, # горизонт наблюдения,\n",
    "    dimensions=[], # категоризацию по когортам.\n",
    "    ignore_horizon=False, # устанавливаем игнорирование горизонта наблюдений в режим 'False'\n",
    "):\n",
    "\n",
    "    # исключаем пользователей, не «доживших» до горизонта анализа\n",
    "    last_suitable_acquisition_date = observation_date\n",
    "    if not ignore_horizon:\n",
    "        last_suitable_acquisition_date=observation_date-timedelta(days=horizon_days - 1)\n",
    "        \n",
    "    result_raw = profiles.query('dt <= @last_suitable_acquisition_date')\n",
    "\n",
    "    # Шаг 2. Добавляем данные о покупках в профили\n",
    "\n",
    "    result_raw = result_raw.merge(\n",
    "        # добавляем в профили время совершения покупок и выручку\n",
    "        purchases[['user_id', 'event_dt', 'revenue']],\n",
    "        on='user_id',\n",
    "        how='left',\n",
    "    )\n",
    "\n",
    "    # Шаг 3. Рассчитываем лайфтайм пользователя для каждой покупки\n",
    "    result_raw['lifetime'] = (result_raw['event_dt'] - result_raw['first_ts']).dt.days\n",
    "\n",
    "    # группируем по cohort, если в dimensions ничего нет\n",
    "    if len(dimensions) == 0:\n",
    "        result_raw['cohort'] = 'All users'\n",
    "        dimensions = dimensions + ['cohort']\n",
    "\n",
    "    # функция для группировки таблицы по желаемым признакам\n",
    "    # На вход функии попадет таблица 'result_raw', переменная 'dimensions' и переменная 'horizon_days':\n",
    "    def group_by_dimensions(df, dims, horizon_days):\n",
    "\n",
    "        # Шаг 4. Построим таблицу выручки\n",
    "        # строим «треугольную» таблицу\n",
    "        result = df.pivot_table(\n",
    "            index=dims, # в качестве индексов используем признак участия в программе лояльности ['cohort']\n",
    "            columns='lifetime',\n",
    "            values='revenue',  # в ячейках — выручка за каждый лайфтайм\n",
    "            aggfunc='sum',\n",
    "        )\n",
    "\n",
    "        # Шаг 5. Посчитаем сумму выручки с накоплением\n",
    "        result = result.fillna(0).cumsum(axis=1)\n",
    "\n",
    "        # Шаг 6. Вычисляем размеры когорт\n",
    "        cohort_sizes = (df.groupby(dims).agg({'user_id': 'nunique'}).rename(columns={'user_id': 'cohort_size'}))\n",
    "\n",
    "        # Шаг 7. Объединяем размеры когорт и таблицу выручки\n",
    "        result = cohort_sizes.merge(result, on=dims, how='left').fillna(0)\n",
    "\n",
    "        # Шаг 8. Посчитаем LTV\n",
    "        # делим каждую «ячейку» в строке на размер когорты\n",
    "        result = result.div(result['cohort_size'], axis=0)\n",
    "        # исключаем все лайфтаймы, превышающие горизонт анализа\n",
    "        result = result[['cohort_size'] + list(range(horizon_days))]\n",
    "        # восстанавливаем размеры когорт\n",
    "        result['cohort_size'] = cohort_sizes\n",
    "        return result\n",
    "\n",
    "    # получаем таблицу LTV с помощю функции group_by_dimensions, на вход которой подаем в строгой последовательности\n",
    "    # 'result_raw', 'dimensions', 'horizon_days', а на выходе получим таблицу 'result_grouped':\n",
    "    result_grouped = group_by_dimensions(result_raw, dimensions, horizon_days)\n",
    "\n",
    "    # для таблицы динамики LTV убираем 'cohort' из dimensions\n",
    "    if 'cohort' in dimensions:\n",
    "        dimensions = []\n",
    "    # получаем таблицу динамики LTV\n",
    "    result_in_time = group_by_dimensions(result_raw, dimensions + ['dt'], horizon_days)\n",
    "\n",
    "    # возвращаем обе таблицы LTV и сырые данные\n",
    "    return result_raw, result_grouped, result_in_time"
   ]
  },
  {
   "cell_type": "markdown",
   "id": "1ba808ce",
   "metadata": {},
   "source": [
    "#### Ввод начальных расчетных параметров"
   ]
  },
  {
   "cell_type": "markdown",
   "id": "83d3402b",
   "metadata": {},
   "source": [
    "Для проведения расчетов с помощью созданной функции *get_ltv* зададим значения по периоду наблюдения, горизонту наблюдения и категоризации покупателей в когорты."
   ]
  },
  {
   "cell_type": "code",
   "execution_count": 69,
   "id": "90337ae4",
   "metadata": {
    "scrolled": false
   },
   "outputs": [],
   "source": [
    "# Период наблюдения:\n",
    "analysis_horizon = datetime(2017, 2, 28).date()\n",
    "\n",
    "# Горизонт наблюдения:\n",
    "horizon_days = 30\n",
    "\n",
    "# Категоризация покупателей в когорты:\n",
    "dimensions = ['cohort']"
   ]
  },
  {
   "cell_type": "markdown",
   "id": "1a2763a2",
   "metadata": {},
   "source": [
    "#### Получим расчетные данные LTV\n",
    "Вызовем функцию расчета LTV, задав расчетные параметры"
   ]
  },
  {
   "cell_type": "code",
   "execution_count": 70,
   "id": "61f7a0af",
   "metadata": {},
   "outputs": [],
   "source": [
    "# Передадим функции требуемые данные в соотвествии с порядком, который в ней следуют переменные: \n",
    "# 'profiles', 'purchases', 'analysis_horizon', 'horizon_days', 'dimensions'.\n",
    "# Результат работы функции запишем в соотвествующие переменные, также по порядку: 'ltv_raw', 'ltv', 'ltv_history'\n",
    "ltv_raw, ltv, ltv_history = get_ltv(\n",
    "    profiles, purchases, analysis_horizon, horizon_days, dimensions)"
   ]
  },
  {
   "cell_type": "markdown",
   "id": "3d35b49b",
   "metadata": {},
   "source": [
    "Выведем первые строки полученных данных ltv_raw, ltv, ltv_history:"
   ]
  },
  {
   "cell_type": "code",
   "execution_count": 71,
   "id": "4d7738f7",
   "metadata": {},
   "outputs": [
    {
     "data": {
      "text/html": [
       "<div>\n",
       "<style scoped>\n",
       "    .dataframe tbody tr th:only-of-type {\n",
       "        vertical-align: middle;\n",
       "    }\n",
       "\n",
       "    .dataframe tbody tr th {\n",
       "        vertical-align: top;\n",
       "    }\n",
       "\n",
       "    .dataframe thead th {\n",
       "        text-align: right;\n",
       "    }\n",
       "</style>\n",
       "<table border=\"1\" class=\"dataframe\">\n",
       "  <thead>\n",
       "    <tr style=\"text-align: right;\">\n",
       "      <th></th>\n",
       "      <th>user_id</th>\n",
       "      <th>cohort</th>\n",
       "      <th>first_ts</th>\n",
       "      <th>dt</th>\n",
       "      <th>month</th>\n",
       "      <th>event_dt</th>\n",
       "      <th>revenue</th>\n",
       "      <th>lifetime</th>\n",
       "    </tr>\n",
       "  </thead>\n",
       "  <tbody>\n",
       "    <tr>\n",
       "      <th>0</th>\n",
       "      <td>18026.0</td>\n",
       "      <td>0</td>\n",
       "      <td>2016-12-07 14:57:00</td>\n",
       "      <td>2016-12-07</td>\n",
       "      <td>2016-12-01</td>\n",
       "      <td>2016-12-07 14:57:00</td>\n",
       "      <td>955.350</td>\n",
       "      <td>0</td>\n",
       "    </tr>\n",
       "    <tr>\n",
       "      <th>1</th>\n",
       "      <td>18026.0</td>\n",
       "      <td>0</td>\n",
       "      <td>2016-12-07 14:57:00</td>\n",
       "      <td>2016-12-07</td>\n",
       "      <td>2016-12-01</td>\n",
       "      <td>2017-01-26 14:30:00</td>\n",
       "      <td>781.170</td>\n",
       "      <td>49</td>\n",
       "    </tr>\n",
       "    <tr>\n",
       "      <th>2</th>\n",
       "      <td>18027.0</td>\n",
       "      <td>0</td>\n",
       "      <td>2016-12-16 19:09:00</td>\n",
       "      <td>2016-12-16</td>\n",
       "      <td>2016-12-01</td>\n",
       "      <td>2016-12-16 19:09:00</td>\n",
       "      <td>171.900</td>\n",
       "      <td>0</td>\n",
       "    </tr>\n",
       "    <tr>\n",
       "      <th>3</th>\n",
       "      <td>18027.0</td>\n",
       "      <td>0</td>\n",
       "      <td>2016-12-16 19:09:00</td>\n",
       "      <td>2016-12-16</td>\n",
       "      <td>2016-12-01</td>\n",
       "      <td>2017-01-25 10:42:00</td>\n",
       "      <td>28.865</td>\n",
       "      <td>39</td>\n",
       "    </tr>\n",
       "    <tr>\n",
       "      <th>4</th>\n",
       "      <td>18035.0</td>\n",
       "      <td>0</td>\n",
       "      <td>2017-01-18 09:50:00</td>\n",
       "      <td>2017-01-18</td>\n",
       "      <td>2017-01-01</td>\n",
       "      <td>2017-01-18 09:50:00</td>\n",
       "      <td>2115.420</td>\n",
       "      <td>0</td>\n",
       "    </tr>\n",
       "    <tr>\n",
       "      <th>5</th>\n",
       "      <td>18038.0</td>\n",
       "      <td>0</td>\n",
       "      <td>2017-01-12 12:43:00</td>\n",
       "      <td>2017-01-12</td>\n",
       "      <td>2017-01-01</td>\n",
       "      <td>2017-01-12 12:43:00</td>\n",
       "      <td>439.995</td>\n",
       "      <td>0</td>\n",
       "    </tr>\n",
       "    <tr>\n",
       "      <th>6</th>\n",
       "      <td>18038.0</td>\n",
       "      <td>0</td>\n",
       "      <td>2017-01-12 12:43:00</td>\n",
       "      <td>2017-01-12</td>\n",
       "      <td>2017-01-01</td>\n",
       "      <td>2017-02-07 14:51:00</td>\n",
       "      <td>1477.180</td>\n",
       "      <td>26</td>\n",
       "    </tr>\n",
       "    <tr>\n",
       "      <th>7</th>\n",
       "      <td>18049.0</td>\n",
       "      <td>0</td>\n",
       "      <td>2016-12-14 12:58:00</td>\n",
       "      <td>2016-12-14</td>\n",
       "      <td>2016-12-01</td>\n",
       "      <td>2016-12-14 12:58:00</td>\n",
       "      <td>1426.295</td>\n",
       "      <td>0</td>\n",
       "    </tr>\n",
       "    <tr>\n",
       "      <th>8</th>\n",
       "      <td>18049.0</td>\n",
       "      <td>0</td>\n",
       "      <td>2016-12-14 12:58:00</td>\n",
       "      <td>2016-12-14</td>\n",
       "      <td>2016-12-01</td>\n",
       "      <td>2016-12-17 09:38:00</td>\n",
       "      <td>225.790</td>\n",
       "      <td>2</td>\n",
       "    </tr>\n",
       "    <tr>\n",
       "      <th>9</th>\n",
       "      <td>18056.0</td>\n",
       "      <td>0</td>\n",
       "      <td>2016-12-20 09:37:00</td>\n",
       "      <td>2016-12-20</td>\n",
       "      <td>2016-12-01</td>\n",
       "      <td>2016-12-20 09:37:00</td>\n",
       "      <td>1346.835</td>\n",
       "      <td>0</td>\n",
       "    </tr>\n",
       "  </tbody>\n",
       "</table>\n",
       "</div>"
      ],
      "text/plain": [
       "   user_id  cohort            first_ts          dt      month  \\\n",
       "0  18026.0       0 2016-12-07 14:57:00  2016-12-07 2016-12-01   \n",
       "1  18026.0       0 2016-12-07 14:57:00  2016-12-07 2016-12-01   \n",
       "2  18027.0       0 2016-12-16 19:09:00  2016-12-16 2016-12-01   \n",
       "3  18027.0       0 2016-12-16 19:09:00  2016-12-16 2016-12-01   \n",
       "4  18035.0       0 2017-01-18 09:50:00  2017-01-18 2017-01-01   \n",
       "5  18038.0       0 2017-01-12 12:43:00  2017-01-12 2017-01-01   \n",
       "6  18038.0       0 2017-01-12 12:43:00  2017-01-12 2017-01-01   \n",
       "7  18049.0       0 2016-12-14 12:58:00  2016-12-14 2016-12-01   \n",
       "8  18049.0       0 2016-12-14 12:58:00  2016-12-14 2016-12-01   \n",
       "9  18056.0       0 2016-12-20 09:37:00  2016-12-20 2016-12-01   \n",
       "\n",
       "             event_dt   revenue  lifetime  \n",
       "0 2016-12-07 14:57:00   955.350         0  \n",
       "1 2017-01-26 14:30:00   781.170        49  \n",
       "2 2016-12-16 19:09:00   171.900         0  \n",
       "3 2017-01-25 10:42:00    28.865        39  \n",
       "4 2017-01-18 09:50:00  2115.420         0  \n",
       "5 2017-01-12 12:43:00   439.995         0  \n",
       "6 2017-02-07 14:51:00  1477.180        26  \n",
       "7 2016-12-14 12:58:00  1426.295         0  \n",
       "8 2016-12-17 09:38:00   225.790         2  \n",
       "9 2016-12-20 09:37:00  1346.835         0  "
      ]
     },
     "execution_count": 71,
     "metadata": {},
     "output_type": "execute_result"
    }
   ],
   "source": [
    "ltv_raw.head(10)"
   ]
  },
  {
   "cell_type": "code",
   "execution_count": 72,
   "id": "da08a81c",
   "metadata": {},
   "outputs": [
    {
     "data": {
      "text/html": [
       "<div>\n",
       "<style scoped>\n",
       "    .dataframe tbody tr th:only-of-type {\n",
       "        vertical-align: middle;\n",
       "    }\n",
       "\n",
       "    .dataframe tbody tr th {\n",
       "        vertical-align: top;\n",
       "    }\n",
       "\n",
       "    .dataframe thead th {\n",
       "        text-align: right;\n",
       "    }\n",
       "</style>\n",
       "<table border=\"1\" class=\"dataframe\">\n",
       "  <thead>\n",
       "    <tr style=\"text-align: right;\">\n",
       "      <th></th>\n",
       "      <th>cohort_size</th>\n",
       "      <th>0</th>\n",
       "      <th>1</th>\n",
       "      <th>2</th>\n",
       "      <th>3</th>\n",
       "      <th>4</th>\n",
       "      <th>5</th>\n",
       "      <th>6</th>\n",
       "      <th>7</th>\n",
       "      <th>8</th>\n",
       "      <th>...</th>\n",
       "      <th>20</th>\n",
       "      <th>21</th>\n",
       "      <th>22</th>\n",
       "      <th>23</th>\n",
       "      <th>24</th>\n",
       "      <th>25</th>\n",
       "      <th>26</th>\n",
       "      <th>27</th>\n",
       "      <th>28</th>\n",
       "      <th>29</th>\n",
       "    </tr>\n",
       "    <tr>\n",
       "      <th>cohort</th>\n",
       "      <th></th>\n",
       "      <th></th>\n",
       "      <th></th>\n",
       "      <th></th>\n",
       "      <th></th>\n",
       "      <th></th>\n",
       "      <th></th>\n",
       "      <th></th>\n",
       "      <th></th>\n",
       "      <th></th>\n",
       "      <th></th>\n",
       "      <th></th>\n",
       "      <th></th>\n",
       "      <th></th>\n",
       "      <th></th>\n",
       "      <th></th>\n",
       "      <th></th>\n",
       "      <th></th>\n",
       "      <th></th>\n",
       "      <th></th>\n",
       "      <th></th>\n",
       "    </tr>\n",
       "  </thead>\n",
       "  <tbody>\n",
       "    <tr>\n",
       "      <th>0</th>\n",
       "      <td>813</td>\n",
       "      <td>473.159834</td>\n",
       "      <td>492.920271</td>\n",
       "      <td>494.021052</td>\n",
       "      <td>497.383868</td>\n",
       "      <td>512.039287</td>\n",
       "      <td>519.043499</td>\n",
       "      <td>547.736415</td>\n",
       "      <td>573.580363</td>\n",
       "      <td>588.776347</td>\n",
       "      <td>...</td>\n",
       "      <td>686.663143</td>\n",
       "      <td>698.346039</td>\n",
       "      <td>701.185615</td>\n",
       "      <td>704.364127</td>\n",
       "      <td>707.439139</td>\n",
       "      <td>709.522946</td>\n",
       "      <td>713.126316</td>\n",
       "      <td>719.582651</td>\n",
       "      <td>723.369317</td>\n",
       "      <td>732.906162</td>\n",
       "    </tr>\n",
       "    <tr>\n",
       "      <th>1</th>\n",
       "      <td>421</td>\n",
       "      <td>544.667197</td>\n",
       "      <td>561.064026</td>\n",
       "      <td>567.119952</td>\n",
       "      <td>568.413444</td>\n",
       "      <td>571.079644</td>\n",
       "      <td>581.076698</td>\n",
       "      <td>585.698183</td>\n",
       "      <td>592.634549</td>\n",
       "      <td>597.363076</td>\n",
       "      <td>...</td>\n",
       "      <td>635.483527</td>\n",
       "      <td>636.353990</td>\n",
       "      <td>636.982577</td>\n",
       "      <td>639.597601</td>\n",
       "      <td>640.327779</td>\n",
       "      <td>643.652898</td>\n",
       "      <td>644.507102</td>\n",
       "      <td>648.261152</td>\n",
       "      <td>655.677565</td>\n",
       "      <td>657.674169</td>\n",
       "    </tr>\n",
       "  </tbody>\n",
       "</table>\n",
       "<p>2 rows × 31 columns</p>\n",
       "</div>"
      ],
      "text/plain": [
       "        cohort_size           0           1           2           3  \\\n",
       "cohort                                                                \n",
       "0               813  473.159834  492.920271  494.021052  497.383868   \n",
       "1               421  544.667197  561.064026  567.119952  568.413444   \n",
       "\n",
       "                 4           5           6           7           8  ...  \\\n",
       "cohort                                                              ...   \n",
       "0       512.039287  519.043499  547.736415  573.580363  588.776347  ...   \n",
       "1       571.079644  581.076698  585.698183  592.634549  597.363076  ...   \n",
       "\n",
       "                20          21          22          23          24  \\\n",
       "cohort                                                               \n",
       "0       686.663143  698.346039  701.185615  704.364127  707.439139   \n",
       "1       635.483527  636.353990  636.982577  639.597601  640.327779   \n",
       "\n",
       "                25          26          27          28          29  \n",
       "cohort                                                              \n",
       "0       709.522946  713.126316  719.582651  723.369317  732.906162  \n",
       "1       643.652898  644.507102  648.261152  655.677565  657.674169  \n",
       "\n",
       "[2 rows x 31 columns]"
      ]
     },
     "execution_count": 72,
     "metadata": {},
     "output_type": "execute_result"
    }
   ],
   "source": [
    "ltv.head(10)"
   ]
  },
  {
   "cell_type": "code",
   "execution_count": 73,
   "id": "7b30f747",
   "metadata": {
    "scrolled": false
   },
   "outputs": [
    {
     "data": {
      "text/html": [
       "<div>\n",
       "<style scoped>\n",
       "    .dataframe tbody tr th:only-of-type {\n",
       "        vertical-align: middle;\n",
       "    }\n",
       "\n",
       "    .dataframe tbody tr th {\n",
       "        vertical-align: top;\n",
       "    }\n",
       "\n",
       "    .dataframe thead th {\n",
       "        text-align: right;\n",
       "    }\n",
       "</style>\n",
       "<table border=\"1\" class=\"dataframe\">\n",
       "  <thead>\n",
       "    <tr style=\"text-align: right;\">\n",
       "      <th></th>\n",
       "      <th>cohort_size</th>\n",
       "      <th>0</th>\n",
       "      <th>1</th>\n",
       "      <th>2</th>\n",
       "      <th>3</th>\n",
       "      <th>4</th>\n",
       "      <th>5</th>\n",
       "      <th>6</th>\n",
       "      <th>7</th>\n",
       "      <th>8</th>\n",
       "      <th>...</th>\n",
       "      <th>20</th>\n",
       "      <th>21</th>\n",
       "      <th>22</th>\n",
       "      <th>23</th>\n",
       "      <th>24</th>\n",
       "      <th>25</th>\n",
       "      <th>26</th>\n",
       "      <th>27</th>\n",
       "      <th>28</th>\n",
       "      <th>29</th>\n",
       "    </tr>\n",
       "    <tr>\n",
       "      <th>dt</th>\n",
       "      <th></th>\n",
       "      <th></th>\n",
       "      <th></th>\n",
       "      <th></th>\n",
       "      <th></th>\n",
       "      <th></th>\n",
       "      <th></th>\n",
       "      <th></th>\n",
       "      <th></th>\n",
       "      <th></th>\n",
       "      <th></th>\n",
       "      <th></th>\n",
       "      <th></th>\n",
       "      <th></th>\n",
       "      <th></th>\n",
       "      <th></th>\n",
       "      <th></th>\n",
       "      <th></th>\n",
       "      <th></th>\n",
       "      <th></th>\n",
       "      <th></th>\n",
       "    </tr>\n",
       "  </thead>\n",
       "  <tbody>\n",
       "    <tr>\n",
       "      <th>2016-12-01</th>\n",
       "      <td>90</td>\n",
       "      <td>490.773722</td>\n",
       "      <td>691.631389</td>\n",
       "      <td>703.728000</td>\n",
       "      <td>705.968667</td>\n",
       "      <td>809.518444</td>\n",
       "      <td>863.518500</td>\n",
       "      <td>1022.756000</td>\n",
       "      <td>1126.305056</td>\n",
       "      <td>1200.062222</td>\n",
       "      <td>...</td>\n",
       "      <td>1722.861556</td>\n",
       "      <td>1781.314000</td>\n",
       "      <td>1787.791222</td>\n",
       "      <td>1787.791222</td>\n",
       "      <td>1787.791222</td>\n",
       "      <td>1787.791222</td>\n",
       "      <td>1787.791222</td>\n",
       "      <td>1787.791222</td>\n",
       "      <td>1787.791222</td>\n",
       "      <td>1787.791222</td>\n",
       "    </tr>\n",
       "    <tr>\n",
       "      <th>2016-12-02</th>\n",
       "      <td>86</td>\n",
       "      <td>420.534012</td>\n",
       "      <td>420.534012</td>\n",
       "      <td>420.534012</td>\n",
       "      <td>422.159884</td>\n",
       "      <td>434.416628</td>\n",
       "      <td>450.971453</td>\n",
       "      <td>453.848663</td>\n",
       "      <td>504.311395</td>\n",
       "      <td>504.311395</td>\n",
       "      <td>...</td>\n",
       "      <td>614.030756</td>\n",
       "      <td>614.030756</td>\n",
       "      <td>614.030756</td>\n",
       "      <td>614.030756</td>\n",
       "      <td>614.030756</td>\n",
       "      <td>614.030756</td>\n",
       "      <td>614.030756</td>\n",
       "      <td>614.030756</td>\n",
       "      <td>614.030756</td>\n",
       "      <td>614.030756</td>\n",
       "    </tr>\n",
       "    <tr>\n",
       "      <th>2016-12-03</th>\n",
       "      <td>43</td>\n",
       "      <td>456.415000</td>\n",
       "      <td>456.415000</td>\n",
       "      <td>464.363721</td>\n",
       "      <td>465.860233</td>\n",
       "      <td>465.860233</td>\n",
       "      <td>478.029186</td>\n",
       "      <td>505.787442</td>\n",
       "      <td>505.787442</td>\n",
       "      <td>515.561512</td>\n",
       "      <td>...</td>\n",
       "      <td>587.367093</td>\n",
       "      <td>587.367093</td>\n",
       "      <td>587.367093</td>\n",
       "      <td>587.367093</td>\n",
       "      <td>587.367093</td>\n",
       "      <td>587.367093</td>\n",
       "      <td>587.367093</td>\n",
       "      <td>587.367093</td>\n",
       "      <td>587.367093</td>\n",
       "      <td>587.367093</td>\n",
       "    </tr>\n",
       "    <tr>\n",
       "      <th>2016-12-05</th>\n",
       "      <td>68</td>\n",
       "      <td>472.379779</td>\n",
       "      <td>504.568824</td>\n",
       "      <td>507.790000</td>\n",
       "      <td>519.425221</td>\n",
       "      <td>539.935735</td>\n",
       "      <td>543.274779</td>\n",
       "      <td>576.554632</td>\n",
       "      <td>603.277721</td>\n",
       "      <td>634.387941</td>\n",
       "      <td>...</td>\n",
       "      <td>695.302059</td>\n",
       "      <td>695.302059</td>\n",
       "      <td>695.302059</td>\n",
       "      <td>695.302059</td>\n",
       "      <td>695.302059</td>\n",
       "      <td>695.302059</td>\n",
       "      <td>695.302059</td>\n",
       "      <td>695.302059</td>\n",
       "      <td>695.302059</td>\n",
       "      <td>695.302059</td>\n",
       "    </tr>\n",
       "    <tr>\n",
       "      <th>2016-12-06</th>\n",
       "      <td>68</td>\n",
       "      <td>422.233456</td>\n",
       "      <td>424.556250</td>\n",
       "      <td>432.212426</td>\n",
       "      <td>445.131765</td>\n",
       "      <td>446.619044</td>\n",
       "      <td>449.152353</td>\n",
       "      <td>449.152353</td>\n",
       "      <td>504.064118</td>\n",
       "      <td>539.001103</td>\n",
       "      <td>...</td>\n",
       "      <td>615.895147</td>\n",
       "      <td>615.895147</td>\n",
       "      <td>615.895147</td>\n",
       "      <td>615.895147</td>\n",
       "      <td>615.895147</td>\n",
       "      <td>615.895147</td>\n",
       "      <td>615.895147</td>\n",
       "      <td>615.895147</td>\n",
       "      <td>615.895147</td>\n",
       "      <td>664.782647</td>\n",
       "    </tr>\n",
       "    <tr>\n",
       "      <th>2016-12-07</th>\n",
       "      <td>45</td>\n",
       "      <td>485.714444</td>\n",
       "      <td>485.714444</td>\n",
       "      <td>491.837444</td>\n",
       "      <td>491.837444</td>\n",
       "      <td>491.837444</td>\n",
       "      <td>491.837444</td>\n",
       "      <td>530.522000</td>\n",
       "      <td>542.056889</td>\n",
       "      <td>542.056889</td>\n",
       "      <td>...</td>\n",
       "      <td>611.412000</td>\n",
       "      <td>611.412000</td>\n",
       "      <td>611.412000</td>\n",
       "      <td>611.412000</td>\n",
       "      <td>611.412000</td>\n",
       "      <td>611.412000</td>\n",
       "      <td>611.412000</td>\n",
       "      <td>611.412000</td>\n",
       "      <td>652.702333</td>\n",
       "      <td>667.708556</td>\n",
       "    </tr>\n",
       "    <tr>\n",
       "      <th>2016-12-08</th>\n",
       "      <td>78</td>\n",
       "      <td>485.549167</td>\n",
       "      <td>485.549167</td>\n",
       "      <td>486.094679</td>\n",
       "      <td>488.801474</td>\n",
       "      <td>497.772692</td>\n",
       "      <td>504.355769</td>\n",
       "      <td>525.567308</td>\n",
       "      <td>539.336923</td>\n",
       "      <td>548.114872</td>\n",
       "      <td>...</td>\n",
       "      <td>629.651795</td>\n",
       "      <td>629.651795</td>\n",
       "      <td>629.651795</td>\n",
       "      <td>629.651795</td>\n",
       "      <td>629.651795</td>\n",
       "      <td>629.651795</td>\n",
       "      <td>629.651795</td>\n",
       "      <td>649.518013</td>\n",
       "      <td>654.830064</td>\n",
       "      <td>666.043910</td>\n",
       "    </tr>\n",
       "    <tr>\n",
       "      <th>2016-12-09</th>\n",
       "      <td>64</td>\n",
       "      <td>444.635391</td>\n",
       "      <td>444.635391</td>\n",
       "      <td>444.635391</td>\n",
       "      <td>448.537109</td>\n",
       "      <td>448.741953</td>\n",
       "      <td>457.454297</td>\n",
       "      <td>457.544609</td>\n",
       "      <td>466.987344</td>\n",
       "      <td>494.326406</td>\n",
       "      <td>...</td>\n",
       "      <td>545.125859</td>\n",
       "      <td>545.125859</td>\n",
       "      <td>545.125859</td>\n",
       "      <td>545.125859</td>\n",
       "      <td>545.125859</td>\n",
       "      <td>548.380000</td>\n",
       "      <td>559.266328</td>\n",
       "      <td>576.823984</td>\n",
       "      <td>588.170078</td>\n",
       "      <td>601.382500</td>\n",
       "    </tr>\n",
       "    <tr>\n",
       "      <th>2016-12-10</th>\n",
       "      <td>41</td>\n",
       "      <td>583.082195</td>\n",
       "      <td>583.082195</td>\n",
       "      <td>584.589756</td>\n",
       "      <td>593.297439</td>\n",
       "      <td>602.530976</td>\n",
       "      <td>602.927073</td>\n",
       "      <td>608.849146</td>\n",
       "      <td>662.761098</td>\n",
       "      <td>662.761098</td>\n",
       "      <td>...</td>\n",
       "      <td>681.268171</td>\n",
       "      <td>681.268171</td>\n",
       "      <td>681.268171</td>\n",
       "      <td>681.268171</td>\n",
       "      <td>688.765854</td>\n",
       "      <td>691.189268</td>\n",
       "      <td>691.189268</td>\n",
       "      <td>704.303415</td>\n",
       "      <td>704.303415</td>\n",
       "      <td>704.303415</td>\n",
       "    </tr>\n",
       "    <tr>\n",
       "      <th>2016-12-12</th>\n",
       "      <td>27</td>\n",
       "      <td>513.060556</td>\n",
       "      <td>513.060556</td>\n",
       "      <td>518.034259</td>\n",
       "      <td>518.034259</td>\n",
       "      <td>518.034259</td>\n",
       "      <td>518.034259</td>\n",
       "      <td>546.445926</td>\n",
       "      <td>556.443333</td>\n",
       "      <td>556.443333</td>\n",
       "      <td>...</td>\n",
       "      <td>584.363333</td>\n",
       "      <td>584.363333</td>\n",
       "      <td>584.363333</td>\n",
       "      <td>601.857778</td>\n",
       "      <td>609.867407</td>\n",
       "      <td>609.867407</td>\n",
       "      <td>609.867407</td>\n",
       "      <td>626.791296</td>\n",
       "      <td>626.791296</td>\n",
       "      <td>637.496296</td>\n",
       "    </tr>\n",
       "  </tbody>\n",
       "</table>\n",
       "<p>10 rows × 31 columns</p>\n",
       "</div>"
      ],
      "text/plain": [
       "            cohort_size           0           1           2           3  \\\n",
       "dt                                                                        \n",
       "2016-12-01           90  490.773722  691.631389  703.728000  705.968667   \n",
       "2016-12-02           86  420.534012  420.534012  420.534012  422.159884   \n",
       "2016-12-03           43  456.415000  456.415000  464.363721  465.860233   \n",
       "2016-12-05           68  472.379779  504.568824  507.790000  519.425221   \n",
       "2016-12-06           68  422.233456  424.556250  432.212426  445.131765   \n",
       "2016-12-07           45  485.714444  485.714444  491.837444  491.837444   \n",
       "2016-12-08           78  485.549167  485.549167  486.094679  488.801474   \n",
       "2016-12-09           64  444.635391  444.635391  444.635391  448.537109   \n",
       "2016-12-10           41  583.082195  583.082195  584.589756  593.297439   \n",
       "2016-12-12           27  513.060556  513.060556  518.034259  518.034259   \n",
       "\n",
       "                     4           5            6            7            8  \\\n",
       "dt                                                                          \n",
       "2016-12-01  809.518444  863.518500  1022.756000  1126.305056  1200.062222   \n",
       "2016-12-02  434.416628  450.971453   453.848663   504.311395   504.311395   \n",
       "2016-12-03  465.860233  478.029186   505.787442   505.787442   515.561512   \n",
       "2016-12-05  539.935735  543.274779   576.554632   603.277721   634.387941   \n",
       "2016-12-06  446.619044  449.152353   449.152353   504.064118   539.001103   \n",
       "2016-12-07  491.837444  491.837444   530.522000   542.056889   542.056889   \n",
       "2016-12-08  497.772692  504.355769   525.567308   539.336923   548.114872   \n",
       "2016-12-09  448.741953  457.454297   457.544609   466.987344   494.326406   \n",
       "2016-12-10  602.530976  602.927073   608.849146   662.761098   662.761098   \n",
       "2016-12-12  518.034259  518.034259   546.445926   556.443333   556.443333   \n",
       "\n",
       "            ...           20           21           22           23  \\\n",
       "dt          ...                                                       \n",
       "2016-12-01  ...  1722.861556  1781.314000  1787.791222  1787.791222   \n",
       "2016-12-02  ...   614.030756   614.030756   614.030756   614.030756   \n",
       "2016-12-03  ...   587.367093   587.367093   587.367093   587.367093   \n",
       "2016-12-05  ...   695.302059   695.302059   695.302059   695.302059   \n",
       "2016-12-06  ...   615.895147   615.895147   615.895147   615.895147   \n",
       "2016-12-07  ...   611.412000   611.412000   611.412000   611.412000   \n",
       "2016-12-08  ...   629.651795   629.651795   629.651795   629.651795   \n",
       "2016-12-09  ...   545.125859   545.125859   545.125859   545.125859   \n",
       "2016-12-10  ...   681.268171   681.268171   681.268171   681.268171   \n",
       "2016-12-12  ...   584.363333   584.363333   584.363333   601.857778   \n",
       "\n",
       "                     24           25           26           27           28  \\\n",
       "dt                                                                            \n",
       "2016-12-01  1787.791222  1787.791222  1787.791222  1787.791222  1787.791222   \n",
       "2016-12-02   614.030756   614.030756   614.030756   614.030756   614.030756   \n",
       "2016-12-03   587.367093   587.367093   587.367093   587.367093   587.367093   \n",
       "2016-12-05   695.302059   695.302059   695.302059   695.302059   695.302059   \n",
       "2016-12-06   615.895147   615.895147   615.895147   615.895147   615.895147   \n",
       "2016-12-07   611.412000   611.412000   611.412000   611.412000   652.702333   \n",
       "2016-12-08   629.651795   629.651795   629.651795   649.518013   654.830064   \n",
       "2016-12-09   545.125859   548.380000   559.266328   576.823984   588.170078   \n",
       "2016-12-10   688.765854   691.189268   691.189268   704.303415   704.303415   \n",
       "2016-12-12   609.867407   609.867407   609.867407   626.791296   626.791296   \n",
       "\n",
       "                     29  \n",
       "dt                       \n",
       "2016-12-01  1787.791222  \n",
       "2016-12-02   614.030756  \n",
       "2016-12-03   587.367093  \n",
       "2016-12-05   695.302059  \n",
       "2016-12-06   664.782647  \n",
       "2016-12-07   667.708556  \n",
       "2016-12-08   666.043910  \n",
       "2016-12-09   601.382500  \n",
       "2016-12-10   704.303415  \n",
       "2016-12-12   637.496296  \n",
       "\n",
       "[10 rows x 31 columns]"
      ]
     },
     "execution_count": 73,
     "metadata": {},
     "output_type": "execute_result"
    }
   ],
   "source": [
    "ltv_history.head(10)"
   ]
  },
  {
   "cell_type": "markdown",
   "id": "6585812b",
   "metadata": {},
   "source": [
    "#### Построим графики LTV и динамики LTV покупателей"
   ]
  },
  {
   "cell_type": "code",
   "execution_count": 74,
   "id": "b7012c51",
   "metadata": {},
   "outputs": [
    {
     "data": {
      "image/png": "[encoded data removed]",
      "text/plain": [
       "<Figure size 1400x800 with 1 Axes>"
      ]
     },
     "metadata": {},
     "output_type": "display_data"
    }
   ],
   "source": [
    "# Строим кривые LTV\n",
    "# Для начала необходимо убрать столбец 'cohort_size' из таблицы 'ltv', т.к. этот столбец показывает размер когорт.  \n",
    "report = ltv.drop(columns=['cohort_size'])\n",
    "\n",
    "# Построим линейный график методом 'plot', предварительно трансформировав таблицу 'report' в вертикальный вид,\n",
    "# указав 'T' после названия датасета. Зададим наличие сетки графика аргументом 'grid=True', размер аргументом figsize,\n",
    "# Подписи оси Х для аргумента 'xticks' возьмем из списка столбцов таблицы 'report' методом ‘columns’,\n",
    "# задав аргумент ‘values’:\n",
    "report.T.plot(grid=True, figsize=(14, 8), xticks=list(report.columns.values))\n",
    "\n",
    "# Подпишем наименование диаграммы:\n",
    "plt.title('LTV с разбивкой по категориям участия в программе лояльности')\n",
    "\n",
    "# Подпишем ось Y:\n",
    "plt.ylabel('LTV, руб.')\n",
    "\n",
    "# Подпишем ось X:\n",
    "plt.xlabel('Лайфтайм')\n",
    "\n",
    "# Выводим легенду на область диаграммы:\n",
    "plt.legend(['не учувствуют в программе', 'учувствуют в программе'])\n",
    "\n",
    "# Выводим график со всеми параметрами:\n",
    "plt.show()"
   ]
  },
  {
   "cell_type": "code",
   "execution_count": 75,
   "id": "090f05b4",
   "metadata": {},
   "outputs": [
    {
     "data": {
      "image/png": "[encoded data removed]",
      "text/plain": [
       "<Figure size 1400x800 with 1 Axes>"
      ]
     },
     "metadata": {},
     "output_type": "display_data"
    }
   ],
   "source": [
    "# Строим график истории изменений LTV\n",
    "report = ltv_history[[0, 14, 29]]  # делаем срез данных на первый, четырнадцатый и тридцатый день жизни пользователя\n",
    "\n",
    "# Используем тот же метод построения 'plot', задав параметры сетки 'grid' и размера диаграммы 'figsize'\n",
    "report.plot(grid=True, figsize=(14, 8))\n",
    "\n",
    "# Подпишем наименование диаграммы:\n",
    "plt.title('Динамика LTV 1-го, 15-го и 30-ого дня жизни')\n",
    "\n",
    "# Подпишем ось Y:\n",
    "plt.ylabel('LTV, руб.')\n",
    "\n",
    "# Подпишем ось X: \n",
    "plt.xlabel('Даты привлечения пользователей')\n",
    "\n",
    "# Зададим наименование легенде, для более удобного просмотра:\n",
    "plt.legend(['1-ый день жизни', '15-ый день жизни', '30-ый день жизни'])\n",
    "\n",
    "# Повернем подписи оси X на 45°\n",
    "plt.xticks(rotation=45)\n",
    "\n",
    "# Выводим график со всеми параметрами:\n",
    "plt.show()"
   ]
  },
  {
   "cell_type": "markdown",
   "id": "86d6ab18",
   "metadata": {},
   "source": [
    "### Выводы по разделу"
   ]
  },
  {
   "cell_type": "markdown",
   "id": "e6287ce5",
   "metadata": {},
   "source": [
    "В результате обработки данных и вычисления LTV (пожизненной ценности покупателя) в разрезе когорт участия или не участия в программе лояльности можно сделать следующие вводы:\n",
    "1.\tОба коэффициента имеют правильный, нормальный рост, что говорит о корректности проведения расчетов\n",
    "2.\tКоэффициент LTV покупателей не из программы лояльности в первые 9 дней ниже того же показателя пользователей, принявших участие в программе лояльности. Однако на 10-ый день ситуация меняется и ценность клиентов без карт лояльности превысила конкурирующую когорту. И отрыв был недосягаем для покупателей с картами лояльности.\n",
    "3. Динамика роста LTV не обладающего картой лояльности, более активна в соем росте, по сравнению с покупателями, участвующими в программе.\n",
    "4. Клиенты по программе лояльности в любом случае делают положительный вклад, несмотря на отставание в динамике роста. Возможно, на более длительном этапе наблюдений LTV лояльных покупателей вновь будет больше, чем у покупателей не из программы лояльности. Но на текущий период наблюдения тренд очевиден и не оказывает поддержку в продолжении программы лояльности.\n",
    "\n",
    "По оценке динамики LTV 1-ого, 15-ого, 30-ого дня жизни можно сделать следующие выводы:\n",
    "1.\tДинамика ценности клиентов привлеченных c 01.12.2016 по 14.12.2016, LTV первого дня ниже LTV 15-ого и 30-ого дня. Но в дальнейшем графики практически сливаются.\n",
    "2.\tВ общих чертах все динамики практически идентичны, только динамика LTV первого дня ниже динамики LTV 30-ого дня. Но это различие есть только для пользователей привлеченных до 14.12.2016\n",
    "\n"
   ]
  },
  {
   "cell_type": "markdown",
   "id": "3877ad68",
   "metadata": {},
   "source": [
    "## Проверка гипотез"
   ]
  },
  {
   "cell_type": "markdown",
   "id": "c670d892",
   "metadata": {},
   "source": [
    "### Гипотеза 1: Средний чек участников программы лояльности равен, среднему чеку у остальных покупателей"
   ]
  },
  {
   "cell_type": "markdown",
   "id": "1afe1b31",
   "metadata": {},
   "source": [
    "Т.к. мы будем сравнивать две средние генеральной совокупности, то для тестирования выберем метод U-test \"Манна-Уитни\", который наиболее точно подходит для данного случая, т.к. присутствуют значительные выбросы в данных. При этом, есть предположение, что условие нормальности распределения выборок и идентичности дисперсий не соблюдаются и выбор T-теста будет некорректным.\n",
    "Для подтверждения варианта тестирования, проверим распределение двух совокупностей  на графике, но перед этим сформируем данные совокупности:\n"
   ]
  },
  {
   "cell_type": "markdown",
   "id": "86767992",
   "metadata": {},
   "source": [
    "Подготовим выборки с соответствующими группами для тестирования mid_check_0 для покупателей не участвующих в программе лояльности и mid_check_1 для участников программы лояльности."
   ]
  },
  {
   "cell_type": "code",
   "execution_count": 76,
   "id": "8acc6315",
   "metadata": {},
   "outputs": [
    {
     "data": {
      "text/html": [
       "<div>\n",
       "<style scoped>\n",
       "    .dataframe tbody tr th:only-of-type {\n",
       "        vertical-align: middle;\n",
       "    }\n",
       "\n",
       "    .dataframe tbody tr th {\n",
       "        vertical-align: top;\n",
       "    }\n",
       "\n",
       "    .dataframe thead th {\n",
       "        text-align: right;\n",
       "    }\n",
       "</style>\n",
       "<table border=\"1\" class=\"dataframe\">\n",
       "  <thead>\n",
       "    <tr style=\"text-align: right;\">\n",
       "      <th></th>\n",
       "      <th>loyalty_program</th>\n",
       "      <th>purchaseid</th>\n",
       "      <th>sum</th>\n",
       "    </tr>\n",
       "  </thead>\n",
       "  <tbody>\n",
       "    <tr>\n",
       "      <th>0</th>\n",
       "      <td>0</td>\n",
       "      <td>536367</td>\n",
       "      <td>285.395</td>\n",
       "    </tr>\n",
       "    <tr>\n",
       "      <th>1</th>\n",
       "      <td>0</td>\n",
       "      <td>536368</td>\n",
       "      <td>96.090</td>\n",
       "    </tr>\n",
       "    <tr>\n",
       "      <th>2</th>\n",
       "      <td>0</td>\n",
       "      <td>536369</td>\n",
       "      <td>13.200</td>\n",
       "    </tr>\n",
       "    <tr>\n",
       "      <th>3</th>\n",
       "      <td>0</td>\n",
       "      <td>536370</td>\n",
       "      <td>1184.660</td>\n",
       "    </tr>\n",
       "    <tr>\n",
       "      <th>4</th>\n",
       "      <td>0</td>\n",
       "      <td>536374</td>\n",
       "      <td>367.350</td>\n",
       "    </tr>\n",
       "    <tr>\n",
       "      <th>...</th>\n",
       "      <td>...</td>\n",
       "      <td>...</td>\n",
       "      <td>...</td>\n",
       "    </tr>\n",
       "    <tr>\n",
       "      <th>3476</th>\n",
       "      <td>1</td>\n",
       "      <td>545186</td>\n",
       "      <td>171.425</td>\n",
       "    </tr>\n",
       "    <tr>\n",
       "      <th>3477</th>\n",
       "      <td>1</td>\n",
       "      <td>545187</td>\n",
       "      <td>155.165</td>\n",
       "    </tr>\n",
       "    <tr>\n",
       "      <th>3478</th>\n",
       "      <td>1</td>\n",
       "      <td>545213</td>\n",
       "      <td>184.050</td>\n",
       "    </tr>\n",
       "    <tr>\n",
       "      <th>3479</th>\n",
       "      <td>1</td>\n",
       "      <td>545214</td>\n",
       "      <td>218.710</td>\n",
       "    </tr>\n",
       "    <tr>\n",
       "      <th>3480</th>\n",
       "      <td>1</td>\n",
       "      <td>545218</td>\n",
       "      <td>720.415</td>\n",
       "    </tr>\n",
       "  </tbody>\n",
       "</table>\n",
       "<p>3481 rows × 3 columns</p>\n",
       "</div>"
      ],
      "text/plain": [
       "      loyalty_program purchaseid       sum\n",
       "0                   0     536367   285.395\n",
       "1                   0     536368    96.090\n",
       "2                   0     536369    13.200\n",
       "3                   0     536370  1184.660\n",
       "4                   0     536374   367.350\n",
       "...               ...        ...       ...\n",
       "3476                1     545186   171.425\n",
       "3477                1     545187   155.165\n",
       "3478                1     545213   184.050\n",
       "3479                1     545214   218.710\n",
       "3480                1     545218   720.415\n",
       "\n",
       "[3481 rows x 3 columns]"
      ]
     },
     "execution_count": 76,
     "metadata": {},
     "output_type": "execute_result"
    }
   ],
   "source": [
    "# группировка данных методом 'groupby' по признаку программы лояльности и идентификатору чека. Суммируем 'purchase_amount'\n",
    "# с помощью агрегирующей функции 'agg' с аргументом 'sum'. Данные запишем в переменную ttest_mid_chek:\n",
    "test_mid_chek=data.groupby(['loyalty_program', 'purchaseid'])['purchase_amount'].agg({'sum'})\n",
    "\n",
    "# Перестроим индексы методом 'reset_index' и выведем результат:\n",
    "test_mid_chek.reset_index()"
   ]
  },
  {
   "cell_type": "code",
   "execution_count": 77,
   "id": "61ee71d9",
   "metadata": {},
   "outputs": [],
   "source": [
    "# Сделаем срез данных методом query по чекам покупателй не из программы лояльности 'loyalty_program == 0'\n",
    "mid_check_0 = test_mid_chek.query('loyalty_program == 0')\n",
    "\n",
    "# Сделаем срез данных методом query по чекам покупателй принимающих участие в программе лояльности 'loyalty_program == 1'\n",
    "mid_check_1 = test_mid_chek.query('loyalty_program == 1')"
   ]
  },
  {
   "cell_type": "markdown",
   "id": "bbebc075",
   "metadata": {},
   "source": [
    "Построим гистораммы распределения данных:"
   ]
  },
  {
   "cell_type": "code",
   "execution_count": 78,
   "id": "aad0afb8",
   "metadata": {
    "scrolled": false
   },
   "outputs": [
    {
     "data": {
      "image/png": "[encoded data removed]",
      "text/plain": [
       "<Figure size 640x480 with 1 Axes>"
      ]
     },
     "metadata": {},
     "output_type": "display_data"
    }
   ],
   "source": [
    "# CФормируем гистограмы по датасетам mid_check_0 и mid_check_1 методом 'hist', \n",
    "# зададим размер корзин 'bins=30' и выведем обе гистограммы на одном поле\n",
    "\n",
    "plt.hist(mid_check_0, bins=30, label='ср. чек без лояльности')\n",
    "plt.hist(mid_check_1, bins=30, label='ср. чек с лояльностью')\n",
    "plt.legend()\n",
    "plt.title('Гистограмма распределения выборки покупателей без программы лояльности')\n",
    "plt.show();"
   ]
  },
  {
   "cell_type": "markdown",
   "id": "bcf68644",
   "metadata": {},
   "source": [
    "При построении графиков наше предположение о распределении и дисперсии подтвердилось, что еще раз говорит о верности выбора тестирования выборок U-тестом Манна-Уитни"
   ]
  },
  {
   "cell_type": "markdown",
   "id": "dd639ece",
   "metadata": {},
   "source": [
    "Проверка гипотезы: о среднем чеке покупателей магазина\n",
    "\n",
    "```\n",
    "H_0: Средний чек участников программы лояльности = среднему чеку покупателей не использующих программу лояльности\n",
    "H_a: Средний чек участников программы лояльности ≠ среднему чеку покупателей не использующих программу лояльности\n",
    "alpha = 0.05\n",
    "```"
   ]
  },
  {
   "cell_type": "code",
   "execution_count": 79,
   "id": "29ebd3bf",
   "metadata": {
    "scrolled": true
   },
   "outputs": [
    {
     "name": "stdout",
     "output_type": "stream",
     "text": [
      "Статистика U-теста = 1384858.000, p-value = 0.000\n",
      "Отвергаем нулевую гипотезу \n"
     ]
    }
   ],
   "source": [
    "# Зададим alpha, значение уровня значимости\n",
    "alpha = 0.05\n",
    "\n",
    "# вызовем метод Манна-Уитни из библиотеки scipy.stats для проверки гипотезы. \n",
    "# в параметры зададим массивы выборок 'mid_check_0' и 'mid_check_1'\n",
    "stat, p = mannwhitneyu(mid_check_0, mid_check_1)\n",
    "\n",
    "# Выведем значения полученной статистики stat и значения p-value\n",
    "print('Статистика U-теста = %.3f, p-value = %.3f' % (stat, p))\n",
    "\n",
    "# Принимаем решение о принятиии/отклонении нулевой гипотезы\n",
    "if p < alpha:\n",
    "    print ('Отвергаем нулевую гипотезу ')\n",
    "else:\n",
    "    print ('Не получилось отвергнуть нулевую гипотезу ')"
   ]
  },
  {
   "cell_type": "markdown",
   "id": "e533dc49",
   "metadata": {},
   "source": [
    "Значение статистики равное 1384857 говорит о том, что существуют значительные различия между двумя выборками данных. Значение p равное 0.000 говорит о том, что вероятность случайного возникновения таких различий между выборками крайне мала."
   ]
  },
  {
   "cell_type": "markdown",
   "id": "5314ca48",
   "metadata": {},
   "source": [
    "### Гипотеза 2: Среднее количество купленного товара у посетителей одинаково, не зависимо от участия в программе лояльности"
   ]
  },
  {
   "cell_type": "markdown",
   "id": "24ef559b",
   "metadata": {},
   "source": [
    "Т.к. мы будем сравнивать две средние генеральной совокупности, то для тестирования выберем метод U-test Манна-Уитни, т.к. предполагаем, что распределение выборок не отвечает критериям нормальности и нет однородности дисперий. Т.о. выбор T-теста будет ошибочным.\n",
    "Для подтверждения варианта тестирования, проверим распределение двух совокупностей  на графике, но перред эти сформируем данные совокупости:\n"
   ]
  },
  {
   "cell_type": "markdown",
   "id": "4dbda006",
   "metadata": {},
   "source": [
    "Сформируем два датасета, разделяющих между собой покупателей с картой лояльности и без нее.\\\n",
    "Первый запишем в датасет purchases_0, а второй в purchases_1"
   ]
  },
  {
   "cell_type": "code",
   "execution_count": 80,
   "id": "28307470",
   "metadata": {},
   "outputs": [
    {
     "data": {
      "text/html": [
       "<div>\n",
       "<style scoped>\n",
       "    .dataframe tbody tr th:only-of-type {\n",
       "        vertical-align: middle;\n",
       "    }\n",
       "\n",
       "    .dataframe tbody tr th {\n",
       "        vertical-align: top;\n",
       "    }\n",
       "\n",
       "    .dataframe thead th {\n",
       "        text-align: right;\n",
       "    }\n",
       "</style>\n",
       "<table border=\"1\" class=\"dataframe\">\n",
       "  <thead>\n",
       "    <tr style=\"text-align: right;\">\n",
       "      <th></th>\n",
       "      <th>loyalty_program</th>\n",
       "      <th>customerid</th>\n",
       "      <th>sum</th>\n",
       "    </tr>\n",
       "  </thead>\n",
       "  <tbody>\n",
       "    <tr>\n",
       "      <th>0</th>\n",
       "      <td>0</td>\n",
       "      <td>18026.0</td>\n",
       "      <td>574</td>\n",
       "    </tr>\n",
       "    <tr>\n",
       "      <th>1</th>\n",
       "      <td>0</td>\n",
       "      <td>18027.0</td>\n",
       "      <td>120</td>\n",
       "    </tr>\n",
       "    <tr>\n",
       "      <th>2</th>\n",
       "      <td>0</td>\n",
       "      <td>18029.0</td>\n",
       "      <td>180</td>\n",
       "    </tr>\n",
       "    <tr>\n",
       "      <th>3</th>\n",
       "      <td>0</td>\n",
       "      <td>18031.0</td>\n",
       "      <td>83</td>\n",
       "    </tr>\n",
       "    <tr>\n",
       "      <th>4</th>\n",
       "      <td>0</td>\n",
       "      <td>18035.0</td>\n",
       "      <td>491</td>\n",
       "    </tr>\n",
       "    <tr>\n",
       "      <th>...</th>\n",
       "      <td>...</td>\n",
       "      <td>...</td>\n",
       "      <td>...</td>\n",
       "    </tr>\n",
       "    <tr>\n",
       "      <th>1609</th>\n",
       "      <td>1</td>\n",
       "      <td>23936.0</td>\n",
       "      <td>108</td>\n",
       "    </tr>\n",
       "    <tr>\n",
       "      <th>1610</th>\n",
       "      <td>1</td>\n",
       "      <td>23938.0</td>\n",
       "      <td>109</td>\n",
       "    </tr>\n",
       "    <tr>\n",
       "      <th>1611</th>\n",
       "      <td>1</td>\n",
       "      <td>23939.0</td>\n",
       "      <td>403</td>\n",
       "    </tr>\n",
       "    <tr>\n",
       "      <th>1612</th>\n",
       "      <td>1</td>\n",
       "      <td>23948.0</td>\n",
       "      <td>69</td>\n",
       "    </tr>\n",
       "    <tr>\n",
       "      <th>1613</th>\n",
       "      <td>1</td>\n",
       "      <td>23962.0</td>\n",
       "      <td>55</td>\n",
       "    </tr>\n",
       "  </tbody>\n",
       "</table>\n",
       "<p>1614 rows × 3 columns</p>\n",
       "</div>"
      ],
      "text/plain": [
       "      loyalty_program customerid  sum\n",
       "0                   0    18026.0  574\n",
       "1                   0    18027.0  120\n",
       "2                   0    18029.0  180\n",
       "3                   0    18031.0   83\n",
       "4                   0    18035.0  491\n",
       "...               ...        ...  ...\n",
       "1609                1    23936.0  108\n",
       "1610                1    23938.0  109\n",
       "1611                1    23939.0  403\n",
       "1612                1    23948.0   69\n",
       "1613                1    23962.0   55\n",
       "\n",
       "[1614 rows x 3 columns]"
      ]
     },
     "execution_count": 80,
     "metadata": {},
     "output_type": "execute_result"
    }
   ],
   "source": [
    "# Используем группировку 'groupby' по датасету 'data' который сгруппируем по параметрам 'loyalty_program' и 'customerid'\n",
    "# данные о количестве товара 'quantity' агрегируем функцией 'agg' с параметром 'sum'.\n",
    "# Результат запишем в переменную 'ttest_mid_quantity'\n",
    "test_mid_quantity=data.groupby(['loyalty_program', 'customerid'])['quantity'].agg({'sum'})\n",
    "\n",
    "# Обновим индексы при помощи 'reset_index'\n",
    "test_mid_quantity.reset_index()"
   ]
  },
  {
   "cell_type": "markdown",
   "id": "14f48dce",
   "metadata": {},
   "source": [
    "Подготовим два датасета purchases_0 в который войдут данные с продажами покупателям не из программы лояльности. А в purchases_1 запишем данные продаж покупателей с картами лояльности."
   ]
  },
  {
   "cell_type": "code",
   "execution_count": 81,
   "id": "d408d4b1",
   "metadata": {},
   "outputs": [],
   "source": [
    "#  В обоих случаях используем метод среза 'query' и логической цепочки по столбцу 'loyalty_program' из \n",
    "# датасета 'test_mid_quantity', со значением 0 или 1, в соотвествии с участием в программе лояльности.\n",
    "purchases_0=test_mid_quantity.query('loyalty_program == 0')\n",
    "purchases_1=test_mid_quantity.query('loyalty_program == 1')"
   ]
  },
  {
   "cell_type": "markdown",
   "id": "c7c67782",
   "metadata": {},
   "source": [
    "Теперь перейдем к построению гистограмм распределения"
   ]
  },
  {
   "cell_type": "code",
   "execution_count": 82,
   "id": "6b0b192a",
   "metadata": {
    "scrolled": false
   },
   "outputs": [
    {
     "data": {
      "image/png": "[encoded data removed]",
      "text/plain": [
       "<Figure size 640x480 with 1 Axes>"
      ]
     },
     "metadata": {},
     "output_type": "display_data"
    }
   ],
   "source": [
    "\n",
    "\n",
    "plt.hist(purchases_0, range=(0, 10000), bins=30, label='ср. кол-во товара в группе без лояльности')\n",
    "plt.hist(purchases_1, range=(0, 10000), bins=30, label='ср. кол-во товара в группе с лояльностью')\n",
    "plt.title('Гистограмма распределения выборки покупателей без программы лояльности')\n",
    "plt.legend()\n",
    "plt.show();"
   ]
  },
  {
   "cell_type": "markdown",
   "id": "2aa4a085",
   "metadata": {},
   "source": [
    "При построении графиков наше предположение о распределении и дисперсии подтвердилось, что еще раз говорит о верности выбора тестирования выборок U-тестом Манна-Уитни"
   ]
  },
  {
   "cell_type": "markdown",
   "id": "89fb007c",
   "metadata": {},
   "source": [
    "Проверка гипотезы: о равенстве количества покупок участниками программы лояльности и теми кто не принимает участия в ней.\n",
    "\n",
    "```\n",
    "H_0: Среднее количество покупок участников программы лояльности = среднему количеству покупок клиентов не использующих программу лояльности\n",
    "H_a: Среднее количество покупок участников программы лояльности ≠ среднему количеству покупок клиентов не использующих программу лояльности\n",
    "\n",
    "alpha = 0.05\n",
    "```\n"
   ]
  },
  {
   "cell_type": "code",
   "execution_count": 83,
   "id": "53a3ef49",
   "metadata": {},
   "outputs": [
    {
     "name": "stdout",
     "output_type": "stream",
     "text": [
      "Статистика U-теста = 302594.500, p-value = 0.192\n",
      "Не получилось отвергнуть нулевую гипотезу \n"
     ]
    }
   ],
   "source": [
    "# Зададим alpha, значение уровня значимости\n",
    "alpha = 0.05\n",
    "\n",
    "# вызовем метода Манна-Уитни для проверки гипотезы \n",
    "stat, p = mannwhitneyu(purchases_0, purchases_1)\n",
    "\n",
    "# Выведем значения полученной статистики stat и значения p-value\n",
    "print('Статистика U-теста = %.3f, p-value = %.3f' % (stat, p))\n",
    "\n",
    "# Принимаем решение о принятиии/отклонении нулевой гипотезы\n",
    "if p < alpha:\n",
    "    print ('Отвергаем нулевую гипотезу ')\n",
    "else:\n",
    "    print ('Не получилось отвергнуть нулевую гипотезу ')"
   ]
  },
  {
   "cell_type": "markdown",
   "id": "da44cfca",
   "metadata": {},
   "source": [
    "Значение статистики 302594.500 говорит о том, что между двумя выборками нет значительных различий. Значение p-value равное 0.192 указывает на то, что вероятность случайного возникновения различий между выборками довольно велика.\\\n",
    "Т.к. p-value превышает зананный кровень значимости alpha, это может означать, что нет оснований считать различия между выборками статистически значимыми."
   ]
  },
  {
   "cell_type": "markdown",
   "id": "a5503b09",
   "metadata": {},
   "source": [
    "### Выводы по разделу"
   ]
  },
  {
   "cell_type": "markdown",
   "id": "39e99c3a",
   "metadata": {},
   "source": [
    "Согласно статистическому анализу средних чеков покупателей, участвующих в программе лояльности и не участвующих, гипотеза о разности средних чеков не подтвердилась. Результаты теста говорят о  реальных и не случайных различиях в выборках средних чеков обеих когорт.  Это также означает, что средний чек у двух групп разный. Данное обстоятельство должно натолкнуть на размышления об необходимости продолжения проведения наблюдений за показателем среднего чека в этих различных группах покупателей.\n",
    "\n",
    "Что же касается количества купленного товара покупателями обеих категорий, то статистический анализ дает ответ о том, что посетители покупают одинаковое количество. По этой причине необходимо проанализировать программу лояльности на предмет мотивации покупателей с катарами лояльности, покупать больше товаров.\n"
   ]
  },
  {
   "cell_type": "markdown",
   "id": "26caf758",
   "metadata": {},
   "source": [
    "## Выводы и рекомендации для заказчика"
   ]
  },
  {
   "cell_type": "markdown",
   "id": "2d7b48eb",
   "metadata": {},
   "source": [
    "В результате проведения исследовательской работы были изучены данные по продажам за период с 01.12.2016 8:26 по 28.02.2017 17:44, и определена эффективность внедренной программы лояльности.\\\n",
    "В процессе исследования были обработаны полученные данные, на предмет дубликатов, пропусков и аномальных значений. Все не крокетные данные были удалены из датасета. Также данные приведены к соответствующим форматам.\n",
    "На данной стадии был выявлен существенный недостаток исходных данных, который может серьезно влиять на результаты исследования. Так в файле product_codes.csv выявлена регистрация уникальных товаров по различным ценам. Причем регистрация разных цен идет без привязки к дате ее формирования. Возможно разные цены формируются в результате применения скидок по программе лояльности, но однозначно утверждать это нельзя. Данный аспект требует проработки специалистов, отвечающих за сбор данных.\n",
    "\n",
    "На этапе исследовательского анализа было выявлено:\n",
    "1.\tОсновные продажи происходят через магазин с кодом shop 0, что говорит о необходимости развивать другие каналы продаж.\n",
    "2.\tВ деятельности магазинов используется только одна программа лояльности, что может сужать заинтересованных покупателей с разными требованиями к таким программам, а также затрудняет поиск основных направлений привлечения клиентов.\n",
    "3.\tВсего зарегистрировано 1684 уникальных клиента, из которых 567 принимают участие в программе лояльности. Также обнаружена особенность присутствия большого количества продаж не зарегистрированным пользователям, из-за чего им пришлось присвоить отдельное наименование \"not_reg\", чтобы не потерять большой массив данных о реализациях. На это стоит обратить внимание, возможно необходимо изменить процедуру идентификации покупателей, например по id устройства.\n",
    "4.\tАнализ выручки среди покупателей обеих когорт снижается и составляет -108 538,95 руб., за период обзора. Это плохой тренд в части развития бизнеса, что требует дополнительного изучения и выработки мер по изменению ситуации.\n",
    "5.\tАнализ клиентской базы также показывает снижение, что подтверждается падением выручки. Всего за период магазин потерял 562 уникальных покупателя обеих когорт. Это также требует изучения и выработки стратегии привлечения новых покупателей, снижения оттока и возврат ранее сотрудничавших с магазином.\n",
    "6.\tКоличество реализуемых товаров также снижается. За весь период потери составили -35723 ед. товаров. Возможно ассортимент влияет на общий тренд снижения продаж и отток клиентов. Это требует дополнительного изучения и проверок.\n",
    "7.\tВ процессе анализа были выявлены ТОП-10 товаров, которые приобретают обе категории покупателей и они полностью совпадают друг с другом.\n",
    "\n",
    "В процессе исследования были выбраны бизнес-метрики, которые в свою очередь подверглись дополнительному анализу.\\\n",
    "1.\tМетрика среднего чека. По данной метрике были изучены обе категории покупателей в динамике рассматриваемого периода. В результате было выявлено, что средний чек декабря выше среднего чека января 7-10 % в зависимости от лояльности покупателей. Провал января был компенсирован ростом среднего чека в феврале, но всего лишь на 6% в обеих категориях. Возможно в марте будет сезонный рост, который позволит компенсировать просадку января. Также было обнаружено, что средние чеки в обеих категориях не сильно отличатся друг от друга. Что в дальнейшем было проверено через модель статистического наблюдения.\n",
    "2.\tМетрика среднего количества покупателей в день, в зависимости от лояльности.\n",
    "    По данной метрике были агрегированы данные по месяцам обзора и группам лояльности (участник программы лояльности или нет). Было выявлено, что в день среднее количество посетителей не обладающих картами лояльности, больше, чем их обладателей. Отличие составляло в декабре в 1,7 раза, в январе уже в 2,2 раза, в феврале 1,9 раз. Это вполне объяснимо тем, что общее количество группы клиентов, не использующих программу лояльности больше, чем тех, кто использует. Однако, это может говорить о недостаточной привлекательности программы и клиенты неохотно на нее подписываются.\n",
    "3.\tМетрика пожизненной ценности LTV. Данная метрика отлично показывает в динамике, насколько долго и эффективно клиенты остаются покупателями магазина в части их трат на покупки. Проанализировав данную метрику, можно прийти к выводу о том, что клиенты не использующие программу лояльности охотнее и больше покупают товаров магазина. Однако динамика их ценности растет не так эффективно, нежели у клиентов с картами лояльности. Это говорит о том, что программа лояльности набирает свои обороты и возможно в скором времени клиенты с картами лояльности будут более выгодными для магазина. Также в динамике LTV были получены сведения о ценности клиентов, привлеченных в различные периоды времени. Но примечательным был пик активности клиентов, привлеченных 20.01.2017 их траты превзошли всех клиентов, привлеченных в другие периоды времени. Это также совпадает и выводами исследовательского анализа, в котором был замечен аномальный всплеск покупок и новых клиентов, участвовавших в программе лояльности в феврале 2017 года.\n",
    "\n",
    "В исследовании было выдвинуто две гипотезы, которые были проверены статистическим методом.\n",
    "1.\tГипотеза о равенстве среднего чека покупателей, использующих карту лояльности и клиентов, не использующих ее. Данная гипотеза не нашла подтверждение, что говорит о том, что средние чеки неравны и следует далее наблюдать за данным критерием, учитывая рост динами LTV у покупателей с картами лояльности.\n",
    "2.\tГипотеза о равенстве количества покупок в обеих категориях покупателей. Эта гипотеза подтверждилась в исследовании статистики. Это говорит о том, что покупатели не зависимо от участия в программе лояльности, покупают одинкаовое количество товара.\n",
    "3. В совокупности двух гипотез, можно сделать вывод, что покупатели с катами лояльности покупают столько же товаров, что и клиенты без них, при этом их средний чек имеет различия.\n",
    "\n",
    "Рекомендации:\n",
    "На наш взгляд стоит продлить действие программы лояльности еще на один месяц, чтобы посмотреть динамику среднего чека и количества покупаемого товара обеими категориями покупателей. При этом нужно срочно исследовать факторы, влияющие на отток клиентов, снижение количества покупаемого товара и как следствие снижение выручки. Также необходимо срочно изучить феномен роста привлекательности магазина в феврале у покупателей с картами лояльности. Это поможет справиться с негативными трендами по снижению основных коммерческих показателей.\n",
    "\n",
    "\n",
    "\n",
    "\n"
   ]
  }
 ],
 "metadata": {
  "ExecuteTimeLog": [
   {
    "duration": 52,
    "start_time": "2023-04-27T09:42:08.924Z"
   },
   {
    "duration": 5,
    "start_time": "2023-04-27T09:42:21.646Z"
   },
   {
    "duration": 1518,
    "start_time": "2023-04-27T09:42:21.671Z"
   },
   {
    "duration": 364,
    "start_time": "2023-04-27T09:42:23.191Z"
   },
   {
    "duration": 18,
    "start_time": "2023-04-27T09:42:23.557Z"
   },
   {
    "duration": 56,
    "start_time": "2023-04-27T09:42:23.577Z"
   },
   {
    "duration": 36,
    "start_time": "2023-04-27T09:42:23.635Z"
   },
   {
    "duration": 9,
    "start_time": "2023-04-27T09:42:23.673Z"
   },
   {
    "duration": 38,
    "start_time": "2023-04-27T09:42:23.684Z"
   },
   {
    "duration": 33,
    "start_time": "2023-04-27T09:42:23.724Z"
   },
   {
    "duration": 25,
    "start_time": "2023-04-27T09:42:23.759Z"
   },
   {
    "duration": 23,
    "start_time": "2023-04-27T09:42:23.786Z"
   },
   {
    "duration": 12,
    "start_time": "2023-04-27T09:42:23.810Z"
   },
   {
    "duration": 31,
    "start_time": "2023-04-27T09:42:23.824Z"
   },
   {
    "duration": 18,
    "start_time": "2023-04-27T09:42:23.857Z"
   },
   {
    "duration": 16,
    "start_time": "2023-04-27T09:42:23.890Z"
   },
   {
    "duration": 150,
    "start_time": "2023-04-27T09:42:23.908Z"
   },
   {
    "duration": 0,
    "start_time": "2023-04-27T09:42:24.061Z"
   },
   {
    "duration": 0,
    "start_time": "2023-04-27T09:42:24.062Z"
   },
   {
    "duration": 0,
    "start_time": "2023-04-27T09:42:24.064Z"
   },
   {
    "duration": 0,
    "start_time": "2023-04-27T09:42:24.065Z"
   },
   {
    "duration": 0,
    "start_time": "2023-04-27T09:42:24.066Z"
   },
   {
    "duration": 0,
    "start_time": "2023-04-27T09:42:24.067Z"
   },
   {
    "duration": 0,
    "start_time": "2023-04-27T09:42:24.068Z"
   },
   {
    "duration": 0,
    "start_time": "2023-04-27T09:42:24.069Z"
   },
   {
    "duration": 0,
    "start_time": "2023-04-27T09:42:24.071Z"
   },
   {
    "duration": 0,
    "start_time": "2023-04-27T09:42:24.072Z"
   },
   {
    "duration": 0,
    "start_time": "2023-04-27T09:42:24.073Z"
   },
   {
    "duration": 0,
    "start_time": "2023-04-27T09:42:24.089Z"
   },
   {
    "duration": 0,
    "start_time": "2023-04-27T09:42:24.091Z"
   },
   {
    "duration": 0,
    "start_time": "2023-04-27T09:42:24.092Z"
   },
   {
    "duration": 0,
    "start_time": "2023-04-27T09:42:24.093Z"
   },
   {
    "duration": 0,
    "start_time": "2023-04-27T09:42:24.094Z"
   },
   {
    "duration": 0,
    "start_time": "2023-04-27T09:42:24.095Z"
   },
   {
    "duration": 0,
    "start_time": "2023-04-27T09:42:24.097Z"
   },
   {
    "duration": 0,
    "start_time": "2023-04-27T09:42:24.098Z"
   },
   {
    "duration": 0,
    "start_time": "2023-04-27T09:42:24.099Z"
   },
   {
    "duration": 0,
    "start_time": "2023-04-27T09:42:24.100Z"
   },
   {
    "duration": 0,
    "start_time": "2023-04-27T09:42:24.101Z"
   },
   {
    "duration": 0,
    "start_time": "2023-04-27T09:42:24.102Z"
   },
   {
    "duration": 0,
    "start_time": "2023-04-27T09:42:24.103Z"
   },
   {
    "duration": 0,
    "start_time": "2023-04-27T09:42:24.105Z"
   },
   {
    "duration": 0,
    "start_time": "2023-04-27T09:42:24.106Z"
   },
   {
    "duration": 0,
    "start_time": "2023-04-27T09:42:24.107Z"
   },
   {
    "duration": 0,
    "start_time": "2023-04-27T09:42:24.108Z"
   },
   {
    "duration": 0,
    "start_time": "2023-04-27T09:42:24.109Z"
   },
   {
    "duration": 0,
    "start_time": "2023-04-27T09:42:24.110Z"
   },
   {
    "duration": 0,
    "start_time": "2023-04-27T09:42:24.111Z"
   },
   {
    "duration": 0,
    "start_time": "2023-04-27T09:42:24.112Z"
   },
   {
    "duration": 0,
    "start_time": "2023-04-27T09:42:24.113Z"
   },
   {
    "duration": 0,
    "start_time": "2023-04-27T09:42:24.115Z"
   },
   {
    "duration": 0,
    "start_time": "2023-04-27T09:42:24.116Z"
   },
   {
    "duration": 0,
    "start_time": "2023-04-27T09:42:24.117Z"
   },
   {
    "duration": 0,
    "start_time": "2023-04-27T09:42:24.118Z"
   },
   {
    "duration": 0,
    "start_time": "2023-04-27T09:42:24.119Z"
   },
   {
    "duration": 0,
    "start_time": "2023-04-27T09:42:24.120Z"
   },
   {
    "duration": 0,
    "start_time": "2023-04-27T09:42:24.121Z"
   },
   {
    "duration": 0,
    "start_time": "2023-04-27T09:42:24.122Z"
   },
   {
    "duration": 0,
    "start_time": "2023-04-27T09:42:24.123Z"
   },
   {
    "duration": 0,
    "start_time": "2023-04-27T09:42:24.125Z"
   },
   {
    "duration": 0,
    "start_time": "2023-04-27T09:42:24.190Z"
   },
   {
    "duration": 0,
    "start_time": "2023-04-27T09:42:24.191Z"
   },
   {
    "duration": 0,
    "start_time": "2023-04-27T09:42:24.193Z"
   },
   {
    "duration": 0,
    "start_time": "2023-04-27T09:42:24.194Z"
   },
   {
    "duration": 0,
    "start_time": "2023-04-27T09:42:24.195Z"
   },
   {
    "duration": 0,
    "start_time": "2023-04-27T09:42:24.197Z"
   },
   {
    "duration": 0,
    "start_time": "2023-04-27T09:42:24.198Z"
   },
   {
    "duration": 0,
    "start_time": "2023-04-27T09:42:24.199Z"
   },
   {
    "duration": 0,
    "start_time": "2023-04-27T09:42:24.200Z"
   },
   {
    "duration": 0,
    "start_time": "2023-04-27T09:42:24.201Z"
   },
   {
    "duration": 0,
    "start_time": "2023-04-27T09:42:24.203Z"
   },
   {
    "duration": 0,
    "start_time": "2023-04-27T09:42:24.204Z"
   },
   {
    "duration": 0,
    "start_time": "2023-04-27T09:42:24.205Z"
   },
   {
    "duration": 0,
    "start_time": "2023-04-27T09:42:24.206Z"
   },
   {
    "duration": 20,
    "start_time": "2023-04-27T09:56:34.027Z"
   },
   {
    "duration": 13,
    "start_time": "2023-04-27T09:58:26.777Z"
   },
   {
    "duration": 6,
    "start_time": "2023-04-27T09:58:34.994Z"
   },
   {
    "duration": 4,
    "start_time": "2023-04-27T09:58:39.633Z"
   },
   {
    "duration": 59,
    "start_time": "2023-04-27T09:58:52.760Z"
   },
   {
    "duration": 109,
    "start_time": "2023-04-27T09:58:54.375Z"
   },
   {
    "duration": 94,
    "start_time": "2023-04-27T09:58:56.698Z"
   },
   {
    "duration": 188,
    "start_time": "2023-04-27T09:58:57.537Z"
   },
   {
    "duration": 54,
    "start_time": "2023-04-27T09:58:57.954Z"
   },
   {
    "duration": 22,
    "start_time": "2023-04-27T09:58:59.680Z"
   },
   {
    "duration": 56,
    "start_time": "2023-04-27T09:59:01.168Z"
   },
   {
    "duration": 43,
    "start_time": "2023-04-27T09:59:01.768Z"
   },
   {
    "duration": 13,
    "start_time": "2023-04-27T09:59:05.656Z"
   },
   {
    "duration": 3,
    "start_time": "2023-04-27T10:07:59.571Z"
   },
   {
    "duration": 16,
    "start_time": "2023-04-27T10:11:56.605Z"
   },
   {
    "duration": 25,
    "start_time": "2023-04-27T10:12:47.611Z"
   },
   {
    "duration": 19,
    "start_time": "2023-04-27T10:13:00.257Z"
   },
   {
    "duration": 30,
    "start_time": "2023-04-27T10:13:05.912Z"
   },
   {
    "duration": 15,
    "start_time": "2023-04-27T10:13:11.782Z"
   },
   {
    "duration": 17,
    "start_time": "2023-04-27T10:13:43.528Z"
   },
   {
    "duration": 46947,
    "start_time": "2023-04-27T10:13:59.719Z"
   },
   {
    "duration": 5,
    "start_time": "2023-04-27T11:56:40.037Z"
   },
   {
    "duration": 1656,
    "start_time": "2023-04-27T11:56:40.044Z"
   },
   {
    "duration": 561,
    "start_time": "2023-04-27T11:56:41.702Z"
   },
   {
    "duration": 19,
    "start_time": "2023-04-27T11:56:42.266Z"
   },
   {
    "duration": 58,
    "start_time": "2023-04-27T11:56:42.287Z"
   },
   {
    "duration": 53,
    "start_time": "2023-04-27T11:56:42.347Z"
   },
   {
    "duration": 9,
    "start_time": "2023-04-27T11:56:42.402Z"
   },
   {
    "duration": 24,
    "start_time": "2023-04-27T11:56:42.413Z"
   },
   {
    "duration": 17,
    "start_time": "2023-04-27T11:56:42.442Z"
   },
   {
    "duration": 8,
    "start_time": "2023-04-27T11:56:42.464Z"
   },
   {
    "duration": 32,
    "start_time": "2023-04-27T11:56:42.474Z"
   },
   {
    "duration": 42,
    "start_time": "2023-04-27T11:56:42.508Z"
   },
   {
    "duration": 31,
    "start_time": "2023-04-27T11:56:42.552Z"
   },
   {
    "duration": 25,
    "start_time": "2023-04-27T11:56:42.585Z"
   },
   {
    "duration": 31,
    "start_time": "2023-04-27T11:56:42.612Z"
   },
   {
    "duration": 43,
    "start_time": "2023-04-27T11:56:42.646Z"
   },
   {
    "duration": 21,
    "start_time": "2023-04-27T11:56:42.691Z"
   },
   {
    "duration": 26,
    "start_time": "2023-04-27T11:56:42.715Z"
   },
   {
    "duration": 73,
    "start_time": "2023-04-27T11:56:42.743Z"
   },
   {
    "duration": 74,
    "start_time": "2023-04-27T11:56:42.818Z"
   },
   {
    "duration": 100,
    "start_time": "2023-04-27T11:56:42.894Z"
   },
   {
    "duration": 139,
    "start_time": "2023-04-27T11:56:42.996Z"
   },
   {
    "duration": 37,
    "start_time": "2023-04-27T11:56:43.140Z"
   },
   {
    "duration": 20,
    "start_time": "2023-04-27T11:56:43.179Z"
   },
   {
    "duration": 73,
    "start_time": "2023-04-27T11:56:43.201Z"
   },
   {
    "duration": 35,
    "start_time": "2023-04-27T11:56:43.276Z"
   },
   {
    "duration": 32,
    "start_time": "2023-04-27T11:56:43.313Z"
   },
   {
    "duration": 4,
    "start_time": "2023-04-27T11:56:43.351Z"
   },
   {
    "duration": 25,
    "start_time": "2023-04-27T11:56:43.357Z"
   },
   {
    "duration": 46730,
    "start_time": "2023-04-27T11:56:43.384Z"
   },
   {
    "duration": 27,
    "start_time": "2023-04-27T11:57:30.116Z"
   },
   {
    "duration": 94,
    "start_time": "2023-04-27T11:57:30.145Z"
   },
   {
    "duration": 79,
    "start_time": "2023-04-27T11:57:30.242Z"
   },
   {
    "duration": 240,
    "start_time": "2023-04-27T11:57:30.323Z"
   },
   {
    "duration": 8,
    "start_time": "2023-04-27T11:57:30.564Z"
   },
   {
    "duration": 119,
    "start_time": "2023-04-27T11:57:30.575Z"
   },
   {
    "duration": 288,
    "start_time": "2023-04-27T11:57:30.697Z"
   },
   {
    "duration": 232,
    "start_time": "2023-04-27T11:57:30.987Z"
   },
   {
    "duration": 30,
    "start_time": "2023-04-27T11:57:31.222Z"
   },
   {
    "duration": 64,
    "start_time": "2023-04-27T11:57:31.255Z"
   },
   {
    "duration": 67,
    "start_time": "2023-04-27T11:57:31.322Z"
   },
   {
    "duration": 331,
    "start_time": "2023-04-27T11:57:31.392Z"
   },
   {
    "duration": 4,
    "start_time": "2023-04-27T11:57:31.726Z"
   },
   {
    "duration": 61,
    "start_time": "2023-04-27T11:57:31.743Z"
   },
   {
    "duration": 51,
    "start_time": "2023-04-27T11:57:31.806Z"
   },
   {
    "duration": 495,
    "start_time": "2023-04-27T11:57:31.860Z"
   },
   {
    "duration": 4,
    "start_time": "2023-04-27T11:57:32.358Z"
   },
   {
    "duration": 156,
    "start_time": "2023-04-27T11:57:32.364Z"
   },
   {
    "duration": 120,
    "start_time": "2023-04-27T11:57:32.522Z"
   },
   {
    "duration": 64,
    "start_time": "2023-04-27T11:57:32.644Z"
   },
   {
    "duration": 111,
    "start_time": "2023-04-27T11:57:32.710Z"
   },
   {
    "duration": 139,
    "start_time": "2023-04-27T11:57:32.824Z"
   },
   {
    "duration": 54,
    "start_time": "2023-04-27T11:57:32.966Z"
   },
   {
    "duration": 126,
    "start_time": "2023-04-27T11:57:33.023Z"
   },
   {
    "duration": 157,
    "start_time": "2023-04-27T11:57:33.151Z"
   },
   {
    "duration": 42,
    "start_time": "2023-04-27T11:57:33.309Z"
   },
   {
    "duration": 65,
    "start_time": "2023-04-27T11:57:33.353Z"
   },
   {
    "duration": 50,
    "start_time": "2023-04-27T11:57:33.420Z"
   },
   {
    "duration": 51,
    "start_time": "2023-04-27T11:57:33.472Z"
   },
   {
    "duration": 57,
    "start_time": "2023-04-27T11:57:33.525Z"
   },
   {
    "duration": 41,
    "start_time": "2023-04-27T11:57:33.583Z"
   },
   {
    "duration": 71,
    "start_time": "2023-04-27T11:57:33.626Z"
   },
   {
    "duration": 199,
    "start_time": "2023-04-27T11:57:33.699Z"
   },
   {
    "duration": 74,
    "start_time": "2023-04-27T11:57:33.901Z"
   },
   {
    "duration": 231,
    "start_time": "2023-04-27T11:57:33.977Z"
   },
   {
    "duration": 101,
    "start_time": "2023-04-27T11:57:34.211Z"
   },
   {
    "duration": 78,
    "start_time": "2023-04-27T11:57:34.314Z"
   },
   {
    "duration": 105,
    "start_time": "2023-04-27T11:57:34.395Z"
   },
   {
    "duration": 61,
    "start_time": "2023-04-27T11:57:34.502Z"
   },
   {
    "duration": 99,
    "start_time": "2023-04-27T11:57:34.565Z"
   },
   {
    "duration": 237,
    "start_time": "2023-04-27T11:57:34.666Z"
   },
   {
    "duration": 0,
    "start_time": "2023-04-27T11:57:34.906Z"
   },
   {
    "duration": 0,
    "start_time": "2023-04-27T11:57:34.907Z"
   },
   {
    "duration": 0,
    "start_time": "2023-04-27T11:57:34.908Z"
   },
   {
    "duration": 0,
    "start_time": "2023-04-27T11:57:34.909Z"
   },
   {
    "duration": 0,
    "start_time": "2023-04-27T11:57:34.910Z"
   },
   {
    "duration": 349,
    "start_time": "2023-04-27T11:58:17.146Z"
   },
   {
    "duration": 326,
    "start_time": "2023-04-27T11:58:21.334Z"
   },
   {
    "duration": 10,
    "start_time": "2023-04-27T11:58:25.519Z"
   },
   {
    "duration": 8,
    "start_time": "2023-04-27T11:58:26.161Z"
   },
   {
    "duration": 9,
    "start_time": "2023-04-27T11:58:28.217Z"
   },
   {
    "duration": 7,
    "start_time": "2023-04-27T11:58:28.464Z"
   },
   {
    "duration": 8,
    "start_time": "2023-04-27T11:59:50.219Z"
   },
   {
    "duration": 3216,
    "start_time": "2023-04-27T12:23:50.716Z"
   },
   {
    "duration": 46433,
    "start_time": "2023-04-27T12:58:07.595Z"
   },
   {
    "duration": 16,
    "start_time": "2023-04-27T12:59:06.195Z"
   },
   {
    "duration": 42,
    "start_time": "2023-04-27T13:02:25.740Z"
   },
   {
    "duration": 14,
    "start_time": "2023-04-27T13:02:54.117Z"
   },
   {
    "duration": 29,
    "start_time": "2023-04-27T13:05:34.615Z"
   },
   {
    "duration": 19,
    "start_time": "2023-04-27T13:08:17.441Z"
   },
   {
    "duration": 46763,
    "start_time": "2023-04-27T13:10:16.161Z"
   },
   {
    "duration": 49501,
    "start_time": "2023-04-27T13:11:20.240Z"
   },
   {
    "duration": 13,
    "start_time": "2023-04-27T13:12:09.743Z"
   },
   {
    "duration": 4,
    "start_time": "2023-04-27T13:13:23.279Z"
   },
   {
    "duration": 16,
    "start_time": "2023-04-27T13:13:23.729Z"
   },
   {
    "duration": 42436,
    "start_time": "2023-04-27T13:13:25.437Z"
   },
   {
    "duration": 9,
    "start_time": "2023-04-27T13:14:07.875Z"
   },
   {
    "duration": 3,
    "start_time": "2023-04-27T13:34:42.552Z"
   },
   {
    "duration": 1394,
    "start_time": "2023-04-27T13:34:42.560Z"
   },
   {
    "duration": 171,
    "start_time": "2023-04-27T13:34:43.956Z"
   },
   {
    "duration": 23,
    "start_time": "2023-04-27T13:34:44.129Z"
   },
   {
    "duration": 87,
    "start_time": "2023-04-27T13:34:44.155Z"
   },
   {
    "duration": 38,
    "start_time": "2023-04-27T13:34:44.244Z"
   },
   {
    "duration": 11,
    "start_time": "2023-04-27T13:34:44.284Z"
   },
   {
    "duration": 26,
    "start_time": "2023-04-27T13:34:44.296Z"
   },
   {
    "duration": 19,
    "start_time": "2023-04-27T13:34:44.342Z"
   },
   {
    "duration": 12,
    "start_time": "2023-04-27T13:34:44.364Z"
   },
   {
    "duration": 60,
    "start_time": "2023-04-27T13:34:44.381Z"
   },
   {
    "duration": 14,
    "start_time": "2023-04-27T13:34:44.443Z"
   },
   {
    "duration": 29,
    "start_time": "2023-04-27T13:34:44.459Z"
   },
   {
    "duration": 25,
    "start_time": "2023-04-27T13:34:44.490Z"
   },
   {
    "duration": 29,
    "start_time": "2023-04-27T13:34:44.517Z"
   },
   {
    "duration": 31,
    "start_time": "2023-04-27T13:34:44.548Z"
   },
   {
    "duration": 13,
    "start_time": "2023-04-27T13:34:44.581Z"
   },
   {
    "duration": 17,
    "start_time": "2023-04-27T13:34:44.596Z"
   },
   {
    "duration": 71,
    "start_time": "2023-04-27T13:34:44.615Z"
   },
   {
    "duration": 80,
    "start_time": "2023-04-27T13:34:44.688Z"
   },
   {
    "duration": 103,
    "start_time": "2023-04-27T13:34:44.770Z"
   },
   {
    "duration": 142,
    "start_time": "2023-04-27T13:34:44.875Z"
   },
   {
    "duration": 61,
    "start_time": "2023-04-27T13:34:45.019Z"
   },
   {
    "duration": 19,
    "start_time": "2023-04-27T13:34:45.082Z"
   },
   {
    "duration": 60,
    "start_time": "2023-04-27T13:34:45.103Z"
   },
   {
    "duration": 48,
    "start_time": "2023-04-27T13:34:45.166Z"
   },
   {
    "duration": 26,
    "start_time": "2023-04-27T13:34:45.224Z"
   },
   {
    "duration": 13,
    "start_time": "2023-04-27T13:34:45.252Z"
   },
   {
    "duration": 26,
    "start_time": "2023-04-27T13:34:45.272Z"
   },
   {
    "duration": 48541,
    "start_time": "2023-04-27T13:34:45.300Z"
   },
   {
    "duration": 9,
    "start_time": "2023-04-27T13:35:33.843Z"
   },
   {
    "duration": 27,
    "start_time": "2023-04-27T13:35:33.854Z"
   },
   {
    "duration": 74,
    "start_time": "2023-04-27T13:35:33.884Z"
   },
   {
    "duration": 13,
    "start_time": "2023-04-27T13:35:33.961Z"
   },
   {
    "duration": 217,
    "start_time": "2023-04-27T13:35:33.976Z"
   },
   {
    "duration": 9,
    "start_time": "2023-04-27T13:35:34.196Z"
   },
   {
    "duration": 79,
    "start_time": "2023-04-27T13:35:34.207Z"
   },
   {
    "duration": 7,
    "start_time": "2023-04-27T13:35:34.288Z"
   },
   {
    "duration": 191,
    "start_time": "2023-04-27T13:35:34.297Z"
   },
   {
    "duration": 24,
    "start_time": "2023-04-27T13:35:34.491Z"
   },
   {
    "duration": 53,
    "start_time": "2023-04-27T13:35:34.518Z"
   },
   {
    "duration": 27,
    "start_time": "2023-04-27T13:35:34.573Z"
   },
   {
    "duration": 301,
    "start_time": "2023-04-27T13:35:34.602Z"
   },
   {
    "duration": 5,
    "start_time": "2023-04-27T13:35:34.905Z"
   },
   {
    "duration": 28,
    "start_time": "2023-04-27T13:35:34.913Z"
   },
   {
    "duration": 28,
    "start_time": "2023-04-27T13:35:34.943Z"
   },
   {
    "duration": 416,
    "start_time": "2023-04-27T13:35:34.973Z"
   },
   {
    "duration": 5,
    "start_time": "2023-04-27T13:35:35.391Z"
   },
   {
    "duration": 82,
    "start_time": "2023-04-27T13:35:35.399Z"
   },
   {
    "duration": 159,
    "start_time": "2023-04-27T13:35:35.484Z"
   },
   {
    "duration": 68,
    "start_time": "2023-04-27T13:35:35.645Z"
   },
   {
    "duration": 69,
    "start_time": "2023-04-27T13:35:35.715Z"
   },
   {
    "duration": 82,
    "start_time": "2023-04-27T13:35:35.786Z"
   },
   {
    "duration": 74,
    "start_time": "2023-04-27T13:35:35.870Z"
   },
   {
    "duration": 64,
    "start_time": "2023-04-27T13:35:35.947Z"
   },
   {
    "duration": 76,
    "start_time": "2023-04-27T13:35:36.013Z"
   },
   {
    "duration": 32,
    "start_time": "2023-04-27T13:35:36.091Z"
   },
   {
    "duration": 23,
    "start_time": "2023-04-27T13:35:36.143Z"
   },
   {
    "duration": 39,
    "start_time": "2023-04-27T13:35:36.168Z"
   },
   {
    "duration": 67,
    "start_time": "2023-04-27T13:35:36.209Z"
   },
   {
    "duration": 23,
    "start_time": "2023-04-27T13:35:36.280Z"
   },
   {
    "duration": 73,
    "start_time": "2023-04-27T13:35:36.305Z"
   },
   {
    "duration": 74,
    "start_time": "2023-04-27T13:35:36.381Z"
   },
   {
    "duration": 246,
    "start_time": "2023-04-27T13:35:36.457Z"
   },
   {
    "duration": 92,
    "start_time": "2023-04-27T13:35:36.706Z"
   },
   {
    "duration": 243,
    "start_time": "2023-04-27T13:35:36.801Z"
   },
   {
    "duration": 112,
    "start_time": "2023-04-27T13:35:37.046Z"
   },
   {
    "duration": 87,
    "start_time": "2023-04-27T13:35:37.160Z"
   },
   {
    "duration": 117,
    "start_time": "2023-04-27T13:35:37.251Z"
   },
   {
    "duration": 48,
    "start_time": "2023-04-27T13:35:37.371Z"
   },
   {
    "duration": 90,
    "start_time": "2023-04-27T13:35:37.421Z"
   },
   {
    "duration": 338,
    "start_time": "2023-04-27T13:35:37.514Z"
   },
   {
    "duration": 307,
    "start_time": "2023-04-27T13:35:37.854Z"
   },
   {
    "duration": 9,
    "start_time": "2023-04-27T13:35:38.163Z"
   },
   {
    "duration": 54,
    "start_time": "2023-04-27T13:35:38.174Z"
   },
   {
    "duration": 17,
    "start_time": "2023-04-27T13:35:38.230Z"
   },
   {
    "duration": 18,
    "start_time": "2023-04-27T13:35:38.250Z"
   },
   {
    "duration": 40,
    "start_time": "2023-04-27T13:45:14.478Z"
   },
   {
    "duration": 8,
    "start_time": "2023-04-27T13:45:26.827Z"
   },
   {
    "duration": 76,
    "start_time": "2023-04-27T13:45:38.977Z"
   },
   {
    "duration": 17,
    "start_time": "2023-04-27T13:53:29.368Z"
   },
   {
    "duration": 24,
    "start_time": "2023-04-27T13:53:39.430Z"
   },
   {
    "duration": 18,
    "start_time": "2023-04-27T13:53:45.676Z"
   },
   {
    "duration": 23,
    "start_time": "2023-04-27T13:55:30.866Z"
   },
   {
    "duration": 3,
    "start_time": "2023-04-27T13:56:35.080Z"
   },
   {
    "duration": 20,
    "start_time": "2023-04-27T13:56:35.880Z"
   },
   {
    "duration": 23,
    "start_time": "2023-04-27T13:56:37.686Z"
   },
   {
    "duration": 871,
    "start_time": "2023-04-27T13:56:48.722Z"
   },
   {
    "duration": 1685,
    "start_time": "2023-04-27T13:58:00.914Z"
   },
   {
    "duration": 1322,
    "start_time": "2023-04-27T13:58:25.334Z"
   },
   {
    "duration": 5,
    "start_time": "2023-04-27T13:59:33.971Z"
   },
   {
    "duration": 48,
    "start_time": "2023-04-27T14:01:04.013Z"
   },
   {
    "duration": 7,
    "start_time": "2023-04-27T14:01:20.673Z"
   },
   {
    "duration": 21,
    "start_time": "2023-04-27T14:01:29.571Z"
   },
   {
    "duration": 14,
    "start_time": "2023-04-27T14:02:16.590Z"
   },
   {
    "duration": 44373,
    "start_time": "2023-04-27T14:02:37.869Z"
   },
   {
    "duration": 4,
    "start_time": "2023-04-27T14:11:44.668Z"
   },
   {
    "duration": 17,
    "start_time": "2023-04-27T14:11:45.530Z"
   },
   {
    "duration": 22,
    "start_time": "2023-04-27T14:11:50.613Z"
   },
   {
    "duration": 996,
    "start_time": "2023-04-27T14:12:02.559Z"
   },
   {
    "duration": 15,
    "start_time": "2023-04-27T14:12:53.725Z"
   },
   {
    "duration": 1078,
    "start_time": "2023-04-27T14:12:55.460Z"
   },
   {
    "duration": 5,
    "start_time": "2023-04-27T14:13:09.458Z"
   },
   {
    "duration": 5,
    "start_time": "2023-04-27T14:13:14.716Z"
   },
   {
    "duration": 12,
    "start_time": "2023-04-27T14:14:02.262Z"
   },
   {
    "duration": 4,
    "start_time": "2023-04-27T14:14:09.055Z"
   },
   {
    "duration": 9,
    "start_time": "2023-04-27T14:14:09.971Z"
   },
   {
    "duration": 40,
    "start_time": "2023-04-27T14:14:22.883Z"
   },
   {
    "duration": 42587,
    "start_time": "2023-04-27T14:14:35.084Z"
   },
   {
    "duration": 31,
    "start_time": "2023-04-27T14:32:12.954Z"
   },
   {
    "duration": 8,
    "start_time": "2023-04-27T14:32:14.424Z"
   },
   {
    "duration": 3,
    "start_time": "2023-04-27T14:32:45.152Z"
   },
   {
    "duration": 15,
    "start_time": "2023-04-27T14:32:45.825Z"
   },
   {
    "duration": 5,
    "start_time": "2023-04-27T14:32:48.350Z"
   },
   {
    "duration": 22,
    "start_time": "2023-04-27T14:32:50.616Z"
   },
   {
    "duration": 9,
    "start_time": "2023-04-27T14:32:51.467Z"
   },
   {
    "duration": 10,
    "start_time": "2023-04-27T14:33:18.251Z"
   },
   {
    "duration": 11,
    "start_time": "2023-04-27T14:33:25.451Z"
   },
   {
    "duration": 38,
    "start_time": "2023-04-27T14:33:32.556Z"
   },
   {
    "duration": 7,
    "start_time": "2023-04-27T14:33:33.456Z"
   },
   {
    "duration": 10,
    "start_time": "2023-04-27T14:33:36.388Z"
   },
   {
    "duration": 9,
    "start_time": "2023-04-27T14:33:45.072Z"
   },
   {
    "duration": 13,
    "start_time": "2023-04-27T14:34:05.376Z"
   },
   {
    "duration": 8,
    "start_time": "2023-04-27T14:34:15.480Z"
   },
   {
    "duration": 8,
    "start_time": "2023-04-27T14:34:18.251Z"
   },
   {
    "duration": 11,
    "start_time": "2023-04-27T14:34:52.143Z"
   },
   {
    "duration": 48,
    "start_time": "2023-04-27T14:40:11.967Z"
   },
   {
    "duration": 10,
    "start_time": "2023-04-27T14:42:27.451Z"
   },
   {
    "duration": 16,
    "start_time": "2023-04-27T14:44:21.454Z"
   },
   {
    "duration": 87,
    "start_time": "2023-04-27T14:46:03.220Z"
   },
   {
    "duration": 163,
    "start_time": "2023-04-27T14:47:10.742Z"
   },
   {
    "duration": 115,
    "start_time": "2023-04-27T14:47:55.469Z"
   },
   {
    "duration": 112,
    "start_time": "2023-04-27T14:50:45.820Z"
   },
   {
    "duration": 125,
    "start_time": "2023-04-27T14:51:06.360Z"
   },
   {
    "duration": 130,
    "start_time": "2023-04-27T14:53:51.156Z"
   },
   {
    "duration": 54,
    "start_time": "2023-04-27T14:54:31.718Z"
   },
   {
    "duration": 12,
    "start_time": "2023-04-27T14:54:33.813Z"
   },
   {
    "duration": 127,
    "start_time": "2023-04-27T14:54:42.820Z"
   },
   {
    "duration": 138,
    "start_time": "2023-04-27T14:55:04.729Z"
   },
   {
    "duration": 110,
    "start_time": "2023-04-27T14:56:47.559Z"
   },
   {
    "duration": 137,
    "start_time": "2023-04-27T14:57:00.137Z"
   },
   {
    "duration": 3,
    "start_time": "2023-04-27T19:39:18.099Z"
   },
   {
    "duration": 1284,
    "start_time": "2023-04-27T19:39:18.126Z"
   },
   {
    "duration": 524,
    "start_time": "2023-04-27T19:39:19.412Z"
   },
   {
    "duration": 16,
    "start_time": "2023-04-27T19:39:19.937Z"
   },
   {
    "duration": 29,
    "start_time": "2023-04-27T19:39:19.955Z"
   },
   {
    "duration": 29,
    "start_time": "2023-04-27T19:39:19.985Z"
   },
   {
    "duration": 26,
    "start_time": "2023-04-27T19:39:20.016Z"
   },
   {
    "duration": 14,
    "start_time": "2023-04-27T19:39:20.043Z"
   },
   {
    "duration": 15,
    "start_time": "2023-04-27T19:39:20.058Z"
   },
   {
    "duration": 10,
    "start_time": "2023-04-27T19:39:20.075Z"
   },
   {
    "duration": 23,
    "start_time": "2023-04-27T19:39:20.088Z"
   },
   {
    "duration": 34,
    "start_time": "2023-04-27T19:39:20.113Z"
   },
   {
    "duration": 21,
    "start_time": "2023-04-27T19:39:20.148Z"
   },
   {
    "duration": 18,
    "start_time": "2023-04-27T19:39:20.171Z"
   },
   {
    "duration": 6,
    "start_time": "2023-04-27T19:39:20.191Z"
   },
   {
    "duration": 50,
    "start_time": "2023-04-27T19:39:20.198Z"
   },
   {
    "duration": 8,
    "start_time": "2023-04-27T19:39:20.250Z"
   },
   {
    "duration": 6,
    "start_time": "2023-04-27T19:39:20.260Z"
   },
   {
    "duration": 52,
    "start_time": "2023-04-27T19:39:20.267Z"
   },
   {
    "duration": 67,
    "start_time": "2023-04-27T19:39:20.321Z"
   },
   {
    "duration": 70,
    "start_time": "2023-04-27T19:39:20.390Z"
   },
   {
    "duration": 111,
    "start_time": "2023-04-27T19:39:20.461Z"
   },
   {
    "duration": 27,
    "start_time": "2023-04-27T19:39:20.573Z"
   },
   {
    "duration": 10,
    "start_time": "2023-04-27T19:39:20.602Z"
   },
   {
    "duration": 35,
    "start_time": "2023-04-27T19:39:20.614Z"
   },
   {
    "duration": 27,
    "start_time": "2023-04-27T19:39:20.651Z"
   },
   {
    "duration": 8,
    "start_time": "2023-04-27T19:39:20.680Z"
   },
   {
    "duration": 56,
    "start_time": "2023-04-27T19:39:20.690Z"
   },
   {
    "duration": 9,
    "start_time": "2023-04-27T19:39:20.749Z"
   },
   {
    "duration": 118,
    "start_time": "2023-04-27T19:39:20.760Z"
   },
   {
    "duration": 12,
    "start_time": "2023-04-27T19:39:20.879Z"
   },
   {
    "duration": 42,
    "start_time": "2023-04-27T19:39:20.892Z"
   },
   {
    "duration": 8,
    "start_time": "2023-04-27T19:39:20.936Z"
   },
   {
    "duration": 175,
    "start_time": "2023-04-27T19:39:20.945Z"
   },
   {
    "duration": 16,
    "start_time": "2023-04-27T19:39:21.121Z"
   },
   {
    "duration": 50,
    "start_time": "2023-04-27T19:39:21.138Z"
   },
   {
    "duration": 4,
    "start_time": "2023-04-27T19:39:21.189Z"
   },
   {
    "duration": 147,
    "start_time": "2023-04-27T19:39:21.194Z"
   },
   {
    "duration": 18,
    "start_time": "2023-04-27T19:39:21.342Z"
   },
   {
    "duration": 23,
    "start_time": "2023-04-27T19:39:21.362Z"
   },
   {
    "duration": 13,
    "start_time": "2023-04-27T19:39:21.387Z"
   },
   {
    "duration": 252,
    "start_time": "2023-04-27T19:39:21.401Z"
   },
   {
    "duration": 4,
    "start_time": "2023-04-27T19:39:21.655Z"
   },
   {
    "duration": 15,
    "start_time": "2023-04-27T19:39:21.661Z"
   },
   {
    "duration": 19,
    "start_time": "2023-04-27T19:39:21.677Z"
   },
   {
    "duration": 319,
    "start_time": "2023-04-27T19:39:21.697Z"
   },
   {
    "duration": 4,
    "start_time": "2023-04-27T19:39:22.018Z"
   },
   {
    "duration": 29,
    "start_time": "2023-04-27T19:39:22.035Z"
   },
   {
    "duration": 93,
    "start_time": "2023-04-27T19:39:22.066Z"
   },
   {
    "duration": 48,
    "start_time": "2023-04-27T19:39:22.161Z"
   },
   {
    "duration": 52,
    "start_time": "2023-04-27T19:39:22.210Z"
   },
   {
    "duration": 40,
    "start_time": "2023-04-27T19:39:22.264Z"
   },
   {
    "duration": 67,
    "start_time": "2023-04-27T19:39:22.306Z"
   },
   {
    "duration": 42,
    "start_time": "2023-04-27T19:39:22.375Z"
   },
   {
    "duration": 42,
    "start_time": "2023-04-27T19:39:22.418Z"
   },
   {
    "duration": 19,
    "start_time": "2023-04-27T19:39:22.462Z"
   },
   {
    "duration": 12,
    "start_time": "2023-04-27T19:39:22.482Z"
   },
   {
    "duration": 11,
    "start_time": "2023-04-27T19:39:22.495Z"
   },
   {
    "duration": 55,
    "start_time": "2023-04-27T19:39:22.507Z"
   },
   {
    "duration": 12,
    "start_time": "2023-04-27T19:39:22.564Z"
   },
   {
    "duration": 14,
    "start_time": "2023-04-27T19:39:22.577Z"
   },
   {
    "duration": 50,
    "start_time": "2023-04-27T19:39:22.592Z"
   },
   {
    "duration": 162,
    "start_time": "2023-04-27T19:39:22.644Z"
   },
   {
    "duration": 47,
    "start_time": "2023-04-27T19:39:22.808Z"
   },
   {
    "duration": 177,
    "start_time": "2023-04-27T19:39:22.857Z"
   },
   {
    "duration": 62,
    "start_time": "2023-04-27T19:39:23.036Z"
   },
   {
    "duration": 51,
    "start_time": "2023-04-27T19:39:23.099Z"
   },
   {
    "duration": 70,
    "start_time": "2023-04-27T19:39:23.152Z"
   },
   {
    "duration": 3,
    "start_time": "2023-04-27T19:39:23.235Z"
   },
   {
    "duration": 48,
    "start_time": "2023-04-27T19:39:23.240Z"
   },
   {
    "duration": 267,
    "start_time": "2023-04-27T19:39:23.289Z"
   },
   {
    "duration": 228,
    "start_time": "2023-04-27T19:39:23.557Z"
   },
   {
    "duration": 6,
    "start_time": "2023-04-27T19:39:23.787Z"
   },
   {
    "duration": 7,
    "start_time": "2023-04-27T19:39:23.794Z"
   },
   {
    "duration": 16,
    "start_time": "2023-04-27T19:39:23.803Z"
   },
   {
    "duration": 14,
    "start_time": "2023-04-27T19:39:23.821Z"
   },
   {
    "duration": 3,
    "start_time": "2023-04-28T10:29:31.194Z"
   },
   {
    "duration": 1347,
    "start_time": "2023-04-28T10:29:31.208Z"
   },
   {
    "duration": 559,
    "start_time": "2023-04-28T10:29:32.557Z"
   },
   {
    "duration": 16,
    "start_time": "2023-04-28T10:29:33.118Z"
   },
   {
    "duration": 25,
    "start_time": "2023-04-28T10:29:33.137Z"
   },
   {
    "duration": 41,
    "start_time": "2023-04-28T10:29:33.163Z"
   },
   {
    "duration": 7,
    "start_time": "2023-04-28T10:29:33.206Z"
   },
   {
    "duration": 17,
    "start_time": "2023-04-28T10:29:33.215Z"
   },
   {
    "duration": 19,
    "start_time": "2023-04-28T10:29:33.234Z"
   },
   {
    "duration": 6,
    "start_time": "2023-04-28T10:29:33.255Z"
   },
   {
    "duration": 35,
    "start_time": "2023-04-28T10:29:33.264Z"
   },
   {
    "duration": 12,
    "start_time": "2023-04-28T10:29:33.301Z"
   },
   {
    "duration": 20,
    "start_time": "2023-04-28T10:29:33.314Z"
   },
   {
    "duration": 24,
    "start_time": "2023-04-28T10:29:33.336Z"
   },
   {
    "duration": 11,
    "start_time": "2023-04-28T10:29:33.362Z"
   },
   {
    "duration": 42,
    "start_time": "2023-04-28T10:29:33.375Z"
   },
   {
    "duration": 14,
    "start_time": "2023-04-28T10:29:33.418Z"
   },
   {
    "duration": 14,
    "start_time": "2023-04-28T10:29:33.433Z"
   },
   {
    "duration": 68,
    "start_time": "2023-04-28T10:29:33.449Z"
   },
   {
    "duration": 62,
    "start_time": "2023-04-28T10:29:33.519Z"
   },
   {
    "duration": 66,
    "start_time": "2023-04-28T10:29:33.582Z"
   },
   {
    "duration": 91,
    "start_time": "2023-04-28T10:29:33.650Z"
   },
   {
    "duration": 25,
    "start_time": "2023-04-28T10:29:33.749Z"
   },
   {
    "duration": 9,
    "start_time": "2023-04-28T10:29:33.775Z"
   },
   {
    "duration": 24,
    "start_time": "2023-04-28T10:29:33.785Z"
   },
   {
    "duration": 38,
    "start_time": "2023-04-28T10:29:33.811Z"
   },
   {
    "duration": 9,
    "start_time": "2023-04-28T10:29:33.851Z"
   },
   {
    "duration": 36,
    "start_time": "2023-04-28T10:29:33.861Z"
   },
   {
    "duration": 8,
    "start_time": "2023-04-28T10:29:33.901Z"
   },
   {
    "duration": 128,
    "start_time": "2023-04-28T10:29:33.911Z"
   },
   {
    "duration": 16,
    "start_time": "2023-04-28T10:29:34.041Z"
   },
   {
    "duration": 41,
    "start_time": "2023-04-28T10:29:34.058Z"
   },
   {
    "duration": 8,
    "start_time": "2023-04-28T10:29:34.101Z"
   },
   {
    "duration": 170,
    "start_time": "2023-04-28T10:29:34.110Z"
   },
   {
    "duration": 5,
    "start_time": "2023-04-28T10:29:34.282Z"
   },
   {
    "duration": 32,
    "start_time": "2023-04-28T10:29:34.288Z"
   },
   {
    "duration": 4,
    "start_time": "2023-04-28T10:29:34.322Z"
   },
   {
    "duration": 163,
    "start_time": "2023-04-28T10:29:34.327Z"
   },
   {
    "duration": 15,
    "start_time": "2023-04-28T10:29:34.492Z"
   },
   {
    "duration": 22,
    "start_time": "2023-04-28T10:29:34.509Z"
   },
   {
    "duration": 27,
    "start_time": "2023-04-28T10:29:34.533Z"
   },
   {
    "duration": 290,
    "start_time": "2023-04-28T10:29:34.562Z"
   },
   {
    "duration": 5,
    "start_time": "2023-04-28T10:29:34.854Z"
   },
   {
    "duration": 24,
    "start_time": "2023-04-28T10:29:34.861Z"
   },
   {
    "duration": 15,
    "start_time": "2023-04-28T10:29:34.887Z"
   },
   {
    "duration": 330,
    "start_time": "2023-04-28T10:29:34.904Z"
   },
   {
    "duration": 3,
    "start_time": "2023-04-28T10:29:35.236Z"
   },
   {
    "duration": 34,
    "start_time": "2023-04-28T10:29:35.241Z"
   },
   {
    "duration": 103,
    "start_time": "2023-04-28T10:29:35.276Z"
   },
   {
    "duration": 48,
    "start_time": "2023-04-28T10:29:35.381Z"
   },
   {
    "duration": 49,
    "start_time": "2023-04-28T10:29:35.431Z"
   },
   {
    "duration": 35,
    "start_time": "2023-04-28T10:29:35.481Z"
   },
   {
    "duration": 49,
    "start_time": "2023-04-28T10:29:35.518Z"
   },
   {
    "duration": 35,
    "start_time": "2023-04-28T10:29:35.568Z"
   },
   {
    "duration": 28,
    "start_time": "2023-04-28T10:29:35.604Z"
   },
   {
    "duration": 17,
    "start_time": "2023-04-28T10:29:35.649Z"
   },
   {
    "duration": 39,
    "start_time": "2023-04-28T10:29:35.668Z"
   },
   {
    "duration": 18,
    "start_time": "2023-04-28T10:29:35.708Z"
   },
   {
    "duration": 38,
    "start_time": "2023-04-28T10:29:35.727Z"
   },
   {
    "duration": 13,
    "start_time": "2023-04-28T10:29:35.767Z"
   },
   {
    "duration": 28,
    "start_time": "2023-04-28T10:29:35.782Z"
   },
   {
    "duration": 32,
    "start_time": "2023-04-28T10:29:35.812Z"
   },
   {
    "duration": 171,
    "start_time": "2023-04-28T10:29:35.848Z"
   },
   {
    "duration": 50,
    "start_time": "2023-04-28T10:29:36.021Z"
   },
   {
    "duration": 186,
    "start_time": "2023-04-28T10:29:36.072Z"
   },
   {
    "duration": 55,
    "start_time": "2023-04-28T10:29:36.260Z"
   },
   {
    "duration": 52,
    "start_time": "2023-04-28T10:29:36.316Z"
   },
   {
    "duration": 65,
    "start_time": "2023-04-28T10:29:36.369Z"
   },
   {
    "duration": 18,
    "start_time": "2023-04-28T10:29:36.435Z"
   },
   {
    "duration": 44,
    "start_time": "2023-04-28T10:29:36.454Z"
   },
   {
    "duration": 269,
    "start_time": "2023-04-28T10:29:36.500Z"
   },
   {
    "duration": 229,
    "start_time": "2023-04-28T10:29:36.770Z"
   },
   {
    "duration": 6,
    "start_time": "2023-04-28T10:29:37.000Z"
   },
   {
    "duration": 12,
    "start_time": "2023-04-28T10:29:37.008Z"
   },
   {
    "duration": 13,
    "start_time": "2023-04-28T10:29:37.021Z"
   },
   {
    "duration": 16,
    "start_time": "2023-04-28T10:29:37.036Z"
   },
   {
    "duration": 45,
    "start_time": "2023-04-28T10:37:49.411Z"
   },
   {
    "duration": 44,
    "start_time": "2023-04-28T10:37:54.867Z"
   },
   {
    "duration": 42,
    "start_time": "2023-04-28T10:38:26.274Z"
   },
   {
    "duration": 36,
    "start_time": "2023-04-28T10:38:31.939Z"
   },
   {
    "duration": 9,
    "start_time": "2023-04-28T10:48:52.269Z"
   },
   {
    "duration": 39,
    "start_time": "2023-04-28T10:48:55.883Z"
   },
   {
    "duration": 9,
    "start_time": "2023-04-28T10:48:56.466Z"
   },
   {
    "duration": 96,
    "start_time": "2023-04-28T10:52:48.314Z"
   },
   {
    "duration": 81,
    "start_time": "2023-04-28T10:53:13.930Z"
   },
   {
    "duration": 86,
    "start_time": "2023-04-28T10:53:36.417Z"
   },
   {
    "duration": 75,
    "start_time": "2023-04-28T10:53:53.585Z"
   },
   {
    "duration": 91,
    "start_time": "2023-04-28T10:54:00.393Z"
   },
   {
    "duration": 71,
    "start_time": "2023-04-28T10:54:13.396Z"
   },
   {
    "duration": 216,
    "start_time": "2023-04-28T10:56:20.903Z"
   },
   {
    "duration": 1145,
    "start_time": "2023-04-28T10:56:39.468Z"
   },
   {
    "duration": 93,
    "start_time": "2023-04-28T10:57:00.750Z"
   },
   {
    "duration": 97,
    "start_time": "2023-04-28T10:57:15.230Z"
   },
   {
    "duration": 88,
    "start_time": "2023-04-28T10:57:28.998Z"
   },
   {
    "duration": 116,
    "start_time": "2023-04-28T10:57:33.254Z"
   },
   {
    "duration": 96,
    "start_time": "2023-04-28T10:57:37.062Z"
   },
   {
    "duration": 7,
    "start_time": "2023-04-28T11:01:28.776Z"
   },
   {
    "duration": 1111,
    "start_time": "2023-04-28T11:02:10.707Z"
   },
   {
    "duration": 164,
    "start_time": "2023-04-28T11:02:12.993Z"
   },
   {
    "duration": 17,
    "start_time": "2023-04-28T11:02:14.658Z"
   },
   {
    "duration": 24,
    "start_time": "2023-04-28T11:02:16.311Z"
   },
   {
    "duration": 30,
    "start_time": "2023-04-28T11:02:17.697Z"
   },
   {
    "duration": 8,
    "start_time": "2023-04-28T11:02:18.640Z"
   },
   {
    "duration": 11,
    "start_time": "2023-04-28T11:02:19.321Z"
   },
   {
    "duration": 11,
    "start_time": "2023-04-28T11:02:19.973Z"
   },
   {
    "duration": 8,
    "start_time": "2023-04-28T11:02:22.159Z"
   },
   {
    "duration": 20,
    "start_time": "2023-04-28T11:02:22.576Z"
   },
   {
    "duration": 12,
    "start_time": "2023-04-28T11:02:22.956Z"
   },
   {
    "duration": 17,
    "start_time": "2023-04-28T11:02:23.333Z"
   },
   {
    "duration": 16,
    "start_time": "2023-04-28T11:02:23.726Z"
   },
   {
    "duration": 11,
    "start_time": "2023-04-28T11:02:24.514Z"
   },
   {
    "duration": 22,
    "start_time": "2023-04-28T11:02:25.609Z"
   },
   {
    "duration": 8,
    "start_time": "2023-04-28T11:02:25.785Z"
   },
   {
    "duration": 3,
    "start_time": "2023-04-28T11:02:26.186Z"
   },
   {
    "duration": 42,
    "start_time": "2023-04-28T11:02:27.179Z"
   },
   {
    "duration": 64,
    "start_time": "2023-04-28T11:02:27.529Z"
   },
   {
    "duration": 61,
    "start_time": "2023-04-28T11:02:28.938Z"
   },
   {
    "duration": 101,
    "start_time": "2023-04-28T11:02:30.053Z"
   },
   {
    "duration": 28,
    "start_time": "2023-04-28T11:02:30.156Z"
   },
   {
    "duration": 11,
    "start_time": "2023-04-28T11:02:30.825Z"
   },
   {
    "duration": 22,
    "start_time": "2023-04-28T11:02:31.401Z"
   },
   {
    "duration": 28,
    "start_time": "2023-04-28T11:02:31.618Z"
   },
   {
    "duration": 9,
    "start_time": "2023-04-28T11:02:34.713Z"
   },
   {
    "duration": 37,
    "start_time": "2023-04-28T11:02:41.105Z"
   },
   {
    "duration": 40,
    "start_time": "2023-04-28T11:02:46.515Z"
   },
   {
    "duration": 26,
    "start_time": "2023-04-28T11:03:46.259Z"
   },
   {
    "duration": 13,
    "start_time": "2023-04-28T11:04:05.347Z"
   },
   {
    "duration": 99,
    "start_time": "2023-04-28T11:04:25.434Z"
   },
   {
    "duration": 109,
    "start_time": "2023-04-28T11:04:33.985Z"
   },
   {
    "duration": 11,
    "start_time": "2023-04-28T11:04:42.896Z"
   },
   {
    "duration": 40,
    "start_time": "2023-04-28T11:05:00.537Z"
   },
   {
    "duration": 5,
    "start_time": "2023-04-28T11:05:25.600Z"
   },
   {
    "duration": 72,
    "start_time": "2023-04-28T11:05:53.600Z"
   },
   {
    "duration": 106,
    "start_time": "2023-04-28T11:06:05.634Z"
   },
   {
    "duration": 3,
    "start_time": "2023-04-28T11:06:14.040Z"
   },
   {
    "duration": 1236,
    "start_time": "2023-04-28T11:06:14.061Z"
   },
   {
    "duration": 214,
    "start_time": "2023-04-28T11:06:15.298Z"
   },
   {
    "duration": 15,
    "start_time": "2023-04-28T11:06:15.514Z"
   },
   {
    "duration": 30,
    "start_time": "2023-04-28T11:06:15.530Z"
   },
   {
    "duration": 31,
    "start_time": "2023-04-28T11:06:15.566Z"
   },
   {
    "duration": 7,
    "start_time": "2023-04-28T11:06:15.598Z"
   },
   {
    "duration": 26,
    "start_time": "2023-04-28T11:06:15.607Z"
   },
   {
    "duration": 18,
    "start_time": "2023-04-28T11:06:15.635Z"
   },
   {
    "duration": 18,
    "start_time": "2023-04-28T11:06:15.654Z"
   },
   {
    "duration": 33,
    "start_time": "2023-04-28T11:06:15.673Z"
   },
   {
    "duration": 29,
    "start_time": "2023-04-28T11:06:15.708Z"
   },
   {
    "duration": 37,
    "start_time": "2023-04-28T11:06:15.739Z"
   },
   {
    "duration": 14,
    "start_time": "2023-04-28T11:06:15.778Z"
   },
   {
    "duration": 6,
    "start_time": "2023-04-28T11:06:15.795Z"
   },
   {
    "duration": 26,
    "start_time": "2023-04-28T11:06:15.803Z"
   },
   {
    "duration": 14,
    "start_time": "2023-04-28T11:06:15.830Z"
   },
   {
    "duration": 17,
    "start_time": "2023-04-28T11:06:15.845Z"
   },
   {
    "duration": 47,
    "start_time": "2023-04-28T11:06:15.864Z"
   },
   {
    "duration": 75,
    "start_time": "2023-04-28T11:06:15.913Z"
   },
   {
    "duration": 72,
    "start_time": "2023-04-28T11:06:15.989Z"
   },
   {
    "duration": 108,
    "start_time": "2023-04-28T11:06:16.063Z"
   },
   {
    "duration": 28,
    "start_time": "2023-04-28T11:06:16.172Z"
   },
   {
    "duration": 10,
    "start_time": "2023-04-28T11:06:16.201Z"
   },
   {
    "duration": 73,
    "start_time": "2023-04-28T11:06:16.212Z"
   },
   {
    "duration": 26,
    "start_time": "2023-04-28T11:06:16.287Z"
   },
   {
    "duration": 11,
    "start_time": "2023-04-28T11:06:16.315Z"
   },
   {
    "duration": 50,
    "start_time": "2023-04-28T11:06:16.328Z"
   },
   {
    "duration": 9,
    "start_time": "2023-04-28T11:06:16.380Z"
   },
   {
    "duration": 115,
    "start_time": "2023-04-28T11:06:16.390Z"
   },
   {
    "duration": 10,
    "start_time": "2023-04-28T11:06:16.507Z"
   },
   {
    "duration": 123,
    "start_time": "2023-04-28T11:06:16.519Z"
   },
   {
    "duration": 0,
    "start_time": "2023-04-28T11:06:16.644Z"
   },
   {
    "duration": 0,
    "start_time": "2023-04-28T11:06:16.645Z"
   },
   {
    "duration": 0,
    "start_time": "2023-04-28T11:06:16.646Z"
   },
   {
    "duration": 0,
    "start_time": "2023-04-28T11:06:16.649Z"
   },
   {
    "duration": 0,
    "start_time": "2023-04-28T11:06:16.650Z"
   },
   {
    "duration": 0,
    "start_time": "2023-04-28T11:06:16.651Z"
   },
   {
    "duration": 0,
    "start_time": "2023-04-28T11:06:16.652Z"
   },
   {
    "duration": 0,
    "start_time": "2023-04-28T11:06:16.653Z"
   },
   {
    "duration": 0,
    "start_time": "2023-04-28T11:06:16.654Z"
   },
   {
    "duration": 0,
    "start_time": "2023-04-28T11:06:16.654Z"
   },
   {
    "duration": 0,
    "start_time": "2023-04-28T11:06:16.655Z"
   },
   {
    "duration": 0,
    "start_time": "2023-04-28T11:06:16.656Z"
   },
   {
    "duration": 0,
    "start_time": "2023-04-28T11:06:16.656Z"
   },
   {
    "duration": 0,
    "start_time": "2023-04-28T11:06:16.657Z"
   },
   {
    "duration": 0,
    "start_time": "2023-04-28T11:06:16.658Z"
   },
   {
    "duration": 0,
    "start_time": "2023-04-28T11:06:16.659Z"
   },
   {
    "duration": 0,
    "start_time": "2023-04-28T11:06:16.660Z"
   },
   {
    "duration": 0,
    "start_time": "2023-04-28T11:06:16.661Z"
   },
   {
    "duration": 0,
    "start_time": "2023-04-28T11:06:16.661Z"
   },
   {
    "duration": 1,
    "start_time": "2023-04-28T11:06:16.662Z"
   },
   {
    "duration": 0,
    "start_time": "2023-04-28T11:06:16.664Z"
   },
   {
    "duration": 0,
    "start_time": "2023-04-28T11:06:16.665Z"
   },
   {
    "duration": 0,
    "start_time": "2023-04-28T11:06:16.666Z"
   },
   {
    "duration": 0,
    "start_time": "2023-04-28T11:06:16.667Z"
   },
   {
    "duration": 0,
    "start_time": "2023-04-28T11:06:16.668Z"
   },
   {
    "duration": 0,
    "start_time": "2023-04-28T11:06:16.669Z"
   },
   {
    "duration": 0,
    "start_time": "2023-04-28T11:06:16.671Z"
   },
   {
    "duration": 0,
    "start_time": "2023-04-28T11:06:16.672Z"
   },
   {
    "duration": 0,
    "start_time": "2023-04-28T11:06:16.674Z"
   },
   {
    "duration": 0,
    "start_time": "2023-04-28T11:06:16.674Z"
   },
   {
    "duration": 0,
    "start_time": "2023-04-28T11:06:16.675Z"
   },
   {
    "duration": 0,
    "start_time": "2023-04-28T11:06:16.676Z"
   },
   {
    "duration": 0,
    "start_time": "2023-04-28T11:06:16.677Z"
   },
   {
    "duration": 0,
    "start_time": "2023-04-28T11:06:16.678Z"
   },
   {
    "duration": 0,
    "start_time": "2023-04-28T11:06:16.678Z"
   },
   {
    "duration": 0,
    "start_time": "2023-04-28T11:06:16.679Z"
   },
   {
    "duration": 0,
    "start_time": "2023-04-28T11:06:16.680Z"
   },
   {
    "duration": 0,
    "start_time": "2023-04-28T11:06:16.681Z"
   },
   {
    "duration": 0,
    "start_time": "2023-04-28T11:06:16.683Z"
   },
   {
    "duration": 0,
    "start_time": "2023-04-28T11:06:16.684Z"
   },
   {
    "duration": 0,
    "start_time": "2023-04-28T11:06:16.684Z"
   },
   {
    "duration": 0,
    "start_time": "2023-04-28T11:06:16.685Z"
   },
   {
    "duration": 0,
    "start_time": "2023-04-28T11:06:16.686Z"
   },
   {
    "duration": 0,
    "start_time": "2023-04-28T11:06:16.687Z"
   },
   {
    "duration": 0,
    "start_time": "2023-04-28T11:06:16.688Z"
   },
   {
    "duration": 15,
    "start_time": "2023-04-28T11:06:48.721Z"
   },
   {
    "duration": 16,
    "start_time": "2023-04-28T11:07:03.120Z"
   },
   {
    "duration": 15,
    "start_time": "2023-04-28T11:07:06.728Z"
   },
   {
    "duration": 14,
    "start_time": "2023-04-28T11:07:19.503Z"
   },
   {
    "duration": 35,
    "start_time": "2023-04-28T11:07:35.070Z"
   },
   {
    "duration": 5,
    "start_time": "2023-04-28T11:08:02.120Z"
   },
   {
    "duration": 8,
    "start_time": "2023-04-28T11:08:10.382Z"
   },
   {
    "duration": 156,
    "start_time": "2023-04-28T11:08:18.655Z"
   },
   {
    "duration": 6,
    "start_time": "2023-04-28T11:09:58.093Z"
   },
   {
    "duration": 29,
    "start_time": "2023-04-28T11:11:55.646Z"
   },
   {
    "duration": 5,
    "start_time": "2023-04-28T11:12:02.396Z"
   },
   {
    "duration": 153,
    "start_time": "2023-04-28T11:12:09.693Z"
   },
   {
    "duration": 10,
    "start_time": "2023-04-28T11:16:02.386Z"
   },
   {
    "duration": 15,
    "start_time": "2023-04-28T11:18:48.552Z"
   },
   {
    "duration": 22,
    "start_time": "2023-04-28T11:18:50.127Z"
   },
   {
    "duration": 14,
    "start_time": "2023-04-28T11:18:52.119Z"
   },
   {
    "duration": 267,
    "start_time": "2023-04-28T11:18:53.720Z"
   },
   {
    "duration": 209,
    "start_time": "2023-04-28T11:22:19.816Z"
   },
   {
    "duration": 240,
    "start_time": "2023-04-28T11:22:28.344Z"
   },
   {
    "duration": 230,
    "start_time": "2023-04-28T11:22:57.272Z"
   },
   {
    "duration": 12,
    "start_time": "2023-04-28T11:25:27.216Z"
   },
   {
    "duration": 5,
    "start_time": "2023-04-28T11:25:46.828Z"
   },
   {
    "duration": 17119,
    "start_time": "2023-04-28T11:26:04.031Z"
   },
   {
    "duration": 16362,
    "start_time": "2023-04-28T11:34:24.672Z"
   },
   {
    "duration": 23,
    "start_time": "2023-04-28T11:40:01.620Z"
   },
   {
    "duration": 20,
    "start_time": "2023-04-28T11:42:01.715Z"
   },
   {
    "duration": 19,
    "start_time": "2023-04-28T11:42:08.990Z"
   },
   {
    "duration": 21,
    "start_time": "2023-04-28T11:42:19.515Z"
   },
   {
    "duration": 24,
    "start_time": "2023-04-28T11:44:10.300Z"
   },
   {
    "duration": 14,
    "start_time": "2023-04-28T11:44:13.433Z"
   },
   {
    "duration": 14,
    "start_time": "2023-04-28T11:44:18.465Z"
   },
   {
    "duration": 16,
    "start_time": "2023-04-28T11:44:26.469Z"
   },
   {
    "duration": 18,
    "start_time": "2023-04-28T11:44:47.577Z"
   },
   {
    "duration": 17,
    "start_time": "2023-04-28T11:45:26.101Z"
   },
   {
    "duration": 15,
    "start_time": "2023-04-28T11:46:29.977Z"
   },
   {
    "duration": 27,
    "start_time": "2023-04-28T11:46:39.779Z"
   },
   {
    "duration": 9,
    "start_time": "2023-04-28T11:46:59.513Z"
   },
   {
    "duration": 227,
    "start_time": "2023-04-28T11:47:21.152Z"
   },
   {
    "duration": 1567,
    "start_time": "2023-04-28T11:48:27.575Z"
   },
   {
    "duration": 415,
    "start_time": "2023-04-28T11:48:55.380Z"
   },
   {
    "duration": 2589,
    "start_time": "2023-04-28T11:50:36.605Z"
   },
   {
    "duration": 444,
    "start_time": "2023-04-28T11:50:52.772Z"
   },
   {
    "duration": 455,
    "start_time": "2023-04-28T11:51:04.222Z"
   },
   {
    "duration": 426,
    "start_time": "2023-04-28T11:51:32.974Z"
   },
   {
    "duration": 2594,
    "start_time": "2023-04-28T11:54:35.932Z"
   },
   {
    "duration": 266,
    "start_time": "2023-04-28T11:54:45.742Z"
   },
   {
    "duration": 215,
    "start_time": "2023-04-28T11:55:03.404Z"
   },
   {
    "duration": 50,
    "start_time": "2023-04-28T11:55:51.732Z"
   },
   {
    "duration": 23,
    "start_time": "2023-04-28T11:55:55.011Z"
   },
   {
    "duration": 20,
    "start_time": "2023-04-28T11:56:26.979Z"
   },
   {
    "duration": 21,
    "start_time": "2023-04-28T11:56:38.633Z"
   },
   {
    "duration": 226,
    "start_time": "2023-04-28T11:57:23.922Z"
   },
   {
    "duration": 329,
    "start_time": "2023-04-28T11:57:32.066Z"
   },
   {
    "duration": 201,
    "start_time": "2023-04-28T11:57:38.354Z"
   },
   {
    "duration": 13,
    "start_time": "2023-04-28T11:59:28.753Z"
   },
   {
    "duration": 22,
    "start_time": "2023-04-28T11:59:40.440Z"
   },
   {
    "duration": 30,
    "start_time": "2023-04-28T12:07:03.776Z"
   },
   {
    "duration": 25,
    "start_time": "2023-04-28T12:07:14.027Z"
   },
   {
    "duration": 208,
    "start_time": "2023-04-28T12:07:43.712Z"
   },
   {
    "duration": 28,
    "start_time": "2023-04-28T12:09:03.798Z"
   },
   {
    "duration": 209,
    "start_time": "2023-04-28T12:09:07.569Z"
   },
   {
    "duration": 32,
    "start_time": "2023-04-28T12:09:25.469Z"
   },
   {
    "duration": 188,
    "start_time": "2023-04-28T12:09:26.555Z"
   },
   {
    "duration": 193,
    "start_time": "2023-04-28T12:09:46.366Z"
   },
   {
    "duration": 33,
    "start_time": "2023-04-28T12:10:19.949Z"
   },
   {
    "duration": 209,
    "start_time": "2023-04-28T12:10:21.573Z"
   },
   {
    "duration": 11,
    "start_time": "2023-04-28T12:20:08.349Z"
   },
   {
    "duration": 166,
    "start_time": "2023-04-28T12:20:09.811Z"
   },
   {
    "duration": 715,
    "start_time": "2023-04-28T12:22:42.987Z"
   },
   {
    "duration": 807,
    "start_time": "2023-04-28T12:23:15.442Z"
   },
   {
    "duration": 7,
    "start_time": "2023-04-28T12:31:12.608Z"
   },
   {
    "duration": 9,
    "start_time": "2023-04-28T12:31:13.890Z"
   },
   {
    "duration": 301,
    "start_time": "2023-04-28T12:31:15.014Z"
   },
   {
    "duration": 4,
    "start_time": "2023-04-28T12:31:19.402Z"
   },
   {
    "duration": 25,
    "start_time": "2023-04-28T12:31:25.852Z"
   },
   {
    "duration": 82,
    "start_time": "2023-04-28T12:31:33.236Z"
   },
   {
    "duration": 49,
    "start_time": "2023-04-28T12:36:27.067Z"
   },
   {
    "duration": 40,
    "start_time": "2023-04-28T12:41:41.415Z"
   },
   {
    "duration": 33,
    "start_time": "2023-04-28T12:41:42.910Z"
   },
   {
    "duration": 32,
    "start_time": "2023-04-28T12:41:45.422Z"
   },
   {
    "duration": 39,
    "start_time": "2023-04-28T12:41:47.117Z"
   },
   {
    "duration": 29,
    "start_time": "2023-04-28T12:41:47.791Z"
   },
   {
    "duration": 20,
    "start_time": "2023-04-28T12:41:50.158Z"
   },
   {
    "duration": 35,
    "start_time": "2023-04-28T12:52:30.009Z"
   },
   {
    "duration": 19,
    "start_time": "2023-04-28T12:53:29.539Z"
   },
   {
    "duration": 19,
    "start_time": "2023-04-28T12:53:38.179Z"
   },
   {
    "duration": 10,
    "start_time": "2023-04-28T12:53:39.238Z"
   },
   {
    "duration": 12,
    "start_time": "2023-04-28T12:53:40.654Z"
   },
   {
    "duration": 28,
    "start_time": "2023-04-28T14:33:26.193Z"
   },
   {
    "duration": 20,
    "start_time": "2023-04-28T14:40:16.886Z"
   },
   {
    "duration": 75,
    "start_time": "2023-04-28T17:12:58.442Z"
   },
   {
    "duration": 84,
    "start_time": "2023-04-28T17:13:10.049Z"
   },
   {
    "duration": 4,
    "start_time": "2023-04-28T17:13:17.322Z"
   },
   {
    "duration": 1513,
    "start_time": "2023-04-28T17:13:17.336Z"
   },
   {
    "duration": 411,
    "start_time": "2023-04-28T17:13:18.851Z"
   },
   {
    "duration": 21,
    "start_time": "2023-04-28T17:13:19.265Z"
   },
   {
    "duration": 40,
    "start_time": "2023-04-28T17:13:19.289Z"
   },
   {
    "duration": 38,
    "start_time": "2023-04-28T17:13:19.330Z"
   },
   {
    "duration": 9,
    "start_time": "2023-04-28T17:13:19.370Z"
   },
   {
    "duration": 14,
    "start_time": "2023-04-28T17:13:19.397Z"
   },
   {
    "duration": 14,
    "start_time": "2023-04-28T17:13:19.413Z"
   },
   {
    "duration": 9,
    "start_time": "2023-04-28T17:13:19.429Z"
   },
   {
    "duration": 71,
    "start_time": "2023-04-28T17:13:19.442Z"
   },
   {
    "duration": 16,
    "start_time": "2023-04-28T17:13:19.515Z"
   },
   {
    "duration": 27,
    "start_time": "2023-04-28T17:13:19.533Z"
   },
   {
    "duration": 39,
    "start_time": "2023-04-28T17:13:19.562Z"
   },
   {
    "duration": 17,
    "start_time": "2023-04-28T17:13:19.604Z"
   },
   {
    "duration": 27,
    "start_time": "2023-04-28T17:13:19.624Z"
   },
   {
    "duration": 18,
    "start_time": "2023-04-28T17:13:19.653Z"
   },
   {
    "duration": 22,
    "start_time": "2023-04-28T17:13:19.673Z"
   },
   {
    "duration": 64,
    "start_time": "2023-04-28T17:13:19.697Z"
   },
   {
    "duration": 101,
    "start_time": "2023-04-28T17:13:19.764Z"
   },
   {
    "duration": 103,
    "start_time": "2023-04-28T17:13:19.868Z"
   },
   {
    "duration": 151,
    "start_time": "2023-04-28T17:13:19.973Z"
   },
   {
    "duration": 32,
    "start_time": "2023-04-28T17:13:20.126Z"
   },
   {
    "duration": 42,
    "start_time": "2023-04-28T17:13:20.160Z"
   },
   {
    "duration": 36,
    "start_time": "2023-04-28T17:13:20.204Z"
   },
   {
    "duration": 63,
    "start_time": "2023-04-28T17:13:20.242Z"
   },
   {
    "duration": 15,
    "start_time": "2023-04-28T17:13:20.311Z"
   },
   {
    "duration": 67,
    "start_time": "2023-04-28T17:13:20.327Z"
   },
   {
    "duration": 13,
    "start_time": "2023-04-28T17:13:20.401Z"
   },
   {
    "duration": 143,
    "start_time": "2023-04-28T17:13:20.420Z"
   },
   {
    "duration": 30,
    "start_time": "2023-04-28T17:13:20.564Z"
   },
   {
    "duration": 42,
    "start_time": "2023-04-28T17:13:20.596Z"
   },
   {
    "duration": 12,
    "start_time": "2023-04-28T17:13:20.640Z"
   },
   {
    "duration": 211,
    "start_time": "2023-04-28T17:13:20.656Z"
   },
   {
    "duration": 6,
    "start_time": "2023-04-28T17:13:20.869Z"
   },
   {
    "duration": 41,
    "start_time": "2023-04-28T17:13:20.893Z"
   },
   {
    "duration": 10,
    "start_time": "2023-04-28T17:13:20.935Z"
   },
   {
    "duration": 199,
    "start_time": "2023-04-28T17:13:20.947Z"
   },
   {
    "duration": 19,
    "start_time": "2023-04-28T17:13:21.148Z"
   },
   {
    "duration": 60,
    "start_time": "2023-04-28T17:13:21.170Z"
   },
   {
    "duration": 28,
    "start_time": "2023-04-28T17:13:21.232Z"
   },
   {
    "duration": 346,
    "start_time": "2023-04-28T17:13:21.263Z"
   },
   {
    "duration": 7,
    "start_time": "2023-04-28T17:13:21.611Z"
   },
   {
    "duration": 1165,
    "start_time": "2023-04-28T17:13:21.620Z"
   },
   {
    "duration": 13,
    "start_time": "2023-04-28T17:13:22.786Z"
   },
   {
    "duration": 19,
    "start_time": "2023-04-28T17:13:22.801Z"
   },
   {
    "duration": 446,
    "start_time": "2023-04-28T17:13:22.823Z"
   },
   {
    "duration": 5,
    "start_time": "2023-04-28T17:13:23.271Z"
   },
   {
    "duration": 59,
    "start_time": "2023-04-28T17:13:23.278Z"
   },
   {
    "duration": 124,
    "start_time": "2023-04-28T17:13:23.339Z"
   },
   {
    "duration": 87,
    "start_time": "2023-04-28T17:13:23.465Z"
   },
   {
    "duration": 58,
    "start_time": "2023-04-28T17:13:23.554Z"
   },
   {
    "duration": 48,
    "start_time": "2023-04-28T17:13:23.616Z"
   },
   {
    "duration": 67,
    "start_time": "2023-04-28T17:13:23.666Z"
   },
   {
    "duration": 63,
    "start_time": "2023-04-28T17:13:23.735Z"
   },
   {
    "duration": 39,
    "start_time": "2023-04-28T17:13:23.804Z"
   },
   {
    "duration": 22,
    "start_time": "2023-04-28T17:13:23.845Z"
   },
   {
    "duration": 85,
    "start_time": "2023-04-28T17:13:23.869Z"
   },
   {
    "duration": 0,
    "start_time": "2023-04-28T17:13:23.956Z"
   },
   {
    "duration": 0,
    "start_time": "2023-04-28T17:13:23.957Z"
   },
   {
    "duration": 0,
    "start_time": "2023-04-28T17:13:23.958Z"
   },
   {
    "duration": 0,
    "start_time": "2023-04-28T17:13:23.959Z"
   },
   {
    "duration": 0,
    "start_time": "2023-04-28T17:13:23.961Z"
   },
   {
    "duration": 0,
    "start_time": "2023-04-28T17:13:23.963Z"
   },
   {
    "duration": 0,
    "start_time": "2023-04-28T17:13:23.964Z"
   },
   {
    "duration": 0,
    "start_time": "2023-04-28T17:13:23.965Z"
   },
   {
    "duration": 0,
    "start_time": "2023-04-28T17:13:23.967Z"
   },
   {
    "duration": 0,
    "start_time": "2023-04-28T17:13:23.968Z"
   },
   {
    "duration": 0,
    "start_time": "2023-04-28T17:13:23.969Z"
   },
   {
    "duration": 0,
    "start_time": "2023-04-28T17:13:23.970Z"
   },
   {
    "duration": 0,
    "start_time": "2023-04-28T17:13:23.971Z"
   },
   {
    "duration": 0,
    "start_time": "2023-04-28T17:13:23.972Z"
   },
   {
    "duration": 105,
    "start_time": "2023-04-28T17:13:43.354Z"
   },
   {
    "duration": 28,
    "start_time": "2023-04-28T17:14:03.775Z"
   },
   {
    "duration": 46,
    "start_time": "2023-04-28T17:14:11.160Z"
   },
   {
    "duration": 2195,
    "start_time": "2023-04-28T17:18:31.663Z"
   },
   {
    "duration": 2120,
    "start_time": "2023-04-28T17:19:22.487Z"
   },
   {
    "duration": 16,
    "start_time": "2023-04-28T17:19:34.279Z"
   },
   {
    "duration": 1554,
    "start_time": "2023-04-28T17:20:21.278Z"
   },
   {
    "duration": 1473,
    "start_time": "2023-04-28T17:20:38.029Z"
   },
   {
    "duration": 36,
    "start_time": "2023-04-28T17:36:49.242Z"
   },
   {
    "duration": 39,
    "start_time": "2023-04-28T17:37:01.552Z"
   },
   {
    "duration": 79,
    "start_time": "2023-04-28T17:41:49.255Z"
   },
   {
    "duration": 15,
    "start_time": "2023-04-28T17:59:05.389Z"
   },
   {
    "duration": 39,
    "start_time": "2023-04-28T17:59:34.213Z"
   },
   {
    "duration": 48,
    "start_time": "2023-04-28T18:00:37.452Z"
   },
   {
    "duration": 58,
    "start_time": "2023-04-28T18:00:51.890Z"
   },
   {
    "duration": 39,
    "start_time": "2023-04-28T18:01:26.505Z"
   },
   {
    "duration": 25,
    "start_time": "2023-04-28T18:01:52.828Z"
   },
   {
    "duration": 50,
    "start_time": "2023-04-28T18:02:31.564Z"
   },
   {
    "duration": 28,
    "start_time": "2023-04-28T18:03:13.088Z"
   },
   {
    "duration": 40,
    "start_time": "2023-04-28T18:03:27.722Z"
   },
   {
    "duration": 36,
    "start_time": "2023-04-28T18:03:33.825Z"
   },
   {
    "duration": 204,
    "start_time": "2023-04-28T18:03:34.952Z"
   },
   {
    "duration": 70,
    "start_time": "2023-04-28T18:05:07.601Z"
   },
   {
    "duration": 254,
    "start_time": "2023-04-28T18:05:08.392Z"
   },
   {
    "duration": 139,
    "start_time": "2023-04-28T18:33:24.189Z"
   },
   {
    "duration": 102,
    "start_time": "2023-04-28T18:33:26.876Z"
   },
   {
    "duration": 13,
    "start_time": "2023-04-28T18:33:29.975Z"
   },
   {
    "duration": 6,
    "start_time": "2023-04-28T18:33:32.011Z"
   },
   {
    "duration": 78,
    "start_time": "2023-04-28T18:33:34.165Z"
   },
   {
    "duration": 487,
    "start_time": "2023-04-28T18:33:35.325Z"
   },
   {
    "duration": 344,
    "start_time": "2023-04-28T18:34:59.353Z"
   },
   {
    "duration": 9,
    "start_time": "2023-04-28T18:35:04.364Z"
   },
   {
    "duration": 7,
    "start_time": "2023-04-28T18:35:04.852Z"
   },
   {
    "duration": 16,
    "start_time": "2023-04-28T18:35:07.036Z"
   },
   {
    "duration": 18,
    "start_time": "2023-04-28T18:35:07.536Z"
   },
   {
    "duration": 206,
    "start_time": "2023-04-28T19:04:25.949Z"
   },
   {
    "duration": 210,
    "start_time": "2023-04-28T19:05:09.616Z"
   },
   {
    "duration": 206,
    "start_time": "2023-04-28T19:05:24.378Z"
   },
   {
    "duration": 267,
    "start_time": "2023-04-28T19:07:24.618Z"
   },
   {
    "duration": 401,
    "start_time": "2023-04-28T19:08:00.682Z"
   },
   {
    "duration": 371,
    "start_time": "2023-04-28T19:08:09.873Z"
   },
   {
    "duration": 418,
    "start_time": "2023-04-28T19:08:14.916Z"
   },
   {
    "duration": 216,
    "start_time": "2023-04-28T19:09:10.144Z"
   },
   {
    "duration": 252,
    "start_time": "2023-04-28T19:09:14.323Z"
   },
   {
    "duration": 261,
    "start_time": "2023-04-28T19:09:44.890Z"
   },
   {
    "duration": 214,
    "start_time": "2023-04-28T19:10:23.229Z"
   },
   {
    "duration": 233,
    "start_time": "2023-04-28T19:10:24.116Z"
   },
   {
    "duration": 8,
    "start_time": "2023-04-28T19:33:09.919Z"
   },
   {
    "duration": 8,
    "start_time": "2023-04-28T19:33:13.537Z"
   },
   {
    "duration": 27,
    "start_time": "2023-04-28T19:33:48.884Z"
   },
   {
    "duration": 12,
    "start_time": "2023-04-28T19:33:58.125Z"
   },
   {
    "duration": 16,
    "start_time": "2023-04-28T19:34:09.816Z"
   },
   {
    "duration": 153,
    "start_time": "2023-04-28T19:34:44.862Z"
   },
   {
    "duration": 213,
    "start_time": "2023-04-28T19:34:58.210Z"
   },
   {
    "duration": 297,
    "start_time": "2023-04-28T19:35:26.446Z"
   },
   {
    "duration": 268,
    "start_time": "2023-04-28T19:35:42.216Z"
   },
   {
    "duration": 255,
    "start_time": "2023-04-28T19:36:22.773Z"
   },
   {
    "duration": 270,
    "start_time": "2023-04-28T19:36:38.407Z"
   },
   {
    "duration": 334,
    "start_time": "2023-04-28T19:37:40.780Z"
   },
   {
    "duration": 417,
    "start_time": "2023-04-28T19:38:32.914Z"
   },
   {
    "duration": 295,
    "start_time": "2023-04-28T19:52:40.859Z"
   },
   {
    "duration": 297,
    "start_time": "2023-04-28T19:56:19.114Z"
   },
   {
    "duration": 459,
    "start_time": "2023-04-28T19:56:37.177Z"
   },
   {
    "duration": 274,
    "start_time": "2023-04-28T19:56:52.506Z"
   },
   {
    "duration": 2979,
    "start_time": "2023-04-28T19:58:32.504Z"
   },
   {
    "duration": 220,
    "start_time": "2023-04-28T19:58:42.314Z"
   },
   {
    "duration": 207,
    "start_time": "2023-04-28T20:10:25.967Z"
   },
   {
    "duration": 515,
    "start_time": "2023-04-28T20:12:29.069Z"
   },
   {
    "duration": 6,
    "start_time": "2023-04-28T20:19:09.467Z"
   },
   {
    "duration": 5,
    "start_time": "2023-04-28T20:20:59.985Z"
   },
   {
    "duration": 90,
    "start_time": "2023-04-28T20:21:15.161Z"
   },
   {
    "duration": 32,
    "start_time": "2023-04-28T20:22:37.721Z"
   },
   {
    "duration": 13,
    "start_time": "2023-04-28T20:23:20.273Z"
   },
   {
    "duration": 46,
    "start_time": "2023-04-28T20:23:29.507Z"
   },
   {
    "duration": 35,
    "start_time": "2023-04-28T20:23:49.663Z"
   },
   {
    "duration": 6,
    "start_time": "2023-04-28T20:24:18.854Z"
   },
   {
    "duration": 7,
    "start_time": "2023-04-28T20:24:21.907Z"
   },
   {
    "duration": 230,
    "start_time": "2023-04-28T20:24:28.838Z"
   },
   {
    "duration": 263,
    "start_time": "2023-04-28T20:24:39.639Z"
   },
   {
    "duration": 7,
    "start_time": "2023-04-28T20:24:56.957Z"
   },
   {
    "duration": 34,
    "start_time": "2023-04-28T20:26:26.755Z"
   },
   {
    "duration": 36,
    "start_time": "2023-04-28T20:26:27.221Z"
   },
   {
    "duration": 1199,
    "start_time": "2023-04-28T20:26:37.805Z"
   },
   {
    "duration": 1212,
    "start_time": "2023-04-28T20:26:46.189Z"
   },
   {
    "duration": 1192,
    "start_time": "2023-04-28T20:26:51.965Z"
   },
   {
    "duration": 1202,
    "start_time": "2023-04-28T20:26:59.557Z"
   },
   {
    "duration": 1128,
    "start_time": "2023-04-28T20:27:15.749Z"
   },
   {
    "duration": 1302,
    "start_time": "2023-04-28T20:28:03.995Z"
   },
   {
    "duration": 34,
    "start_time": "2023-04-28T20:28:11.556Z"
   },
   {
    "duration": 38,
    "start_time": "2023-04-28T20:28:24.333Z"
   },
   {
    "duration": 39,
    "start_time": "2023-04-28T20:28:32.619Z"
   },
   {
    "duration": 1262,
    "start_time": "2023-04-28T20:28:35.052Z"
   },
   {
    "duration": 1369,
    "start_time": "2023-04-28T20:29:14.036Z"
   },
   {
    "duration": 72,
    "start_time": "2023-04-28T20:30:42.490Z"
   },
   {
    "duration": 8,
    "start_time": "2023-04-28T20:30:50.170Z"
   },
   {
    "duration": 426,
    "start_time": "2023-04-28T20:31:12.362Z"
   },
   {
    "duration": 10,
    "start_time": "2023-04-28T20:31:16.626Z"
   },
   {
    "duration": 256,
    "start_time": "2023-04-28T20:32:11.178Z"
   },
   {
    "duration": 37,
    "start_time": "2023-04-28T20:32:19.018Z"
   },
   {
    "duration": 10,
    "start_time": "2023-04-28T20:32:19.907Z"
   },
   {
    "duration": 441,
    "start_time": "2023-04-28T20:32:21.108Z"
   },
   {
    "duration": 5,
    "start_time": "2023-04-28T20:32:33.808Z"
   },
   {
    "duration": 24,
    "start_time": "2023-04-28T20:34:46.664Z"
   },
   {
    "duration": 23,
    "start_time": "2023-04-28T20:35:18.456Z"
   },
   {
    "duration": 7,
    "start_time": "2023-04-28T20:35:34.952Z"
   },
   {
    "duration": 6,
    "start_time": "2023-04-28T20:35:36.575Z"
   },
   {
    "duration": 31,
    "start_time": "2023-04-28T20:37:28.015Z"
   },
   {
    "duration": 9,
    "start_time": "2023-04-28T20:38:37.067Z"
   },
   {
    "duration": 8,
    "start_time": "2023-04-28T20:38:41.871Z"
   },
   {
    "duration": 388,
    "start_time": "2023-04-28T20:39:34.741Z"
   },
   {
    "duration": 571,
    "start_time": "2023-04-28T20:39:49.514Z"
   },
   {
    "duration": 50,
    "start_time": "2023-04-29T08:11:53.579Z"
   },
   {
    "duration": 9,
    "start_time": "2023-04-29T08:12:02.396Z"
   },
   {
    "duration": 4,
    "start_time": "2023-04-29T08:12:11.792Z"
   },
   {
    "duration": 1310,
    "start_time": "2023-04-29T08:12:11.806Z"
   },
   {
    "duration": 301,
    "start_time": "2023-04-29T08:12:13.118Z"
   },
   {
    "duration": 16,
    "start_time": "2023-04-29T08:12:13.421Z"
   },
   {
    "duration": 28,
    "start_time": "2023-04-29T08:12:13.439Z"
   },
   {
    "duration": 30,
    "start_time": "2023-04-29T08:12:13.469Z"
   },
   {
    "duration": 7,
    "start_time": "2023-04-29T08:12:13.501Z"
   },
   {
    "duration": 11,
    "start_time": "2023-04-29T08:12:13.510Z"
   },
   {
    "duration": 12,
    "start_time": "2023-04-29T08:12:13.523Z"
   },
   {
    "duration": 6,
    "start_time": "2023-04-29T08:12:13.536Z"
   },
   {
    "duration": 52,
    "start_time": "2023-04-29T08:12:13.544Z"
   },
   {
    "duration": 13,
    "start_time": "2023-04-29T08:12:13.597Z"
   },
   {
    "duration": 24,
    "start_time": "2023-04-29T08:12:13.612Z"
   },
   {
    "duration": 17,
    "start_time": "2023-04-29T08:12:13.638Z"
   },
   {
    "duration": 8,
    "start_time": "2023-04-29T08:12:13.657Z"
   },
   {
    "duration": 21,
    "start_time": "2023-04-29T08:12:13.692Z"
   },
   {
    "duration": 8,
    "start_time": "2023-04-29T08:12:13.715Z"
   },
   {
    "duration": 4,
    "start_time": "2023-04-29T08:12:13.725Z"
   },
   {
    "duration": 77,
    "start_time": "2023-04-29T08:12:13.731Z"
   },
   {
    "duration": 65,
    "start_time": "2023-04-29T08:12:13.810Z"
   },
   {
    "duration": 81,
    "start_time": "2023-04-29T08:12:13.877Z"
   },
   {
    "duration": 118,
    "start_time": "2023-04-29T08:12:13.960Z"
   },
   {
    "duration": 35,
    "start_time": "2023-04-29T08:12:14.080Z"
   },
   {
    "duration": 14,
    "start_time": "2023-04-29T08:12:14.117Z"
   },
   {
    "duration": 39,
    "start_time": "2023-04-29T08:12:14.133Z"
   },
   {
    "duration": 44,
    "start_time": "2023-04-29T08:12:14.174Z"
   },
   {
    "duration": 10,
    "start_time": "2023-04-29T08:12:14.219Z"
   },
   {
    "duration": 38,
    "start_time": "2023-04-29T08:12:14.231Z"
   },
   {
    "duration": 10,
    "start_time": "2023-04-29T08:12:14.291Z"
   },
   {
    "duration": 129,
    "start_time": "2023-04-29T08:12:14.302Z"
   },
   {
    "duration": 18,
    "start_time": "2023-04-29T08:12:14.433Z"
   },
   {
    "duration": 49,
    "start_time": "2023-04-29T08:12:14.454Z"
   },
   {
    "duration": 11,
    "start_time": "2023-04-29T08:12:14.505Z"
   },
   {
    "duration": 174,
    "start_time": "2023-04-29T08:12:14.517Z"
   },
   {
    "duration": 7,
    "start_time": "2023-04-29T08:12:14.694Z"
   },
   {
    "duration": 41,
    "start_time": "2023-04-29T08:12:14.703Z"
   },
   {
    "duration": 12,
    "start_time": "2023-04-29T08:12:14.746Z"
   },
   {
    "duration": 162,
    "start_time": "2023-04-29T08:12:14.760Z"
   },
   {
    "duration": 18,
    "start_time": "2023-04-29T08:12:14.924Z"
   },
   {
    "duration": 24,
    "start_time": "2023-04-29T08:12:14.944Z"
   },
   {
    "duration": 35,
    "start_time": "2023-04-29T08:12:14.969Z"
   },
   {
    "duration": 308,
    "start_time": "2023-04-29T08:12:15.006Z"
   },
   {
    "duration": 4,
    "start_time": "2023-04-29T08:12:15.316Z"
   },
   {
    "duration": 937,
    "start_time": "2023-04-29T08:12:15.322Z"
   },
   {
    "duration": 9,
    "start_time": "2023-04-29T08:12:16.261Z"
   },
   {
    "duration": 28,
    "start_time": "2023-04-29T08:12:16.272Z"
   },
   {
    "duration": 359,
    "start_time": "2023-04-29T08:12:16.303Z"
   },
   {
    "duration": 5,
    "start_time": "2023-04-29T08:12:16.664Z"
   },
   {
    "duration": 44,
    "start_time": "2023-04-29T08:12:16.671Z"
   },
   {
    "duration": 101,
    "start_time": "2023-04-29T08:12:16.717Z"
   },
   {
    "duration": 53,
    "start_time": "2023-04-29T08:12:16.820Z"
   },
   {
    "duration": 53,
    "start_time": "2023-04-29T08:12:16.875Z"
   },
   {
    "duration": 42,
    "start_time": "2023-04-29T08:12:16.929Z"
   },
   {
    "duration": 37,
    "start_time": "2023-04-29T08:12:16.992Z"
   },
   {
    "duration": 70,
    "start_time": "2023-04-29T08:12:17.031Z"
   },
   {
    "duration": 31,
    "start_time": "2023-04-29T08:12:17.103Z"
   },
   {
    "duration": 33,
    "start_time": "2023-04-29T08:12:17.136Z"
   },
   {
    "duration": 207,
    "start_time": "2023-04-29T08:12:17.192Z"
   },
   {
    "duration": 56,
    "start_time": "2023-04-29T08:12:17.401Z"
   },
   {
    "duration": 240,
    "start_time": "2023-04-29T08:12:17.460Z"
   },
   {
    "duration": 67,
    "start_time": "2023-04-29T08:12:17.702Z"
   },
   {
    "duration": 54,
    "start_time": "2023-04-29T08:12:17.771Z"
   },
   {
    "duration": 7,
    "start_time": "2023-04-29T08:12:17.827Z"
   },
   {
    "duration": 10,
    "start_time": "2023-04-29T08:12:17.835Z"
   },
   {
    "duration": 51,
    "start_time": "2023-04-29T08:12:17.847Z"
   },
   {
    "duration": 307,
    "start_time": "2023-04-29T08:12:17.899Z"
   },
   {
    "duration": 114,
    "start_time": "2023-04-29T08:12:18.208Z"
   },
   {
    "duration": 0,
    "start_time": "2023-04-29T08:12:18.324Z"
   },
   {
    "duration": 0,
    "start_time": "2023-04-29T08:12:18.326Z"
   },
   {
    "duration": 0,
    "start_time": "2023-04-29T08:12:18.327Z"
   },
   {
    "duration": 0,
    "start_time": "2023-04-29T08:12:18.329Z"
   },
   {
    "duration": 0,
    "start_time": "2023-04-29T08:12:18.330Z"
   },
   {
    "duration": 0,
    "start_time": "2023-04-29T08:12:18.331Z"
   },
   {
    "duration": 0,
    "start_time": "2023-04-29T08:12:18.333Z"
   },
   {
    "duration": 0,
    "start_time": "2023-04-29T08:12:18.335Z"
   },
   {
    "duration": 0,
    "start_time": "2023-04-29T08:12:18.336Z"
   },
   {
    "duration": 23,
    "start_time": "2023-04-29T08:13:04.611Z"
   },
   {
    "duration": 16,
    "start_time": "2023-04-29T08:14:57.922Z"
   },
   {
    "duration": 36,
    "start_time": "2023-04-29T08:18:06.079Z"
   },
   {
    "duration": 26,
    "start_time": "2023-04-29T08:24:48.796Z"
   },
   {
    "duration": 24,
    "start_time": "2023-04-29T08:25:07.051Z"
   },
   {
    "duration": 45,
    "start_time": "2023-04-29T10:29:16.623Z"
   },
   {
    "duration": 6,
    "start_time": "2023-04-29T10:29:28.676Z"
   },
   {
    "duration": 4,
    "start_time": "2023-04-29T10:29:35.346Z"
   },
   {
    "duration": 1530,
    "start_time": "2023-04-29T10:29:35.359Z"
   },
   {
    "duration": 571,
    "start_time": "2023-04-29T10:29:36.892Z"
   },
   {
    "duration": 17,
    "start_time": "2023-04-29T10:29:37.468Z"
   },
   {
    "duration": 63,
    "start_time": "2023-04-29T10:29:37.488Z"
   },
   {
    "duration": 46,
    "start_time": "2023-04-29T10:29:37.553Z"
   },
   {
    "duration": 10,
    "start_time": "2023-04-29T10:29:37.601Z"
   },
   {
    "duration": 23,
    "start_time": "2023-04-29T10:29:37.613Z"
   },
   {
    "duration": 15,
    "start_time": "2023-04-29T10:29:37.638Z"
   },
   {
    "duration": 10,
    "start_time": "2023-04-29T10:29:37.655Z"
   },
   {
    "duration": 39,
    "start_time": "2023-04-29T10:29:37.668Z"
   },
   {
    "duration": 17,
    "start_time": "2023-04-29T10:29:37.708Z"
   },
   {
    "duration": 21,
    "start_time": "2023-04-29T10:29:37.727Z"
   },
   {
    "duration": 51,
    "start_time": "2023-04-29T10:29:37.749Z"
   },
   {
    "duration": 8,
    "start_time": "2023-04-29T10:29:37.803Z"
   },
   {
    "duration": 26,
    "start_time": "2023-04-29T10:29:37.813Z"
   },
   {
    "duration": 8,
    "start_time": "2023-04-29T10:29:37.841Z"
   },
   {
    "duration": 11,
    "start_time": "2023-04-29T10:29:37.851Z"
   },
   {
    "duration": 64,
    "start_time": "2023-04-29T10:29:37.864Z"
   },
   {
    "duration": 93,
    "start_time": "2023-04-29T10:29:37.930Z"
   },
   {
    "duration": 88,
    "start_time": "2023-04-29T10:29:38.025Z"
   },
   {
    "duration": 124,
    "start_time": "2023-04-29T10:29:38.115Z"
   },
   {
    "duration": 33,
    "start_time": "2023-04-29T10:29:38.241Z"
   },
   {
    "duration": 36,
    "start_time": "2023-04-29T10:29:38.284Z"
   },
   {
    "duration": 43,
    "start_time": "2023-04-29T10:29:38.322Z"
   },
   {
    "duration": 44,
    "start_time": "2023-04-29T10:29:38.367Z"
   },
   {
    "duration": 10,
    "start_time": "2023-04-29T10:29:38.413Z"
   },
   {
    "duration": 75,
    "start_time": "2023-04-29T10:29:38.425Z"
   },
   {
    "duration": 20,
    "start_time": "2023-04-29T10:29:38.506Z"
   },
   {
    "duration": 152,
    "start_time": "2023-04-29T10:29:38.528Z"
   },
   {
    "duration": 20,
    "start_time": "2023-04-29T10:29:38.684Z"
   },
   {
    "duration": 66,
    "start_time": "2023-04-29T10:29:38.706Z"
   },
   {
    "duration": 14,
    "start_time": "2023-04-29T10:29:38.774Z"
   },
   {
    "duration": 228,
    "start_time": "2023-04-29T10:29:38.799Z"
   },
   {
    "duration": 7,
    "start_time": "2023-04-29T10:29:39.029Z"
   },
   {
    "duration": 71,
    "start_time": "2023-04-29T10:29:39.038Z"
   },
   {
    "duration": 11,
    "start_time": "2023-04-29T10:29:39.111Z"
   },
   {
    "duration": 184,
    "start_time": "2023-04-29T10:29:39.124Z"
   },
   {
    "duration": 18,
    "start_time": "2023-04-29T10:29:39.309Z"
   },
   {
    "duration": 27,
    "start_time": "2023-04-29T10:29:39.329Z"
   },
   {
    "duration": 47,
    "start_time": "2023-04-29T10:29:39.358Z"
   },
   {
    "duration": 345,
    "start_time": "2023-04-29T10:29:39.408Z"
   },
   {
    "duration": 5,
    "start_time": "2023-04-29T10:29:39.756Z"
   },
   {
    "duration": 973,
    "start_time": "2023-04-29T10:29:39.763Z"
   },
   {
    "duration": 8,
    "start_time": "2023-04-29T10:29:40.738Z"
   },
   {
    "duration": 46,
    "start_time": "2023-04-29T10:29:40.748Z"
   },
   {
    "duration": 378,
    "start_time": "2023-04-29T10:29:40.798Z"
   },
   {
    "duration": 10,
    "start_time": "2023-04-29T10:29:41.178Z"
   },
   {
    "duration": 46,
    "start_time": "2023-04-29T10:29:41.195Z"
   },
   {
    "duration": 92,
    "start_time": "2023-04-29T10:29:41.242Z"
   },
   {
    "duration": 69,
    "start_time": "2023-04-29T10:29:41.336Z"
   },
   {
    "duration": 40,
    "start_time": "2023-04-29T10:29:41.407Z"
   },
   {
    "duration": 70,
    "start_time": "2023-04-29T10:29:41.448Z"
   },
   {
    "duration": 38,
    "start_time": "2023-04-29T10:29:41.521Z"
   },
   {
    "duration": 64,
    "start_time": "2023-04-29T10:29:41.560Z"
   },
   {
    "duration": 33,
    "start_time": "2023-04-29T10:29:41.626Z"
   },
   {
    "duration": 57,
    "start_time": "2023-04-29T10:29:41.661Z"
   },
   {
    "duration": 203,
    "start_time": "2023-04-29T10:29:41.719Z"
   },
   {
    "duration": 43,
    "start_time": "2023-04-29T10:29:41.924Z"
   },
   {
    "duration": 237,
    "start_time": "2023-04-29T10:29:41.969Z"
   },
   {
    "duration": 89,
    "start_time": "2023-04-29T10:29:42.208Z"
   },
   {
    "duration": 42,
    "start_time": "2023-04-29T10:29:42.299Z"
   },
   {
    "duration": 117,
    "start_time": "2023-04-29T10:29:42.342Z"
   },
   {
    "duration": 0,
    "start_time": "2023-04-29T10:29:42.461Z"
   },
   {
    "duration": 0,
    "start_time": "2023-04-29T10:29:42.462Z"
   },
   {
    "duration": 0,
    "start_time": "2023-04-29T10:29:42.463Z"
   },
   {
    "duration": 0,
    "start_time": "2023-04-29T10:29:42.464Z"
   },
   {
    "duration": 0,
    "start_time": "2023-04-29T10:29:42.466Z"
   },
   {
    "duration": 0,
    "start_time": "2023-04-29T10:29:42.467Z"
   },
   {
    "duration": 0,
    "start_time": "2023-04-29T10:29:42.487Z"
   },
   {
    "duration": 0,
    "start_time": "2023-04-29T10:29:42.488Z"
   },
   {
    "duration": 0,
    "start_time": "2023-04-29T10:29:42.489Z"
   },
   {
    "duration": 0,
    "start_time": "2023-04-29T10:29:42.490Z"
   },
   {
    "duration": 0,
    "start_time": "2023-04-29T10:29:42.490Z"
   },
   {
    "duration": 0,
    "start_time": "2023-04-29T10:29:42.491Z"
   },
   {
    "duration": 0,
    "start_time": "2023-04-29T10:29:42.492Z"
   },
   {
    "duration": 0,
    "start_time": "2023-04-29T10:29:42.500Z"
   },
   {
    "duration": 0,
    "start_time": "2023-04-29T10:29:42.501Z"
   },
   {
    "duration": 27,
    "start_time": "2023-04-29T10:35:37.256Z"
   },
   {
    "duration": 12,
    "start_time": "2023-04-29T10:35:42.456Z"
   },
   {
    "duration": 27,
    "start_time": "2023-04-29T10:35:48.927Z"
   },
   {
    "duration": 24,
    "start_time": "2023-04-29T10:35:52.751Z"
   },
   {
    "duration": 67,
    "start_time": "2023-04-29T10:36:15.511Z"
   },
   {
    "duration": 11,
    "start_time": "2023-04-29T10:37:01.021Z"
   },
   {
    "duration": 3,
    "start_time": "2023-04-29T10:37:06.421Z"
   },
   {
    "duration": 1550,
    "start_time": "2023-04-29T10:41:39.938Z"
   },
   {
    "duration": 30,
    "start_time": "2023-04-29T10:42:14.482Z"
   },
   {
    "duration": 1096,
    "start_time": "2023-04-29T10:42:38.946Z"
   },
   {
    "duration": 41,
    "start_time": "2023-04-29T10:43:03.666Z"
   },
   {
    "duration": 14,
    "start_time": "2023-04-29T10:43:07.202Z"
   },
   {
    "duration": 14,
    "start_time": "2023-04-29T10:43:12.513Z"
   },
   {
    "duration": 9,
    "start_time": "2023-04-29T10:43:23.746Z"
   },
   {
    "duration": 8,
    "start_time": "2023-04-29T10:43:56.905Z"
   },
   {
    "duration": 13,
    "start_time": "2023-04-29T10:44:00.802Z"
   },
   {
    "duration": 12,
    "start_time": "2023-04-29T10:44:18.721Z"
   },
   {
    "duration": 28,
    "start_time": "2023-04-29T10:44:38.013Z"
   },
   {
    "duration": 15,
    "start_time": "2023-04-29T10:45:04.866Z"
   },
   {
    "duration": 7,
    "start_time": "2023-04-29T10:45:34.969Z"
   },
   {
    "duration": 67,
    "start_time": "2023-04-29T10:45:55.712Z"
   },
   {
    "duration": 10,
    "start_time": "2023-04-29T10:45:56.968Z"
   },
   {
    "duration": 8,
    "start_time": "2023-04-29T10:51:27.284Z"
   },
   {
    "duration": 14,
    "start_time": "2023-04-29T10:52:02.519Z"
   },
   {
    "duration": 30,
    "start_time": "2023-04-29T11:27:53.390Z"
   },
   {
    "duration": 33,
    "start_time": "2023-04-29T11:28:22.052Z"
   },
   {
    "duration": 29,
    "start_time": "2023-04-29T11:28:35.688Z"
   },
   {
    "duration": 20,
    "start_time": "2023-04-29T11:31:11.077Z"
   },
   {
    "duration": 13,
    "start_time": "2023-04-29T11:31:15.812Z"
   },
   {
    "duration": 55,
    "start_time": "2023-04-29T11:31:19.901Z"
   },
   {
    "duration": 26,
    "start_time": "2023-04-29T11:31:26.589Z"
   },
   {
    "duration": 33,
    "start_time": "2023-04-29T11:31:59.266Z"
   },
   {
    "duration": 461,
    "start_time": "2023-04-29T11:44:18.713Z"
   },
   {
    "duration": 13,
    "start_time": "2023-04-29T11:44:49.410Z"
   },
   {
    "duration": 16,
    "start_time": "2023-04-29T11:45:06.116Z"
   },
   {
    "duration": 17,
    "start_time": "2023-04-29T11:45:19.758Z"
   },
   {
    "duration": 23,
    "start_time": "2023-04-29T11:45:32.310Z"
   },
   {
    "duration": 25,
    "start_time": "2023-04-29T11:45:40.339Z"
   },
   {
    "duration": 28,
    "start_time": "2023-04-29T11:46:18.843Z"
   },
   {
    "duration": 14,
    "start_time": "2023-04-29T11:48:59.439Z"
   },
   {
    "duration": 13,
    "start_time": "2023-04-29T11:49:05.242Z"
   },
   {
    "duration": 11,
    "start_time": "2023-04-29T11:49:10.709Z"
   },
   {
    "duration": 14,
    "start_time": "2023-04-29T11:49:25.423Z"
   },
   {
    "duration": 14,
    "start_time": "2023-04-29T11:49:55.123Z"
   },
   {
    "duration": 12,
    "start_time": "2023-04-29T11:50:04.817Z"
   },
   {
    "duration": 36,
    "start_time": "2023-04-29T11:50:17.914Z"
   },
   {
    "duration": 13,
    "start_time": "2023-04-29T11:50:18.920Z"
   },
   {
    "duration": 121,
    "start_time": "2023-04-29T11:50:25.264Z"
   },
   {
    "duration": 29,
    "start_time": "2023-04-29T11:50:49.402Z"
   },
   {
    "duration": 28,
    "start_time": "2023-04-29T11:50:58.383Z"
   },
   {
    "duration": 35,
    "start_time": "2023-04-29T11:51:08.986Z"
   },
   {
    "duration": 44,
    "start_time": "2023-04-29T11:51:25.664Z"
   },
   {
    "duration": 28,
    "start_time": "2023-04-29T11:52:30.216Z"
   },
   {
    "duration": 36,
    "start_time": "2023-04-29T11:52:47.857Z"
   },
   {
    "duration": 13,
    "start_time": "2023-04-29T11:52:51.853Z"
   },
   {
    "duration": 6,
    "start_time": "2023-04-29T11:52:52.639Z"
   },
   {
    "duration": 30,
    "start_time": "2023-04-29T11:52:57.412Z"
   },
   {
    "duration": 51,
    "start_time": "2023-04-29T11:53:29.374Z"
   },
   {
    "duration": 46,
    "start_time": "2023-04-29T11:53:44.675Z"
   },
   {
    "duration": 28,
    "start_time": "2023-04-29T11:55:38.772Z"
   },
   {
    "duration": 34,
    "start_time": "2023-04-29T11:56:26.980Z"
   },
   {
    "duration": 20,
    "start_time": "2023-04-29T11:57:09.512Z"
   },
   {
    "duration": 43,
    "start_time": "2023-04-29T11:57:22.410Z"
   },
   {
    "duration": 19,
    "start_time": "2023-04-29T12:08:54.321Z"
   },
   {
    "duration": 17,
    "start_time": "2023-04-29T12:09:10.952Z"
   },
   {
    "duration": 32,
    "start_time": "2023-04-29T12:10:45.088Z"
   },
   {
    "duration": 37,
    "start_time": "2023-04-29T12:11:26.750Z"
   },
   {
    "duration": 32,
    "start_time": "2023-04-29T12:12:02.271Z"
   },
   {
    "duration": 16,
    "start_time": "2023-04-29T12:12:27.121Z"
   },
   {
    "duration": 15,
    "start_time": "2023-04-29T12:14:23.505Z"
   },
   {
    "duration": 3,
    "start_time": "2023-04-29T12:15:31.023Z"
   },
   {
    "duration": 25,
    "start_time": "2023-04-29T12:16:01.014Z"
   },
   {
    "duration": 54,
    "start_time": "2023-04-29T12:22:59.475Z"
   },
   {
    "duration": 82,
    "start_time": "2023-04-29T12:23:13.325Z"
   },
   {
    "duration": 56,
    "start_time": "2023-04-29T12:23:21.450Z"
   },
   {
    "duration": 72,
    "start_time": "2023-04-29T12:24:11.433Z"
   },
   {
    "duration": 1866,
    "start_time": "2023-04-29T12:26:23.962Z"
   },
   {
    "duration": 3,
    "start_time": "2023-04-29T12:26:38.041Z"
   },
   {
    "duration": 10,
    "start_time": "2023-04-29T12:26:41.788Z"
   },
   {
    "duration": 933,
    "start_time": "2023-04-29T12:26:45.696Z"
   },
   {
    "duration": 1061,
    "start_time": "2023-04-29T12:26:57.241Z"
   },
   {
    "duration": 12,
    "start_time": "2023-04-29T12:27:09.867Z"
   },
   {
    "duration": 1166,
    "start_time": "2023-04-29T12:27:14.229Z"
   },
   {
    "duration": 10,
    "start_time": "2023-04-29T12:27:19.505Z"
   },
   {
    "duration": 12,
    "start_time": "2023-04-29T12:29:37.433Z"
   },
   {
    "duration": 49,
    "start_time": "2023-04-29T12:29:56.754Z"
   },
   {
    "duration": 11,
    "start_time": "2023-04-29T12:30:21.134Z"
   },
   {
    "duration": 46,
    "start_time": "2023-04-29T12:30:53.440Z"
   },
   {
    "duration": 11,
    "start_time": "2023-04-29T12:30:54.206Z"
   },
   {
    "duration": 67,
    "start_time": "2023-04-29T12:33:41.169Z"
   },
   {
    "duration": 2,
    "start_time": "2023-04-29T12:33:43.824Z"
   },
   {
    "duration": 33,
    "start_time": "2023-04-29T12:33:44.360Z"
   },
   {
    "duration": 46,
    "start_time": "2023-04-29T12:33:51.058Z"
   },
   {
    "duration": 10,
    "start_time": "2023-04-29T12:33:55.152Z"
   },
   {
    "duration": 46,
    "start_time": "2023-04-29T12:33:59.499Z"
   },
   {
    "duration": 9,
    "start_time": "2023-04-29T12:34:51.558Z"
   },
   {
    "duration": 4,
    "start_time": "2023-04-29T12:34:53.357Z"
   },
   {
    "duration": 45,
    "start_time": "2023-04-29T12:34:54.373Z"
   },
   {
    "duration": 18,
    "start_time": "2023-04-29T12:35:01.055Z"
   },
   {
    "duration": 16,
    "start_time": "2023-04-29T12:35:21.335Z"
   },
   {
    "duration": 19,
    "start_time": "2023-04-29T12:35:27.765Z"
   },
   {
    "duration": 3,
    "start_time": "2023-04-29T12:39:23.865Z"
   },
   {
    "duration": 11,
    "start_time": "2023-04-29T12:39:28.032Z"
   },
   {
    "duration": 27,
    "start_time": "2023-04-29T12:41:21.398Z"
   },
   {
    "duration": 8,
    "start_time": "2023-04-29T12:41:35.463Z"
   },
   {
    "duration": 14,
    "start_time": "2023-04-29T12:42:20.341Z"
   },
   {
    "duration": 21,
    "start_time": "2023-04-29T12:42:31.448Z"
   },
   {
    "duration": 17,
    "start_time": "2023-04-29T12:42:42.781Z"
   },
   {
    "duration": 17,
    "start_time": "2023-04-29T12:42:50.609Z"
   },
   {
    "duration": 12,
    "start_time": "2023-04-29T12:43:26.940Z"
   },
   {
    "duration": 15,
    "start_time": "2023-04-29T12:43:39.679Z"
   },
   {
    "duration": 14,
    "start_time": "2023-04-29T12:43:48.116Z"
   },
   {
    "duration": 13,
    "start_time": "2023-04-29T12:43:54.331Z"
   },
   {
    "duration": 16,
    "start_time": "2023-04-29T12:43:59.380Z"
   },
   {
    "duration": 17,
    "start_time": "2023-04-29T12:45:59.763Z"
   },
   {
    "duration": 25,
    "start_time": "2023-04-29T12:46:10.877Z"
   },
   {
    "duration": 4,
    "start_time": "2023-04-29T12:47:36.713Z"
   },
   {
    "duration": 18,
    "start_time": "2023-04-29T12:48:02.580Z"
   },
   {
    "duration": 43,
    "start_time": "2023-04-29T12:48:18.439Z"
   },
   {
    "duration": 28,
    "start_time": "2023-04-29T12:48:45.423Z"
   },
   {
    "duration": 24,
    "start_time": "2023-04-29T12:49:00.639Z"
   },
   {
    "duration": 33,
    "start_time": "2023-04-29T12:49:11.705Z"
   },
   {
    "duration": 27,
    "start_time": "2023-04-29T12:54:08.717Z"
   },
   {
    "duration": 24,
    "start_time": "2023-04-29T12:54:33.555Z"
   },
   {
    "duration": 18,
    "start_time": "2023-04-29T12:54:49.442Z"
   },
   {
    "duration": 8,
    "start_time": "2023-04-29T12:54:53.417Z"
   },
   {
    "duration": 3,
    "start_time": "2023-04-29T12:55:20.626Z"
   },
   {
    "duration": 4,
    "start_time": "2023-04-29T12:55:21.773Z"
   },
   {
    "duration": 19,
    "start_time": "2023-04-29T12:55:24.697Z"
   },
   {
    "duration": 27,
    "start_time": "2023-04-29T12:55:29.679Z"
   },
   {
    "duration": 16,
    "start_time": "2023-04-29T12:56:05.184Z"
   },
   {
    "duration": 5,
    "start_time": "2023-04-29T12:56:16.423Z"
   },
   {
    "duration": 80,
    "start_time": "2023-04-29T12:56:24.240Z"
   },
   {
    "duration": 18,
    "start_time": "2023-04-29T12:56:26.776Z"
   },
   {
    "duration": 8,
    "start_time": "2023-04-29T12:56:55.670Z"
   },
   {
    "duration": 4,
    "start_time": "2023-04-29T12:58:50.752Z"
   },
   {
    "duration": 36,
    "start_time": "2023-04-29T12:59:08.271Z"
   },
   {
    "duration": 19,
    "start_time": "2023-04-29T12:59:24.968Z"
   },
   {
    "duration": 9,
    "start_time": "2023-04-29T12:59:41.848Z"
   },
   {
    "duration": 21,
    "start_time": "2023-04-29T13:00:29.097Z"
   },
   {
    "duration": 8,
    "start_time": "2023-04-29T13:00:52.127Z"
   },
   {
    "duration": 14,
    "start_time": "2023-04-29T13:01:18.856Z"
   },
   {
    "duration": 20,
    "start_time": "2023-04-29T13:01:50.653Z"
   },
   {
    "duration": 9,
    "start_time": "2023-04-29T13:01:51.757Z"
   },
   {
    "duration": 26,
    "start_time": "2023-04-29T13:01:58.535Z"
   },
   {
    "duration": 42,
    "start_time": "2023-04-29T13:02:34.764Z"
   },
   {
    "duration": 19,
    "start_time": "2023-04-29T13:02:58.341Z"
   },
   {
    "duration": 22,
    "start_time": "2023-04-29T13:03:40.532Z"
   },
   {
    "duration": 9,
    "start_time": "2023-04-29T13:04:58.905Z"
   },
   {
    "duration": 58,
    "start_time": "2023-04-29T13:07:01.251Z"
   },
   {
    "duration": 63,
    "start_time": "2023-04-29T13:07:11.286Z"
   },
   {
    "duration": 5,
    "start_time": "2023-04-29T13:07:34.337Z"
   },
   {
    "duration": 15,
    "start_time": "2023-04-29T13:07:38.042Z"
   },
   {
    "duration": 19,
    "start_time": "2023-04-29T13:08:22.921Z"
   },
   {
    "duration": 16,
    "start_time": "2023-04-29T13:09:17.197Z"
   },
   {
    "duration": 35,
    "start_time": "2023-04-29T13:09:58.811Z"
   },
   {
    "duration": 8,
    "start_time": "2023-04-29T13:10:38.012Z"
   },
   {
    "duration": 8,
    "start_time": "2023-04-29T13:10:43.812Z"
   },
   {
    "duration": 4,
    "start_time": "2023-04-29T13:10:53.919Z"
   },
   {
    "duration": 28,
    "start_time": "2023-04-29T13:11:04.535Z"
   },
   {
    "duration": 22,
    "start_time": "2023-04-29T13:11:20.944Z"
   },
   {
    "duration": 3,
    "start_time": "2023-04-29T13:12:12.367Z"
   },
   {
    "duration": 30,
    "start_time": "2023-04-29T13:12:13.504Z"
   },
   {
    "duration": 19,
    "start_time": "2023-04-29T13:12:38.432Z"
   },
   {
    "duration": 7,
    "start_time": "2023-04-29T13:12:57.914Z"
   },
   {
    "duration": 36,
    "start_time": "2023-04-29T13:13:20.624Z"
   },
   {
    "duration": 6,
    "start_time": "2023-04-29T13:13:25.312Z"
   },
   {
    "duration": 28,
    "start_time": "2023-04-29T13:13:32.279Z"
   },
   {
    "duration": 19,
    "start_time": "2023-04-29T13:13:39.700Z"
   },
   {
    "duration": 11,
    "start_time": "2023-04-29T13:13:42.582Z"
   },
   {
    "duration": 3,
    "start_time": "2023-04-29T13:14:25.071Z"
   },
   {
    "duration": 30,
    "start_time": "2023-04-29T13:14:29.804Z"
   },
   {
    "duration": 9,
    "start_time": "2023-04-29T13:14:31.926Z"
   },
   {
    "duration": 24,
    "start_time": "2023-04-29T13:15:10.038Z"
   },
   {
    "duration": 20,
    "start_time": "2023-04-29T13:15:19.712Z"
   },
   {
    "duration": 8,
    "start_time": "2023-04-29T13:15:31.014Z"
   },
   {
    "duration": 34,
    "start_time": "2023-04-29T13:15:39.613Z"
   },
   {
    "duration": 6,
    "start_time": "2023-04-29T13:15:52.221Z"
   },
   {
    "duration": 20,
    "start_time": "2023-04-29T13:16:13.814Z"
   },
   {
    "duration": 6,
    "start_time": "2023-04-29T13:16:15.909Z"
   },
   {
    "duration": 67,
    "start_time": "2023-04-29T13:16:37.845Z"
   },
   {
    "duration": 8,
    "start_time": "2023-04-29T13:16:40.781Z"
   },
   {
    "duration": 22,
    "start_time": "2023-04-29T13:16:52.700Z"
   },
   {
    "duration": 12,
    "start_time": "2023-04-29T13:17:11.310Z"
   },
   {
    "duration": 7,
    "start_time": "2023-04-29T13:17:16.028Z"
   },
   {
    "duration": 26,
    "start_time": "2023-04-29T13:17:45.581Z"
   },
   {
    "duration": 34,
    "start_time": "2023-04-29T13:17:50.472Z"
   },
   {
    "duration": 6,
    "start_time": "2023-04-29T13:17:56.413Z"
   },
   {
    "duration": 24,
    "start_time": "2023-04-29T13:18:00.637Z"
   },
   {
    "duration": 6,
    "start_time": "2023-04-29T13:18:02.771Z"
   },
   {
    "duration": 24,
    "start_time": "2023-04-29T13:18:13.606Z"
   },
   {
    "duration": 6,
    "start_time": "2023-04-29T13:18:17.739Z"
   },
   {
    "duration": 26,
    "start_time": "2023-04-29T13:18:33.275Z"
   },
   {
    "duration": 7,
    "start_time": "2023-04-29T13:18:36.522Z"
   },
   {
    "duration": 20,
    "start_time": "2023-04-29T13:19:32.908Z"
   },
   {
    "duration": 6,
    "start_time": "2023-04-29T13:19:35.575Z"
   },
   {
    "duration": 17,
    "start_time": "2023-04-29T13:19:44.675Z"
   },
   {
    "duration": 19,
    "start_time": "2023-04-29T13:20:20.539Z"
   },
   {
    "duration": 6,
    "start_time": "2023-04-29T13:21:00.183Z"
   },
   {
    "duration": 34,
    "start_time": "2023-04-29T13:21:01.680Z"
   },
   {
    "duration": 10,
    "start_time": "2023-04-29T13:21:03.019Z"
   },
   {
    "duration": 6,
    "start_time": "2023-04-29T13:21:09.975Z"
   },
   {
    "duration": 56,
    "start_time": "2023-04-29T13:22:20.189Z"
   },
   {
    "duration": 35,
    "start_time": "2023-04-29T13:22:36.020Z"
   },
   {
    "duration": 56,
    "start_time": "2023-04-29T13:24:00.995Z"
   },
   {
    "duration": 5,
    "start_time": "2023-04-29T13:25:46.773Z"
   },
   {
    "duration": 40,
    "start_time": "2023-04-29T13:25:59.681Z"
   },
   {
    "duration": 33,
    "start_time": "2023-04-29T13:26:38.379Z"
   },
   {
    "duration": 7,
    "start_time": "2023-04-29T13:27:25.499Z"
   },
   {
    "duration": 16,
    "start_time": "2023-04-29T13:27:38.711Z"
   },
   {
    "duration": 3,
    "start_time": "2023-04-29T13:29:29.333Z"
   },
   {
    "duration": 6,
    "start_time": "2023-04-29T13:29:32.372Z"
   },
   {
    "duration": 21,
    "start_time": "2023-04-29T13:30:19.375Z"
   },
   {
    "duration": 23,
    "start_time": "2023-04-29T13:30:29.843Z"
   },
   {
    "duration": 61,
    "start_time": "2023-04-29T13:31:08.876Z"
   },
   {
    "duration": 13,
    "start_time": "2023-04-29T13:31:52.844Z"
   },
   {
    "duration": 6,
    "start_time": "2023-04-29T13:32:44.436Z"
   },
   {
    "duration": 11,
    "start_time": "2023-04-29T13:33:28.037Z"
   },
   {
    "duration": 10,
    "start_time": "2023-04-29T13:33:44.710Z"
   },
   {
    "duration": 21,
    "start_time": "2023-04-29T13:34:20.476Z"
   },
   {
    "duration": 16,
    "start_time": "2023-04-29T13:38:54.720Z"
   },
   {
    "duration": 28,
    "start_time": "2023-04-29T13:39:09.702Z"
   },
   {
    "duration": 14,
    "start_time": "2023-04-29T13:39:21.232Z"
   },
   {
    "duration": 4,
    "start_time": "2023-04-29T13:39:27.672Z"
   },
   {
    "duration": 25,
    "start_time": "2023-04-29T13:39:29.704Z"
   },
   {
    "duration": 30,
    "start_time": "2023-04-29T13:40:25.742Z"
   },
   {
    "duration": 5,
    "start_time": "2023-04-29T13:40:44.968Z"
   },
   {
    "duration": 58,
    "start_time": "2023-04-29T13:40:48.268Z"
   },
   {
    "duration": 38,
    "start_time": "2023-04-29T13:42:14.784Z"
   },
   {
    "duration": 23,
    "start_time": "2023-04-29T13:42:22.091Z"
   },
   {
    "duration": 3,
    "start_time": "2023-04-29T13:42:24.053Z"
   },
   {
    "duration": 14,
    "start_time": "2023-04-29T13:42:27.006Z"
   },
   {
    "duration": 24,
    "start_time": "2023-04-29T13:42:28.572Z"
   },
   {
    "duration": 55,
    "start_time": "2023-04-29T13:42:54.981Z"
   },
   {
    "duration": 48,
    "start_time": "2023-04-29T13:42:58.933Z"
   },
   {
    "duration": 3,
    "start_time": "2023-04-29T13:43:01.369Z"
   },
   {
    "duration": 19,
    "start_time": "2023-04-29T13:43:03.174Z"
   },
   {
    "duration": 16,
    "start_time": "2023-04-29T13:43:08.836Z"
   },
   {
    "duration": 81,
    "start_time": "2023-04-29T13:43:11.472Z"
   },
   {
    "duration": 1769,
    "start_time": "2023-04-29T13:43:13.887Z"
   },
   {
    "duration": 4,
    "start_time": "2023-04-29T13:43:38.775Z"
   },
   {
    "duration": 7,
    "start_time": "2023-04-29T13:43:39.886Z"
   },
   {
    "duration": 259,
    "start_time": "2023-04-29T13:43:42.471Z"
   },
   {
    "duration": 11,
    "start_time": "2023-04-29T13:44:02.148Z"
   },
   {
    "duration": 18,
    "start_time": "2023-04-29T13:44:18.410Z"
   },
   {
    "duration": 63,
    "start_time": "2023-04-29T13:47:07.028Z"
   },
   {
    "duration": 9,
    "start_time": "2023-04-29T13:47:30.080Z"
   },
   {
    "duration": 33,
    "start_time": "2023-04-29T13:50:38.866Z"
   },
   {
    "duration": 35,
    "start_time": "2023-04-29T13:50:40.428Z"
   },
   {
    "duration": 78,
    "start_time": "2023-04-29T13:51:54.344Z"
   },
   {
    "duration": 20,
    "start_time": "2023-04-29T13:52:51.038Z"
   },
   {
    "duration": 31,
    "start_time": "2023-04-29T13:52:54.011Z"
   },
   {
    "duration": 24,
    "start_time": "2023-04-29T13:53:03.011Z"
   },
   {
    "duration": 20,
    "start_time": "2023-04-29T13:53:04.128Z"
   },
   {
    "duration": 25,
    "start_time": "2023-04-29T13:53:18.914Z"
   },
   {
    "duration": 17,
    "start_time": "2023-04-29T13:53:20.128Z"
   },
   {
    "duration": 24,
    "start_time": "2023-04-29T13:53:33.810Z"
   },
   {
    "duration": 37,
    "start_time": "2023-04-29T13:53:35.055Z"
   },
   {
    "duration": 12,
    "start_time": "2023-04-29T13:55:49.336Z"
   },
   {
    "duration": 24,
    "start_time": "2023-04-29T13:58:27.218Z"
   },
   {
    "duration": 15,
    "start_time": "2023-04-29T13:58:27.914Z"
   },
   {
    "duration": 15,
    "start_time": "2023-04-29T14:14:41.648Z"
   },
   {
    "duration": 22,
    "start_time": "2023-04-29T14:15:50.255Z"
   },
   {
    "duration": 109,
    "start_time": "2023-04-29T14:16:37.257Z"
   },
   {
    "duration": 132,
    "start_time": "2023-04-29T14:20:15.601Z"
   },
   {
    "duration": 27,
    "start_time": "2023-04-29T14:20:55.932Z"
   },
   {
    "duration": 51,
    "start_time": "2023-04-29T14:20:56.968Z"
   },
   {
    "duration": 44,
    "start_time": "2023-04-29T14:20:58.379Z"
   },
   {
    "duration": 10,
    "start_time": "2023-04-29T14:21:04.423Z"
   },
   {
    "duration": 8,
    "start_time": "2023-04-29T14:21:07.010Z"
   },
   {
    "duration": 88,
    "start_time": "2023-04-29T14:21:09.829Z"
   },
   {
    "duration": 386,
    "start_time": "2023-04-29T14:21:16.092Z"
   },
   {
    "duration": 359,
    "start_time": "2023-04-29T14:21:45.001Z"
   },
   {
    "duration": 385,
    "start_time": "2023-04-29T14:24:14.701Z"
   },
   {
    "duration": 23,
    "start_time": "2023-04-29T14:45:55.251Z"
   },
   {
    "duration": 13,
    "start_time": "2023-04-29T14:46:00.196Z"
   },
   {
    "duration": 374,
    "start_time": "2023-04-29T14:46:03.643Z"
   },
   {
    "duration": 31,
    "start_time": "2023-04-29T15:22:22.975Z"
   },
   {
    "duration": 18,
    "start_time": "2023-04-29T15:22:40.463Z"
   },
   {
    "duration": 23,
    "start_time": "2023-04-29T15:23:03.715Z"
   },
   {
    "duration": 7,
    "start_time": "2023-04-29T15:35:36.101Z"
   },
   {
    "duration": 12,
    "start_time": "2023-04-29T15:36:07.501Z"
   },
   {
    "duration": 5,
    "start_time": "2023-04-29T15:36:23.471Z"
   },
   {
    "duration": 8,
    "start_time": "2023-04-29T15:36:33.525Z"
   },
   {
    "duration": 7,
    "start_time": "2023-04-29T15:38:13.934Z"
   },
   {
    "duration": 8,
    "start_time": "2023-04-29T15:40:49.778Z"
   },
   {
    "duration": 7,
    "start_time": "2023-04-29T15:44:58.370Z"
   },
   {
    "duration": 11,
    "start_time": "2023-04-29T15:53:04.973Z"
   },
   {
    "duration": 8,
    "start_time": "2023-04-29T15:53:14.373Z"
   },
   {
    "duration": 9,
    "start_time": "2023-04-29T15:59:21.837Z"
   },
   {
    "duration": 32,
    "start_time": "2023-04-29T16:01:38.946Z"
   },
   {
    "duration": 9,
    "start_time": "2023-04-29T16:01:39.905Z"
   },
   {
    "duration": 385,
    "start_time": "2023-04-29T16:01:44.921Z"
   },
   {
    "duration": 37,
    "start_time": "2023-04-29T16:16:14.483Z"
   },
   {
    "duration": 8,
    "start_time": "2023-04-29T16:16:16.259Z"
   },
   {
    "duration": 397,
    "start_time": "2023-04-29T16:16:17.397Z"
   },
   {
    "duration": 8,
    "start_time": "2023-04-29T16:16:20.793Z"
   },
   {
    "duration": 11,
    "start_time": "2023-04-29T16:17:56.763Z"
   }
  ],
  "kernelspec": {
   "display_name": "Python 3 (ipykernel)",
   "language": "python",
   "name": "python3"
  },
  "language_info": {
   "codemirror_mode": {
    "name": "ipython",
    "version": 3
   },
   "file_extension": ".py",
   "mimetype": "text/x-python",
   "name": "python",
   "nbconvert_exporter": "python",
   "pygments_lexer": "ipython3",
   "version": "3.9.13"
  },
  "toc": {
   "base_numbering": 1,
   "nav_menu": {},
   "number_sections": true,
   "sideBar": true,
   "skip_h1_title": true,
   "title_cell": "Table of Contents",
   "title_sidebar": "Contents",
   "toc_cell": false,
   "toc_position": {},
   "toc_section_display": true,
   "toc_window_display": false
  }
 },
 "nbformat": 4,
 "nbformat_minor": 5
}
